{
 "cells": [
  {
   "cell_type": "markdown",
   "metadata": {
    "id": "B3td_pl4mvQD"
   },
   "source": [
    "# Regressão Softmax com dados do MNIST"
   ]
  },
  {
   "cell_type": "markdown",
   "metadata": {
    "id": "DtkJT-FtmvQE"
   },
   "source": [
    "## Objetivo"
   ]
  },
  {
   "cell_type": "markdown",
   "metadata": {
    "id": "hF-ByQKJmvQF"
   },
   "source": [
    "O objetivo deste notebook é ilustrar o uso de praticamente a mesma rede desenvolvida para a classificação das flores Íris, porém agora com o problema de classificação de dígitos manuscritos utilizando o dataset MNIST.\n",
    "As principais diferenças são:\n",
    "- tipo do dado, agora imagem com muito atributos: 28 x 28 pixels\n",
    "- número de amostras, muito maior, 60 mil\n",
    "Neste exercício será possível a interpretação do significado dos parâmetros treinados"
   ]
  },
  {
   "cell_type": "markdown",
   "metadata": {
    "id": "HGsYwaRemvQH"
   },
   "source": [
    "## Importação das bibliotecas"
   ]
  },
  {
   "cell_type": "code",
   "execution_count": 1,
   "metadata": {
    "ExecuteTime": {
     "end_time": "2017-11-24T15:44:50.097111",
     "start_time": "2017-11-24T15:44:48.915046"
    },
    "id": "JeBH-PI4mvQI"
   },
   "outputs": [],
   "source": [
    "%matplotlib inline\n",
    "import numpy as np\n",
    "import matplotlib.pyplot as plt\n",
    "import pandas as pd\n",
    "\n",
    "from torch.autograd import Variable\n",
    "import torch\n",
    "import torchvision"
   ]
  },
  {
   "cell_type": "markdown",
   "metadata": {
    "id": "FLEq8nmUmvQL"
   },
   "source": [
    "## Carregamento dos dados do MNIST"
   ]
  },
  {
   "cell_type": "code",
   "execution_count": 2,
   "metadata": {
    "colab": {
     "base_uri": "https://localhost:8080/"
    },
    "id": "5ueXR4zIo5wQ",
    "outputId": "a5022f4c-82d6-4a30-bec4-05c715a073f7"
   },
   "outputs": [
    {
     "name": "stdout",
     "output_type": "stream",
     "text": [
      "fatal: destination path 'MNIST' already exists and is not an empty directory.\n"
     ]
    }
   ],
   "source": [
    "! git clone https://github.com/vcasadei/MNIST.git"
   ]
  },
  {
   "cell_type": "code",
   "execution_count": 3,
   "metadata": {
    "ExecuteTime": {
     "end_time": "2017-11-24T15:44:50.638218",
     "start_time": "2017-11-24T15:44:50.098808"
    },
    "colab": {
     "base_uri": "https://localhost:8080/"
    },
    "id": "xZWPIWlumvQM",
    "outputId": "42a658a1-9303-40f8-c337-d7751073e207"
   },
   "outputs": [
    {
     "name": "stdout",
     "output_type": "stream",
     "text": [
      "Amostras de treinamento: 60000\n",
      "\n",
      "Dimensões dos dados das imagens:    torch.Size([60000, 28, 28])\n",
      "Valores mínimo e máximo dos pixels: tensor(0, dtype=torch.uint8) tensor(255, dtype=torch.uint8)\n",
      "Tipo dos dados das imagens:         <class 'torch.Tensor'>\n",
      "Tipo das classes das imagens:       <class 'torch.Tensor'>\n"
     ]
    },
    {
     "name": "stderr",
     "output_type": "stream",
     "text": [
      "/tmp/ipykernel_20128/482652978.py:3: FutureWarning: You are using `torch.load` with `weights_only=False` (the current default value), which uses the default pickle module implicitly. It is possible to construct malicious pickle data which will execute arbitrary code during unpickling (See https://github.com/pytorch/pytorch/blob/main/SECURITY.md#untrusted-models for more details). In a future release, the default value for `weights_only` will be flipped to `True`. This limits the functions that could be executed during unpickling. Arbitrary objects will no longer be allowed to be loaded via this mode unless they are explicitly allowlisted by the user via `torch.serialization.add_safe_globals`. We recommend you start setting `weights_only=True` for any use case where you don't have full control of the loaded file. Please open an issue on GitHub for any issues related to this experimental feature.\n",
      "  x_train, y_train = torch.load(dataset_dir + 'processed/training.pt')\n"
     ]
    }
   ],
   "source": [
    "dataset_dir = 'MNIST/'\n",
    "\n",
    "x_train, y_train = torch.load(dataset_dir + 'processed/training.pt')\n",
    "\n",
    "print(\"Amostras de treinamento:\", x_train.size(0))\n",
    "\n",
    "print(\"\\nDimensões dos dados das imagens:   \", x_train.size())\n",
    "print(\"Valores mínimo e máximo dos pixels:\", torch.min(x_train), torch.max(x_train))\n",
    "print(\"Tipo dos dados das imagens:        \", type(x_train))\n",
    "print(\"Tipo das classes das imagens:      \", type(y_train))"
   ]
  },
  {
   "cell_type": "markdown",
   "metadata": {
    "id": "uR2L0QQgmvQU"
   },
   "source": [
    "### Carregamento, normalização e seleção dos dados do MNIST\n",
    "\n",
    "Neste exemplo utilizaremos apenas 1000 amostras de treinamento."
   ]
  },
  {
   "cell_type": "code",
   "execution_count": 4,
   "metadata": {
    "ExecuteTime": {
     "end_time": "2017-11-24T15:44:50.895668",
     "start_time": "2017-11-24T15:44:50.640110"
    },
    "colab": {
     "base_uri": "https://localhost:8080/"
    },
    "id": "C9Rh7wRemvQU",
    "outputId": "26460e2c-57e9-437d-eea4-952a48d9d5f2"
   },
   "outputs": [
    {
     "name": "stdout",
     "output_type": "stream",
     "text": [
      "Amostras de treinamento: 1000\n",
      "\n",
      "Dimensões dos dados das imagens:    torch.Size([1000, 28, 28])\n",
      "Valores mínimo e máximo dos pixels: tensor(0.) tensor(1.)\n",
      "Tipo dos dados das imagens:         <class 'torch.Tensor'>\n",
      "Tipo das classes das imagens:       <class 'torch.Tensor'>\n"
     ]
    }
   ],
   "source": [
    "x_train = x_train.float()\n",
    "\n",
    "x_train = x_train / 255.\n",
    "\n",
    "if True:\n",
    "    n_samples_train = 1000\n",
    "\n",
    "    x_train = x_train[:n_samples_train]\n",
    "    y_train = y_train[:n_samples_train]\n",
    "\n",
    "print(\"Amostras de treinamento:\", x_train.size(0))\n",
    "\n",
    "print(\"\\nDimensões dos dados das imagens:   \", x_train.size())\n",
    "print(\"Valores mínimo e máximo dos pixels:\", torch.min(x_train), torch.max(x_train))\n",
    "print(\"Tipo dos dados das imagens:        \", type(x_train))\n",
    "print(\"Tipo das classes das imagens:      \", type(y_train))"
   ]
  },
  {
   "cell_type": "markdown",
   "metadata": {
    "id": "6UtzmsQimvQa"
   },
   "source": [
    "### Visualizando os dados"
   ]
  },
  {
   "cell_type": "code",
   "execution_count": 5,
   "metadata": {
    "ExecuteTime": {
     "end_time": "2017-11-24T16:32:19.474568",
     "start_time": "2017-11-24T16:32:19.207270"
    },
    "colab": {
     "base_uri": "https://localhost:8080/",
     "height": 493
    },
    "id": "gFG0qpODmvQa",
    "outputId": "066ad080-92b4-4170-e5df-5ea022238cf0"
   },
   "outputs": [
    {
     "data": {
      "text/plain": [
       "(np.float64(-0.5), np.float64(232.5), np.float64(87.5), np.float64(-0.5))"
      ]
     },
     "execution_count": 5,
     "metadata": {},
     "output_type": "execute_result"
    },
    {
     "data": {
      "image/png": "[encoded data removed]",
      "text/plain": [
       "<Figure size 1500x1000 with 1 Axes>"
      ]
     },
     "metadata": {},
     "output_type": "display_data"
    }
   ],
   "source": [
    "n_samples = 24\n",
    "\n",
    "# cria um grid com as imagens\n",
    "grid = torchvision.utils.make_grid(x_train[:n_samples].unsqueeze(1), pad_value=1.0, padding=1)\n",
    "\n",
    "plt.figure(figsize=(15, 10))\n",
    "plt.imshow(grid.numpy().transpose(1, 2, 0))\n",
    "plt.axis('off')"
   ]
  },
  {
   "cell_type": "markdown",
   "metadata": {
    "id": "075sVFBZmvQe"
   },
   "source": [
    "### Visualizando uma imagem com o matplotlib"
   ]
  },
  {
   "cell_type": "code",
   "execution_count": 6,
   "metadata": {
    "ExecuteTime": {
     "end_time": "2017-11-24T15:44:51.413232",
     "start_time": "2017-11-24T15:44:51.251376"
    },
    "colab": {
     "base_uri": "https://localhost:8080/",
     "height": 447
    },
    "id": "3W2NpeW0mvQg",
    "outputId": "982d9328-5731-430f-ec21-03bd3b65cd1c"
   },
   "outputs": [
    {
     "name": "stdout",
     "output_type": "stream",
     "text": [
      "class: tensor(5)\n"
     ]
    },
    {
     "data": {
      "image/png": "[encoded data removed]",
      "text/plain": [
       "<Figure size 640x480 with 1 Axes>"
      ]
     },
     "metadata": {},
     "output_type": "display_data"
    }
   ],
   "source": [
    "image  = x_train[0]\n",
    "target = y_train[0]\n",
    "\n",
    "plt.imshow(image.numpy().reshape(28,28), cmap='gray')\n",
    "print('class:', target)"
   ]
  },
  {
   "cell_type": "markdown",
   "metadata": {
    "id": "SU-PzteEmvQj"
   },
   "source": [
    "## Modelo"
   ]
  },
  {
   "cell_type": "code",
   "execution_count": 7,
   "metadata": {
    "ExecuteTime": {
     "end_time": "2017-11-24T15:44:51.419287",
     "start_time": "2017-11-24T15:44:51.415065"
    },
    "id": "VKMngBWzmvQk"
   },
   "outputs": [],
   "source": [
    "model = torch.nn.Linear(28*28, 10) # 28*28 atributos de entrada e 10 neurônios na sáida"
   ]
  },
  {
   "cell_type": "markdown",
   "metadata": {
    "id": "uzvpr1u6mvQo"
   },
   "source": [
    "### Testando um predict com poucas amostras"
   ]
  },
  {
   "cell_type": "code",
   "execution_count": 8,
   "metadata": {
    "id": "KiiO8WDAmvQq"
   },
   "outputs": [
    {
     "name": "stdout",
     "output_type": "stream",
     "text": [
      "tensor([[ 0.3361,  0.0562, -0.1441, -0.3473,  0.1277,  0.0510,  0.2857, -0.0773,\n",
      "         -0.1514, -0.1550]], grad_fn=<AddmmBackward0>)\n"
     ]
    }
   ],
   "source": [
    "## TODO\n",
    "# Fletering x_train\n",
    "x_predict = x_train[0].view(-1, 28*28)\n",
    "predict = model(x_predict)\n",
    "print(predict)"
   ]
  },
  {
   "cell_type": "markdown",
   "metadata": {
    "id": "tIIeicyGmvQs"
   },
   "source": [
    "## Treinamento"
   ]
  },
  {
   "cell_type": "markdown",
   "metadata": {
    "id": "tSfqKNW2mvQt"
   },
   "source": [
    "### Inicialização dos parâmetros"
   ]
  },
  {
   "cell_type": "code",
   "execution_count": 10,
   "metadata": {
    "ExecuteTime": {
     "end_time": "2017-11-24T15:44:51.425768",
     "start_time": "2017-11-24T15:44:51.420825"
    },
    "id": "I9W3OFvomvQu"
   },
   "outputs": [],
   "source": [
    "epochs = 5\n",
    "learningRate = 0.5\n",
    "\n",
    "# Utilizaremos CrossEntropyLoss como função de perda\n",
    "criterion = torch.nn.CrossEntropyLoss()\n",
    "\n",
    "# Gradiente descendente\n",
    "optimizer = torch.optim.SGD(model.parameters(), lr=learningRate)"
   ]
  },
  {
   "cell_type": "markdown",
   "metadata": {
    "id": "hlNgV_pgmvQx"
   },
   "source": [
    "### Visualização do grafo computacional da perda (loss)"
   ]
  },
  {
   "cell_type": "code",
   "execution_count": null,
   "metadata": {
    "colab": {
     "base_uri": "https://localhost:8080/"
    },
    "id": "5ycGDyoWjMoR",
    "outputId": "61a0d6c9-8924-4af3-fff5-c9f5e4f97376"
   },
   "outputs": [
    {
     "name": "stdout",
     "output_type": "stream",
     "text": [
      "Requirement already satisfied: graphviz in /usr/local/lib/python3.10/dist-packages (0.20.3)\n",
      "Collecting git+https://github.com/szagoruyko/pytorchviz\n",
      "  Cloning https://github.com/szagoruyko/pytorchviz to /tmp/pip-req-build-yf6bbasr\n",
      "  Running command git clone --filter=blob:none --quiet https://github.com/szagoruyko/pytorchviz /tmp/pip-req-build-yf6bbasr\n",
      "  Resolved https://github.com/szagoruyko/pytorchviz to commit 0adcd83af8aa7ab36d6afd139cabbd9df598edb7\n",
      "  Preparing metadata (setup.py) ... \u001b[?25l\u001b[?25hdone\n",
      "Requirement already satisfied: torch in /usr/local/lib/python3.10/dist-packages (from torchviz==0.0.2) (2.3.0+cu121)\n",
      "Requirement already satisfied: graphviz in /usr/local/lib/python3.10/dist-packages (from torchviz==0.0.2) (0.20.3)\n",
      "Requirement already satisfied: filelock in /usr/local/lib/python3.10/dist-packages (from torch->torchviz==0.0.2) (3.14.0)\n",
      "Requirement already satisfied: typing-extensions>=4.8.0 in /usr/local/lib/python3.10/dist-packages (from torch->torchviz==0.0.2) (4.11.0)\n",
      "Requirement already satisfied: sympy in /usr/local/lib/python3.10/dist-packages (from torch->torchviz==0.0.2) (1.12)\n",
      "Requirement already satisfied: networkx in /usr/local/lib/python3.10/dist-packages (from torch->torchviz==0.0.2) (3.3)\n",
      "Requirement already satisfied: jinja2 in /usr/local/lib/python3.10/dist-packages (from torch->torchviz==0.0.2) (3.1.4)\n",
      "Requirement already satisfied: fsspec in /usr/local/lib/python3.10/dist-packages (from torch->torchviz==0.0.2) (2023.6.0)\n",
      "Collecting nvidia-cuda-nvrtc-cu12==12.1.105 (from torch->torchviz==0.0.2)\n",
      "  Using cached nvidia_cuda_nvrtc_cu12-12.1.105-py3-none-manylinux1_x86_64.whl (23.7 MB)\n",
      "Collecting nvidia-cuda-runtime-cu12==12.1.105 (from torch->torchviz==0.0.2)\n",
      "  Using cached nvidia_cuda_runtime_cu12-12.1.105-py3-none-manylinux1_x86_64.whl (823 kB)\n",
      "Collecting nvidia-cuda-cupti-cu12==12.1.105 (from torch->torchviz==0.0.2)\n",
      "  Using cached nvidia_cuda_cupti_cu12-12.1.105-py3-none-manylinux1_x86_64.whl (14.1 MB)\n",
      "Collecting nvidia-cudnn-cu12==8.9.2.26 (from torch->torchviz==0.0.2)\n",
      "  Using cached nvidia_cudnn_cu12-8.9.2.26-py3-none-manylinux1_x86_64.whl (731.7 MB)\n",
      "Collecting nvidia-cublas-cu12==12.1.3.1 (from torch->torchviz==0.0.2)\n",
      "  Using cached nvidia_cublas_cu12-12.1.3.1-py3-none-manylinux1_x86_64.whl (410.6 MB)\n",
      "Collecting nvidia-cufft-cu12==11.0.2.54 (from torch->torchviz==0.0.2)\n",
      "  Using cached nvidia_cufft_cu12-11.0.2.54-py3-none-manylinux1_x86_64.whl (121.6 MB)\n",
      "Collecting nvidia-curand-cu12==10.3.2.106 (from torch->torchviz==0.0.2)\n",
      "  Using cached nvidia_curand_cu12-10.3.2.106-py3-none-manylinux1_x86_64.whl (56.5 MB)\n",
      "Collecting nvidia-cusolver-cu12==11.4.5.107 (from torch->torchviz==0.0.2)\n",
      "  Using cached nvidia_cusolver_cu12-11.4.5.107-py3-none-manylinux1_x86_64.whl (124.2 MB)\n",
      "Collecting nvidia-cusparse-cu12==12.1.0.106 (from torch->torchviz==0.0.2)\n",
      "  Using cached nvidia_cusparse_cu12-12.1.0.106-py3-none-manylinux1_x86_64.whl (196.0 MB)\n",
      "Collecting nvidia-nccl-cu12==2.20.5 (from torch->torchviz==0.0.2)\n",
      "  Using cached nvidia_nccl_cu12-2.20.5-py3-none-manylinux2014_x86_64.whl (176.2 MB)\n",
      "Collecting nvidia-nvtx-cu12==12.1.105 (from torch->torchviz==0.0.2)\n",
      "  Using cached nvidia_nvtx_cu12-12.1.105-py3-none-manylinux1_x86_64.whl (99 kB)\n",
      "Requirement already satisfied: triton==2.3.0 in /usr/local/lib/python3.10/dist-packages (from torch->torchviz==0.0.2) (2.3.0)\n",
      "Collecting nvidia-nvjitlink-cu12 (from nvidia-cusolver-cu12==11.4.5.107->torch->torchviz==0.0.2)\n",
      "  Downloading nvidia_nvjitlink_cu12-12.5.40-py3-none-manylinux2014_x86_64.whl (21.3 MB)\n",
      "\u001b[2K     \u001b[90m━━━━━━━━━━━━━━━━━━━━━━━━━━━━━━━━━━━━━━━━\u001b[0m \u001b[32m21.3/21.3 MB\u001b[0m \u001b[31m68.5 MB/s\u001b[0m eta \u001b[36m0:00:00\u001b[0m\n",
      "\u001b[?25hRequirement already satisfied: MarkupSafe>=2.0 in /usr/local/lib/python3.10/dist-packages (from jinja2->torch->torchviz==0.0.2) (2.1.5)\n",
      "Requirement already satisfied: mpmath>=0.19 in /usr/local/lib/python3.10/dist-packages (from sympy->torch->torchviz==0.0.2) (1.3.0)\n",
      "Building wheels for collected packages: torchviz\n",
      "  Building wheel for torchviz (setup.py) ... \u001b[?25l\u001b[?25hdone\n",
      "  Created wheel for torchviz: filename=torchviz-0.0.2-py3-none-any.whl size=4972 sha256=6b3b1a867afb49485e46946bbfe0d23b8731d7885cee2690b6b4211d35370d11\n",
      "  Stored in directory: /tmp/pip-ephem-wheel-cache-5c81n7zw/wheels/44/5a/39/48c1209682afcfc7ad8ae7b3cf7aa0ff08a72e3ac4e5931f1d\n",
      "Successfully built torchviz\n",
      "Installing collected packages: nvidia-nvtx-cu12, nvidia-nvjitlink-cu12, nvidia-nccl-cu12, nvidia-curand-cu12, nvidia-cufft-cu12, nvidia-cuda-runtime-cu12, nvidia-cuda-nvrtc-cu12, nvidia-cuda-cupti-cu12, nvidia-cublas-cu12, nvidia-cusparse-cu12, nvidia-cudnn-cu12, nvidia-cusolver-cu12, torchviz\n",
      "Successfully installed nvidia-cublas-cu12-12.1.3.1 nvidia-cuda-cupti-cu12-12.1.105 nvidia-cuda-nvrtc-cu12-12.1.105 nvidia-cuda-runtime-cu12-12.1.105 nvidia-cudnn-cu12-8.9.2.26 nvidia-cufft-cu12-11.0.2.54 nvidia-curand-cu12-10.3.2.106 nvidia-cusolver-cu12-11.4.5.107 nvidia-cusparse-cu12-12.1.0.106 nvidia-nccl-cu12-2.20.5 nvidia-nvjitlink-cu12-12.5.40 nvidia-nvtx-cu12-12.1.105 torchviz-0.0.2\n"
     ]
    }
   ],
   "source": [
    "# Local náo é necessário (UV já faz isso)\n",
    "!pip install graphviz\n",
    "!pip install git+https://github.com/szagoruyko/pytorchviz"
   ]
  },
  {
   "cell_type": "code",
   "execution_count": 11,
   "metadata": {
    "ExecuteTime": {
     "end_time": "2017-11-24T16:28:18.101867",
     "start_time": "2017-11-24T16:28:18.062312"
    },
    "colab": {
     "base_uri": "https://localhost:8080/",
     "height": 543
    },
    "id": "oYPRIePImvQz",
    "outputId": "3087e0ce-5876-4b15-9909-619428e6b889"
   },
   "outputs": [
    {
     "data": {
      "image/svg+xml": [
       "<?xml version=\"1.0\" encoding=\"UTF-8\" standalone=\"no\"?>\n",
       "<!DOCTYPE svg PUBLIC \"-//W3C//DTD SVG 1.1//EN\"\n",
       " \"http://www.w3.org/Graphics/SVG/1.1/DTD/svg11.dtd\">\n",
       "<!-- Generated by graphviz version 2.43.0 (0)\n",
       " -->\n",
       "<!-- Title: %3 Pages: 1 -->\n",
       "<svg width=\"216pt\" height=\"391pt\"\n",
       " viewBox=\"0.00 0.00 216.00 391.00\" xmlns=\"http://www.w3.org/2000/svg\" xmlns:xlink=\"http://www.w3.org/1999/xlink\">\n",
       "<g id=\"graph0\" class=\"graph\" transform=\"scale(1 1) rotate(0) translate(4 387)\">\n",
       "<title>%3</title>\n",
       "<polygon fill=\"white\" stroke=\"transparent\" points=\"-4,4 -4,-387 212,-387 212,4 -4,4\"/>\n",
       "<!-- 123618446554240 -->\n",
       "<g id=\"node1\" class=\"node\">\n",
       "<title>123618446554240</title>\n",
       "<polygon fill=\"#caff70\" stroke=\"black\" points=\"130.5,-31 76.5,-31 76.5,0 130.5,0 130.5,-31\"/>\n",
       "<text text-anchor=\"middle\" x=\"103.5\" y=\"-7\" font-family=\"monospace\" font-size=\"10.00\"> ()</text>\n",
       "</g>\n",
       "<!-- 123618446251712 -->\n",
       "<g id=\"node2\" class=\"node\">\n",
       "<title>123618446251712</title>\n",
       "<polygon fill=\"lightgrey\" stroke=\"black\" points=\"160,-86 47,-86 47,-67 160,-67 160,-86\"/>\n",
       "<text text-anchor=\"middle\" x=\"103.5\" y=\"-74\" font-family=\"monospace\" font-size=\"10.00\">NllLossBackward0</text>\n",
       "</g>\n",
       "<!-- 123618446251712&#45;&gt;123618446554240 -->\n",
       "<g id=\"edge8\" class=\"edge\">\n",
       "<title>123618446251712&#45;&gt;123618446554240</title>\n",
       "<path fill=\"none\" stroke=\"black\" d=\"M103.5,-66.79C103.5,-60.07 103.5,-50.4 103.5,-41.34\"/>\n",
       "<polygon fill=\"black\" stroke=\"black\" points=\"107,-41.19 103.5,-31.19 100,-41.19 107,-41.19\"/>\n",
       "</g>\n",
       "<!-- 123618446636272 -->\n",
       "<g id=\"node3\" class=\"node\">\n",
       "<title>123618446636272</title>\n",
       "<polygon fill=\"lightgrey\" stroke=\"black\" points=\"169,-141 38,-141 38,-122 169,-122 169,-141\"/>\n",
       "<text text-anchor=\"middle\" x=\"103.5\" y=\"-129\" font-family=\"monospace\" font-size=\"10.00\">LogSoftmaxBackward0</text>\n",
       "</g>\n",
       "<!-- 123618446636272&#45;&gt;123618446251712 -->\n",
       "<g id=\"edge1\" class=\"edge\">\n",
       "<title>123618446636272&#45;&gt;123618446251712</title>\n",
       "<path fill=\"none\" stroke=\"black\" d=\"M103.5,-121.75C103.5,-114.8 103.5,-104.85 103.5,-96.13\"/>\n",
       "<polygon fill=\"black\" stroke=\"black\" points=\"107,-96.09 103.5,-86.09 100,-96.09 107,-96.09\"/>\n",
       "</g>\n",
       "<!-- 123618446629648 -->\n",
       "<g id=\"node4\" class=\"node\">\n",
       "<title>123618446629648</title>\n",
       "<polygon fill=\"lightgrey\" stroke=\"black\" points=\"154,-196 53,-196 53,-177 154,-177 154,-196\"/>\n",
       "<text text-anchor=\"middle\" x=\"103.5\" y=\"-184\" font-family=\"monospace\" font-size=\"10.00\">AddmmBackward0</text>\n",
       "</g>\n",
       "<!-- 123618446629648&#45;&gt;123618446636272 -->\n",
       "<g id=\"edge2\" class=\"edge\">\n",
       "<title>123618446629648&#45;&gt;123618446636272</title>\n",
       "<path fill=\"none\" stroke=\"black\" d=\"M103.5,-176.75C103.5,-169.8 103.5,-159.85 103.5,-151.13\"/>\n",
       "<polygon fill=\"black\" stroke=\"black\" points=\"107,-151.09 103.5,-141.09 100,-151.09 107,-151.09\"/>\n",
       "</g>\n",
       "<!-- 123614084683216 -->\n",
       "<g id=\"node5\" class=\"node\">\n",
       "<title>123614084683216</title>\n",
       "<polygon fill=\"lightgrey\" stroke=\"black\" points=\"101,-251 0,-251 0,-232 101,-232 101,-251\"/>\n",
       "<text text-anchor=\"middle\" x=\"50.5\" y=\"-239\" font-family=\"monospace\" font-size=\"10.00\">AccumulateGrad</text>\n",
       "</g>\n",
       "<!-- 123614084683216&#45;&gt;123618446629648 -->\n",
       "<g id=\"edge3\" class=\"edge\">\n",
       "<title>123614084683216&#45;&gt;123618446629648</title>\n",
       "<path fill=\"none\" stroke=\"black\" d=\"M59.25,-231.75C66.97,-224.03 78.4,-212.6 87.72,-203.28\"/>\n",
       "<polygon fill=\"black\" stroke=\"black\" points=\"90.31,-205.64 94.91,-196.09 85.36,-200.69 90.31,-205.64\"/>\n",
       "</g>\n",
       "<!-- 123614086642448 -->\n",
       "<g id=\"node6\" class=\"node\">\n",
       "<title>123614086642448</title>\n",
       "<polygon fill=\"lightblue\" stroke=\"black\" points=\"77.5,-317 23.5,-317 23.5,-287 77.5,-287 77.5,-317\"/>\n",
       "<text text-anchor=\"middle\" x=\"50.5\" y=\"-305\" font-family=\"monospace\" font-size=\"10.00\">bias</text>\n",
       "<text text-anchor=\"middle\" x=\"50.5\" y=\"-294\" font-family=\"monospace\" font-size=\"10.00\"> (10)</text>\n",
       "</g>\n",
       "<!-- 123614086642448&#45;&gt;123614084683216 -->\n",
       "<g id=\"edge4\" class=\"edge\">\n",
       "<title>123614086642448&#45;&gt;123614084683216</title>\n",
       "<path fill=\"none\" stroke=\"black\" d=\"M50.5,-286.84C50.5,-279.21 50.5,-269.7 50.5,-261.45\"/>\n",
       "<polygon fill=\"black\" stroke=\"black\" points=\"54,-261.27 50.5,-251.27 47,-261.27 54,-261.27\"/>\n",
       "</g>\n",
       "<!-- 123614084689264 -->\n",
       "<g id=\"node7\" class=\"node\">\n",
       "<title>123614084689264</title>\n",
       "<polygon fill=\"lightgrey\" stroke=\"black\" points=\"196,-251 119,-251 119,-232 196,-232 196,-251\"/>\n",
       "<text text-anchor=\"middle\" x=\"157.5\" y=\"-239\" font-family=\"monospace\" font-size=\"10.00\">TBackward0</text>\n",
       "</g>\n",
       "<!-- 123614084689264&#45;&gt;123618446629648 -->\n",
       "<g id=\"edge5\" class=\"edge\">\n",
       "<title>123614084689264&#45;&gt;123618446629648</title>\n",
       "<path fill=\"none\" stroke=\"black\" d=\"M148.58,-231.75C140.72,-224.03 129.07,-212.6 119.58,-203.28\"/>\n",
       "<polygon fill=\"black\" stroke=\"black\" points=\"121.84,-200.6 112.25,-196.09 116.94,-205.59 121.84,-200.6\"/>\n",
       "</g>\n",
       "<!-- 123618446632816 -->\n",
       "<g id=\"node8\" class=\"node\">\n",
       "<title>123618446632816</title>\n",
       "<polygon fill=\"lightgrey\" stroke=\"black\" points=\"208,-311.5 107,-311.5 107,-292.5 208,-292.5 208,-311.5\"/>\n",
       "<text text-anchor=\"middle\" x=\"157.5\" y=\"-299.5\" font-family=\"monospace\" font-size=\"10.00\">AccumulateGrad</text>\n",
       "</g>\n",
       "<!-- 123618446632816&#45;&gt;123614084689264 -->\n",
       "<g id=\"edge6\" class=\"edge\">\n",
       "<title>123618446632816&#45;&gt;123614084689264</title>\n",
       "<path fill=\"none\" stroke=\"black\" d=\"M157.5,-292.37C157.5,-284.25 157.5,-271.81 157.5,-261.39\"/>\n",
       "<polygon fill=\"black\" stroke=\"black\" points=\"161,-261.17 157.5,-251.17 154,-261.17 161,-261.17\"/>\n",
       "</g>\n",
       "<!-- 123614084512848 -->\n",
       "<g id=\"node9\" class=\"node\">\n",
       "<title>123614084512848</title>\n",
       "<polygon fill=\"lightblue\" stroke=\"black\" points=\"196,-383 119,-383 119,-353 196,-353 196,-383\"/>\n",
       "<text text-anchor=\"middle\" x=\"157.5\" y=\"-371\" font-family=\"monospace\" font-size=\"10.00\">weight</text>\n",
       "<text text-anchor=\"middle\" x=\"157.5\" y=\"-360\" font-family=\"monospace\" font-size=\"10.00\"> (10, 784)</text>\n",
       "</g>\n",
       "<!-- 123614084512848&#45;&gt;123618446632816 -->\n",
       "<g id=\"edge7\" class=\"edge\">\n",
       "<title>123614084512848&#45;&gt;123618446632816</title>\n",
       "<path fill=\"none\" stroke=\"black\" d=\"M157.5,-352.8C157.5,-343.7 157.5,-331.79 157.5,-321.9\"/>\n",
       "<polygon fill=\"black\" stroke=\"black\" points=\"161,-321.84 157.5,-311.84 154,-321.84 161,-321.84\"/>\n",
       "</g>\n",
       "</g>\n",
       "</svg>\n"
      ],
      "text/plain": [
       "<graphviz.graphs.Digraph at 0x706d259b54c0>"
      ]
     },
     "execution_count": 11,
     "metadata": {},
     "output_type": "execute_result"
    }
   ],
   "source": [
    "y_pred = model(Variable(x_train.view(-1,28*28)))\n",
    "loss = criterion(y_pred, Variable(y_train))\n",
    "from torchviz import make_dot, make_dot_from_trace\n",
    "p = make_dot(loss, dict(model.named_parameters()))\n",
    "p"
   ]
  },
  {
   "cell_type": "markdown",
   "metadata": {
    "id": "Pq2yq8qAmvQ2"
   },
   "source": [
    "### Laço de treinamento dos pesos"
   ]
  },
  {
   "cell_type": "code",
   "execution_count": 12,
   "metadata": {
    "ExecuteTime": {
     "end_time": "2017-11-24T15:44:51.678678",
     "start_time": "2017-11-24T15:44:51.427695"
    },
    "colab": {
     "base_uri": "https://localhost:8080/",
     "height": 34
    },
    "id": "HPUUNKXxmvQ3",
    "outputId": "36b6aef3-0ece-4220-a654-c35b6e521002"
   },
   "outputs": [
    {
     "data": {
      "text/plain": [
       "<Figure size 1800x600 with 0 Axes>"
      ]
     },
     "metadata": {},
     "output_type": "display_data"
    }
   ],
   "source": [
    "from IPython import display\n",
    "import numpy\n",
    "a = 5\n",
    "losses = []\n",
    "zs = []\n",
    "fig = plt.figure(figsize=(18, 6))\n",
    "\n",
    "try:\n",
    "    for i in range(epochs):\n",
    "        # Transforma a entrada para uma dimensão\n",
    "        inputs = Variable(x_train.view(-1, 28 * 28))\n",
    "        # Predict da rede\n",
    "        outputs = model(inputs)\n",
    "        zs.append(outputs[1].detach().numpy())\n",
    "\n",
    "        # calcula a perda\n",
    "        loss = criterion(outputs, Variable(y_train))\n",
    "\n",
    "        # zero, backpropagation, ajusta parâmetros pelo gradiente descendente\n",
    "        optimizer.zero_grad()\n",
    "        loss.backward()\n",
    "        optimizer.step()\n",
    "\n",
    "        losses.append(loss.data)\n",
    "        _, predicts = torch.max(outputs, 1)\n",
    "\n",
    "        y_pred = predicts.data\n",
    "        accuracy = (y_pred.numpy() == y_train.numpy()).mean()\n",
    "\n",
    "except KeyboardInterrupt:\n",
    "    pass"
   ]
  },
  {
   "cell_type": "code",
   "execution_count": 25,
   "metadata": {
    "colab": {
     "base_uri": "https://localhost:8080/"
    },
    "id": "8wbN-_fnmvQ7",
    "outputId": "c5846267-b88e-4cdc-8303-f10e48176e8a"
   },
   "outputs": [
    {
     "data": {
      "text/plain": [
       "tensor([[0., 0., 0.,  ..., 0., 0., 0.],\n",
       "        [0., 0., 0.,  ..., 0., 0., 0.],\n",
       "        [0., 0., 0.,  ..., 0., 0., 0.],\n",
       "        ...,\n",
       "        [0., 0., 0.,  ..., 0., 0., 0.],\n",
       "        [0., 0., 0.,  ..., 0., 0., 0.],\n",
       "        [0., 0., 0.,  ..., 0., 0., 0.]])"
      ]
     },
     "execution_count": 25,
     "metadata": {},
     "output_type": "execute_result"
    }
   ],
   "source": [
    "model.weight.grad"
   ]
  },
  {
   "cell_type": "code",
   "execution_count": 13,
   "metadata": {
    "ExecuteTime": {
     "end_time": "2017-11-24T15:44:51.685301",
     "start_time": "2017-11-24T15:44:51.680419"
    },
    "colab": {
     "base_uri": "https://localhost:8080/"
    },
    "id": "mPWKRc_gmvRH",
    "outputId": "7bb7038b-8222-45a0-a45b-748d2fd77e85"
   },
   "outputs": [
    {
     "name": "stdout",
     "output_type": "stream",
     "text": [
      "Final loss: tensor(1.1051)\n"
     ]
    }
   ],
   "source": [
    "print('Final loss:', loss.data)"
   ]
  },
  {
   "cell_type": "markdown",
   "metadata": {
    "id": "PWIjRdCJmvRQ"
   },
   "source": [
    "### Visualizando gráfico de perda durante o treinamento"
   ]
  },
  {
   "cell_type": "code",
   "execution_count": 14,
   "metadata": {
    "ExecuteTime": {
     "end_time": "2017-11-24T15:44:56.787741",
     "start_time": "2017-11-24T15:44:56.627754"
    },
    "colab": {
     "base_uri": "https://localhost:8080/",
     "height": 447
    },
    "id": "gwV8aFcbmvRR",
    "outputId": "4758427a-9027-4ad3-a398-21f3699ee59b"
   },
   "outputs": [
    {
     "data": {
      "text/plain": [
       "[<matplotlib.lines.Line2D at 0x706e29996ed0>]"
      ]
     },
     "execution_count": 14,
     "metadata": {},
     "output_type": "execute_result"
    },
    {
     "data": {
      "image/png": "[encoded data removed]",
      "text/plain": [
       "<Figure size 640x480 with 1 Axes>"
      ]
     },
     "metadata": {},
     "output_type": "display_data"
    }
   ],
   "source": [
    "plt.plot(losses)"
   ]
  },
  {
   "cell_type": "markdown",
   "metadata": {
    "id": "H8og76PRmvRW"
   },
   "source": [
    "## Avaliação"
   ]
  },
  {
   "cell_type": "markdown",
   "metadata": {
    "id": "tIe0ngxWmvRY"
   },
   "source": [
    "### Acurácia tanto no conjunto de treinamento como no conjunto de testes"
   ]
  },
  {
   "cell_type": "code",
   "execution_count": 15,
   "metadata": {
    "ExecuteTime": {
     "end_time": "2017-11-24T15:50:29.922115",
     "start_time": "2017-11-24T15:50:29.914004"
    },
    "colab": {
     "base_uri": "https://localhost:8080/"
    },
    "id": "tlL-lfF5mvRZ",
    "outputId": "2a504475-a9a4-4611-dbed-6be9bc00cdc1"
   },
   "outputs": [
    {
     "name": "stdout",
     "output_type": "stream",
     "text": [
      "Accuracy: 0.811\n"
     ]
    }
   ],
   "source": [
    "def predict(model, input_data):\n",
    "    outputs = model(Variable(input_data))\n",
    "    _, predicts = torch.max(outputs, 1)\n",
    "\n",
    "    return predicts.data\n",
    "\n",
    "y_pred = predict(model, x_train.view(-1, 28*28))\n",
    "accuracy = (y_pred.numpy() == y_train.numpy()).mean()\n",
    "print('Accuracy:', accuracy)"
   ]
  },
  {
   "cell_type": "markdown",
   "metadata": {
    "id": "CvWz9qeDmvRc"
   },
   "source": [
    "### Matriz de confusão com dados de treinamento e teste"
   ]
  },
  {
   "cell_type": "code",
   "execution_count": 16,
   "metadata": {
    "ExecuteTime": {
     "end_time": "2017-11-24T15:51:40.706177",
     "start_time": "2017-11-24T15:51:40.679474"
    },
    "colab": {
     "base_uri": "https://localhost:8080/",
     "height": 411
    },
    "id": "CqNe40IqmvRd",
    "outputId": "93d3a1a5-cdb7-4d60-8438-ed2d0c54e7f3"
   },
   "outputs": [
    {
     "name": "stdout",
     "output_type": "stream",
     "text": [
      "Matriz de confusão:\n"
     ]
    },
    {
     "data": {
      "text/html": [
       "<div>\n",
       "<style scoped>\n",
       "    .dataframe tbody tr th:only-of-type {\n",
       "        vertical-align: middle;\n",
       "    }\n",
       "\n",
       "    .dataframe tbody tr th {\n",
       "        vertical-align: top;\n",
       "    }\n",
       "\n",
       "    .dataframe thead th {\n",
       "        text-align: right;\n",
       "    }\n",
       "</style>\n",
       "<table border=\"1\" class=\"dataframe\">\n",
       "  <thead>\n",
       "    <tr style=\"text-align: right;\">\n",
       "      <th>col_0</th>\n",
       "      <th>0</th>\n",
       "      <th>1</th>\n",
       "      <th>2</th>\n",
       "      <th>3</th>\n",
       "      <th>4</th>\n",
       "      <th>5</th>\n",
       "      <th>6</th>\n",
       "      <th>7</th>\n",
       "      <th>8</th>\n",
       "      <th>9</th>\n",
       "    </tr>\n",
       "    <tr>\n",
       "      <th>row_0</th>\n",
       "      <th></th>\n",
       "      <th></th>\n",
       "      <th></th>\n",
       "      <th></th>\n",
       "      <th></th>\n",
       "      <th></th>\n",
       "      <th></th>\n",
       "      <th></th>\n",
       "      <th></th>\n",
       "      <th></th>\n",
       "    </tr>\n",
       "  </thead>\n",
       "  <tbody>\n",
       "    <tr>\n",
       "      <th>0</th>\n",
       "      <td>93</td>\n",
       "      <td>0</td>\n",
       "      <td>3</td>\n",
       "      <td>1</td>\n",
       "      <td>0</td>\n",
       "      <td>4</td>\n",
       "      <td>2</td>\n",
       "      <td>1</td>\n",
       "      <td>0</td>\n",
       "      <td>2</td>\n",
       "    </tr>\n",
       "    <tr>\n",
       "      <th>1</th>\n",
       "      <td>0</td>\n",
       "      <td>109</td>\n",
       "      <td>11</td>\n",
       "      <td>1</td>\n",
       "      <td>1</td>\n",
       "      <td>2</td>\n",
       "      <td>2</td>\n",
       "      <td>6</td>\n",
       "      <td>6</td>\n",
       "      <td>1</td>\n",
       "    </tr>\n",
       "    <tr>\n",
       "      <th>2</th>\n",
       "      <td>2</td>\n",
       "      <td>0</td>\n",
       "      <td>77</td>\n",
       "      <td>2</td>\n",
       "      <td>1</td>\n",
       "      <td>5</td>\n",
       "      <td>4</td>\n",
       "      <td>1</td>\n",
       "      <td>3</td>\n",
       "      <td>0</td>\n",
       "    </tr>\n",
       "    <tr>\n",
       "      <th>3</th>\n",
       "      <td>0</td>\n",
       "      <td>1</td>\n",
       "      <td>1</td>\n",
       "      <td>77</td>\n",
       "      <td>1</td>\n",
       "      <td>18</td>\n",
       "      <td>0</td>\n",
       "      <td>0</td>\n",
       "      <td>8</td>\n",
       "      <td>3</td>\n",
       "    </tr>\n",
       "    <tr>\n",
       "      <th>4</th>\n",
       "      <td>0</td>\n",
       "      <td>0</td>\n",
       "      <td>0</td>\n",
       "      <td>0</td>\n",
       "      <td>89</td>\n",
       "      <td>6</td>\n",
       "      <td>3</td>\n",
       "      <td>3</td>\n",
       "      <td>0</td>\n",
       "      <td>8</td>\n",
       "    </tr>\n",
       "    <tr>\n",
       "      <th>5</th>\n",
       "      <td>0</td>\n",
       "      <td>1</td>\n",
       "      <td>0</td>\n",
       "      <td>3</td>\n",
       "      <td>0</td>\n",
       "      <td>46</td>\n",
       "      <td>0</td>\n",
       "      <td>0</td>\n",
       "      <td>2</td>\n",
       "      <td>0</td>\n",
       "    </tr>\n",
       "    <tr>\n",
       "      <th>6</th>\n",
       "      <td>2</td>\n",
       "      <td>1</td>\n",
       "      <td>1</td>\n",
       "      <td>2</td>\n",
       "      <td>2</td>\n",
       "      <td>5</td>\n",
       "      <td>82</td>\n",
       "      <td>0</td>\n",
       "      <td>0</td>\n",
       "      <td>1</td>\n",
       "    </tr>\n",
       "    <tr>\n",
       "      <th>7</th>\n",
       "      <td>0</td>\n",
       "      <td>1</td>\n",
       "      <td>5</td>\n",
       "      <td>3</td>\n",
       "      <td>0</td>\n",
       "      <td>1</td>\n",
       "      <td>0</td>\n",
       "      <td>101</td>\n",
       "      <td>0</td>\n",
       "      <td>13</td>\n",
       "    </tr>\n",
       "    <tr>\n",
       "      <th>8</th>\n",
       "      <td>0</td>\n",
       "      <td>3</td>\n",
       "      <td>1</td>\n",
       "      <td>1</td>\n",
       "      <td>2</td>\n",
       "      <td>2</td>\n",
       "      <td>1</td>\n",
       "      <td>0</td>\n",
       "      <td>65</td>\n",
       "      <td>0</td>\n",
       "    </tr>\n",
       "    <tr>\n",
       "      <th>9</th>\n",
       "      <td>0</td>\n",
       "      <td>0</td>\n",
       "      <td>0</td>\n",
       "      <td>3</td>\n",
       "      <td>9</td>\n",
       "      <td>3</td>\n",
       "      <td>0</td>\n",
       "      <td>5</td>\n",
       "      <td>3</td>\n",
       "      <td>72</td>\n",
       "    </tr>\n",
       "  </tbody>\n",
       "</table>\n",
       "</div>"
      ],
      "text/plain": [
       "col_0   0    1   2   3   4   5   6    7   8   9\n",
       "row_0                                          \n",
       "0      93    0   3   1   0   4   2    1   0   2\n",
       "1       0  109  11   1   1   2   2    6   6   1\n",
       "2       2    0  77   2   1   5   4    1   3   0\n",
       "3       0    1   1  77   1  18   0    0   8   3\n",
       "4       0    0   0   0  89   6   3    3   0   8\n",
       "5       0    1   0   3   0  46   0    0   2   0\n",
       "6       2    1   1   2   2   5  82    0   0   1\n",
       "7       0    1   5   3   0   1   0  101   0  13\n",
       "8       0    3   1   1   2   2   1    0  65   0\n",
       "9       0    0   0   3   9   3   0    5   3  72"
      ]
     },
     "execution_count": 16,
     "metadata": {},
     "output_type": "execute_result"
    }
   ],
   "source": [
    "print('Matriz de confusão:')\n",
    "pd.crosstab(y_pred.numpy(), y_train.numpy())"
   ]
  },
  {
   "cell_type": "markdown",
   "metadata": {
    "id": "RLjDGqb7mvRi"
   },
   "source": [
    "## Visualizando a matriz de pesos treinados"
   ]
  },
  {
   "cell_type": "markdown",
   "metadata": {
    "id": "AYuIu31KmvRj"
   },
   "source": [
    "Observe que a matriz de peso treinado para cada classe mostra a importância dos pesos associados aos caracteres de cada classe."
   ]
  },
  {
   "cell_type": "code",
   "execution_count": 17,
   "metadata": {
    "ExecuteTime": {
     "end_time": "2017-11-24T16:34:49.367135",
     "start_time": "2017-11-24T16:34:49.204452"
    },
    "colab": {
     "base_uri": "https://localhost:8080/",
     "height": 465
    },
    "id": "_QESuAB8mvRk",
    "outputId": "33f22ec5-adeb-473e-da12-9519a18c884a"
   },
   "outputs": [
    {
     "name": "stdout",
     "output_type": "stream",
     "text": [
      "weights: torch.Size([10, 784])\n",
      "bias:    torch.Size([10])\n"
     ]
    },
    {
     "data": {
      "image/png": "[encoded data removed]",
      "text/plain": [
       "<Figure size 640x480 with 1 Axes>"
      ]
     },
     "metadata": {},
     "output_type": "display_data"
    }
   ],
   "source": [
    "weights = model.state_dict()['weight']\n",
    "print('weights:', weights.shape)\n",
    "\n",
    "bias = model.state_dict()['bias']\n",
    "print('bias:   ', bias.shape)\n",
    "\n",
    "# Visualizando pesos da classe 3\n",
    "plt.imshow(weights[3, :].numpy().reshape((28,28)),cmap = 'gray')\n",
    "plt.show()"
   ]
  },
  {
   "cell_type": "markdown",
   "metadata": {
    "id": "eE1B62KamvRp"
   },
   "source": [
    "### Visualizando os pesos de todas as classes"
   ]
  },
  {
   "cell_type": "code",
   "execution_count": 18,
   "metadata": {
    "ExecuteTime": {
     "end_time": "2017-11-24T16:34:50.240218",
     "start_time": "2017-11-24T16:34:50.025515"
    },
    "colab": {
     "base_uri": "https://localhost:8080/",
     "height": 156
    },
    "id": "EHm39Pe_mvRp",
    "outputId": "1be44612-32bf-41e6-c67a-1e4cc2ab6ae2"
   },
   "outputs": [
    {
     "data": {
      "image/png": "[encoded data removed]",
      "text/plain": [
       "<Figure size 1500x1000 with 1 Axes>"
      ]
     },
     "metadata": {},
     "output_type": "display_data"
    }
   ],
   "source": [
    "# cria um grid com as imagens\n",
    "grid = torchvision.utils.make_grid(weights.view(-1, 1, 28, 28), normalize=True, pad_value=1.0, padding=1, nrow=10)\n",
    "\n",
    "plt.figure(figsize=(15, 10))\n",
    "plt.imshow(grid.numpy().transpose(1, 2, 0))\n",
    "plt.axis('off');"
   ]
  },
  {
   "cell_type": "markdown",
   "metadata": {
    "id": "odqHBFclmvRt"
   },
   "source": [
    "### Diagrama da regressão softmax com visualização dos pesos W"
   ]
  },
  {
   "cell_type": "markdown",
   "metadata": {
    "id": "UVKoDiM-mvRu"
   },
   "source": [
    "![alt text](https://raw.githubusercontent.com/vcasadei/images/master/RegressaoSoftmaxArgmaxNMIST.png)"
   ]
  },
  {
   "cell_type": "markdown",
   "metadata": {
    "id": "y0vTJyVbmvRv"
   },
   "source": [
    "# Atividades"
   ]
  },
  {
   "cell_type": "markdown",
   "metadata": {
    "id": "Rl-7WEDMmvRw"
   },
   "source": [
    "## Exercícios"
   ]
  },
  {
   "cell_type": "markdown",
   "metadata": {
    "id": "Vn4GzfSYmvR5"
   },
   "source": [
    "- 1) Insira código no laço do treinamento para que no final de cada época,\n",
    "     seja impresso: o número da época e a perda e a acurácia"
   ]
  },
  {
   "cell_type": "markdown",
   "metadata": {
    "id": "RtZPs6M6mvR6"
   },
   "source": [
    "- 2) Insira código no laço do treinamento para visualização dos valores dos gradientes referentes à classe do dígito 4, no final de cada época."
   ]
  },
  {
   "cell_type": "markdown",
   "metadata": {
    "id": "8UjOANOOe4Es"
   },
   "source": [
    "<details>\n",
    "<summary>Mostrar Resultado</summary>\n",
    "\n",
    "```python\n",
    "from IPython import display\n",
    "import numpy\n",
    "a = 5\n",
    "losses = []\n",
    "zs = []\n",
    "fig = plt.figure(figsize=(18, 6))\n",
    "\n",
    "try:\n",
    "    for i in range(epochs):\n",
    "        # Transforma a entrada para uma dimensão\n",
    "        inputs = Variable(x_train.view(-1, 28 * 28))\n",
    "        # Predict da rede\n",
    "        outputs = model(inputs)\n",
    "        zs.append(outputs[1].detach().numpy())\n",
    "\n",
    "        # calcula a perda\n",
    "        loss = criterion(outputs, Variable(y_train))\n",
    "\n",
    "        # zero, backpropagation, ajusta parâmetros pelo gradiente descendente\n",
    "        optimizer.zero_grad()\n",
    "        loss.backward()\n",
    "        optimizer.step()\n",
    "\n",
    "        losses.append(loss.data)\n",
    "        weights_d = model.weight.data[4].numpy().reshape(28,28)\n",
    "        weights_g = model.weight.grad.data[4].numpy().reshape(28,28)\n",
    "        ww = np.concatenate((weights_d,weights_g),1)\n",
    "        plt.imshow(ww.reshape((28,28*2)),cmap = 'gray')\n",
    "        display.display(fig)\n",
    "        display.clear_output(wait=True)\n",
    "        input(i)\n",
    "        \n",
    "        _, predicts = torch.max(outputs, 1)\n",
    "\n",
    "        y_pred = predicts.data\n",
    "        accuracy = (y_pred.numpy() == y_train.numpy()).mean()\n",
    "        print('Accuracy:', accuracy)\n",
    "        print(\"epoca: \" + str(i + 1))\n",
    "        print(\"perda: \" + str(loss.data.detach().numpy()))\n",
    "except KeyboardInterrupt:\n",
    "    pass\n",
    "```\n",
    "\n",
    "</details>\n",
    "\n"
   ]
  },
  {
   "cell_type": "markdown",
   "metadata": {
    "heading_collapsed": true,
    "id": "WNYt_-zhmvR7"
   },
   "source": [
    "## Perguntas"
   ]
  },
  {
   "cell_type": "markdown",
   "metadata": {
    "hidden": true,
    "id": "joaXY_W3mvR9"
   },
   "source": [
    "1. Qual é o shape da matriz de entrada na rede?\n",
    "2. Qual é o shape da saída da rede?\n",
    "3. Qual é o número total de parâmetros da rede, incluindo o bias?"
   ]
  },
  {
   "cell_type": "markdown",
   "metadata": {
    "id": "WzWdNQ6PmvR9"
   },
   "source": [
    "# Aprendizados\n"
   ]
  }
 ],
 "metadata": {
  "accelerator": "GPU",
  "colab": {
   "name": "3.5-LogisticRegressionMNIST-Iterativo.ipynb",
   "provenance": []
  },
  "kernelspec": {
   "display_name": ".venv",
   "language": "python",
   "name": "python3"
  },
  "language_info": {
   "codemirror_mode": {
    "name": "ipython",
    "version": 3
   },
   "file_extension": ".py",
   "mimetype": "text/x-python",
   "name": "python",
   "nbconvert_exporter": "python",
   "pygments_lexer": "ipython3",
   "version": "3.12.3"
  }
 },
 "nbformat": 4,
 "nbformat_minor": 0
}
