{
 "cells": [
  {
   "cell_type": "markdown",
   "metadata": {
    "id": "gbTOc6cbl-eq"
   },
   "source": [
    "# Regressão Softmax com dados do MNIST utilizando gradiente descendente estocástico por minibatches"
   ]
  },
  {
   "cell_type": "markdown",
   "metadata": {
    "id": "C-IK0yRml-er"
   },
   "source": [
    "O objetivo deste notebook é ilustrar\n",
    "- o uso do gradiente estocástico por mini-batchs\n",
    "- utilizando as classes Dataset e DataLoater.\n",
    "\n",
    "A apresentação da perda nos gráficos é um pouco diferente da usual, mostrando a perda de cada um dos vários minibatches dentro de cada época, de forma que as épocas são apresentadas com valores fracionários."
   ]
  },
  {
   "cell_type": "markdown",
   "metadata": {
    "id": "mqqDXfr4l-et"
   },
   "source": [
    "## Importação das bibliotecas"
   ]
  },
  {
   "cell_type": "code",
   "execution_count": 3,
   "metadata": {
    "ExecuteTime": {
     "end_time": "2017-11-24T22:39:50.314578Z",
     "start_time": "2017-11-24T22:39:48.904460Z"
    },
    "id": "0Iry5pajl-eu"
   },
   "outputs": [],
   "source": [
    "%matplotlib inline\n",
    "import numpy as np\n",
    "import matplotlib.pyplot as plt\n",
    "\n",
    "import torch\n",
    "from torch.autograd import Variable\n",
    "from torch.utils.data import DataLoader\n",
    "\n",
    "import torchvision\n",
    "from torchvision.datasets import MNIST"
   ]
  },
  {
   "cell_type": "markdown",
   "metadata": {
    "id": "QqgILyIkl-ey"
   },
   "source": [
    "## Dataset e dataloader"
   ]
  },
  {
   "cell_type": "markdown",
   "metadata": {
    "id": "VAMBUN5ol-ez"
   },
   "source": [
    "### Definição do tamanho do minibatch"
   ]
  },
  {
   "cell_type": "code",
   "execution_count": 4,
   "metadata": {
    "ExecuteTime": {
     "end_time": "2017-11-24T22:39:50.323379Z",
     "start_time": "2017-11-24T22:39:50.318024Z"
    },
    "id": "1YGmeZtbl-ez"
   },
   "outputs": [],
   "source": [
    "batch_size = 100"
   ]
  },
  {
   "cell_type": "markdown",
   "metadata": {
    "id": "3uaaezsvl-e5"
   },
   "source": [
    "### Carregamento, criação dataset e do dataloader"
   ]
  },
  {
   "cell_type": "code",
   "execution_count": 6,
   "metadata": {
    "ExecuteTime": {
     "end_time": "2017-11-24T22:39:50.400325Z",
     "start_time": "2017-11-24T22:39:50.326019Z"
    },
    "colab": {
     "base_uri": "https://localhost:8080/"
    },
    "id": "TRXgajEXl-e6",
    "outputId": "86b9c74e-4536-4f75-d80b-30ea7c2add40"
   },
   "outputs": [
    {
     "data": {
      "text/plain": [
       "Dataset MNIST\n",
       "    Number of datapoints: 60000\n",
       "    Root location: MNIST/\n",
       "    Split: Train\n",
       "    StandardTransform\n",
       "Transform: ToTensor()"
      ]
     },
     "execution_count": 6,
     "metadata": {},
     "output_type": "execute_result"
    }
   ],
   "source": [
    "dataset_dir = 'MNIST/'\n",
    "\n",
    "dataset_train = MNIST(dataset_dir, train=True, download=True,\n",
    "                    transform=torchvision.transforms.ToTensor())\n",
    "\n",
    "dataset_train"
   ]
  },
  {
   "cell_type": "code",
   "execution_count": null,
   "metadata": {},
   "outputs": [
    {
     "name": "stdout",
     "output_type": "stream",
     "text": [
      "<class 'torch.utils.data.dataloader.DataLoader'>\n",
      "Número de minibatches de trenamento: 600\n"
     ]
    }
   ],
   "source": [
    "loader_train = DataLoader(dataset_train, batch_size=batch_size, shuffle=True)\n",
    "\n",
    "print(type(loader_train))\n",
    "print('Número de minibatches de trenamento:', len(loader_train))"
   ]
  },
  {
   "cell_type": "code",
   "execution_count": 8,
   "metadata": {},
   "outputs": [
    {
     "name": "stdout",
     "output_type": "stream",
     "text": [
      "\n",
      "Dimensões dos dados de um minibatch: torch.Size([100, 1, 28, 28])\n",
      "Valores mínimo e máximo dos pixels:  tensor(0.) tensor(1.)\n",
      "Tipo dos dados das imagens:          <class 'torch.Tensor'>\n",
      "Tipo das classes das imagens:        <class 'torch.Tensor'>\n"
     ]
    }
   ],
   "source": [
    "x_train, y_train = next(iter(loader_train))\n",
    "print(\"\\nDimensões dos dados de um minibatch:\", x_train.size())\n",
    "print(\"Valores mínimo e máximo dos pixels: \", torch.min(x_train), torch.max(x_train))\n",
    "print(\"Tipo dos dados das imagens:         \", type(x_train))\n",
    "print(\"Tipo das classes das imagens:       \", type(y_train))"
   ]
  },
  {
   "cell_type": "markdown",
   "metadata": {
    "id": "Jalws0jHl-fB"
   },
   "source": [
    "### Usando todas as amostras do MNIST\n",
    "\n",
    "Neste exemplo utilizaremos todas as amostras de treinamento."
   ]
  },
  {
   "cell_type": "code",
   "execution_count": 9,
   "metadata": {
    "ExecuteTime": {
     "end_time": "2017-11-24T22:39:50.414117Z",
     "start_time": "2017-11-24T22:39:50.402687Z"
    },
    "colab": {
     "base_uri": "https://localhost:8080/"
    },
    "id": "TnFMMGDKl-fC",
    "outputId": "1be6472e-9c20-4c93-9b4b-218630ba6d07"
   },
   "outputs": [
    {
     "name": "stdout",
     "output_type": "stream",
     "text": [
      "Número de minibatches de trenamento: 600\n"
     ]
    },
    {
     "name": "stderr",
     "output_type": "stream",
     "text": [
      "/home/mgrb/Workspaces/CESAR/RNA_DeepLearning/.venv/lib/python3.12/site-packages/torchvision/datasets/mnist.py:76: UserWarning: train_data has been renamed data\n",
      "  warnings.warn(\"train_data has been renamed data\")\n"
     ]
    }
   ],
   "source": [
    "print('Número de minibatches de trenamento:', len(loader_train))\n",
    "n_batches_train = len(loader_train)\n",
    "total_samples = dataset_train.train_data.size(0)"
   ]
  },
  {
   "cell_type": "markdown",
   "metadata": {
    "id": "dz6ke_hfl-fF"
   },
   "source": [
    "## Modelo"
   ]
  },
  {
   "cell_type": "code",
   "execution_count": 10,
   "metadata": {
    "ExecuteTime": {
     "end_time": "2017-11-24T22:39:50.422994Z",
     "start_time": "2017-11-24T22:39:50.416568Z"
    },
    "id": "8iCWX43fl-fG"
   },
   "outputs": [],
   "source": [
    "model = torch.nn.Linear(28*28, 10)"
   ]
  },
  {
   "cell_type": "code",
   "execution_count": 11,
   "metadata": {
    "colab": {
     "base_uri": "https://localhost:8080/"
    },
    "id": "GrIFjo18dZ_L",
    "outputId": "46eb559e-6669-4254-d7af-8875aec85d36"
   },
   "outputs": [
    {
     "name": "stdout",
     "output_type": "stream",
     "text": [
      "torch.Size([1, 784])\n"
     ]
    },
    {
     "data": {
      "text/plain": [
       "tensor([[-0.4550,  0.1225, -0.7012, -0.3000, -0.4205, -0.5023,  0.5522, -1.6130,\n",
       "         -0.6565,  0.4954]], grad_fn=<AddmmBackward0>)"
      ]
     },
     "execution_count": 11,
     "metadata": {},
     "output_type": "execute_result"
    }
   ],
   "source": [
    "x = torch.ones(28*28).reshape(1, 784)\n",
    "print(x.shape)\n",
    "predict = model(x)\n",
    "predict"
   ]
  },
  {
   "cell_type": "markdown",
   "metadata": {
    "id": "kVDFEZBql-fJ"
   },
   "source": [
    "## Treinamento"
   ]
  },
  {
   "cell_type": "markdown",
   "metadata": {
    "id": "OUAeuSK6l-fJ"
   },
   "source": [
    "### Inicialização dos parâmetros"
   ]
  },
  {
   "cell_type": "code",
   "execution_count": 12,
   "metadata": {
    "ExecuteTime": {
     "end_time": "2017-11-24T22:39:50.433321Z",
     "start_time": "2017-11-24T22:39:50.426167Z"
    },
    "id": "XT5_fSiQl-fK"
   },
   "outputs": [],
   "source": [
    "n_epochs = 5\n",
    "learningRate = 0.5\n",
    "\n",
    "# Utilizaremos CrossEntropyLoss como função de perda\n",
    "criterion = torch.nn.CrossEntropyLoss()\n",
    "\n",
    "# Gradiente descendente\n",
    "optimizer = torch.optim.SGD(model.parameters(), lr=learningRate)"
   ]
  },
  {
   "cell_type": "markdown",
   "metadata": {
    "id": "-OM9OWI6l-fN"
   },
   "source": [
    "### Laço de treinamento dos parâmetros"
   ]
  },
  {
   "cell_type": "code",
   "execution_count": 13,
   "metadata": {
    "ExecuteTime": {
     "end_time": "2017-11-24T22:39:50.984972Z",
     "start_time": "2017-11-24T22:39:50.435673Z"
    },
    "id": "JvNVUUFTl-fQ"
   },
   "outputs": [],
   "source": [
    "epochs = []\n",
    "losses = []\n",
    "\n",
    "total_trained_samples = 0\n",
    "for i in range(n_epochs):\n",
    "    for k,(x_train, y_train) in enumerate(loader_train):\n",
    "        # Transforma a entrada para uma dimensão\n",
    "        inputs = Variable(x_train.view(-1, 28 * 28))\n",
    "        # predict da rede\n",
    "        outputs = model(inputs)\n",
    "\n",
    "        # calcula a perda\n",
    "        loss = criterion(outputs, Variable(y_train))\n",
    "\n",
    "        # zero, backpropagation, ajusta parâmetros pelo gradiente descendente\n",
    "        optimizer.zero_grad()\n",
    "        loss.backward()\n",
    "        optimizer.step()\n",
    "\n",
    "        total_trained_samples += x_train.size(0)\n",
    "        epochs.append(total_trained_samples / total_samples)\n",
    "        losses.append(loss.data)"
   ]
  },
  {
   "cell_type": "code",
   "execution_count": 14,
   "metadata": {
    "ExecuteTime": {
     "end_time": "2017-11-24T22:39:50.992302Z",
     "start_time": "2017-11-24T22:39:50.987284Z"
    },
    "colab": {
     "base_uri": "https://localhost:8080/"
    },
    "id": "aYO4bgVwl-fT",
    "outputId": "393ad6d6-4d5f-4b51-c96c-3413b48784ad"
   },
   "outputs": [
    {
     "name": "stdout",
     "output_type": "stream",
     "text": [
      "Final loss: tensor(0.3943)\n"
     ]
    }
   ],
   "source": [
    "print('Final loss:', loss.data)"
   ]
  },
  {
   "cell_type": "markdown",
   "metadata": {
    "id": "XEhPdkjAl-fX"
   },
   "source": [
    "### Visualizando gráfico de perda durante o treinamento"
   ]
  },
  {
   "cell_type": "code",
   "execution_count": 15,
   "metadata": {
    "ExecuteTime": {
     "end_time": "2017-11-24T22:39:51.244869Z",
     "start_time": "2017-11-24T22:39:50.995188Z"
    },
    "colab": {
     "base_uri": "https://localhost:8080/",
     "height": 467
    },
    "id": "_fSYP_KXl-fY",
    "outputId": "19e8a3d2-6ba6-4e5d-aab2-fcb264cbf81b"
   },
   "outputs": [
    {
     "data": {
      "text/plain": [
       "Text(0.5, 0, 'época')"
      ]
     },
     "execution_count": 15,
     "metadata": {},
     "output_type": "execute_result"
    },
    {
     "data": {
      "image/png": "[encoded data removed]",
      "text/plain": [
       "<Figure size 640x480 with 1 Axes>"
      ]
     },
     "metadata": {},
     "output_type": "display_data"
    }
   ],
   "source": [
    "plt.plot(epochs, losses)\n",
    "plt.xlabel('época')"
   ]
  },
  {
   "cell_type": "markdown",
   "metadata": {
    "id": "eNyGHxAtl-fc"
   },
   "source": [
    "### Visualização usual da perda, somente no final de cada minibatch"
   ]
  },
  {
   "cell_type": "code",
   "execution_count": 16,
   "metadata": {
    "ExecuteTime": {
     "end_time": "2017-11-24T22:39:51.498640Z",
     "start_time": "2017-11-24T22:39:51.246714Z"
    },
    "colab": {
     "base_uri": "https://localhost:8080/",
     "height": 467
    },
    "id": "e2J2aZZVl-fd",
    "outputId": "d6128cca-94bc-4af9-9a59-67459f19732d"
   },
   "outputs": [
    {
     "data": {
      "text/plain": [
       "Text(0.5, 0, 'época')"
      ]
     },
     "execution_count": 16,
     "metadata": {},
     "output_type": "execute_result"
    },
    {
     "data": {
      "image/png": "[encoded data removed]",
      "text/plain": [
       "<Figure size 640x480 with 1 Axes>"
      ]
     },
     "metadata": {},
     "output_type": "display_data"
    }
   ],
   "source": [
    "plt.plot(epochs[:5 * n_batches_train +1:n_batches_train], losses[:5 * n_batches_train+1:n_batches_train])\n",
    "plt.xlabel('época')"
   ]
  },
  {
   "cell_type": "markdown",
   "metadata": {
    "id": "eHLCXNLml-fg"
   },
   "source": [
    "# Atividades"
   ]
  },
  {
   "cell_type": "markdown",
   "metadata": {
    "id": "ZCs38MOml-fh"
   },
   "source": [
    "## Perguntas"
   ]
  },
  {
   "cell_type": "markdown",
   "metadata": {
    "id": "Ffg58gb7l-fi"
   },
   "source": [
    "1. Qual é o tamanho do mini-batch?\n",
    "> R.: 100\n",
    "2. Em uma época, quantos mini-batches existem?\n",
    "> R.: 600\n",
    "3. Qual é a definição de época?\n",
    "> R.: É o número de vezes que o modelo passa por todo o dataset de treinamento."
   ]
  },
  {
   "cell_type": "markdown",
   "metadata": {
    "id": "DourBpfrl-fl"
   },
   "source": [
    "## Exercícios\n"
   ]
  },
  {
   "cell_type": "markdown",
   "metadata": {
    "id": "Vjh3AaNpl-fn"
   },
   "source": [
    "1. Coloque um print no final de cada minibatch, no mesmo estilo do print do final de época, no seguinte estilo:\n",
    "    - Época: 1/4, batch: 600\n",
    "2. Altere o tamanho de minibatch (batch_size) algumas vezes, refaça o treinamento, e compare no gráfico abaixo a queda da perda para cada tamanho de minibatch."
   ]
  },
  {
   "cell_type": "markdown",
   "metadata": {
    "id": "Dite8MBJl-fn"
   },
   "source": [
    "## Conclusões sobre os experimentos deste notebook\n"
   ]
  }
 ],
 "metadata": {
  "accelerator": "TPU",
  "colab": {
   "name": "3.4-LogisticRegressionMNIST-SGD.ipynb",
   "provenance": []
  },
  "kernelspec": {
   "display_name": ".venv",
   "language": "python",
   "name": "python3"
  },
  "language_info": {
   "codemirror_mode": {
    "name": "ipython",
    "version": 3
   },
   "file_extension": ".py",
   "mimetype": "text/x-python",
   "name": "python",
   "nbconvert_exporter": "python",
   "pygments_lexer": "ipython3",
   "version": "3.12.3"
  }
 },
 "nbformat": 4,
 "nbformat_minor": 0
}
