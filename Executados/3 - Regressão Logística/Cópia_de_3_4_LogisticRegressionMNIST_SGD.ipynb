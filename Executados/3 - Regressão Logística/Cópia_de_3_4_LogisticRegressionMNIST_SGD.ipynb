{
  "cells": [
    {
      "cell_type": "markdown",
      "metadata": {
        "id": "gbTOc6cbl-eq"
      },
      "source": [
        "# Regressão Softmax com dados do MNIST utilizando gradiente descendente estocástico por minibatches"
      ]
    },
    {
      "cell_type": "markdown",
      "metadata": {
        "id": "C-IK0yRml-er"
      },
      "source": [
        "O objetivo deste notebook é ilustrar\n",
        "- o uso do gradiente estocástico por mini-batchs\n",
        "- utilizando as classes Dataset e DataLoater.\n",
        "\n",
        "A apresentação da perda nos gráficos é um pouco diferente da usual, mostrando a perda de cada um dos vários minibatches dentro de cada época, de forma que as épocas são apresentadas com valores fracionários."
      ]
    },
    {
      "cell_type": "markdown",
      "metadata": {
        "id": "mqqDXfr4l-et"
      },
      "source": [
        "## Importação das bibliotecas"
      ]
    },
    {
      "cell_type": "code",
      "execution_count": 1,
      "metadata": {
        "ExecuteTime": {
          "end_time": "2017-11-24T22:39:50.314578Z",
          "start_time": "2017-11-24T22:39:48.904460Z"
        },
        "id": "0Iry5pajl-eu"
      },
      "outputs": [],
      "source": [
        "%matplotlib inline\n",
        "import numpy as np\n",
        "import matplotlib.pyplot as plt\n",
        "\n",
        "import torch\n",
        "from torch.autograd import Variable\n",
        "from torch.utils.data import DataLoader\n",
        "\n",
        "import torchvision\n",
        "from torchvision.datasets import MNIST"
      ]
    },
    {
      "cell_type": "markdown",
      "metadata": {
        "id": "QqgILyIkl-ey"
      },
      "source": [
        "## Dataset e dataloader"
      ]
    },
    {
      "cell_type": "markdown",
      "metadata": {
        "id": "VAMBUN5ol-ez"
      },
      "source": [
        "### Definição do tamanho do minibatch"
      ]
    },
    {
      "cell_type": "code",
      "execution_count": 2,
      "metadata": {
        "ExecuteTime": {
          "end_time": "2017-11-24T22:39:50.323379Z",
          "start_time": "2017-11-24T22:39:50.318024Z"
        },
        "id": "1YGmeZtbl-ez"
      },
      "outputs": [],
      "source": [
        "batch_size = 100"
      ]
    },
    {
      "cell_type": "markdown",
      "metadata": {
        "id": "3uaaezsvl-e5"
      },
      "source": [
        "### Carregamento, criação dataset e do dataloader"
      ]
    },
    {
      "cell_type": "code",
      "execution_count": 3,
      "metadata": {
        "ExecuteTime": {
          "end_time": "2017-11-24T22:39:50.400325Z",
          "start_time": "2017-11-24T22:39:50.326019Z"
        },
        "colab": {
          "base_uri": "https://localhost:8080/"
        },
        "id": "TRXgajEXl-e6",
        "outputId": "09d06da4-d6e9-4766-f862-879a50f8f3ce"
      },
      "outputs": [
        {
          "output_type": "stream",
          "name": "stdout",
          "text": [
            "Downloading http://yann.lecun.com/exdb/mnist/train-images-idx3-ubyte.gz\n",
            "Failed to download (trying next):\n",
            "HTTP Error 403: Forbidden\n",
            "\n",
            "Downloading https://ossci-datasets.s3.amazonaws.com/mnist/train-images-idx3-ubyte.gz\n",
            "Downloading https://ossci-datasets.s3.amazonaws.com/mnist/train-images-idx3-ubyte.gz to MNIST/MNIST/raw/train-images-idx3-ubyte.gz\n"
          ]
        },
        {
          "output_type": "stream",
          "name": "stderr",
          "text": [
            "100%|██████████| 9.91M/9.91M [00:00<00:00, 45.3MB/s]\n"
          ]
        },
        {
          "output_type": "stream",
          "name": "stdout",
          "text": [
            "Extracting MNIST/MNIST/raw/train-images-idx3-ubyte.gz to MNIST/MNIST/raw\n",
            "\n",
            "Downloading http://yann.lecun.com/exdb/mnist/train-labels-idx1-ubyte.gz\n",
            "Failed to download (trying next):\n",
            "HTTP Error 403: Forbidden\n",
            "\n",
            "Downloading https://ossci-datasets.s3.amazonaws.com/mnist/train-labels-idx1-ubyte.gz\n",
            "Downloading https://ossci-datasets.s3.amazonaws.com/mnist/train-labels-idx1-ubyte.gz to MNIST/MNIST/raw/train-labels-idx1-ubyte.gz\n"
          ]
        },
        {
          "output_type": "stream",
          "name": "stderr",
          "text": [
            "100%|██████████| 28.9k/28.9k [00:00<00:00, 1.24MB/s]\n"
          ]
        },
        {
          "output_type": "stream",
          "name": "stdout",
          "text": [
            "Extracting MNIST/MNIST/raw/train-labels-idx1-ubyte.gz to MNIST/MNIST/raw\n",
            "\n",
            "Downloading http://yann.lecun.com/exdb/mnist/t10k-images-idx3-ubyte.gz\n",
            "Failed to download (trying next):\n",
            "HTTP Error 403: Forbidden\n",
            "\n",
            "Downloading https://ossci-datasets.s3.amazonaws.com/mnist/t10k-images-idx3-ubyte.gz\n",
            "Downloading https://ossci-datasets.s3.amazonaws.com/mnist/t10k-images-idx3-ubyte.gz to MNIST/MNIST/raw/t10k-images-idx3-ubyte.gz\n"
          ]
        },
        {
          "output_type": "stream",
          "name": "stderr",
          "text": [
            "100%|██████████| 1.65M/1.65M [00:00<00:00, 9.41MB/s]\n"
          ]
        },
        {
          "output_type": "stream",
          "name": "stdout",
          "text": [
            "Extracting MNIST/MNIST/raw/t10k-images-idx3-ubyte.gz to MNIST/MNIST/raw\n",
            "\n",
            "Downloading http://yann.lecun.com/exdb/mnist/t10k-labels-idx1-ubyte.gz\n",
            "Failed to download (trying next):\n",
            "HTTP Error 403: Forbidden\n",
            "\n",
            "Downloading https://ossci-datasets.s3.amazonaws.com/mnist/t10k-labels-idx1-ubyte.gz\n",
            "Downloading https://ossci-datasets.s3.amazonaws.com/mnist/t10k-labels-idx1-ubyte.gz to MNIST/MNIST/raw/t10k-labels-idx1-ubyte.gz\n"
          ]
        },
        {
          "output_type": "stream",
          "name": "stderr",
          "text": [
            "100%|██████████| 4.54k/4.54k [00:00<00:00, 6.39MB/s]"
          ]
        },
        {
          "output_type": "stream",
          "name": "stdout",
          "text": [
            "Extracting MNIST/MNIST/raw/t10k-labels-idx1-ubyte.gz to MNIST/MNIST/raw\n",
            "\n"
          ]
        },
        {
          "output_type": "stream",
          "name": "stderr",
          "text": [
            "\n"
          ]
        },
        {
          "output_type": "execute_result",
          "data": {
            "text/plain": [
              "Dataset MNIST\n",
              "    Number of datapoints: 60000\n",
              "    Root location: MNIST/\n",
              "    Split: Train\n",
              "    StandardTransform\n",
              "Transform: ToTensor()"
            ]
          },
          "metadata": {},
          "execution_count": 3
        }
      ],
      "source": [
        "dataset_dir = 'MNIST/'\n",
        "\n",
        "dataset_train = MNIST(dataset_dir, train=True, download=True,\n",
        "                      transform=torchvision.transforms.ToTensor())\n",
        "\n",
        "dataset_train"
      ]
    },
    {
      "cell_type": "code",
      "source": [
        "print(dataset_train)"
      ],
      "metadata": {
        "colab": {
          "base_uri": "https://localhost:8080/"
        },
        "id": "DjQX2rNEtW07",
        "outputId": "87d1a690-e8e5-48ba-aa97-cac6aaedc313"
      },
      "execution_count": 4,
      "outputs": [
        {
          "output_type": "stream",
          "name": "stdout",
          "text": [
            "Dataset MNIST\n",
            "    Number of datapoints: 60000\n",
            "    Root location: MNIST/\n",
            "    Split: Train\n",
            "    StandardTransform\n",
            "Transform: ToTensor()\n"
          ]
        }
      ]
    },
    {
      "cell_type": "code",
      "source": [
        "loader_train = DataLoader(dataset_train, batch_size=batch_size, shuffle=True)\n"
      ],
      "metadata": {
        "id": "h8zYhfFftB0B"
      },
      "execution_count": 5,
      "outputs": []
    },
    {
      "cell_type": "code",
      "source": [
        "len(loader_train)"
      ],
      "metadata": {
        "colab": {
          "base_uri": "https://localhost:8080/"
        },
        "id": "7Gfyh_KDtg49",
        "outputId": "4c199147-72ee-485b-adf1-80208cda2f83"
      },
      "execution_count": 7,
      "outputs": [
        {
          "output_type": "execute_result",
          "data": {
            "text/plain": [
              "600"
            ]
          },
          "metadata": {},
          "execution_count": 7
        }
      ]
    },
    {
      "cell_type": "code",
      "source": [
        "\n",
        "print('Número de minibatches de trenamento:', len(loader_train))\n",
        "\n",
        "x_train, y_train = next(iter(loader_train))\n",
        "print(\"\\nDimensões dos dados de um minibatch:\", x_train.size())\n",
        "print(\"Valores mínimo e máximo dos pixels: \", torch.min(x_train), torch.max(x_train))\n",
        "print(\"Tipo dos dados das imagens:         \", type(x_train))\n",
        "print(\"Tipo das classes das imagens:       \", type(y_train))"
      ],
      "metadata": {
        "colab": {
          "base_uri": "https://localhost:8080/"
        },
        "id": "qKJgbZHUtfjb",
        "outputId": "a8949e01-f966-4795-c134-a6e0a066352a"
      },
      "execution_count": 8,
      "outputs": [
        {
          "output_type": "stream",
          "name": "stdout",
          "text": [
            "Número de minibatches de trenamento: 600\n",
            "\n",
            "Dimensões dos dados de um minibatch: torch.Size([100, 1, 28, 28])\n",
            "Valores mínimo e máximo dos pixels:  tensor(0.) tensor(1.)\n",
            "Tipo dos dados das imagens:          <class 'torch.Tensor'>\n",
            "Tipo das classes das imagens:        <class 'torch.Tensor'>\n"
          ]
        }
      ]
    },
    {
      "cell_type": "markdown",
      "metadata": {
        "id": "Jalws0jHl-fB"
      },
      "source": [
        "### Usando todas as amostras do MNIST\n",
        "\n",
        "Neste exemplo utilizaremos todas as amostras de treinamento."
      ]
    },
    {
      "cell_type": "code",
      "execution_count": 9,
      "metadata": {
        "ExecuteTime": {
          "end_time": "2017-11-24T22:39:50.414117Z",
          "start_time": "2017-11-24T22:39:50.402687Z"
        },
        "colab": {
          "base_uri": "https://localhost:8080/"
        },
        "id": "TnFMMGDKl-fC",
        "outputId": "a8b88215-8a21-4f8f-d4da-e0b0c4752146"
      },
      "outputs": [
        {
          "output_type": "stream",
          "name": "stdout",
          "text": [
            "Número de minibatches de trenamento: 600\n"
          ]
        },
        {
          "output_type": "stream",
          "name": "stderr",
          "text": [
            "/usr/local/lib/python3.10/dist-packages/torchvision/datasets/mnist.py:76: UserWarning: train_data has been renamed data\n",
            "  warnings.warn(\"train_data has been renamed data\")\n"
          ]
        }
      ],
      "source": [
        "print('Número de minibatches de trenamento:', len(loader_train))\n",
        "n_batches_train = len(loader_train)\n",
        "total_samples = dataset_train.train_data.size(0)"
      ]
    },
    {
      "cell_type": "markdown",
      "metadata": {
        "id": "dz6ke_hfl-fF"
      },
      "source": [
        "## Modelo"
      ]
    },
    {
      "cell_type": "code",
      "execution_count": 27,
      "metadata": {
        "ExecuteTime": {
          "end_time": "2017-11-24T22:39:50.422994Z",
          "start_time": "2017-11-24T22:39:50.416568Z"
        },
        "id": "8iCWX43fl-fG"
      },
      "outputs": [],
      "source": [
        "model = torch.nn.Linear(28*28, 10)"
      ]
    },
    {
      "cell_type": "code",
      "execution_count": 11,
      "metadata": {
        "colab": {
          "base_uri": "https://localhost:8080/"
        },
        "id": "GrIFjo18dZ_L",
        "outputId": "59ef4197-bbfb-459d-ee54-5ed0309c540a"
      },
      "outputs": [
        {
          "output_type": "stream",
          "name": "stdout",
          "text": [
            "torch.Size([1, 784])\n"
          ]
        },
        {
          "output_type": "execute_result",
          "data": {
            "text/plain": [
              "tensor([[ 0.1741, -0.1326,  0.3429, -0.2013,  0.2123, -1.2355, -0.5719,  0.2218,\n",
              "         -1.1944,  0.4240]], grad_fn=<AddmmBackward0>)"
            ]
          },
          "metadata": {},
          "execution_count": 11
        }
      ],
      "source": [
        "x = torch.ones(28*28).reshape(1, 784)\n",
        "print(x.shape)\n",
        "predict = model(x)\n",
        "predict"
      ]
    },
    {
      "cell_type": "code",
      "source": [
        "x, _ = dataset_train[0]\n",
        "x = x.view(-1, 28 * 28)\n",
        "predict = model(x)\n",
        "predict"
      ],
      "metadata": {
        "colab": {
          "base_uri": "https://localhost:8080/"
        },
        "id": "ebJOHOCCt8jy",
        "outputId": "bc1dca8f-5b4a-4a89-c6b5-bacb36a238b4"
      },
      "execution_count": 18,
      "outputs": [
        {
          "output_type": "execute_result",
          "data": {
            "text/plain": [
              "tensor([[ 0.2340,  0.0291,  0.3470, -0.1650, -0.1423, -0.4372, -0.2215, -0.0771,\n",
              "         -0.4124, -0.0101]], grad_fn=<AddmmBackward0>)"
            ]
          },
          "metadata": {},
          "execution_count": 18
        }
      ]
    },
    {
      "cell_type": "markdown",
      "metadata": {
        "id": "kVDFEZBql-fJ"
      },
      "source": [
        "## Treinamento"
      ]
    },
    {
      "cell_type": "markdown",
      "metadata": {
        "id": "OUAeuSK6l-fJ"
      },
      "source": [
        "### Inicialização dos parâmetros"
      ]
    },
    {
      "cell_type": "code",
      "execution_count": 28,
      "metadata": {
        "ExecuteTime": {
          "end_time": "2017-11-24T22:39:50.433321Z",
          "start_time": "2017-11-24T22:39:50.426167Z"
        },
        "id": "XT5_fSiQl-fK"
      },
      "outputs": [],
      "source": [
        "n_epochs = 5\n",
        "learningRate = 0.5\n",
        "\n",
        "# Utilizaremos CrossEntropyLoss como função de perda\n",
        "criterion = torch.nn.CrossEntropyLoss()\n",
        "\n",
        "# Gradiente descendente\n",
        "optimizer = torch.optim.SGD(model.parameters(), lr=learningRate)"
      ]
    },
    {
      "cell_type": "markdown",
      "metadata": {
        "id": "-OM9OWI6l-fN"
      },
      "source": [
        "### Laço de treinamento dos parâmetros"
      ]
    },
    {
      "cell_type": "code",
      "execution_count": 29,
      "metadata": {
        "ExecuteTime": {
          "end_time": "2017-11-24T22:39:50.984972Z",
          "start_time": "2017-11-24T22:39:50.435673Z"
        },
        "id": "JvNVUUFTl-fQ"
      },
      "outputs": [],
      "source": [
        "epochs = []\n",
        "losses = []\n",
        "\n",
        "total_trained_samples = 0\n",
        "for i in range(n_epochs):\n",
        "    for data in loader_train:\n",
        "        (x_train, y_train) = data\n",
        "        # Transforma a entrada para uma dimensão\n",
        "\n",
        "        inputs = Variable(x_train.view(-1, 28 * 28))\n",
        "        # predict da rede\n",
        "        outputs = model(inputs)\n",
        "\n",
        "        # calcula a perda\n",
        "        loss = criterion(outputs, Variable(y_train))\n",
        "\n",
        "        # zero, backpropagation, ajusta parâmetros pelo gradiente descendente\n",
        "        optimizer.zero_grad()\n",
        "        loss.backward()\n",
        "        optimizer.step()\n",
        "\n",
        "        total_trained_samples += x_train.size(0)\n",
        "        epochs.append(total_trained_samples / total_samples)\n",
        "        losses.append(loss.data)"
      ]
    },
    {
      "cell_type": "code",
      "execution_count": 30,
      "metadata": {
        "ExecuteTime": {
          "end_time": "2017-11-24T22:39:50.992302Z",
          "start_time": "2017-11-24T22:39:50.987284Z"
        },
        "colab": {
          "base_uri": "https://localhost:8080/"
        },
        "id": "aYO4bgVwl-fT",
        "outputId": "a9c8a4cf-8a6f-4960-ba1a-b7f65e07bf4f"
      },
      "outputs": [
        {
          "output_type": "stream",
          "name": "stdout",
          "text": [
            "Final loss: tensor(0.2443)\n"
          ]
        }
      ],
      "source": [
        "print('Final loss:', loss.data)"
      ]
    },
    {
      "cell_type": "markdown",
      "metadata": {
        "id": "XEhPdkjAl-fX"
      },
      "source": [
        "### Visualizando gráfico de perda durante o treinamento"
      ]
    },
    {
      "cell_type": "code",
      "execution_count": 31,
      "metadata": {
        "ExecuteTime": {
          "end_time": "2017-11-24T22:39:51.244869Z",
          "start_time": "2017-11-24T22:39:50.995188Z"
        },
        "colab": {
          "base_uri": "https://localhost:8080/",
          "height": 467
        },
        "id": "_fSYP_KXl-fY",
        "outputId": "11369c91-adfd-49b5-8d4c-8a58f5001679"
      },
      "outputs": [
        {
          "output_type": "execute_result",
          "data": {
            "text/plain": [
              "Text(0.5, 0, 'época')"
            ]
          },
          "metadata": {},
          "execution_count": 31
        },
        {
          "output_type": "display_data",
          "data": {
            "text/plain": [
              "<Figure size 640x480 with 1 Axes>"
            ],
            "image/png": "[encoded data removed]"
          },
          "metadata": {}
        }
      ],
      "source": [
        "plt.plot(epochs, losses)\n",
        "plt.xlabel('época')"
      ]
    },
    {
      "cell_type": "markdown",
      "metadata": {
        "id": "eNyGHxAtl-fc"
      },
      "source": [
        "### Visualização usual da perda, somente no final de cada minibatch"
      ]
    },
    {
      "cell_type": "code",
      "execution_count": 32,
      "metadata": {
        "ExecuteTime": {
          "end_time": "2017-11-24T22:39:51.498640Z",
          "start_time": "2017-11-24T22:39:51.246714Z"
        },
        "colab": {
          "base_uri": "https://localhost:8080/",
          "height": 467
        },
        "id": "e2J2aZZVl-fd",
        "outputId": "cb83aef7-3aee-4600-ee37-e296e6c5d715"
      },
      "outputs": [
        {
          "output_type": "execute_result",
          "data": {
            "text/plain": [
              "Text(0.5, 0, 'época')"
            ]
          },
          "metadata": {},
          "execution_count": 32
        },
        {
          "output_type": "display_data",
          "data": {
            "text/plain": [
              "<Figure size 640x480 with 1 Axes>"
            ],
            "image/png": "[encoded data removed]"
          },
          "metadata": {}
        }
      ],
      "source": [
        "plt.plot(epochs[:5 * n_batches_train +1:n_batches_train], losses[:5 * n_batches_train+1:n_batches_train])\n",
        "plt.xlabel('época')"
      ]
    },
    {
      "cell_type": "markdown",
      "metadata": {
        "id": "eHLCXNLml-fg"
      },
      "source": [
        "# Atividades"
      ]
    },
    {
      "cell_type": "markdown",
      "metadata": {
        "id": "ZCs38MOml-fh"
      },
      "source": [
        "## Perguntas"
      ]
    },
    {
      "cell_type": "markdown",
      "metadata": {
        "id": "Ffg58gb7l-fi"
      },
      "source": [
        "1. Qual é o tamanho do mini-batch?\n",
        "R.: 100\n",
        "2. Em uma época, quantos mini-batches existem?\n",
        "R.: 600\n",
        "3. Qual é a definição de época?\n",
        "R.: Um ciclo, loop, onde todas as amostras da base de dados são avaliadas pelo modelo, seja diretamente ou em mini-batches. E após o cálculo da perda, os pesos da rede são atualizados."
      ]
    },
    {
      "cell_type": "markdown",
      "metadata": {
        "id": "DourBpfrl-fl"
      },
      "source": [
        "## Exercícios\n"
      ]
    },
    {
      "cell_type": "markdown",
      "metadata": {
        "id": "Vjh3AaNpl-fn"
      },
      "source": [
        "1. Coloque um print no final de cada minibatch, no mesmo estilo do print do final de época, no seguinte estilo:\n",
        "    - Época: 1/4, batch: 600\n",
        "2. Altere o tamanho de minibatch (batch_size) algumas vezes, refaça o treinamento, e compare no gráfico abaixo a queda da perda para cada tamanho de minibatch."
      ]
    },
    {
      "cell_type": "markdown",
      "metadata": {
        "id": "Dite8MBJl-fn"
      },
      "source": [
        "## Conclusões sobre os experimentos deste notebook\n"
      ]
    }
  ],
  "metadata": {
    "accelerator": "TPU",
    "colab": {
      "provenance": [],
      "gpuType": "V28"
    },
    "kernelspec": {
      "display_name": "Python 3.10.2 64-bit",
      "language": "python",
      "name": "python3"
    },
    "language_info": {
      "name": "python",
      "version": "3.10.2"
    },
    "vscode": {
      "interpreter": {
        "hash": "5fe3e6f0cdaab8afdc61c52912fda83f7c0a71baaea1897dd7498e2df01e69ec"
      }
    }
  },
  "nbformat": 4,
  "nbformat_minor": 0
}