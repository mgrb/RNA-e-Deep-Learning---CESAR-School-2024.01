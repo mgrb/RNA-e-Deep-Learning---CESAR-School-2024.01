{
  "cells": [
    {
      "cell_type": "markdown",
      "metadata": {
        "id": "sulShD5y4K7V"
      },
      "source": [
        "# Treinamento com interface de alto nível"
      ]
    },
    {
      "cell_type": "markdown",
      "metadata": {
        "id": "mALEfpx54K7d"
      },
      "source": [
        "## Importação das bibliotecas"
      ]
    },
    {
      "cell_type": "code",
      "execution_count": 1,
      "metadata": {
        "id": "aOn4IXXnGRBg"
      },
      "outputs": [],
      "source": [
        "# http://pytorch.org/\n",
        "from os.path import exists\n",
        "\n",
        "import torch"
      ]
    },
    {
      "cell_type": "code",
      "execution_count": 2,
      "metadata": {
        "id": "WN69WSbu4K7f"
      },
      "outputs": [],
      "source": [
        "import argparse\n",
        "import torch\n",
        "import torch.nn as nn\n",
        "import torch.nn.functional as F\n",
        "import torch.optim as optim\n",
        "from torchvision import datasets, transforms\n",
        "from torch.optim.lr_scheduler import StepLR"
      ]
    },
    {
      "cell_type": "markdown",
      "metadata": {
        "id": "4T8iS1Jc4K7q"
      },
      "source": [
        "## Criação da rede"
      ]
    },
    {
      "cell_type": "code",
      "source": [
        "transform=transforms.Compose([\n",
        "    transforms.Resize((32,32)),\n",
        "    transforms.Grayscale(num_output_channels=1),\n",
        "    transforms.ToTensor(),\n",
        "    transforms.Normalize(mean=[0.5], std=[0.5])\n",
        "    ])\n",
        "dataset_train = datasets.CIFAR100('../data', train=True, download=True,transform=transform)\n",
        "dataset_test = datasets.CIFAR100('../data', train=False, download=True,transform=transform)"
      ],
      "metadata": {
        "id": "XFWHV6MFcEF6",
        "colab": {
          "base_uri": "https://localhost:8080/"
        },
        "outputId": "d807ebf5-55ba-4e3a-bb9c-09769434e4c5"
      },
      "execution_count": 24,
      "outputs": [
        {
          "output_type": "stream",
          "name": "stdout",
          "text": [
            "Files already downloaded and verified\n",
            "Files already downloaded and verified\n"
          ]
        }
      ]
    },
    {
      "cell_type": "code",
      "source": [
        "len(dataset_test)"
      ],
      "metadata": {
        "colab": {
          "base_uri": "https://localhost:8080/"
        },
        "id": "NEVFhY82dqv1",
        "outputId": "018ba029-2314-4bba-bb17-8a19dd024819"
      },
      "execution_count": 5,
      "outputs": [
        {
          "output_type": "execute_result",
          "data": {
            "text/plain": [
              "10000"
            ]
          },
          "metadata": {},
          "execution_count": 5
        }
      ]
    },
    {
      "cell_type": "code",
      "source": [
        "len(dataset_train)"
      ],
      "metadata": {
        "colab": {
          "base_uri": "https://localhost:8080/"
        },
        "id": "ZObxCgq6lg9g",
        "outputId": "bacb073c-9b46-4e5a-de0c-00f6542dcba2"
      },
      "execution_count": 6,
      "outputs": [
        {
          "output_type": "execute_result",
          "data": {
            "text/plain": [
              "50000"
            ]
          },
          "metadata": {},
          "execution_count": 6
        }
      ]
    },
    {
      "cell_type": "code",
      "source": [
        "aux = dataset_train[3]\n",
        "x, y = aux\n",
        "print(x.shape)\n",
        "print(y)"
      ],
      "metadata": {
        "colab": {
          "base_uri": "https://localhost:8080/"
        },
        "id": "GCouHw24cjYw",
        "outputId": "d43a007e-9b70-4326-b091-02bad2edca64"
      },
      "execution_count": 7,
      "outputs": [
        {
          "output_type": "stream",
          "name": "stdout",
          "text": [
            "torch.Size([1, 32, 32])\n",
            "11\n"
          ]
        }
      ]
    },
    {
      "cell_type": "code",
      "source": [
        "y"
      ],
      "metadata": {
        "colab": {
          "base_uri": "https://localhost:8080/"
        },
        "id": "ZL12L7p0dQiA",
        "outputId": "e980b78f-ed02-4421-fbd3-21187a6a404d"
      },
      "execution_count": null,
      "outputs": [
        {
          "output_type": "execute_result",
          "data": {
            "text/plain": [
              "1"
            ]
          },
          "metadata": {},
          "execution_count": 14
        }
      ]
    },
    {
      "cell_type": "code",
      "execution_count": 25,
      "metadata": {
        "id": "RUi00oew4K7q"
      },
      "outputs": [],
      "source": [
        "input_size = 32*32\n",
        "output_size = 100\n",
        "class Net(nn.Module):\n",
        "    def __init__(self):\n",
        "        super(Net, self).__init__()\n",
        "        self.layer1 = nn.Linear(input_size, 2048)\n",
        "        self.layer2 = nn.Linear(2048, 4096)\n",
        "        self.layer3 = nn.Linear(4096, 8192)\n",
        "        self.layer4 = nn.Linear(8192, 8192)\n",
        "        self.layer5 = nn.Linear(8192, 4096)\n",
        "        self.layer6 = nn.Linear(4096, 2048)\n",
        "        self.layer7 = nn.Linear(2048, 1024)\n",
        "        self.layer8 = nn.Linear(1024, 512)\n",
        "        self.layer9 = nn.Linear(512, 256)\n",
        "        self.fc2 = nn.Linear(256, output_size)\n",
        "\n",
        "    def forward(self, x):\n",
        "        x = x.view(-1, input_size)\n",
        "        x = self.layer1(x)\n",
        "        x = F.relu(x)\n",
        "        x = self.layer2(x)\n",
        "        x = F.relu(x)\n",
        "        x = self.layer3(x)\n",
        "        x = F.relu(x)\n",
        "        x = self.layer4(x)\n",
        "        x = F.relu(x)\n",
        "        x = self.layer5(x)\n",
        "        x = F.relu(x)\n",
        "        x = self.layer6(x)\n",
        "        x = F.relu(x)\n",
        "        x = self.layer7(x)\n",
        "        x = F.relu(x)\n",
        "        x = self.layer8(x)\n",
        "        x = F.relu(x)\n",
        "        x = self.layer9(x)\n",
        "        x = F.relu(x)\n",
        "        x = self.fc2(x)\n",
        "        output = F.log_softmax(x, dim=1)\n",
        "        return output\n",
        "\n",
        "model = Net()"
      ]
    },
    {
      "cell_type": "code",
      "source": [
        "model"
      ],
      "metadata": {
        "colab": {
          "base_uri": "https://localhost:8080/"
        },
        "id": "P-HsB4r6mXdR",
        "outputId": "ab6a8a01-743b-4f61-d97c-3ee254350ce4"
      },
      "execution_count": 26,
      "outputs": [
        {
          "output_type": "execute_result",
          "data": {
            "text/plain": [
              "Net(\n",
              "  (layer1): Linear(in_features=1024, out_features=2048, bias=True)\n",
              "  (layer2): Linear(in_features=2048, out_features=4096, bias=True)\n",
              "  (layer3): Linear(in_features=4096, out_features=8192, bias=True)\n",
              "  (layer4): Linear(in_features=8192, out_features=8192, bias=True)\n",
              "  (layer5): Linear(in_features=8192, out_features=4096, bias=True)\n",
              "  (layer6): Linear(in_features=4096, out_features=2048, bias=True)\n",
              "  (layer7): Linear(in_features=2048, out_features=1024, bias=True)\n",
              "  (layer8): Linear(in_features=1024, out_features=512, bias=True)\n",
              "  (layer9): Linear(in_features=512, out_features=256, bias=True)\n",
              "  (fc2): Linear(in_features=256, out_features=100, bias=True)\n",
              ")"
            ]
          },
          "metadata": {},
          "execution_count": 26
        }
      ]
    },
    {
      "cell_type": "markdown",
      "metadata": {
        "id": "400Lbat24K7v"
      },
      "source": [
        "## Treinamento"
      ]
    },
    {
      "cell_type": "markdown",
      "metadata": {
        "id": "2cqllMDO4K7y"
      },
      "source": [
        "### Criando o objeto de treinamento"
      ]
    },
    {
      "cell_type": "code",
      "execution_count": 27,
      "metadata": {
        "id": "OAEOQoZy4K72"
      },
      "outputs": [],
      "source": [
        "def train(log_interval, dry_run, model, device, train_loader, optimizer, epoch):\n",
        "    model.train()\n",
        "    for batch_idx, (data, target) in enumerate(train_loader):\n",
        "        data, target = data.to(device), target.to(device)\n",
        "        optimizer.zero_grad()\n",
        "        output = model(data)\n",
        "        loss = F.nll_loss(output, target)\n",
        "        loss.backward()\n",
        "        optimizer.step()\n",
        "        if batch_idx % log_interval == 0:\n",
        "            print('Train Epoch: {} [{}/{} ({:.0f}%)]\\tLoss: {:.6f}'.format(\n",
        "                epoch, batch_idx * len(data), len(train_loader.dataset),\n",
        "                100. * batch_idx / len(train_loader), loss.item()))\n",
        "            if dry_run:\n",
        "                break"
      ]
    },
    {
      "cell_type": "code",
      "execution_count": 28,
      "metadata": {
        "id": "eE6DjiKK4K76"
      },
      "outputs": [],
      "source": [
        "def test(model, device, test_loader):\n",
        "    model.eval()\n",
        "    test_loss = 0\n",
        "    correct = 0\n",
        "    with torch.no_grad():\n",
        "        for data, target in test_loader:\n",
        "            data, target = data.to(device), target.to(device)\n",
        "            output = model(data)\n",
        "            test_loss += F.nll_loss(output, target, reduction='sum').item()  # sum up batch loss\n",
        "            pred = output.argmax(dim=1, keepdim=True)  # get the index of the max log-probability\n",
        "            correct += pred.eq(target.view_as(pred)).sum().item()\n",
        "\n",
        "    test_loss /= len(test_loader.dataset)\n",
        "    acc = 100. * correct / len(test_loader.dataset)\n",
        "    print('\\nTest set: Average loss: {:.4f}, Accuracy: {}/{} ({:.0f}%)\\n'.format(\n",
        "        test_loss, correct, len(test_loader.dataset),\n",
        "        acc))\n",
        "    return acc"
      ]
    },
    {
      "cell_type": "markdown",
      "metadata": {
        "id": "kxdm4FTK4K8E"
      },
      "source": [
        "## Avaliação"
      ]
    },
    {
      "cell_type": "code",
      "source": [
        "use_cuda = torch.cuda.is_available()\n",
        "use_cuda"
      ],
      "metadata": {
        "colab": {
          "base_uri": "https://localhost:8080/"
        },
        "id": "v20jZ0vyhvKO",
        "outputId": "582a2d9f-2717-4ffa-ced3-0de57f182954"
      },
      "execution_count": null,
      "outputs": [
        {
          "output_type": "execute_result",
          "data": {
            "text/plain": [
              "True"
            ]
          },
          "metadata": {},
          "execution_count": 6
        }
      ]
    },
    {
      "cell_type": "code",
      "execution_count": 29,
      "metadata": {
        "colab": {
          "base_uri": "https://localhost:8080/"
        },
        "id": "kgH7e25qb_-K",
        "outputId": "9cd9db44-2cfc-436e-adf2-ca5cc808e958"
      },
      "outputs": [
        {
          "output_type": "stream",
          "name": "stdout",
          "text": [
            "\n",
            "Test set: Average loss: 4.6058, Accuracy: 100/10000 (1%)\n",
            "\n",
            "Train Epoch: 1 [0/50000 (0%)]\tLoss: 4.605468\n",
            "Train Epoch: 1 [5000/50000 (10%)]\tLoss: 4.606379\n",
            "Train Epoch: 1 [10000/50000 (20%)]\tLoss: 4.600414\n",
            "Train Epoch: 1 [15000/50000 (30%)]\tLoss: 4.572727\n",
            "Train Epoch: 1 [20000/50000 (40%)]\tLoss: 4.602988\n",
            "Train Epoch: 1 [25000/50000 (50%)]\tLoss: 4.595205\n",
            "Train Epoch: 1 [30000/50000 (60%)]\tLoss: 4.576916\n",
            "Train Epoch: 1 [35000/50000 (70%)]\tLoss: 4.461816\n",
            "Train Epoch: 1 [40000/50000 (80%)]\tLoss: 4.518792\n",
            "Train Epoch: 1 [45000/50000 (90%)]\tLoss: 4.524837\n",
            "\n",
            "Test set: Average loss: 4.4973, Accuracy: 164/10000 (2%)\n",
            "\n",
            "Train Epoch: 2 [0/50000 (0%)]\tLoss: 4.491110\n",
            "Train Epoch: 2 [5000/50000 (10%)]\tLoss: 4.522687\n",
            "Train Epoch: 2 [10000/50000 (20%)]\tLoss: 4.496088\n",
            "Train Epoch: 2 [15000/50000 (30%)]\tLoss: 4.495710\n",
            "Train Epoch: 2 [20000/50000 (40%)]\tLoss: 4.509337\n",
            "Train Epoch: 2 [25000/50000 (50%)]\tLoss: 4.503011\n",
            "Train Epoch: 2 [30000/50000 (60%)]\tLoss: 4.482284\n",
            "Train Epoch: 2 [35000/50000 (70%)]\tLoss: 4.513180\n",
            "Train Epoch: 2 [40000/50000 (80%)]\tLoss: 4.486335\n",
            "Train Epoch: 2 [45000/50000 (90%)]\tLoss: 4.445870\n",
            "\n",
            "Test set: Average loss: 4.4450, Accuracy: 205/10000 (2%)\n",
            "\n",
            "Train Epoch: 3 [0/50000 (0%)]\tLoss: 4.403488\n",
            "Train Epoch: 3 [5000/50000 (10%)]\tLoss: 4.451385\n",
            "Train Epoch: 3 [10000/50000 (20%)]\tLoss: 4.415199\n",
            "Train Epoch: 3 [15000/50000 (30%)]\tLoss: 4.475286\n",
            "Train Epoch: 3 [20000/50000 (40%)]\tLoss: 4.442483\n",
            "Train Epoch: 3 [25000/50000 (50%)]\tLoss: 4.384872\n",
            "Train Epoch: 3 [30000/50000 (60%)]\tLoss: 4.391008\n",
            "Train Epoch: 3 [35000/50000 (70%)]\tLoss: 4.426189\n",
            "Train Epoch: 3 [40000/50000 (80%)]\tLoss: 4.387793\n",
            "Train Epoch: 3 [45000/50000 (90%)]\tLoss: 4.422155\n",
            "\n",
            "Test set: Average loss: 4.4108, Accuracy: 261/10000 (3%)\n",
            "\n",
            "Train Epoch: 4 [0/50000 (0%)]\tLoss: 4.399993\n",
            "Train Epoch: 4 [5000/50000 (10%)]\tLoss: 4.427923\n",
            "Train Epoch: 4 [10000/50000 (20%)]\tLoss: 4.371175\n",
            "Train Epoch: 4 [15000/50000 (30%)]\tLoss: 4.383417\n",
            "Train Epoch: 4 [20000/50000 (40%)]\tLoss: 4.424769\n",
            "Train Epoch: 4 [25000/50000 (50%)]\tLoss: 4.393990\n",
            "Train Epoch: 4 [30000/50000 (60%)]\tLoss: 4.388104\n",
            "Train Epoch: 4 [35000/50000 (70%)]\tLoss: 4.432181\n",
            "Train Epoch: 4 [40000/50000 (80%)]\tLoss: 4.419838\n",
            "Train Epoch: 4 [45000/50000 (90%)]\tLoss: 4.349467\n",
            "\n",
            "Test set: Average loss: 4.4102, Accuracy: 264/10000 (3%)\n",
            "\n",
            "Train Epoch: 5 [0/50000 (0%)]\tLoss: 4.349010\n",
            "Train Epoch: 5 [5000/50000 (10%)]\tLoss: 4.365514\n",
            "Train Epoch: 5 [10000/50000 (20%)]\tLoss: 4.394449\n",
            "Train Epoch: 5 [15000/50000 (30%)]\tLoss: 4.348075\n",
            "Train Epoch: 5 [20000/50000 (40%)]\tLoss: 4.382341\n",
            "Train Epoch: 5 [25000/50000 (50%)]\tLoss: 4.332836\n",
            "Train Epoch: 5 [30000/50000 (60%)]\tLoss: 4.322280\n",
            "Train Epoch: 5 [35000/50000 (70%)]\tLoss: 4.255357\n",
            "Train Epoch: 5 [40000/50000 (80%)]\tLoss: 4.371386\n",
            "Train Epoch: 5 [45000/50000 (90%)]\tLoss: 4.346585\n",
            "\n",
            "Test set: Average loss: 4.3489, Accuracy: 405/10000 (4%)\n",
            "\n",
            "Train Epoch: 6 [0/50000 (0%)]\tLoss: 4.348083\n",
            "Train Epoch: 6 [5000/50000 (10%)]\tLoss: 4.211141\n",
            "Train Epoch: 6 [10000/50000 (20%)]\tLoss: 4.337686\n",
            "Train Epoch: 6 [15000/50000 (30%)]\tLoss: 4.256468\n",
            "Train Epoch: 6 [20000/50000 (40%)]\tLoss: 4.356084\n",
            "Train Epoch: 6 [25000/50000 (50%)]\tLoss: 4.270210\n",
            "Train Epoch: 6 [30000/50000 (60%)]\tLoss: 4.266373\n",
            "Train Epoch: 6 [35000/50000 (70%)]\tLoss: 4.296996\n",
            "Train Epoch: 6 [40000/50000 (80%)]\tLoss: 4.248141\n",
            "Train Epoch: 6 [45000/50000 (90%)]\tLoss: 4.327641\n",
            "\n",
            "Test set: Average loss: 4.2943, Accuracy: 467/10000 (5%)\n",
            "\n",
            "Train Epoch: 7 [0/50000 (0%)]\tLoss: 4.307575\n",
            "Train Epoch: 7 [5000/50000 (10%)]\tLoss: 4.277327\n",
            "Train Epoch: 7 [10000/50000 (20%)]\tLoss: 4.269943\n",
            "Train Epoch: 7 [15000/50000 (30%)]\tLoss: 4.254805\n",
            "Train Epoch: 7 [20000/50000 (40%)]\tLoss: 4.175159\n",
            "Train Epoch: 7 [25000/50000 (50%)]\tLoss: 4.242284\n",
            "Train Epoch: 7 [30000/50000 (60%)]\tLoss: 4.203098\n",
            "Train Epoch: 7 [35000/50000 (70%)]\tLoss: 4.227132\n",
            "Train Epoch: 7 [40000/50000 (80%)]\tLoss: 4.285077\n",
            "Train Epoch: 7 [45000/50000 (90%)]\tLoss: 4.212637\n",
            "\n",
            "Test set: Average loss: 4.2571, Accuracy: 544/10000 (5%)\n",
            "\n",
            "Train Epoch: 8 [0/50000 (0%)]\tLoss: 4.235020\n",
            "Train Epoch: 8 [5000/50000 (10%)]\tLoss: 4.266480\n",
            "Train Epoch: 8 [10000/50000 (20%)]\tLoss: 4.160944\n",
            "Train Epoch: 8 [15000/50000 (30%)]\tLoss: 4.233500\n",
            "Train Epoch: 8 [20000/50000 (40%)]\tLoss: 4.245024\n",
            "Train Epoch: 8 [25000/50000 (50%)]\tLoss: 4.090491\n",
            "Train Epoch: 8 [30000/50000 (60%)]\tLoss: 4.172895\n",
            "Train Epoch: 8 [35000/50000 (70%)]\tLoss: 4.130403\n",
            "Train Epoch: 8 [40000/50000 (80%)]\tLoss: 4.118208\n",
            "Train Epoch: 8 [45000/50000 (90%)]\tLoss: 4.163133\n",
            "\n",
            "Test set: Average loss: 4.2044, Accuracy: 604/10000 (6%)\n",
            "\n"
          ]
        }
      ],
      "source": [
        "use_cuda = torch.cuda.is_available()\n",
        "\n",
        "torch.manual_seed(1111)\n",
        "\n",
        "device = torch.device(\"cuda\" if use_cuda else \"cpu\")\n",
        "\n",
        "train_kwargs = {'batch_size': 500}\n",
        "test_kwargs = {'batch_size': 100}\n",
        "if use_cuda:\n",
        "    cuda_kwargs = {'num_workers': 1,\n",
        "                    'pin_memory': True,\n",
        "                    'shuffle': True}\n",
        "    train_kwargs.update(cuda_kwargs)\n",
        "    test_kwargs.update(cuda_kwargs)\n",
        "\n",
        "train_loader = torch.utils.data.DataLoader(dataset_train,**train_kwargs)\n",
        "test_loader = torch.utils.data.DataLoader(dataset_test, **test_kwargs)\n",
        "\n",
        "model = Net().to(device)\n",
        "optimizer = optim.Adam(model.parameters(), lr=0.001)\n",
        "\n",
        "epochs = 8\n",
        "scheduler = StepLR(optimizer, step_size=4, gamma=0.7)\n",
        "best_acc = test(model, device, test_loader)\n",
        "for epoch in range(1, epochs + 1):\n",
        "    train(10, False, model, device, train_loader, optimizer, epoch)\n",
        "    acc = test(model, device, test_loader)\n",
        "    if acc > best_acc:\n",
        "      torch.save(model.state_dict(), \"cifar100_cnn.pt\")\n",
        "    scheduler.step()"
      ]
    },
    {
      "cell_type": "code",
      "source": [],
      "metadata": {
        "id": "0uDI8WZtrmgV"
      },
      "execution_count": null,
      "outputs": []
    },
    {
      "cell_type": "code",
      "source": [
        "aux = torch.load(\"mnist_cnn.pt\")"
      ],
      "metadata": {
        "colab": {
          "base_uri": "https://localhost:8080/"
        },
        "id": "7kKUxLuJpDB9",
        "outputId": "73c5dc7c-3fd4-46da-a535-478769904c86"
      },
      "execution_count": null,
      "outputs": [
        {
          "output_type": "stream",
          "name": "stderr",
          "text": [
            "<ipython-input-19-cb91ad9ab067>:1: FutureWarning: You are using `torch.load` with `weights_only=False` (the current default value), which uses the default pickle module implicitly. It is possible to construct malicious pickle data which will execute arbitrary code during unpickling (See https://github.com/pytorch/pytorch/blob/main/SECURITY.md#untrusted-models for more details). In a future release, the default value for `weights_only` will be flipped to `True`. This limits the functions that could be executed during unpickling. Arbitrary objects will no longer be allowed to be loaded via this mode unless they are explicitly allowlisted by the user via `torch.serialization.add_safe_globals`. We recommend you start setting `weights_only=True` for any use case where you don't have full control of the loaded file. Please open an issue on GitHub for any issues related to this experimental feature.\n",
            "  aux = torch.load(\"mnist_cnn.pt\")\n"
          ]
        }
      ]
    },
    {
      "cell_type": "code",
      "source": [
        "aux"
      ],
      "metadata": {
        "colab": {
          "base_uri": "https://localhost:8080/"
        },
        "id": "4gpjoGcjpJyn",
        "outputId": "e81058b1-75c7-4991-de62-72a950b6a4c6"
      },
      "execution_count": null,
      "outputs": [
        {
          "output_type": "execute_result",
          "data": {
            "text/plain": [
              "OrderedDict([('layer1.weight',\n",
              "              tensor([[-0.0003, -0.0271,  0.0240,  ...,  0.0353,  0.0151, -0.0153],\n",
              "                      [-0.0208, -0.0123,  0.0298,  ...,  0.0074, -0.0148, -0.0048],\n",
              "                      [ 0.0010, -0.0267, -0.0105,  ...,  0.0171,  0.0191,  0.0073],\n",
              "                      ...,\n",
              "                      [-0.0194,  0.0303,  0.0269,  ...,  0.0003,  0.0118, -0.0055],\n",
              "                      [ 0.0055, -0.0117, -0.0062,  ..., -0.0226, -0.0015, -0.0182],\n",
              "                      [ 0.0190, -0.0259, -0.0127,  ..., -0.0030,  0.0031, -0.0264]],\n",
              "                     device='cuda:0')),\n",
              "             ('layer1.bias',\n",
              "              tensor([-0.0177, -0.0261, -0.0074,  ..., -0.0339, -0.0301,  0.0227],\n",
              "                     device='cuda:0')),\n",
              "             ('layer2.weight',\n",
              "              tensor([[-0.0271, -0.0070, -0.0012,  ..., -0.0216,  0.0065, -0.0299],\n",
              "                      [-0.0017,  0.0243,  0.0073,  ...,  0.0054, -0.0276,  0.0368],\n",
              "                      [-0.0211, -0.0065,  0.0098,  ..., -0.0161, -0.0151, -0.0032],\n",
              "                      ...,\n",
              "                      [ 0.0059,  0.0126, -0.0055,  ..., -0.0082, -0.0226, -0.0052],\n",
              "                      [ 0.0257,  0.0050, -0.0087,  ...,  0.0275, -0.0055, -0.0351],\n",
              "                      [-0.0215,  0.0005,  0.0069,  ..., -0.0098, -0.0148,  0.0065]],\n",
              "                     device='cuda:0')),\n",
              "             ('layer2.bias',\n",
              "              tensor([ 0.0080, -0.0085,  0.0200,  ..., -0.0200, -0.0203,  0.0019],\n",
              "                     device='cuda:0')),\n",
              "             ('layer3.weight',\n",
              "              tensor([[ 8.6002e-03, -1.5242e-02,  1.5303e-02,  ..., -3.1792e-03,\n",
              "                        3.2702e-03,  8.2730e-03],\n",
              "                      [-1.3425e-02, -9.5412e-03,  9.1319e-05,  ...,  6.6351e-03,\n",
              "                        8.1697e-03, -4.1655e-03],\n",
              "                      [-1.5025e-02, -1.9358e-03,  7.1411e-03,  ..., -9.2033e-03,\n",
              "                       -7.6414e-03, -9.8500e-03],\n",
              "                      ...,\n",
              "                      [-1.9529e-02, -3.3926e-03, -7.8160e-03,  ...,  4.6348e-03,\n",
              "                        8.2284e-03,  5.7517e-04],\n",
              "                      [ 8.6560e-03, -1.5831e-02, -1.4455e-02,  ...,  1.1937e-02,\n",
              "                        6.5405e-03,  1.5512e-03],\n",
              "                      [ 9.1479e-03,  6.1673e-03, -1.0887e-02,  ...,  7.4635e-03,\n",
              "                        9.9701e-03,  8.5691e-03]], device='cuda:0')),\n",
              "             ('layer3.bias',\n",
              "              tensor([-0.0132,  0.0181,  0.0207,  ...,  0.0236,  0.0158,  0.0053],\n",
              "                     device='cuda:0')),\n",
              "             ('layer4.weight',\n",
              "              tensor([[-0.0126,  0.0038, -0.0177,  ..., -0.0020, -0.0274,  0.0033],\n",
              "                      [-0.0223, -0.0089, -0.0147,  ..., -0.0015, -0.0042, -0.0208],\n",
              "                      [ 0.0004,  0.0173,  0.0612,  ..., -0.0349,  0.0305, -0.0034],\n",
              "                      ...,\n",
              "                      [-0.0161,  0.0053, -0.0058,  ..., -0.0038,  0.0289, -0.0130],\n",
              "                      [-0.0115, -0.0200,  0.0078,  ...,  0.0045,  0.0145,  0.0183],\n",
              "                      [-0.0112,  0.0017, -0.0201,  ...,  0.0091, -0.0254,  0.0230]],\n",
              "                     device='cuda:0')),\n",
              "             ('layer4.bias',\n",
              "              tensor([ 0.0269, -0.0258,  0.0659, -0.0123,  0.1504, -0.0026,  0.1080, -0.0042,\n",
              "                       0.1430,  0.1138,  0.1267,  0.2738,  0.1251,  0.0132, -0.0581,  0.1312,\n",
              "                       0.0095,  0.0983,  0.1366,  0.1701,  0.1165,  0.0763,  0.0109, -0.0047,\n",
              "                       0.0929, -0.0106, -0.0215,  0.0317, -0.0254,  0.0012, -0.0103, -0.0224,\n",
              "                       0.0066,  0.1362, -0.0151, -0.0313, -0.0366, -0.0018,  0.1874,  0.0425,\n",
              "                      -0.0015,  0.0083,  0.1001,  0.0704, -0.0329,  0.1404,  0.1502,  0.2278,\n",
              "                       0.1893, -0.0131,  0.2378,  0.0240,  0.0891, -0.0013,  0.0077, -0.0267,\n",
              "                      -0.0127,  0.2062, -0.0357,  0.1723,  0.0595,  0.1425, -0.0246,  0.0337,\n",
              "                       0.0038,  0.1862,  0.2007,  0.0747, -0.0125,  0.2154,  0.1491, -0.0211,\n",
              "                      -0.0241, -0.0009, -0.0036,  0.1327,  0.2094,  0.1951,  0.1505, -0.0079,\n",
              "                       0.0504,  0.1172,  0.0240, -0.0202,  0.0995,  0.0642, -0.0222, -0.0127,\n",
              "                       0.1139,  0.1535,  0.0626, -0.0082,  0.0842,  0.0720,  0.1942,  0.0444,\n",
              "                       0.0308,  0.1200,  0.0032,  0.0955,  0.1672, -0.0329, -0.0055,  0.0464,\n",
              "                       0.1457, -0.0387,  0.0500,  0.0541,  0.1714,  0.0661,  0.2215,  0.1953,\n",
              "                       0.0523,  0.2368,  0.0762,  0.0289, -0.0033,  0.1604,  0.0946,  0.0893,\n",
              "                       0.0167,  0.1994,  0.1080,  0.2178,  0.0427,  0.1618,  0.2085,  0.0891],\n",
              "                     device='cuda:0')),\n",
              "             ('fc2.weight',\n",
              "              tensor([[-0.2308, -0.0135, -0.1465,  ..., -0.3545, -0.3925,  0.0566],\n",
              "                      [-0.0956, -0.0715,  0.1991,  ...,  0.0321, -0.0112,  0.0318],\n",
              "                      [ 0.0611, -0.0121, -0.3126,  ...,  0.0598,  0.0273,  0.0182],\n",
              "                      ...,\n",
              "                      [-0.0642, -0.0539, -0.0851,  ...,  0.0272, -0.3821, -0.1290],\n",
              "                      [-0.1862, -0.0718, -0.0711,  ..., -0.0027,  0.1248, -0.1398],\n",
              "                      [-0.3515, -0.0036, -0.2559,  ..., -0.2262, -0.2023, -0.2043]],\n",
              "                     device='cuda:0')),\n",
              "             ('fc2.bias',\n",
              "              tensor([-0.1890, -0.1349, -0.0042, -0.0816,  0.0305, -0.1564, -0.0705, -0.0335,\n",
              "                       0.0685,  0.0230], device='cuda:0'))])"
            ]
          },
          "metadata": {},
          "execution_count": 20
        }
      ]
    },
    {
      "cell_type": "code",
      "source": [
        "model.load_state_dict(aux)"
      ],
      "metadata": {
        "colab": {
          "base_uri": "https://localhost:8080/"
        },
        "id": "3leKt2uEpL5H",
        "outputId": "eb215059-05bb-4a2f-f1b3-f6d3fe881e1c"
      },
      "execution_count": null,
      "outputs": [
        {
          "output_type": "execute_result",
          "data": {
            "text/plain": [
              "<All keys matched successfully>"
            ]
          },
          "metadata": {},
          "execution_count": 21
        }
      ]
    }
  ],
  "metadata": {
    "accelerator": "GPU",
    "colab": {
      "machine_shape": "hm",
      "provenance": []
    },
    "kernelspec": {
      "display_name": "Python 3.10.2 64-bit",
      "language": "python",
      "name": "python3"
    },
    "language_info": {
      "name": "python",
      "version": "3.10.2"
    },
    "vscode": {
      "interpreter": {
        "hash": "5fe3e6f0cdaab8afdc61c52912fda83f7c0a71baaea1897dd7498e2df01e69ec"
      }
    }
  },
  "nbformat": 4,
  "nbformat_minor": 0
}