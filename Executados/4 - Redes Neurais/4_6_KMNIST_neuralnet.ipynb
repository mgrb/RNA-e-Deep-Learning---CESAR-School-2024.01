{
  "cells": [
    {
      "cell_type": "markdown",
      "metadata": {
        "id": "sulShD5y4K7V"
      },
      "source": [
        "# Treinamento com interface de alto nível"
      ]
    },
    {
      "cell_type": "markdown",
      "metadata": {
        "id": "mALEfpx54K7d"
      },
      "source": [
        "## Importação das bibliotecas"
      ]
    },
    {
      "cell_type": "code",
      "execution_count": 1,
      "metadata": {
        "id": "aOn4IXXnGRBg"
      },
      "outputs": [],
      "source": [
        "# http://pytorch.org/\n",
        "from os.path import exists\n",
        "\n",
        "import torch"
      ]
    },
    {
      "cell_type": "code",
      "execution_count": 2,
      "metadata": {
        "id": "WN69WSbu4K7f"
      },
      "outputs": [],
      "source": [
        "import argparse\n",
        "import torch\n",
        "import torch.nn as nn\n",
        "import torch.nn.functional as F\n",
        "import torch.optim as optim\n",
        "from torchvision import datasets, transforms\n",
        "from torch.optim.lr_scheduler import StepLR"
      ]
    },
    {
      "cell_type": "markdown",
      "metadata": {
        "id": "4T8iS1Jc4K7q"
      },
      "source": [
        "## Criação da rede"
      ]
    },
    {
      "cell_type": "code",
      "source": [
        "transform=transforms.Compose([\n",
        "    transforms.ToTensor(),\n",
        "    transforms.Normalize((0.1307,), (0.3081,))\n",
        "    ])\n",
        "dataset_train = datasets.KMNIST('../data', train=True, download=True,transform=transform)\n",
        "dataset_test = datasets.KMNIST('../data', train=False, download=True,transform=transform)"
      ],
      "metadata": {
        "id": "XFWHV6MFcEF6"
      },
      "execution_count": 18,
      "outputs": []
    },
    {
      "cell_type": "code",
      "source": [
        "len(dataset_test)"
      ],
      "metadata": {
        "colab": {
          "base_uri": "https://localhost:8080/"
        },
        "id": "NEVFhY82dqv1",
        "outputId": "303e9600-0fa6-4074-af14-03764d0a91de"
      },
      "execution_count": 19,
      "outputs": [
        {
          "output_type": "execute_result",
          "data": {
            "text/plain": [
              "10000"
            ]
          },
          "metadata": {},
          "execution_count": 19
        }
      ]
    },
    {
      "cell_type": "code",
      "source": [
        "aux = dataset_train[3]\n",
        "x, y = aux\n",
        "print(x.shape)\n",
        "print(y)"
      ],
      "metadata": {
        "colab": {
          "base_uri": "https://localhost:8080/"
        },
        "id": "GCouHw24cjYw",
        "outputId": "04e61245-bc0a-464d-c46a-9b84c0c3d47f"
      },
      "execution_count": 17,
      "outputs": [
        {
          "output_type": "stream",
          "name": "stdout",
          "text": [
            "torch.Size([1, 28, 28])\n",
            "1\n"
          ]
        }
      ]
    },
    {
      "cell_type": "code",
      "source": [
        "y"
      ],
      "metadata": {
        "colab": {
          "base_uri": "https://localhost:8080/"
        },
        "id": "ZL12L7p0dQiA",
        "outputId": "e980b78f-ed02-4421-fbd3-21187a6a404d"
      },
      "execution_count": 14,
      "outputs": [
        {
          "output_type": "execute_result",
          "data": {
            "text/plain": [
              "1"
            ]
          },
          "metadata": {},
          "execution_count": 14
        }
      ]
    },
    {
      "cell_type": "code",
      "execution_count": 20,
      "metadata": {
        "id": "RUi00oew4K7q"
      },
      "outputs": [],
      "source": [
        "class Net(nn.Module):\n",
        "    def __init__(self):\n",
        "        super(Net, self).__init__()\n",
        "        self.layer1 = nn.Linear(784, 1568)\n",
        "        self.layer2 = nn.Linear(1568, 3136)\n",
        "        self.layer3 = nn.Linear(3136, 1568)\n",
        "        self.layer3_4 = nn.Linear(1568, 1568)\n",
        "        self.layer4 = nn.Linear(1568, 128)\n",
        "        self.fc2 = nn.Linear(128, 10)\n",
        "\n",
        "    def forward(self, x):\n",
        "        x = x.view(-1, 28*28)\n",
        "        x = self.layer1(x)\n",
        "        x = F.relu(x)\n",
        "        x = self.layer2(x)\n",
        "        x = F.relu(x)\n",
        "        x = self.layer3(x)\n",
        "        x = F.relu(x)\n",
        "        x = self.layer4(x)\n",
        "        x = F.relu(x)\n",
        "        x = self.fc2(x)\n",
        "        output = F.log_softmax(x, dim=1)\n",
        "        return output\n",
        "\n",
        "model = Net()"
      ]
    },
    {
      "cell_type": "code",
      "source": [
        "model"
      ],
      "metadata": {
        "colab": {
          "base_uri": "https://localhost:8080/"
        },
        "id": "P-HsB4r6mXdR",
        "outputId": "00b6471f-e1ce-4e1b-a791-80b91a7060fd"
      },
      "execution_count": 21,
      "outputs": [
        {
          "output_type": "execute_result",
          "data": {
            "text/plain": [
              "Net(\n",
              "  (layer1): Linear(in_features=784, out_features=1568, bias=True)\n",
              "  (layer2): Linear(in_features=1568, out_features=3136, bias=True)\n",
              "  (layer3): Linear(in_features=3136, out_features=1568, bias=True)\n",
              "  (layer3_4): Linear(in_features=1568, out_features=1568, bias=True)\n",
              "  (layer4): Linear(in_features=1568, out_features=128, bias=True)\n",
              "  (fc2): Linear(in_features=128, out_features=10, bias=True)\n",
              ")"
            ]
          },
          "metadata": {},
          "execution_count": 21
        }
      ]
    },
    {
      "cell_type": "markdown",
      "metadata": {
        "id": "400Lbat24K7v"
      },
      "source": [
        "## Treinamento"
      ]
    },
    {
      "cell_type": "markdown",
      "metadata": {
        "id": "2cqllMDO4K7y"
      },
      "source": [
        "### Criando o objeto de treinamento"
      ]
    },
    {
      "cell_type": "code",
      "execution_count": 22,
      "metadata": {
        "id": "OAEOQoZy4K72"
      },
      "outputs": [],
      "source": [
        "def train(log_interval, dry_run, model, device, train_loader, optimizer, epoch):\n",
        "    model.train()\n",
        "    for batch_idx, (data, target) in enumerate(train_loader):\n",
        "        data, target = data.to(device), target.to(device)\n",
        "        optimizer.zero_grad()\n",
        "        output = model(data)\n",
        "        loss = F.nll_loss(output, target)\n",
        "        loss.backward()\n",
        "        optimizer.step()\n",
        "        if batch_idx % log_interval == 0:\n",
        "            print('Train Epoch: {} [{}/{} ({:.0f}%)]\\tLoss: {:.6f}'.format(\n",
        "                epoch, batch_idx * len(data), len(train_loader.dataset),\n",
        "                100. * batch_idx / len(train_loader), loss.item()))\n",
        "            if dry_run:\n",
        "                break"
      ]
    },
    {
      "cell_type": "code",
      "execution_count": 25,
      "metadata": {
        "id": "eE6DjiKK4K76"
      },
      "outputs": [],
      "source": [
        "def test(model, device, test_loader):\n",
        "    model.eval()\n",
        "    test_loss = 0\n",
        "    correct = 0\n",
        "    with torch.no_grad():\n",
        "        for data, target in test_loader:\n",
        "            data, target = data.to(device), target.to(device)\n",
        "            output = model(data)\n",
        "            test_loss += F.nll_loss(output, target, reduction='sum').item()  # sum up batch loss\n",
        "            pred = output.argmax(dim=1, keepdim=True)  # get the index of the max log-probability\n",
        "            correct += pred.eq(target.view_as(pred)).sum().item()\n",
        "\n",
        "    test_loss /= len(test_loader.dataset)\n",
        "    acc = 100. * correct / len(test_loader.dataset)\n",
        "    print('\\nTest set: Average loss: {:.4f}, Accuracy: {}/{} ({:.0f}%)\\n'.format(\n",
        "        test_loss, correct, len(test_loader.dataset),\n",
        "        acc))\n",
        "    return acc"
      ]
    },
    {
      "cell_type": "markdown",
      "metadata": {
        "id": "kxdm4FTK4K8E"
      },
      "source": [
        "## Avaliação"
      ]
    },
    {
      "cell_type": "code",
      "source": [
        "use_cuda = torch.cuda.is_available()\n",
        "use_cuda"
      ],
      "metadata": {
        "colab": {
          "base_uri": "https://localhost:8080/"
        },
        "id": "v20jZ0vyhvKO",
        "outputId": "582a2d9f-2717-4ffa-ced3-0de57f182954"
      },
      "execution_count": null,
      "outputs": [
        {
          "output_type": "execute_result",
          "data": {
            "text/plain": [
              "True"
            ]
          },
          "metadata": {},
          "execution_count": 6
        }
      ]
    },
    {
      "cell_type": "code",
      "execution_count": 26,
      "metadata": {
        "colab": {
          "base_uri": "https://localhost:8080/"
        },
        "id": "kgH7e25qb_-K",
        "outputId": "eb39b61b-4ea0-4ccf-85a4-892762b487ea"
      },
      "outputs": [
        {
          "output_type": "stream",
          "name": "stdout",
          "text": [
            "\n",
            "Test set: Average loss: 2.3030, Accuracy: 1148/10000 (11%)\n",
            "\n",
            "Train Epoch: 1 [0/60000 (0%)]\tLoss: 2.300543\n",
            "Train Epoch: 1 [10000/60000 (17%)]\tLoss: 2.277831\n",
            "Train Epoch: 1 [20000/60000 (33%)]\tLoss: 1.340150\n",
            "Train Epoch: 1 [30000/60000 (50%)]\tLoss: 1.109059\n",
            "Train Epoch: 1 [40000/60000 (67%)]\tLoss: 0.667683\n",
            "Train Epoch: 1 [50000/60000 (83%)]\tLoss: 0.680299\n",
            "\n",
            "Test set: Average loss: 0.8766, Accuracy: 7205/10000 (72%)\n",
            "\n",
            "Train Epoch: 2 [0/60000 (0%)]\tLoss: 0.438964\n",
            "Train Epoch: 2 [10000/60000 (17%)]\tLoss: 0.387958\n",
            "Train Epoch: 2 [20000/60000 (33%)]\tLoss: 0.469557\n",
            "Train Epoch: 2 [30000/60000 (50%)]\tLoss: 0.310435\n",
            "Train Epoch: 2 [40000/60000 (67%)]\tLoss: 0.302563\n",
            "Train Epoch: 2 [50000/60000 (83%)]\tLoss: 0.247478\n",
            "\n",
            "Test set: Average loss: 0.6142, Accuracy: 8026/10000 (80%)\n",
            "\n",
            "Train Epoch: 3 [0/60000 (0%)]\tLoss: 0.219471\n",
            "Train Epoch: 3 [10000/60000 (17%)]\tLoss: 0.216537\n",
            "Train Epoch: 3 [20000/60000 (33%)]\tLoss: 0.209334\n",
            "Train Epoch: 3 [30000/60000 (50%)]\tLoss: 0.190909\n",
            "Train Epoch: 3 [40000/60000 (67%)]\tLoss: 0.194360\n",
            "Train Epoch: 3 [50000/60000 (83%)]\tLoss: 0.195309\n",
            "\n",
            "Test set: Average loss: 0.4899, Accuracy: 8490/10000 (85%)\n",
            "\n",
            "Train Epoch: 4 [0/60000 (0%)]\tLoss: 0.165100\n",
            "Train Epoch: 4 [10000/60000 (17%)]\tLoss: 0.142219\n",
            "Train Epoch: 4 [20000/60000 (33%)]\tLoss: 0.115617\n",
            "Train Epoch: 4 [30000/60000 (50%)]\tLoss: 0.138157\n",
            "Train Epoch: 4 [40000/60000 (67%)]\tLoss: 0.137235\n",
            "Train Epoch: 4 [50000/60000 (83%)]\tLoss: 0.140695\n",
            "\n",
            "Test set: Average loss: 0.4106, Accuracy: 8774/10000 (88%)\n",
            "\n",
            "Train Epoch: 5 [0/60000 (0%)]\tLoss: 0.141477\n",
            "Train Epoch: 5 [10000/60000 (17%)]\tLoss: 0.117424\n",
            "Train Epoch: 5 [20000/60000 (33%)]\tLoss: 0.108083\n",
            "Train Epoch: 5 [30000/60000 (50%)]\tLoss: 0.123880\n",
            "Train Epoch: 5 [40000/60000 (67%)]\tLoss: 0.097845\n",
            "Train Epoch: 5 [50000/60000 (83%)]\tLoss: 0.107675\n",
            "\n",
            "Test set: Average loss: 0.3887, Accuracy: 8851/10000 (89%)\n",
            "\n",
            "Train Epoch: 6 [0/60000 (0%)]\tLoss: 0.091677\n",
            "Train Epoch: 6 [10000/60000 (17%)]\tLoss: 0.070194\n",
            "Train Epoch: 6 [20000/60000 (33%)]\tLoss: 0.095310\n",
            "Train Epoch: 6 [30000/60000 (50%)]\tLoss: 0.082981\n",
            "Train Epoch: 6 [40000/60000 (67%)]\tLoss: 0.089428\n",
            "Train Epoch: 6 [50000/60000 (83%)]\tLoss: 0.088124\n",
            "\n",
            "Test set: Average loss: 0.3741, Accuracy: 8935/10000 (89%)\n",
            "\n",
            "Train Epoch: 7 [0/60000 (0%)]\tLoss: 0.081865\n",
            "Train Epoch: 7 [10000/60000 (17%)]\tLoss: 0.054160\n",
            "Train Epoch: 7 [20000/60000 (33%)]\tLoss: 0.069196\n",
            "Train Epoch: 7 [30000/60000 (50%)]\tLoss: 0.081149\n",
            "Train Epoch: 7 [40000/60000 (67%)]\tLoss: 0.097966\n",
            "Train Epoch: 7 [50000/60000 (83%)]\tLoss: 0.060475\n",
            "\n",
            "Test set: Average loss: 0.3676, Accuracy: 8951/10000 (90%)\n",
            "\n",
            "Train Epoch: 8 [0/60000 (0%)]\tLoss: 0.058897\n",
            "Train Epoch: 8 [10000/60000 (17%)]\tLoss: 0.065320\n",
            "Train Epoch: 8 [20000/60000 (33%)]\tLoss: 0.066145\n",
            "Train Epoch: 8 [30000/60000 (50%)]\tLoss: 0.078540\n",
            "Train Epoch: 8 [40000/60000 (67%)]\tLoss: 0.063886\n",
            "Train Epoch: 8 [50000/60000 (83%)]\tLoss: 0.056915\n",
            "\n",
            "Test set: Average loss: 0.3637, Accuracy: 8973/10000 (90%)\n",
            "\n"
          ]
        }
      ],
      "source": [
        "use_cuda = torch.cuda.is_available()\n",
        "\n",
        "torch.manual_seed(1111)\n",
        "\n",
        "device = torch.device(\"cuda\" if use_cuda else \"cpu\")\n",
        "\n",
        "train_kwargs = {'batch_size': 1000}\n",
        "test_kwargs = {'batch_size': 1000}\n",
        "if use_cuda:\n",
        "    cuda_kwargs = {'num_workers': 1,\n",
        "                    'pin_memory': True,\n",
        "                    'shuffle': True}\n",
        "    train_kwargs.update(cuda_kwargs)\n",
        "    test_kwargs.update(cuda_kwargs)\n",
        "\n",
        "train_loader = torch.utils.data.DataLoader(dataset_train,**train_kwargs)\n",
        "test_loader = torch.utils.data.DataLoader(dataset_test, **test_kwargs)\n",
        "\n",
        "model = Net().to(device)\n",
        "optimizer = optim.Adadelta(model.parameters(), lr=1)\n",
        "\n",
        "epochs = 8\n",
        "scheduler = StepLR(optimizer, step_size=1, gamma=0.7)\n",
        "best_acc = test(model, device, test_loader)\n",
        "for epoch in range(1, epochs + 1):\n",
        "    train(10, False, model, device, train_loader, optimizer, epoch)\n",
        "    acc = test(model, device, test_loader)\n",
        "    if acc > best_acc:\n",
        "      torch.save(model.state_dict(), \"kmnist_cnn.pt\")\n",
        "    scheduler.step()"
      ]
    },
    {
      "cell_type": "code",
      "source": [],
      "metadata": {
        "id": "0uDI8WZtrmgV"
      },
      "execution_count": null,
      "outputs": []
    },
    {
      "cell_type": "code",
      "source": [
        "aux = torch.load(\"mnist_cnn.pt\")"
      ],
      "metadata": {
        "colab": {
          "base_uri": "https://localhost:8080/"
        },
        "id": "7kKUxLuJpDB9",
        "outputId": "73c5dc7c-3fd4-46da-a535-478769904c86"
      },
      "execution_count": null,
      "outputs": [
        {
          "output_type": "stream",
          "name": "stderr",
          "text": [
            "<ipython-input-19-cb91ad9ab067>:1: FutureWarning: You are using `torch.load` with `weights_only=False` (the current default value), which uses the default pickle module implicitly. It is possible to construct malicious pickle data which will execute arbitrary code during unpickling (See https://github.com/pytorch/pytorch/blob/main/SECURITY.md#untrusted-models for more details). In a future release, the default value for `weights_only` will be flipped to `True`. This limits the functions that could be executed during unpickling. Arbitrary objects will no longer be allowed to be loaded via this mode unless they are explicitly allowlisted by the user via `torch.serialization.add_safe_globals`. We recommend you start setting `weights_only=True` for any use case where you don't have full control of the loaded file. Please open an issue on GitHub for any issues related to this experimental feature.\n",
            "  aux = torch.load(\"mnist_cnn.pt\")\n"
          ]
        }
      ]
    },
    {
      "cell_type": "code",
      "source": [
        "aux"
      ],
      "metadata": {
        "colab": {
          "base_uri": "https://localhost:8080/"
        },
        "id": "4gpjoGcjpJyn",
        "outputId": "e81058b1-75c7-4991-de62-72a950b6a4c6"
      },
      "execution_count": null,
      "outputs": [
        {
          "output_type": "execute_result",
          "data": {
            "text/plain": [
              "OrderedDict([('layer1.weight',\n",
              "              tensor([[-0.0003, -0.0271,  0.0240,  ...,  0.0353,  0.0151, -0.0153],\n",
              "                      [-0.0208, -0.0123,  0.0298,  ...,  0.0074, -0.0148, -0.0048],\n",
              "                      [ 0.0010, -0.0267, -0.0105,  ...,  0.0171,  0.0191,  0.0073],\n",
              "                      ...,\n",
              "                      [-0.0194,  0.0303,  0.0269,  ...,  0.0003,  0.0118, -0.0055],\n",
              "                      [ 0.0055, -0.0117, -0.0062,  ..., -0.0226, -0.0015, -0.0182],\n",
              "                      [ 0.0190, -0.0259, -0.0127,  ..., -0.0030,  0.0031, -0.0264]],\n",
              "                     device='cuda:0')),\n",
              "             ('layer1.bias',\n",
              "              tensor([-0.0177, -0.0261, -0.0074,  ..., -0.0339, -0.0301,  0.0227],\n",
              "                     device='cuda:0')),\n",
              "             ('layer2.weight',\n",
              "              tensor([[-0.0271, -0.0070, -0.0012,  ..., -0.0216,  0.0065, -0.0299],\n",
              "                      [-0.0017,  0.0243,  0.0073,  ...,  0.0054, -0.0276,  0.0368],\n",
              "                      [-0.0211, -0.0065,  0.0098,  ..., -0.0161, -0.0151, -0.0032],\n",
              "                      ...,\n",
              "                      [ 0.0059,  0.0126, -0.0055,  ..., -0.0082, -0.0226, -0.0052],\n",
              "                      [ 0.0257,  0.0050, -0.0087,  ...,  0.0275, -0.0055, -0.0351],\n",
              "                      [-0.0215,  0.0005,  0.0069,  ..., -0.0098, -0.0148,  0.0065]],\n",
              "                     device='cuda:0')),\n",
              "             ('layer2.bias',\n",
              "              tensor([ 0.0080, -0.0085,  0.0200,  ..., -0.0200, -0.0203,  0.0019],\n",
              "                     device='cuda:0')),\n",
              "             ('layer3.weight',\n",
              "              tensor([[ 8.6002e-03, -1.5242e-02,  1.5303e-02,  ..., -3.1792e-03,\n",
              "                        3.2702e-03,  8.2730e-03],\n",
              "                      [-1.3425e-02, -9.5412e-03,  9.1319e-05,  ...,  6.6351e-03,\n",
              "                        8.1697e-03, -4.1655e-03],\n",
              "                      [-1.5025e-02, -1.9358e-03,  7.1411e-03,  ..., -9.2033e-03,\n",
              "                       -7.6414e-03, -9.8500e-03],\n",
              "                      ...,\n",
              "                      [-1.9529e-02, -3.3926e-03, -7.8160e-03,  ...,  4.6348e-03,\n",
              "                        8.2284e-03,  5.7517e-04],\n",
              "                      [ 8.6560e-03, -1.5831e-02, -1.4455e-02,  ...,  1.1937e-02,\n",
              "                        6.5405e-03,  1.5512e-03],\n",
              "                      [ 9.1479e-03,  6.1673e-03, -1.0887e-02,  ...,  7.4635e-03,\n",
              "                        9.9701e-03,  8.5691e-03]], device='cuda:0')),\n",
              "             ('layer3.bias',\n",
              "              tensor([-0.0132,  0.0181,  0.0207,  ...,  0.0236,  0.0158,  0.0053],\n",
              "                     device='cuda:0')),\n",
              "             ('layer4.weight',\n",
              "              tensor([[-0.0126,  0.0038, -0.0177,  ..., -0.0020, -0.0274,  0.0033],\n",
              "                      [-0.0223, -0.0089, -0.0147,  ..., -0.0015, -0.0042, -0.0208],\n",
              "                      [ 0.0004,  0.0173,  0.0612,  ..., -0.0349,  0.0305, -0.0034],\n",
              "                      ...,\n",
              "                      [-0.0161,  0.0053, -0.0058,  ..., -0.0038,  0.0289, -0.0130],\n",
              "                      [-0.0115, -0.0200,  0.0078,  ...,  0.0045,  0.0145,  0.0183],\n",
              "                      [-0.0112,  0.0017, -0.0201,  ...,  0.0091, -0.0254,  0.0230]],\n",
              "                     device='cuda:0')),\n",
              "             ('layer4.bias',\n",
              "              tensor([ 0.0269, -0.0258,  0.0659, -0.0123,  0.1504, -0.0026,  0.1080, -0.0042,\n",
              "                       0.1430,  0.1138,  0.1267,  0.2738,  0.1251,  0.0132, -0.0581,  0.1312,\n",
              "                       0.0095,  0.0983,  0.1366,  0.1701,  0.1165,  0.0763,  0.0109, -0.0047,\n",
              "                       0.0929, -0.0106, -0.0215,  0.0317, -0.0254,  0.0012, -0.0103, -0.0224,\n",
              "                       0.0066,  0.1362, -0.0151, -0.0313, -0.0366, -0.0018,  0.1874,  0.0425,\n",
              "                      -0.0015,  0.0083,  0.1001,  0.0704, -0.0329,  0.1404,  0.1502,  0.2278,\n",
              "                       0.1893, -0.0131,  0.2378,  0.0240,  0.0891, -0.0013,  0.0077, -0.0267,\n",
              "                      -0.0127,  0.2062, -0.0357,  0.1723,  0.0595,  0.1425, -0.0246,  0.0337,\n",
              "                       0.0038,  0.1862,  0.2007,  0.0747, -0.0125,  0.2154,  0.1491, -0.0211,\n",
              "                      -0.0241, -0.0009, -0.0036,  0.1327,  0.2094,  0.1951,  0.1505, -0.0079,\n",
              "                       0.0504,  0.1172,  0.0240, -0.0202,  0.0995,  0.0642, -0.0222, -0.0127,\n",
              "                       0.1139,  0.1535,  0.0626, -0.0082,  0.0842,  0.0720,  0.1942,  0.0444,\n",
              "                       0.0308,  0.1200,  0.0032,  0.0955,  0.1672, -0.0329, -0.0055,  0.0464,\n",
              "                       0.1457, -0.0387,  0.0500,  0.0541,  0.1714,  0.0661,  0.2215,  0.1953,\n",
              "                       0.0523,  0.2368,  0.0762,  0.0289, -0.0033,  0.1604,  0.0946,  0.0893,\n",
              "                       0.0167,  0.1994,  0.1080,  0.2178,  0.0427,  0.1618,  0.2085,  0.0891],\n",
              "                     device='cuda:0')),\n",
              "             ('fc2.weight',\n",
              "              tensor([[-0.2308, -0.0135, -0.1465,  ..., -0.3545, -0.3925,  0.0566],\n",
              "                      [-0.0956, -0.0715,  0.1991,  ...,  0.0321, -0.0112,  0.0318],\n",
              "                      [ 0.0611, -0.0121, -0.3126,  ...,  0.0598,  0.0273,  0.0182],\n",
              "                      ...,\n",
              "                      [-0.0642, -0.0539, -0.0851,  ...,  0.0272, -0.3821, -0.1290],\n",
              "                      [-0.1862, -0.0718, -0.0711,  ..., -0.0027,  0.1248, -0.1398],\n",
              "                      [-0.3515, -0.0036, -0.2559,  ..., -0.2262, -0.2023, -0.2043]],\n",
              "                     device='cuda:0')),\n",
              "             ('fc2.bias',\n",
              "              tensor([-0.1890, -0.1349, -0.0042, -0.0816,  0.0305, -0.1564, -0.0705, -0.0335,\n",
              "                       0.0685,  0.0230], device='cuda:0'))])"
            ]
          },
          "metadata": {},
          "execution_count": 20
        }
      ]
    },
    {
      "cell_type": "code",
      "source": [
        "model.load_state_dict(aux)"
      ],
      "metadata": {
        "colab": {
          "base_uri": "https://localhost:8080/"
        },
        "id": "3leKt2uEpL5H",
        "outputId": "eb215059-05bb-4a2f-f1b3-f6d3fe881e1c"
      },
      "execution_count": null,
      "outputs": [
        {
          "output_type": "execute_result",
          "data": {
            "text/plain": [
              "<All keys matched successfully>"
            ]
          },
          "metadata": {},
          "execution_count": 21
        }
      ]
    }
  ],
  "metadata": {
    "accelerator": "GPU",
    "colab": {
      "machine_shape": "hm",
      "provenance": []
    },
    "kernelspec": {
      "display_name": "Python 3.10.2 64-bit",
      "language": "python",
      "name": "python3"
    },
    "language_info": {
      "name": "python",
      "version": "3.10.2"
    },
    "vscode": {
      "interpreter": {
        "hash": "5fe3e6f0cdaab8afdc61c52912fda83f7c0a71baaea1897dd7498e2df01e69ec"
      }
    }
  },
  "nbformat": 4,
  "nbformat_minor": 0
}