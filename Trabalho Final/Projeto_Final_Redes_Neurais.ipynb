{
 "cells": [
  {
   "cell_type": "markdown",
   "metadata": {
    "id": "_5gLJqcPqFoT"
   },
   "source": [
    "# Projeto FInal\n",
    "\n",
    "## Alunos\n",
    "\n",
    "- Daniel Moraes (dmms@cesar.school)\n",
    "- Marlos Ribeiro (mgrb@cesar.school)\n",
    "- Adonis Dário Pires Gomes de Morais (adpgm@cesar.school)"
   ]
  },
  {
   "cell_type": "markdown",
   "metadata": {
    "id": "ZcxINGpHquKE"
   },
   "source": [
    "## Importação de Dependências"
   ]
  },
  {
   "cell_type": "code",
   "execution_count": 1,
   "metadata": {
    "id": "2HRaasM1qEm_"
   },
   "outputs": [],
   "source": [
    "import numpy as np\n",
    "import pandas as pd\n",
    "import matplotlib.pyplot as plt\n",
    "import seaborn as sns\n",
    "from sklearn import preprocessing\n",
    "\n",
    "import argparse\n",
    "import torch\n",
    "import torch.nn as nn\n",
    "import torch.nn.functional as F\n",
    "import torch.optim as optim\n",
    "from torch.utils.data import Dataset, random_split\n",
    "from os.path import exists\n",
    "\n",
    "import kagglehub\n",
    "import os"
   ]
  },
  {
   "cell_type": "markdown",
   "metadata": {
    "id": "U4enEAApqqsS"
   },
   "source": [
    "## Download de Dataset"
   ]
  },
  {
   "cell_type": "code",
   "execution_count": 2,
   "metadata": {
    "colab": {
     "base_uri": "https://localhost:8080/"
    },
    "id": "3owma42hq1vO",
    "outputId": "2f26d487-83f4-4c01-d81e-a0f6fab3d845"
   },
   "outputs": [
    {
     "name": "stdout",
     "output_type": "stream",
     "text": [
      "  % Total    % Received % Xferd  Average Speed   Time    Time     Time  Current\n",
      "                                 Dload  Upload   Total   Spent    Left  Speed\n",
      "  0     0    0     0    0     0      0      0 --:--:-- --:--:-- --:--:--     0\n",
      "100  408k  100  408k    0     0   314k      0  0:00:01  0:00:01 --:--:--  748k\n"
     ]
    }
   ],
   "source": [
    "# Obter o diretório atual\n",
    "current_directory = os.getcwd()\n",
    "\n",
    "# URL do arquivo a ser baixado\n",
    "url = \"https://www.kaggle.com/api/v1/datasets/download/muratkokludataset/date-fruit-datasets\"\n",
    "\n",
    "# Comando curl com destino dinâmico\n",
    "!curl -L --output \"{current_directory}\"/archive.zip \"{url}\""
   ]
  },
  {
   "cell_type": "code",
   "execution_count": 3,
   "metadata": {
    "id": "zK0rhwhkq8Q_"
   },
   "outputs": [],
   "source": [
    "!unzip -q -o \"{current_directory}\"/archive.zip -d \"{current_directory}\""
   ]
  },
  {
   "cell_type": "code",
   "execution_count": 4,
   "metadata": {
    "colab": {
     "base_uri": "https://localhost:8080/"
    },
    "id": "RAwMYlg8rEbT",
    "outputId": "7a2ee46b-0f3c-4bc8-c4dc-3f65499bb268"
   },
   "outputs": [
    {
     "name": "stdout",
     "output_type": "stream",
     "text": [
      "Date_Fruit_Datasets.arff\t\t  Date_Fruit_Datasets.xlsx\n",
      "Date_Fruit_Datasets_Citation_Request.txt\n"
     ]
    }
   ],
   "source": [
    "!ls \"{current_directory}\"/Date_Fruit_Datasets"
   ]
  },
  {
   "cell_type": "code",
   "execution_count": 5,
   "metadata": {
    "colab": {
     "base_uri": "https://localhost:8080/",
     "height": 412
    },
    "id": "MVNXMv8XsvCQ",
    "outputId": "5311c74f-60f3-4d37-c4f0-5048de71f7b6"
   },
   "outputs": [
    {
     "data": {
      "text/html": [
       "<div>\n",
       "<style scoped>\n",
       "    .dataframe tbody tr th:only-of-type {\n",
       "        vertical-align: middle;\n",
       "    }\n",
       "\n",
       "    .dataframe tbody tr th {\n",
       "        vertical-align: top;\n",
       "    }\n",
       "\n",
       "    .dataframe thead th {\n",
       "        text-align: right;\n",
       "    }\n",
       "</style>\n",
       "<table border=\"1\" class=\"dataframe\">\n",
       "  <thead>\n",
       "    <tr style=\"text-align: right;\">\n",
       "      <th></th>\n",
       "      <th>AREA</th>\n",
       "      <th>PERIMETER</th>\n",
       "      <th>MAJOR_AXIS</th>\n",
       "      <th>MINOR_AXIS</th>\n",
       "      <th>ECCENTRICITY</th>\n",
       "      <th>EQDIASQ</th>\n",
       "      <th>SOLIDITY</th>\n",
       "      <th>CONVEX_AREA</th>\n",
       "      <th>EXTENT</th>\n",
       "      <th>ASPECT_RATIO</th>\n",
       "      <th>...</th>\n",
       "      <th>KurtosisRR</th>\n",
       "      <th>KurtosisRG</th>\n",
       "      <th>KurtosisRB</th>\n",
       "      <th>EntropyRR</th>\n",
       "      <th>EntropyRG</th>\n",
       "      <th>EntropyRB</th>\n",
       "      <th>ALLdaub4RR</th>\n",
       "      <th>ALLdaub4RG</th>\n",
       "      <th>ALLdaub4RB</th>\n",
       "      <th>Class</th>\n",
       "    </tr>\n",
       "  </thead>\n",
       "  <tbody>\n",
       "    <tr>\n",
       "      <th>0</th>\n",
       "      <td>422163</td>\n",
       "      <td>2378.9080</td>\n",
       "      <td>837.8484</td>\n",
       "      <td>645.6693</td>\n",
       "      <td>0.6373</td>\n",
       "      <td>733.1539</td>\n",
       "      <td>0.9947</td>\n",
       "      <td>424428</td>\n",
       "      <td>0.7831</td>\n",
       "      <td>1.2976</td>\n",
       "      <td>...</td>\n",
       "      <td>3.2370</td>\n",
       "      <td>2.9574</td>\n",
       "      <td>4.2287</td>\n",
       "      <td>-59191263232</td>\n",
       "      <td>-50714214400</td>\n",
       "      <td>-39922372608</td>\n",
       "      <td>58.7255</td>\n",
       "      <td>54.9554</td>\n",
       "      <td>47.8400</td>\n",
       "      <td>BERHI</td>\n",
       "    </tr>\n",
       "    <tr>\n",
       "      <th>1</th>\n",
       "      <td>338136</td>\n",
       "      <td>2085.1440</td>\n",
       "      <td>723.8198</td>\n",
       "      <td>595.2073</td>\n",
       "      <td>0.5690</td>\n",
       "      <td>656.1464</td>\n",
       "      <td>0.9974</td>\n",
       "      <td>339014</td>\n",
       "      <td>0.7795</td>\n",
       "      <td>1.2161</td>\n",
       "      <td>...</td>\n",
       "      <td>2.6228</td>\n",
       "      <td>2.6350</td>\n",
       "      <td>3.1704</td>\n",
       "      <td>-34233065472</td>\n",
       "      <td>-37462601728</td>\n",
       "      <td>-31477794816</td>\n",
       "      <td>50.0259</td>\n",
       "      <td>52.8168</td>\n",
       "      <td>47.8315</td>\n",
       "      <td>BERHI</td>\n",
       "    </tr>\n",
       "    <tr>\n",
       "      <th>2</th>\n",
       "      <td>526843</td>\n",
       "      <td>2647.3940</td>\n",
       "      <td>940.7379</td>\n",
       "      <td>715.3638</td>\n",
       "      <td>0.6494</td>\n",
       "      <td>819.0222</td>\n",
       "      <td>0.9962</td>\n",
       "      <td>528876</td>\n",
       "      <td>0.7657</td>\n",
       "      <td>1.3150</td>\n",
       "      <td>...</td>\n",
       "      <td>3.7516</td>\n",
       "      <td>3.8611</td>\n",
       "      <td>4.7192</td>\n",
       "      <td>-93948354560</td>\n",
       "      <td>-74738221056</td>\n",
       "      <td>-60311207936</td>\n",
       "      <td>65.4772</td>\n",
       "      <td>59.2860</td>\n",
       "      <td>51.9378</td>\n",
       "      <td>BERHI</td>\n",
       "    </tr>\n",
       "    <tr>\n",
       "      <th>3</th>\n",
       "      <td>416063</td>\n",
       "      <td>2351.2100</td>\n",
       "      <td>827.9804</td>\n",
       "      <td>645.2988</td>\n",
       "      <td>0.6266</td>\n",
       "      <td>727.8378</td>\n",
       "      <td>0.9948</td>\n",
       "      <td>418255</td>\n",
       "      <td>0.7759</td>\n",
       "      <td>1.2831</td>\n",
       "      <td>...</td>\n",
       "      <td>5.0401</td>\n",
       "      <td>8.6136</td>\n",
       "      <td>8.2618</td>\n",
       "      <td>-32074307584</td>\n",
       "      <td>-32060925952</td>\n",
       "      <td>-29575010304</td>\n",
       "      <td>43.3900</td>\n",
       "      <td>44.1259</td>\n",
       "      <td>41.1882</td>\n",
       "      <td>BERHI</td>\n",
       "    </tr>\n",
       "    <tr>\n",
       "      <th>4</th>\n",
       "      <td>347562</td>\n",
       "      <td>2160.3540</td>\n",
       "      <td>763.9877</td>\n",
       "      <td>582.8359</td>\n",
       "      <td>0.6465</td>\n",
       "      <td>665.2291</td>\n",
       "      <td>0.9908</td>\n",
       "      <td>350797</td>\n",
       "      <td>0.7569</td>\n",
       "      <td>1.3108</td>\n",
       "      <td>...</td>\n",
       "      <td>2.7016</td>\n",
       "      <td>2.9761</td>\n",
       "      <td>4.4146</td>\n",
       "      <td>-39980974080</td>\n",
       "      <td>-35980042240</td>\n",
       "      <td>-25593278464</td>\n",
       "      <td>52.7743</td>\n",
       "      <td>50.9080</td>\n",
       "      <td>42.6666</td>\n",
       "      <td>BERHI</td>\n",
       "    </tr>\n",
       "    <tr>\n",
       "      <th>5</th>\n",
       "      <td>408953</td>\n",
       "      <td>2326.6931</td>\n",
       "      <td>840.1821</td>\n",
       "      <td>622.0076</td>\n",
       "      <td>0.6722</td>\n",
       "      <td>721.5921</td>\n",
       "      <td>0.9974</td>\n",
       "      <td>410036</td>\n",
       "      <td>0.7805</td>\n",
       "      <td>1.3508</td>\n",
       "      <td>...</td>\n",
       "      <td>3.6309</td>\n",
       "      <td>6.0285</td>\n",
       "      <td>6.2159</td>\n",
       "      <td>-41140371456</td>\n",
       "      <td>-33146710016</td>\n",
       "      <td>-27907301376</td>\n",
       "      <td>49.7001</td>\n",
       "      <td>45.3190</td>\n",
       "      <td>39.7371</td>\n",
       "      <td>BERHI</td>\n",
       "    </tr>\n",
       "    <tr>\n",
       "      <th>6</th>\n",
       "      <td>451414</td>\n",
       "      <td>2457.2080</td>\n",
       "      <td>889.3253</td>\n",
       "      <td>652.4316</td>\n",
       "      <td>0.6796</td>\n",
       "      <td>758.1281</td>\n",
       "      <td>0.9970</td>\n",
       "      <td>452755</td>\n",
       "      <td>0.7877</td>\n",
       "      <td>1.3631</td>\n",
       "      <td>...</td>\n",
       "      <td>3.0703</td>\n",
       "      <td>3.4163</td>\n",
       "      <td>4.9168</td>\n",
       "      <td>-63711666176</td>\n",
       "      <td>-64060743680</td>\n",
       "      <td>-52603465728</td>\n",
       "      <td>57.8060</td>\n",
       "      <td>58.5449</td>\n",
       "      <td>52.4199</td>\n",
       "      <td>BERHI</td>\n",
       "    </tr>\n",
       "    <tr>\n",
       "      <th>7</th>\n",
       "      <td>382636</td>\n",
       "      <td>2275.7791</td>\n",
       "      <td>808.0833</td>\n",
       "      <td>609.2819</td>\n",
       "      <td>0.6569</td>\n",
       "      <td>697.9880</td>\n",
       "      <td>0.9931</td>\n",
       "      <td>385277</td>\n",
       "      <td>0.7032</td>\n",
       "      <td>1.3263</td>\n",
       "      <td>...</td>\n",
       "      <td>3.6756</td>\n",
       "      <td>7.0258</td>\n",
       "      <td>5.3254</td>\n",
       "      <td>-29873577984</td>\n",
       "      <td>-33570080768</td>\n",
       "      <td>-33054025728</td>\n",
       "      <td>45.1768</td>\n",
       "      <td>48.2407</td>\n",
       "      <td>47.2167</td>\n",
       "      <td>BERHI</td>\n",
       "    </tr>\n",
       "    <tr>\n",
       "      <th>8</th>\n",
       "      <td>546063</td>\n",
       "      <td>2714.9480</td>\n",
       "      <td>916.3737</td>\n",
       "      <td>766.4536</td>\n",
       "      <td>0.5481</td>\n",
       "      <td>833.8279</td>\n",
       "      <td>0.9882</td>\n",
       "      <td>552598</td>\n",
       "      <td>0.7710</td>\n",
       "      <td>1.1956</td>\n",
       "      <td>...</td>\n",
       "      <td>3.4640</td>\n",
       "      <td>3.7416</td>\n",
       "      <td>4.8120</td>\n",
       "      <td>-95262416896</td>\n",
       "      <td>-79321833472</td>\n",
       "      <td>-69569445888</td>\n",
       "      <td>64.6188</td>\n",
       "      <td>59.9127</td>\n",
       "      <td>55.6509</td>\n",
       "      <td>BERHI</td>\n",
       "    </tr>\n",
       "    <tr>\n",
       "      <th>9</th>\n",
       "      <td>420044</td>\n",
       "      <td>2391.1230</td>\n",
       "      <td>836.9280</td>\n",
       "      <td>645.1822</td>\n",
       "      <td>0.6370</td>\n",
       "      <td>731.3116</td>\n",
       "      <td>0.9918</td>\n",
       "      <td>423531</td>\n",
       "      <td>0.7853</td>\n",
       "      <td>1.2972</td>\n",
       "      <td>...</td>\n",
       "      <td>3.3729</td>\n",
       "      <td>4.2898</td>\n",
       "      <td>5.4637</td>\n",
       "      <td>-74341122048</td>\n",
       "      <td>-58172182528</td>\n",
       "      <td>-42640556032</td>\n",
       "      <td>64.9094</td>\n",
       "      <td>58.2771</td>\n",
       "      <td>48.4820</td>\n",
       "      <td>BERHI</td>\n",
       "    </tr>\n",
       "  </tbody>\n",
       "</table>\n",
       "<p>10 rows × 35 columns</p>\n",
       "</div>"
      ],
      "text/plain": [
       "     AREA  PERIMETER  MAJOR_AXIS  MINOR_AXIS  ECCENTRICITY   EQDIASQ  \\\n",
       "0  422163  2378.9080    837.8484    645.6693        0.6373  733.1539   \n",
       "1  338136  2085.1440    723.8198    595.2073        0.5690  656.1464   \n",
       "2  526843  2647.3940    940.7379    715.3638        0.6494  819.0222   \n",
       "3  416063  2351.2100    827.9804    645.2988        0.6266  727.8378   \n",
       "4  347562  2160.3540    763.9877    582.8359        0.6465  665.2291   \n",
       "5  408953  2326.6931    840.1821    622.0076        0.6722  721.5921   \n",
       "6  451414  2457.2080    889.3253    652.4316        0.6796  758.1281   \n",
       "7  382636  2275.7791    808.0833    609.2819        0.6569  697.9880   \n",
       "8  546063  2714.9480    916.3737    766.4536        0.5481  833.8279   \n",
       "9  420044  2391.1230    836.9280    645.1822        0.6370  731.3116   \n",
       "\n",
       "   SOLIDITY  CONVEX_AREA  EXTENT  ASPECT_RATIO  ...  KurtosisRR  KurtosisRG  \\\n",
       "0    0.9947       424428  0.7831        1.2976  ...      3.2370      2.9574   \n",
       "1    0.9974       339014  0.7795        1.2161  ...      2.6228      2.6350   \n",
       "2    0.9962       528876  0.7657        1.3150  ...      3.7516      3.8611   \n",
       "3    0.9948       418255  0.7759        1.2831  ...      5.0401      8.6136   \n",
       "4    0.9908       350797  0.7569        1.3108  ...      2.7016      2.9761   \n",
       "5    0.9974       410036  0.7805        1.3508  ...      3.6309      6.0285   \n",
       "6    0.9970       452755  0.7877        1.3631  ...      3.0703      3.4163   \n",
       "7    0.9931       385277  0.7032        1.3263  ...      3.6756      7.0258   \n",
       "8    0.9882       552598  0.7710        1.1956  ...      3.4640      3.7416   \n",
       "9    0.9918       423531  0.7853        1.2972  ...      3.3729      4.2898   \n",
       "\n",
       "   KurtosisRB    EntropyRR    EntropyRG    EntropyRB  ALLdaub4RR  ALLdaub4RG  \\\n",
       "0      4.2287 -59191263232 -50714214400 -39922372608     58.7255     54.9554   \n",
       "1      3.1704 -34233065472 -37462601728 -31477794816     50.0259     52.8168   \n",
       "2      4.7192 -93948354560 -74738221056 -60311207936     65.4772     59.2860   \n",
       "3      8.2618 -32074307584 -32060925952 -29575010304     43.3900     44.1259   \n",
       "4      4.4146 -39980974080 -35980042240 -25593278464     52.7743     50.9080   \n",
       "5      6.2159 -41140371456 -33146710016 -27907301376     49.7001     45.3190   \n",
       "6      4.9168 -63711666176 -64060743680 -52603465728     57.8060     58.5449   \n",
       "7      5.3254 -29873577984 -33570080768 -33054025728     45.1768     48.2407   \n",
       "8      4.8120 -95262416896 -79321833472 -69569445888     64.6188     59.9127   \n",
       "9      5.4637 -74341122048 -58172182528 -42640556032     64.9094     58.2771   \n",
       "\n",
       "   ALLdaub4RB  Class  \n",
       "0     47.8400  BERHI  \n",
       "1     47.8315  BERHI  \n",
       "2     51.9378  BERHI  \n",
       "3     41.1882  BERHI  \n",
       "4     42.6666  BERHI  \n",
       "5     39.7371  BERHI  \n",
       "6     52.4199  BERHI  \n",
       "7     47.2167  BERHI  \n",
       "8     55.6509  BERHI  \n",
       "9     48.4820  BERHI  \n",
       "\n",
       "[10 rows x 35 columns]"
      ]
     },
     "execution_count": 5,
     "metadata": {},
     "output_type": "execute_result"
    }
   ],
   "source": [
    "df_fruits = pd.read_excel(f'{current_directory}/Date_Fruit_Datasets/Date_Fruit_Datasets.xlsx', sheet_name='Date_Fruit_Datasets')\n",
    "df_fruits.head(10)"
   ]
  },
  {
   "cell_type": "markdown",
   "metadata": {
    "id": "F04BLdPMt7bZ"
   },
   "source": [
    "## Exploração do Dataset"
   ]
  },
  {
   "cell_type": "markdown",
   "metadata": {
    "id": "bYApJgzhuKFg"
   },
   "source": [
    "### Shape"
   ]
  },
  {
   "cell_type": "code",
   "execution_count": 6,
   "metadata": {
    "colab": {
     "base_uri": "https://localhost:8080/"
    },
    "id": "g4_2ovgTt_Gy",
    "outputId": "31e4c9ca-8794-4c26-eda4-66c1ff9b823a"
   },
   "outputs": [
    {
     "name": "stdout",
     "output_type": "stream",
     "text": [
      "dataset shape: (898, 35)\n"
     ]
    }
   ],
   "source": [
    "print(f'dataset shape: {df_fruits.shape}')"
   ]
  },
  {
   "cell_type": "markdown",
   "metadata": {
    "id": "2lL3AKhvuMV_"
   },
   "source": [
    "### Info"
   ]
  },
  {
   "cell_type": "code",
   "execution_count": 7,
   "metadata": {
    "colab": {
     "base_uri": "https://localhost:8080/"
    },
    "id": "Fn4yxiRMuOP0",
    "outputId": "f10002c5-ea4d-49ed-dc40-81f15bca8534"
   },
   "outputs": [
    {
     "name": "stdout",
     "output_type": "stream",
     "text": [
      "<class 'pandas.core.frame.DataFrame'>\n",
      "RangeIndex: 898 entries, 0 to 897\n",
      "Data columns (total 35 columns):\n",
      " #   Column         Non-Null Count  Dtype  \n",
      "---  ------         --------------  -----  \n",
      " 0   AREA           898 non-null    int64  \n",
      " 1   PERIMETER      898 non-null    float64\n",
      " 2   MAJOR_AXIS     898 non-null    float64\n",
      " 3   MINOR_AXIS     898 non-null    float64\n",
      " 4   ECCENTRICITY   898 non-null    float64\n",
      " 5   EQDIASQ        898 non-null    float64\n",
      " 6   SOLIDITY       898 non-null    float64\n",
      " 7   CONVEX_AREA    898 non-null    int64  \n",
      " 8   EXTENT         898 non-null    float64\n",
      " 9   ASPECT_RATIO   898 non-null    float64\n",
      " 10  ROUNDNESS      898 non-null    float64\n",
      " 11  COMPACTNESS    898 non-null    float64\n",
      " 12  SHAPEFACTOR_1  898 non-null    float64\n",
      " 13  SHAPEFACTOR_2  898 non-null    float64\n",
      " 14  SHAPEFACTOR_3  898 non-null    float64\n",
      " 15  SHAPEFACTOR_4  898 non-null    float64\n",
      " 16  MeanRR         898 non-null    float64\n",
      " 17  MeanRG         898 non-null    float64\n",
      " 18  MeanRB         898 non-null    float64\n",
      " 19  StdDevRR       898 non-null    float64\n",
      " 20  StdDevRG       898 non-null    float64\n",
      " 21  StdDevRB       898 non-null    float64\n",
      " 22  SkewRR         898 non-null    float64\n",
      " 23  SkewRG         898 non-null    float64\n",
      " 24  SkewRB         898 non-null    float64\n",
      " 25  KurtosisRR     898 non-null    float64\n",
      " 26  KurtosisRG     898 non-null    float64\n",
      " 27  KurtosisRB     898 non-null    float64\n",
      " 28  EntropyRR      898 non-null    int64  \n",
      " 29  EntropyRG      898 non-null    int64  \n",
      " 30  EntropyRB      898 non-null    int64  \n",
      " 31  ALLdaub4RR     898 non-null    float64\n",
      " 32  ALLdaub4RG     898 non-null    float64\n",
      " 33  ALLdaub4RB     898 non-null    float64\n",
      " 34  Class          898 non-null    object \n",
      "dtypes: float64(29), int64(5), object(1)\n",
      "memory usage: 245.7+ KB\n",
      "dataset info: None\n"
     ]
    }
   ],
   "source": [
    "print(f'dataset info: {df_fruits.info()}')"
   ]
  },
  {
   "cell_type": "markdown",
   "metadata": {
    "id": "1rYaSR7zuZJ7"
   },
   "source": [
    "### Quantidade de Nulls"
   ]
  },
  {
   "cell_type": "code",
   "execution_count": 8,
   "metadata": {
    "colab": {
     "base_uri": "https://localhost:8080/"
    },
    "id": "c82bQojAubca",
    "outputId": "c358981d-41fb-41e5-e209-9bf3b6aabeff"
   },
   "outputs": [
    {
     "name": "stdout",
     "output_type": "stream",
     "text": [
      "Quantidade de Nulls: AREA             0\n",
      "PERIMETER        0\n",
      "MAJOR_AXIS       0\n",
      "MINOR_AXIS       0\n",
      "ECCENTRICITY     0\n",
      "EQDIASQ          0\n",
      "SOLIDITY         0\n",
      "CONVEX_AREA      0\n",
      "EXTENT           0\n",
      "ASPECT_RATIO     0\n",
      "ROUNDNESS        0\n",
      "COMPACTNESS      0\n",
      "SHAPEFACTOR_1    0\n",
      "SHAPEFACTOR_2    0\n",
      "SHAPEFACTOR_3    0\n",
      "SHAPEFACTOR_4    0\n",
      "MeanRR           0\n",
      "MeanRG           0\n",
      "MeanRB           0\n",
      "StdDevRR         0\n",
      "StdDevRG         0\n",
      "StdDevRB         0\n",
      "SkewRR           0\n",
      "SkewRG           0\n",
      "SkewRB           0\n",
      "KurtosisRR       0\n",
      "KurtosisRG       0\n",
      "KurtosisRB       0\n",
      "EntropyRR        0\n",
      "EntropyRG        0\n",
      "EntropyRB        0\n",
      "ALLdaub4RR       0\n",
      "ALLdaub4RG       0\n",
      "ALLdaub4RB       0\n",
      "Class            0\n",
      "dtype: int64\n"
     ]
    }
   ],
   "source": [
    "print(f'Quantidade de Nulls: {df_fruits.isnull().sum()}')"
   ]
  },
  {
   "cell_type": "markdown",
   "metadata": {
    "id": "KuluAdhJujEW"
   },
   "source": [
    "### Registros Duplicados"
   ]
  },
  {
   "cell_type": "code",
   "execution_count": 9,
   "metadata": {
    "colab": {
     "base_uri": "https://localhost:8080/"
    },
    "id": "DJ98-3sCulmd",
    "outputId": "0dde3070-e893-4b90-d8a7-55a8f5bf365b"
   },
   "outputs": [
    {
     "name": "stdout",
     "output_type": "stream",
     "text": [
      "Registros Duplicados: 0\n"
     ]
    }
   ],
   "source": [
    "print(f'Registros Duplicados: {df_fruits.duplicated().sum()}')"
   ]
  },
  {
   "cell_type": "markdown",
   "metadata": {
    "id": "4h3uakqhvNeN"
   },
   "source": [
    "### Label Encoder"
   ]
  },
  {
   "cell_type": "code",
   "execution_count": 10,
   "metadata": {
    "colab": {
     "base_uri": "https://localhost:8080/",
     "height": 412
    },
    "id": "4oFe0KRbvPKs",
    "outputId": "134b812a-8704-40b1-b3de-c4ec7d06d7c4"
   },
   "outputs": [
    {
     "data": {
      "text/html": [
       "<div>\n",
       "<style scoped>\n",
       "    .dataframe tbody tr th:only-of-type {\n",
       "        vertical-align: middle;\n",
       "    }\n",
       "\n",
       "    .dataframe tbody tr th {\n",
       "        vertical-align: top;\n",
       "    }\n",
       "\n",
       "    .dataframe thead th {\n",
       "        text-align: right;\n",
       "    }\n",
       "</style>\n",
       "<table border=\"1\" class=\"dataframe\">\n",
       "  <thead>\n",
       "    <tr style=\"text-align: right;\">\n",
       "      <th></th>\n",
       "      <th>AREA</th>\n",
       "      <th>PERIMETER</th>\n",
       "      <th>MAJOR_AXIS</th>\n",
       "      <th>MINOR_AXIS</th>\n",
       "      <th>ECCENTRICITY</th>\n",
       "      <th>EQDIASQ</th>\n",
       "      <th>SOLIDITY</th>\n",
       "      <th>CONVEX_AREA</th>\n",
       "      <th>EXTENT</th>\n",
       "      <th>ASPECT_RATIO</th>\n",
       "      <th>...</th>\n",
       "      <th>KurtosisRR</th>\n",
       "      <th>KurtosisRG</th>\n",
       "      <th>KurtosisRB</th>\n",
       "      <th>EntropyRR</th>\n",
       "      <th>EntropyRG</th>\n",
       "      <th>EntropyRB</th>\n",
       "      <th>ALLdaub4RR</th>\n",
       "      <th>ALLdaub4RG</th>\n",
       "      <th>ALLdaub4RB</th>\n",
       "      <th>Class</th>\n",
       "    </tr>\n",
       "  </thead>\n",
       "  <tbody>\n",
       "    <tr>\n",
       "      <th>0</th>\n",
       "      <td>422163</td>\n",
       "      <td>2378.9080</td>\n",
       "      <td>837.8484</td>\n",
       "      <td>645.6693</td>\n",
       "      <td>0.6373</td>\n",
       "      <td>733.1539</td>\n",
       "      <td>0.9947</td>\n",
       "      <td>424428</td>\n",
       "      <td>0.7831</td>\n",
       "      <td>1.2976</td>\n",
       "      <td>...</td>\n",
       "      <td>3.2370</td>\n",
       "      <td>2.9574</td>\n",
       "      <td>4.2287</td>\n",
       "      <td>-59191263232</td>\n",
       "      <td>-50714214400</td>\n",
       "      <td>-39922372608</td>\n",
       "      <td>58.7255</td>\n",
       "      <td>54.9554</td>\n",
       "      <td>47.8400</td>\n",
       "      <td>0</td>\n",
       "    </tr>\n",
       "    <tr>\n",
       "      <th>1</th>\n",
       "      <td>338136</td>\n",
       "      <td>2085.1440</td>\n",
       "      <td>723.8198</td>\n",
       "      <td>595.2073</td>\n",
       "      <td>0.5690</td>\n",
       "      <td>656.1464</td>\n",
       "      <td>0.9974</td>\n",
       "      <td>339014</td>\n",
       "      <td>0.7795</td>\n",
       "      <td>1.2161</td>\n",
       "      <td>...</td>\n",
       "      <td>2.6228</td>\n",
       "      <td>2.6350</td>\n",
       "      <td>3.1704</td>\n",
       "      <td>-34233065472</td>\n",
       "      <td>-37462601728</td>\n",
       "      <td>-31477794816</td>\n",
       "      <td>50.0259</td>\n",
       "      <td>52.8168</td>\n",
       "      <td>47.8315</td>\n",
       "      <td>0</td>\n",
       "    </tr>\n",
       "    <tr>\n",
       "      <th>2</th>\n",
       "      <td>526843</td>\n",
       "      <td>2647.3940</td>\n",
       "      <td>940.7379</td>\n",
       "      <td>715.3638</td>\n",
       "      <td>0.6494</td>\n",
       "      <td>819.0222</td>\n",
       "      <td>0.9962</td>\n",
       "      <td>528876</td>\n",
       "      <td>0.7657</td>\n",
       "      <td>1.3150</td>\n",
       "      <td>...</td>\n",
       "      <td>3.7516</td>\n",
       "      <td>3.8611</td>\n",
       "      <td>4.7192</td>\n",
       "      <td>-93948354560</td>\n",
       "      <td>-74738221056</td>\n",
       "      <td>-60311207936</td>\n",
       "      <td>65.4772</td>\n",
       "      <td>59.2860</td>\n",
       "      <td>51.9378</td>\n",
       "      <td>0</td>\n",
       "    </tr>\n",
       "    <tr>\n",
       "      <th>3</th>\n",
       "      <td>416063</td>\n",
       "      <td>2351.2100</td>\n",
       "      <td>827.9804</td>\n",
       "      <td>645.2988</td>\n",
       "      <td>0.6266</td>\n",
       "      <td>727.8378</td>\n",
       "      <td>0.9948</td>\n",
       "      <td>418255</td>\n",
       "      <td>0.7759</td>\n",
       "      <td>1.2831</td>\n",
       "      <td>...</td>\n",
       "      <td>5.0401</td>\n",
       "      <td>8.6136</td>\n",
       "      <td>8.2618</td>\n",
       "      <td>-32074307584</td>\n",
       "      <td>-32060925952</td>\n",
       "      <td>-29575010304</td>\n",
       "      <td>43.3900</td>\n",
       "      <td>44.1259</td>\n",
       "      <td>41.1882</td>\n",
       "      <td>0</td>\n",
       "    </tr>\n",
       "    <tr>\n",
       "      <th>4</th>\n",
       "      <td>347562</td>\n",
       "      <td>2160.3540</td>\n",
       "      <td>763.9877</td>\n",
       "      <td>582.8359</td>\n",
       "      <td>0.6465</td>\n",
       "      <td>665.2291</td>\n",
       "      <td>0.9908</td>\n",
       "      <td>350797</td>\n",
       "      <td>0.7569</td>\n",
       "      <td>1.3108</td>\n",
       "      <td>...</td>\n",
       "      <td>2.7016</td>\n",
       "      <td>2.9761</td>\n",
       "      <td>4.4146</td>\n",
       "      <td>-39980974080</td>\n",
       "      <td>-35980042240</td>\n",
       "      <td>-25593278464</td>\n",
       "      <td>52.7743</td>\n",
       "      <td>50.9080</td>\n",
       "      <td>42.6666</td>\n",
       "      <td>0</td>\n",
       "    </tr>\n",
       "    <tr>\n",
       "      <th>5</th>\n",
       "      <td>408953</td>\n",
       "      <td>2326.6931</td>\n",
       "      <td>840.1821</td>\n",
       "      <td>622.0076</td>\n",
       "      <td>0.6722</td>\n",
       "      <td>721.5921</td>\n",
       "      <td>0.9974</td>\n",
       "      <td>410036</td>\n",
       "      <td>0.7805</td>\n",
       "      <td>1.3508</td>\n",
       "      <td>...</td>\n",
       "      <td>3.6309</td>\n",
       "      <td>6.0285</td>\n",
       "      <td>6.2159</td>\n",
       "      <td>-41140371456</td>\n",
       "      <td>-33146710016</td>\n",
       "      <td>-27907301376</td>\n",
       "      <td>49.7001</td>\n",
       "      <td>45.3190</td>\n",
       "      <td>39.7371</td>\n",
       "      <td>0</td>\n",
       "    </tr>\n",
       "    <tr>\n",
       "      <th>6</th>\n",
       "      <td>451414</td>\n",
       "      <td>2457.2080</td>\n",
       "      <td>889.3253</td>\n",
       "      <td>652.4316</td>\n",
       "      <td>0.6796</td>\n",
       "      <td>758.1281</td>\n",
       "      <td>0.9970</td>\n",
       "      <td>452755</td>\n",
       "      <td>0.7877</td>\n",
       "      <td>1.3631</td>\n",
       "      <td>...</td>\n",
       "      <td>3.0703</td>\n",
       "      <td>3.4163</td>\n",
       "      <td>4.9168</td>\n",
       "      <td>-63711666176</td>\n",
       "      <td>-64060743680</td>\n",
       "      <td>-52603465728</td>\n",
       "      <td>57.8060</td>\n",
       "      <td>58.5449</td>\n",
       "      <td>52.4199</td>\n",
       "      <td>0</td>\n",
       "    </tr>\n",
       "    <tr>\n",
       "      <th>7</th>\n",
       "      <td>382636</td>\n",
       "      <td>2275.7791</td>\n",
       "      <td>808.0833</td>\n",
       "      <td>609.2819</td>\n",
       "      <td>0.6569</td>\n",
       "      <td>697.9880</td>\n",
       "      <td>0.9931</td>\n",
       "      <td>385277</td>\n",
       "      <td>0.7032</td>\n",
       "      <td>1.3263</td>\n",
       "      <td>...</td>\n",
       "      <td>3.6756</td>\n",
       "      <td>7.0258</td>\n",
       "      <td>5.3254</td>\n",
       "      <td>-29873577984</td>\n",
       "      <td>-33570080768</td>\n",
       "      <td>-33054025728</td>\n",
       "      <td>45.1768</td>\n",
       "      <td>48.2407</td>\n",
       "      <td>47.2167</td>\n",
       "      <td>0</td>\n",
       "    </tr>\n",
       "    <tr>\n",
       "      <th>8</th>\n",
       "      <td>546063</td>\n",
       "      <td>2714.9480</td>\n",
       "      <td>916.3737</td>\n",
       "      <td>766.4536</td>\n",
       "      <td>0.5481</td>\n",
       "      <td>833.8279</td>\n",
       "      <td>0.9882</td>\n",
       "      <td>552598</td>\n",
       "      <td>0.7710</td>\n",
       "      <td>1.1956</td>\n",
       "      <td>...</td>\n",
       "      <td>3.4640</td>\n",
       "      <td>3.7416</td>\n",
       "      <td>4.8120</td>\n",
       "      <td>-95262416896</td>\n",
       "      <td>-79321833472</td>\n",
       "      <td>-69569445888</td>\n",
       "      <td>64.6188</td>\n",
       "      <td>59.9127</td>\n",
       "      <td>55.6509</td>\n",
       "      <td>0</td>\n",
       "    </tr>\n",
       "    <tr>\n",
       "      <th>9</th>\n",
       "      <td>420044</td>\n",
       "      <td>2391.1230</td>\n",
       "      <td>836.9280</td>\n",
       "      <td>645.1822</td>\n",
       "      <td>0.6370</td>\n",
       "      <td>731.3116</td>\n",
       "      <td>0.9918</td>\n",
       "      <td>423531</td>\n",
       "      <td>0.7853</td>\n",
       "      <td>1.2972</td>\n",
       "      <td>...</td>\n",
       "      <td>3.3729</td>\n",
       "      <td>4.2898</td>\n",
       "      <td>5.4637</td>\n",
       "      <td>-74341122048</td>\n",
       "      <td>-58172182528</td>\n",
       "      <td>-42640556032</td>\n",
       "      <td>64.9094</td>\n",
       "      <td>58.2771</td>\n",
       "      <td>48.4820</td>\n",
       "      <td>0</td>\n",
       "    </tr>\n",
       "  </tbody>\n",
       "</table>\n",
       "<p>10 rows × 35 columns</p>\n",
       "</div>"
      ],
      "text/plain": [
       "     AREA  PERIMETER  MAJOR_AXIS  MINOR_AXIS  ECCENTRICITY   EQDIASQ  \\\n",
       "0  422163  2378.9080    837.8484    645.6693        0.6373  733.1539   \n",
       "1  338136  2085.1440    723.8198    595.2073        0.5690  656.1464   \n",
       "2  526843  2647.3940    940.7379    715.3638        0.6494  819.0222   \n",
       "3  416063  2351.2100    827.9804    645.2988        0.6266  727.8378   \n",
       "4  347562  2160.3540    763.9877    582.8359        0.6465  665.2291   \n",
       "5  408953  2326.6931    840.1821    622.0076        0.6722  721.5921   \n",
       "6  451414  2457.2080    889.3253    652.4316        0.6796  758.1281   \n",
       "7  382636  2275.7791    808.0833    609.2819        0.6569  697.9880   \n",
       "8  546063  2714.9480    916.3737    766.4536        0.5481  833.8279   \n",
       "9  420044  2391.1230    836.9280    645.1822        0.6370  731.3116   \n",
       "\n",
       "   SOLIDITY  CONVEX_AREA  EXTENT  ASPECT_RATIO  ...  KurtosisRR  KurtosisRG  \\\n",
       "0    0.9947       424428  0.7831        1.2976  ...      3.2370      2.9574   \n",
       "1    0.9974       339014  0.7795        1.2161  ...      2.6228      2.6350   \n",
       "2    0.9962       528876  0.7657        1.3150  ...      3.7516      3.8611   \n",
       "3    0.9948       418255  0.7759        1.2831  ...      5.0401      8.6136   \n",
       "4    0.9908       350797  0.7569        1.3108  ...      2.7016      2.9761   \n",
       "5    0.9974       410036  0.7805        1.3508  ...      3.6309      6.0285   \n",
       "6    0.9970       452755  0.7877        1.3631  ...      3.0703      3.4163   \n",
       "7    0.9931       385277  0.7032        1.3263  ...      3.6756      7.0258   \n",
       "8    0.9882       552598  0.7710        1.1956  ...      3.4640      3.7416   \n",
       "9    0.9918       423531  0.7853        1.2972  ...      3.3729      4.2898   \n",
       "\n",
       "   KurtosisRB    EntropyRR    EntropyRG    EntropyRB  ALLdaub4RR  ALLdaub4RG  \\\n",
       "0      4.2287 -59191263232 -50714214400 -39922372608     58.7255     54.9554   \n",
       "1      3.1704 -34233065472 -37462601728 -31477794816     50.0259     52.8168   \n",
       "2      4.7192 -93948354560 -74738221056 -60311207936     65.4772     59.2860   \n",
       "3      8.2618 -32074307584 -32060925952 -29575010304     43.3900     44.1259   \n",
       "4      4.4146 -39980974080 -35980042240 -25593278464     52.7743     50.9080   \n",
       "5      6.2159 -41140371456 -33146710016 -27907301376     49.7001     45.3190   \n",
       "6      4.9168 -63711666176 -64060743680 -52603465728     57.8060     58.5449   \n",
       "7      5.3254 -29873577984 -33570080768 -33054025728     45.1768     48.2407   \n",
       "8      4.8120 -95262416896 -79321833472 -69569445888     64.6188     59.9127   \n",
       "9      5.4637 -74341122048 -58172182528 -42640556032     64.9094     58.2771   \n",
       "\n",
       "   ALLdaub4RB  Class  \n",
       "0     47.8400      0  \n",
       "1     47.8315      0  \n",
       "2     51.9378      0  \n",
       "3     41.1882      0  \n",
       "4     42.6666      0  \n",
       "5     39.7371      0  \n",
       "6     52.4199      0  \n",
       "7     47.2167      0  \n",
       "8     55.6509      0  \n",
       "9     48.4820      0  \n",
       "\n",
       "[10 rows x 35 columns]"
      ]
     },
     "execution_count": 10,
     "metadata": {},
     "output_type": "execute_result"
    }
   ],
   "source": [
    "label_encoder_class = preprocessing.LabelEncoder()\n",
    "df_fruits['Class'] = label_encoder_class.fit_transform(df_fruits['Class'])\n",
    "df_fruits.head(10)"
   ]
  },
  {
   "cell_type": "code",
   "execution_count": 11,
   "metadata": {
    "colab": {
     "base_uri": "https://localhost:8080/"
    },
    "id": "iMM9oquj8l0P",
    "outputId": "1dc25e23-9c8c-43e1-acfe-5ff1251d2843"
   },
   "outputs": [
    {
     "name": "stdout",
     "output_type": "stream",
     "text": [
      "Category in Class is : [0 1 2 3 4 5 6]\n",
      "Number of categories in Y: 7\n"
     ]
    }
   ],
   "source": [
    "print(f\"Category in Class is : {df_fruits['Class'].unique()}\")\n",
    "print(f\"Number of categories in Y: {len(df_fruits['Class'].unique())}\")"
   ]
  },
  {
   "cell_type": "markdown",
   "metadata": {
    "id": "Texb2mQBuxSL"
   },
   "source": [
    "### Normalização dos Dados"
   ]
  },
  {
   "cell_type": "markdown",
   "metadata": {
    "id": "2K8eKbAH8sMi"
   },
   "source": [
    "#### Separação do X e Y"
   ]
  },
  {
   "cell_type": "code",
   "execution_count": 12,
   "metadata": {
    "colab": {
     "base_uri": "https://localhost:8080/"
    },
    "id": "7KoyVL-t8w-a",
    "outputId": "baf6735b-3d38-48cc-b02d-f0a21bc93441"
   },
   "outputs": [
    {
     "data": {
      "text/plain": [
       "(898, 34)"
      ]
     },
     "execution_count": 12,
     "metadata": {},
     "output_type": "execute_result"
    }
   ],
   "source": [
    "y_df = df_fruits['Class']\n",
    "x_df = df_fruits[df_fruits.columns.difference(['Class'])]\n",
    "x_df.shape"
   ]
  },
  {
   "cell_type": "code",
   "execution_count": 13,
   "metadata": {
    "colab": {
     "base_uri": "https://localhost:8080/",
     "height": 412
    },
    "id": "a_bOnvzcu0bg",
    "outputId": "eb7aa820-7a80-46d3-bf76-8e5b6060e764"
   },
   "outputs": [
    {
     "data": {
      "text/html": [
       "<div>\n",
       "<style scoped>\n",
       "    .dataframe tbody tr th:only-of-type {\n",
       "        vertical-align: middle;\n",
       "    }\n",
       "\n",
       "    .dataframe tbody tr th {\n",
       "        vertical-align: top;\n",
       "    }\n",
       "\n",
       "    .dataframe thead th {\n",
       "        text-align: right;\n",
       "    }\n",
       "</style>\n",
       "<table border=\"1\" class=\"dataframe\">\n",
       "  <thead>\n",
       "    <tr style=\"text-align: right;\">\n",
       "      <th></th>\n",
       "      <th>ALLdaub4RB</th>\n",
       "      <th>ALLdaub4RG</th>\n",
       "      <th>ALLdaub4RR</th>\n",
       "      <th>AREA</th>\n",
       "      <th>ASPECT_RATIO</th>\n",
       "      <th>COMPACTNESS</th>\n",
       "      <th>CONVEX_AREA</th>\n",
       "      <th>ECCENTRICITY</th>\n",
       "      <th>EQDIASQ</th>\n",
       "      <th>EXTENT</th>\n",
       "      <th>...</th>\n",
       "      <th>SHAPEFACTOR_2</th>\n",
       "      <th>SHAPEFACTOR_3</th>\n",
       "      <th>SHAPEFACTOR_4</th>\n",
       "      <th>SOLIDITY</th>\n",
       "      <th>SkewRB</th>\n",
       "      <th>SkewRG</th>\n",
       "      <th>SkewRR</th>\n",
       "      <th>StdDevRB</th>\n",
       "      <th>StdDevRG</th>\n",
       "      <th>StdDevRR</th>\n",
       "    </tr>\n",
       "  </thead>\n",
       "  <tbody>\n",
       "    <tr>\n",
       "      <th>0</th>\n",
       "      <td>-0.023908</td>\n",
       "      <td>0.435593</td>\n",
       "      <td>0.538340</td>\n",
       "      <td>1.155640</td>\n",
       "      <td>-0.046797</td>\n",
       "      <td>1.091228</td>\n",
       "      <td>1.108752</td>\n",
       "      <td>-1.129568</td>\n",
       "      <td>1.075704</td>\n",
       "      <td>0.871873</td>\n",
       "      <td>...</td>\n",
       "      <td>-0.688443</td>\n",
       "      <td>1.169934</td>\n",
       "      <td>0.240467</td>\n",
       "      <td>0.708628</td>\n",
       "      <td>0.555487</td>\n",
       "      <td>-0.553810</td>\n",
       "      <td>-0.695157</td>\n",
       "      <td>0.810769</td>\n",
       "      <td>-0.607179</td>\n",
       "      <td>-0.401724</td>\n",
       "    </tr>\n",
       "    <tr>\n",
       "      <th>1</th>\n",
       "      <td>-0.024694</td>\n",
       "      <td>0.284113</td>\n",
       "      <td>-0.003550</td>\n",
       "      <td>0.371700</td>\n",
       "      <td>-0.051373</td>\n",
       "      <td>1.598142</td>\n",
       "      <td>0.323373</td>\n",
       "      <td>-1.899771</td>\n",
       "      <td>0.431437</td>\n",
       "      <td>0.804852</td>\n",
       "      <td>...</td>\n",
       "      <td>0.013019</td>\n",
       "      <td>1.765084</td>\n",
       "      <td>0.519036</td>\n",
       "      <td>0.857410</td>\n",
       "      <td>0.257494</td>\n",
       "      <td>-0.413034</td>\n",
       "      <td>-0.341620</td>\n",
       "      <td>0.402781</td>\n",
       "      <td>-0.529053</td>\n",
       "      <td>-0.282678</td>\n",
       "    </tr>\n",
       "    <tr>\n",
       "      <th>2</th>\n",
       "      <td>0.355243</td>\n",
       "      <td>0.742335</td>\n",
       "      <td>0.958897</td>\n",
       "      <td>2.132265</td>\n",
       "      <td>-0.045820</td>\n",
       "      <td>1.020421</td>\n",
       "      <td>2.069149</td>\n",
       "      <td>-0.993119</td>\n",
       "      <td>1.794103</td>\n",
       "      <td>0.547942</td>\n",
       "      <td>...</td>\n",
       "      <td>-0.922263</td>\n",
       "      <td>1.088247</td>\n",
       "      <td>0.396857</td>\n",
       "      <td>0.791285</td>\n",
       "      <td>1.055673</td>\n",
       "      <td>-0.644743</td>\n",
       "      <td>-0.853310</td>\n",
       "      <td>1.582297</td>\n",
       "      <td>-0.322719</td>\n",
       "      <td>0.104097</td>\n",
       "    </tr>\n",
       "    <tr>\n",
       "      <th>3</th>\n",
       "      <td>-0.639369</td>\n",
       "      <td>-0.331475</td>\n",
       "      <td>-0.416894</td>\n",
       "      <td>1.098729</td>\n",
       "      <td>-0.047612</td>\n",
       "      <td>1.157207</td>\n",
       "      <td>1.051992</td>\n",
       "      <td>-1.250230</td>\n",
       "      <td>1.031228</td>\n",
       "      <td>0.737832</td>\n",
       "      <td>...</td>\n",
       "      <td>-0.454622</td>\n",
       "      <td>1.244196</td>\n",
       "      <td>0.137837</td>\n",
       "      <td>0.714138</td>\n",
       "      <td>2.453948</td>\n",
       "      <td>0.700094</td>\n",
       "      <td>0.391546</td>\n",
       "      <td>0.866354</td>\n",
       "      <td>-0.346734</td>\n",
       "      <td>-0.050550</td>\n",
       "    </tr>\n",
       "    <tr>\n",
       "      <th>4</th>\n",
       "      <td>-0.502579</td>\n",
       "      <td>0.148910</td>\n",
       "      <td>0.167646</td>\n",
       "      <td>0.459641</td>\n",
       "      <td>-0.046056</td>\n",
       "      <td>1.022030</td>\n",
       "      <td>0.431717</td>\n",
       "      <td>-1.025822</td>\n",
       "      <td>0.507425</td>\n",
       "      <td>0.384115</td>\n",
       "      <td>...</td>\n",
       "      <td>-0.220802</td>\n",
       "      <td>1.090369</td>\n",
       "      <td>0.250242</td>\n",
       "      <td>0.493720</td>\n",
       "      <td>1.005402</td>\n",
       "      <td>-0.340673</td>\n",
       "      <td>-0.471452</td>\n",
       "      <td>0.209241</td>\n",
       "      <td>-0.248073</td>\n",
       "      <td>0.201964</td>\n",
       "    </tr>\n",
       "    <tr>\n",
       "      <th>5</th>\n",
       "      <td>-0.773632</td>\n",
       "      <td>-0.246966</td>\n",
       "      <td>-0.023844</td>\n",
       "      <td>1.032395</td>\n",
       "      <td>-0.043810</td>\n",
       "      <td>0.832139</td>\n",
       "      <td>0.976418</td>\n",
       "      <td>-0.736009</td>\n",
       "      <td>0.978975</td>\n",
       "      <td>0.823469</td>\n",
       "      <td>...</td>\n",
       "      <td>-0.688443</td>\n",
       "      <td>0.871829</td>\n",
       "      <td>0.377308</td>\n",
       "      <td>0.857410</td>\n",
       "      <td>2.065529</td>\n",
       "      <td>0.361671</td>\n",
       "      <td>0.031433</td>\n",
       "      <td>1.356365</td>\n",
       "      <td>-0.428945</td>\n",
       "      <td>-0.125430</td>\n",
       "    </tr>\n",
       "    <tr>\n",
       "      <th>6</th>\n",
       "      <td>0.399849</td>\n",
       "      <td>0.689842</td>\n",
       "      <td>0.481066</td>\n",
       "      <td>1.428541</td>\n",
       "      <td>-0.043120</td>\n",
       "      <td>0.729147</td>\n",
       "      <td>1.369218</td>\n",
       "      <td>-0.652561</td>\n",
       "      <td>1.284645</td>\n",
       "      <td>0.957509</td>\n",
       "      <td>...</td>\n",
       "      <td>-0.922263</td>\n",
       "      <td>0.756194</td>\n",
       "      <td>0.093852</td>\n",
       "      <td>0.835369</td>\n",
       "      <td>1.094878</td>\n",
       "      <td>-0.106943</td>\n",
       "      <td>-0.030407</td>\n",
       "      <td>1.569916</td>\n",
       "      <td>0.661597</td>\n",
       "      <td>0.732422</td>\n",
       "    </tr>\n",
       "    <tr>\n",
       "      <th>7</th>\n",
       "      <td>-0.081579</td>\n",
       "      <td>-0.040018</td>\n",
       "      <td>-0.305596</td>\n",
       "      <td>0.786868</td>\n",
       "      <td>-0.045186</td>\n",
       "      <td>0.910992</td>\n",
       "      <td>0.748760</td>\n",
       "      <td>-0.908544</td>\n",
       "      <td>0.781496</td>\n",
       "      <td>-0.615601</td>\n",
       "      <td>...</td>\n",
       "      <td>-0.454622</td>\n",
       "      <td>0.962003</td>\n",
       "      <td>0.040093</td>\n",
       "      <td>0.620461</td>\n",
       "      <td>1.173606</td>\n",
       "      <td>0.366771</td>\n",
       "      <td>-0.448116</td>\n",
       "      <td>-1.096359</td>\n",
       "      <td>-2.131233</td>\n",
       "      <td>-1.514057</td>\n",
       "    </tr>\n",
       "    <tr>\n",
       "      <th>8</th>\n",
       "      <td>0.698799</td>\n",
       "      <td>0.786725</td>\n",
       "      <td>0.905429</td>\n",
       "      <td>2.311580</td>\n",
       "      <td>-0.052524</td>\n",
       "      <td>1.652856</td>\n",
       "      <td>2.287272</td>\n",
       "      <td>-2.135455</td>\n",
       "      <td>1.917972</td>\n",
       "      <td>0.646611</td>\n",
       "      <td>...</td>\n",
       "      <td>-0.922263</td>\n",
       "      <td>1.830859</td>\n",
       "      <td>0.059642</td>\n",
       "      <td>0.350448</td>\n",
       "      <td>0.102570</td>\n",
       "      <td>-0.773203</td>\n",
       "      <td>-0.894784</td>\n",
       "      <td>0.636750</td>\n",
       "      <td>-0.250455</td>\n",
       "      <td>0.301783</td>\n",
       "    </tr>\n",
       "    <tr>\n",
       "      <th>9</th>\n",
       "      <td>0.035493</td>\n",
       "      <td>0.670873</td>\n",
       "      <td>0.923530</td>\n",
       "      <td>1.135870</td>\n",
       "      <td>-0.046820</td>\n",
       "      <td>1.071917</td>\n",
       "      <td>1.100504</td>\n",
       "      <td>-1.132951</td>\n",
       "      <td>1.060291</td>\n",
       "      <td>0.912829</td>\n",
       "      <td>...</td>\n",
       "      <td>-0.688443</td>\n",
       "      <td>1.146595</td>\n",
       "      <td>0.088965</td>\n",
       "      <td>0.548825</td>\n",
       "      <td>1.487091</td>\n",
       "      <td>-0.206535</td>\n",
       "      <td>-0.441964</td>\n",
       "      <td>1.891700</td>\n",
       "      <td>0.134516</td>\n",
       "      <td>0.475546</td>\n",
       "    </tr>\n",
       "  </tbody>\n",
       "</table>\n",
       "<p>10 rows × 34 columns</p>\n",
       "</div>"
      ],
      "text/plain": [
       "   ALLdaub4RB  ALLdaub4RG  ALLdaub4RR      AREA  ASPECT_RATIO  COMPACTNESS  \\\n",
       "0   -0.023908    0.435593    0.538340  1.155640     -0.046797     1.091228   \n",
       "1   -0.024694    0.284113   -0.003550  0.371700     -0.051373     1.598142   \n",
       "2    0.355243    0.742335    0.958897  2.132265     -0.045820     1.020421   \n",
       "3   -0.639369   -0.331475   -0.416894  1.098729     -0.047612     1.157207   \n",
       "4   -0.502579    0.148910    0.167646  0.459641     -0.046056     1.022030   \n",
       "5   -0.773632   -0.246966   -0.023844  1.032395     -0.043810     0.832139   \n",
       "6    0.399849    0.689842    0.481066  1.428541     -0.043120     0.729147   \n",
       "7   -0.081579   -0.040018   -0.305596  0.786868     -0.045186     0.910992   \n",
       "8    0.698799    0.786725    0.905429  2.311580     -0.052524     1.652856   \n",
       "9    0.035493    0.670873    0.923530  1.135870     -0.046820     1.071917   \n",
       "\n",
       "   CONVEX_AREA  ECCENTRICITY   EQDIASQ    EXTENT  ...  SHAPEFACTOR_2  \\\n",
       "0     1.108752     -1.129568  1.075704  0.871873  ...      -0.688443   \n",
       "1     0.323373     -1.899771  0.431437  0.804852  ...       0.013019   \n",
       "2     2.069149     -0.993119  1.794103  0.547942  ...      -0.922263   \n",
       "3     1.051992     -1.250230  1.031228  0.737832  ...      -0.454622   \n",
       "4     0.431717     -1.025822  0.507425  0.384115  ...      -0.220802   \n",
       "5     0.976418     -0.736009  0.978975  0.823469  ...      -0.688443   \n",
       "6     1.369218     -0.652561  1.284645  0.957509  ...      -0.922263   \n",
       "7     0.748760     -0.908544  0.781496 -0.615601  ...      -0.454622   \n",
       "8     2.287272     -2.135455  1.917972  0.646611  ...      -0.922263   \n",
       "9     1.100504     -1.132951  1.060291  0.912829  ...      -0.688443   \n",
       "\n",
       "   SHAPEFACTOR_3  SHAPEFACTOR_4  SOLIDITY    SkewRB    SkewRG    SkewRR  \\\n",
       "0       1.169934       0.240467  0.708628  0.555487 -0.553810 -0.695157   \n",
       "1       1.765084       0.519036  0.857410  0.257494 -0.413034 -0.341620   \n",
       "2       1.088247       0.396857  0.791285  1.055673 -0.644743 -0.853310   \n",
       "3       1.244196       0.137837  0.714138  2.453948  0.700094  0.391546   \n",
       "4       1.090369       0.250242  0.493720  1.005402 -0.340673 -0.471452   \n",
       "5       0.871829       0.377308  0.857410  2.065529  0.361671  0.031433   \n",
       "6       0.756194       0.093852  0.835369  1.094878 -0.106943 -0.030407   \n",
       "7       0.962003       0.040093  0.620461  1.173606  0.366771 -0.448116   \n",
       "8       1.830859       0.059642  0.350448  0.102570 -0.773203 -0.894784   \n",
       "9       1.146595       0.088965  0.548825  1.487091 -0.206535 -0.441964   \n",
       "\n",
       "   StdDevRB  StdDevRG  StdDevRR  \n",
       "0  0.810769 -0.607179 -0.401724  \n",
       "1  0.402781 -0.529053 -0.282678  \n",
       "2  1.582297 -0.322719  0.104097  \n",
       "3  0.866354 -0.346734 -0.050550  \n",
       "4  0.209241 -0.248073  0.201964  \n",
       "5  1.356365 -0.428945 -0.125430  \n",
       "6  1.569916  0.661597  0.732422  \n",
       "7 -1.096359 -2.131233 -1.514057  \n",
       "8  0.636750 -0.250455  0.301783  \n",
       "9  1.891700  0.134516  0.475546  \n",
       "\n",
       "[10 rows x 34 columns]"
      ]
     },
     "execution_count": 13,
     "metadata": {},
     "output_type": "execute_result"
    }
   ],
   "source": [
    "scaler = preprocessing.StandardScaler()\n",
    "df = pd.DataFrame(scaler.fit_transform(x_df), columns=x_df.columns)\n",
    "df.head(10)"
   ]
  },
  {
   "cell_type": "markdown",
   "metadata": {
    "id": "qbj7xeUV13Vc"
   },
   "source": [
    "## Separação de X e Y"
   ]
  },
  {
   "cell_type": "markdown",
   "metadata": {
    "id": "bKxkepUi2J3G"
   },
   "source": [
    "### Y"
   ]
  },
  {
   "cell_type": "code",
   "execution_count": 14,
   "metadata": {
    "colab": {
     "base_uri": "https://localhost:8080/"
    },
    "id": "5vIAB50416GQ",
    "outputId": "092a58be-72e0-45d8-c19e-3ffb35746a6b"
   },
   "outputs": [
    {
     "data": {
      "text/plain": [
       "(898,)"
      ]
     },
     "execution_count": 14,
     "metadata": {},
     "output_type": "execute_result"
    }
   ],
   "source": [
    "y = y_df\n",
    "y.shape"
   ]
  },
  {
   "cell_type": "code",
   "execution_count": 15,
   "metadata": {
    "colab": {
     "base_uri": "https://localhost:8080/"
    },
    "id": "eFCSJ4AE2ZOk",
    "outputId": "861c8bdd-6c11-41cb-d5e4-186f3bdcfc57"
   },
   "outputs": [
    {
     "data": {
      "text/plain": [
       "(898, 1)"
      ]
     },
     "execution_count": 15,
     "metadata": {},
     "output_type": "execute_result"
    }
   ],
   "source": [
    "y = y.values.reshape(-1, 1)\n",
    "y.shape"
   ]
  },
  {
   "cell_type": "code",
   "execution_count": 16,
   "metadata": {
    "colab": {
     "base_uri": "https://localhost:8080/"
    },
    "id": "8rJd1BSG93Fm",
    "outputId": "0be71c85-21b5-4df5-d25b-a2ec31218424"
   },
   "outputs": [
    {
     "data": {
      "text/plain": [
       "array([0, 0, 0, 0, 0, 0, 0, 0, 0, 0, 0, 0, 0, 0, 0, 0, 0, 0, 0, 0, 0, 0,\n",
       "       0, 0, 0, 0, 0, 0, 0, 0, 0, 0, 0, 0, 0, 0, 0, 0, 0, 0, 0, 0, 0, 0,\n",
       "       0, 0, 0, 0, 0, 0, 0, 0, 0, 0, 0, 0, 0, 0, 0, 0, 0, 0, 0, 0, 0, 1,\n",
       "       1, 1, 1, 1, 1, 1, 1, 1, 1, 1, 1, 1, 1, 1, 1, 1, 1, 1, 1, 1, 1, 1,\n",
       "       1, 1, 1, 1, 1, 1, 1, 1, 1, 1, 1, 1, 1, 1, 1, 1, 1, 1, 1, 1, 1, 1,\n",
       "       1, 1, 1, 1, 1, 1, 1, 1, 1, 1, 1, 1, 1, 1, 1, 1, 1, 1, 1, 1, 1, 1,\n",
       "       1, 1, 1, 1, 1, 1, 1, 1, 1, 1, 1, 1, 1, 1, 1, 1, 1, 1, 1, 1, 1, 1,\n",
       "       1, 1, 1, 1, 1, 1, 1, 1, 1, 2, 2, 2, 2, 2, 2, 2, 2, 2, 2, 2, 2, 2,\n",
       "       2, 2, 2, 2, 2, 2, 2, 2, 2, 2, 2, 2, 2, 2, 2, 2, 2, 2, 2, 2, 2, 2,\n",
       "       2, 2, 2, 2, 2, 2, 2, 2, 2, 2, 2, 2, 2, 2, 2, 2, 2, 2, 2, 2, 2, 2,\n",
       "       2, 2, 2, 2, 2, 2, 2, 2, 2, 2, 2, 2, 2, 2, 2, 2, 2, 2, 2, 2, 2, 2,\n",
       "       2, 2, 2, 2, 2, 2, 2, 2, 2, 2, 2, 2, 2, 2, 2, 2, 2, 2, 2, 2, 2, 2,\n",
       "       2, 2, 2, 2, 2, 2, 2, 2, 2, 2, 2, 2, 2, 2, 2, 2, 2, 2, 2, 2, 2, 2,\n",
       "       2, 2, 2, 2, 2, 2, 2, 2, 2, 2, 2, 2, 2, 2, 2, 2, 2, 2, 2, 2, 2, 2,\n",
       "       2, 2, 2, 2, 2, 2, 2, 2, 2, 2, 2, 2, 2, 2, 2, 2, 2, 2, 2, 2, 2, 2,\n",
       "       2, 2, 2, 2, 2, 2, 2, 2, 2, 2, 2, 2, 2, 2, 2, 2, 2, 2, 2, 2, 2, 2,\n",
       "       2, 2, 2, 2, 2, 2, 2, 2, 2, 2, 2, 2, 2, 2, 2, 3, 3, 3, 3, 3, 3, 3,\n",
       "       3, 3, 3, 3, 3, 3, 3, 3, 3, 3, 3, 3, 3, 3, 3, 3, 3, 3, 3, 3, 3, 3,\n",
       "       3, 3, 3, 3, 3, 3, 3, 3, 3, 3, 3, 3, 3, 3, 3, 3, 3, 3, 3, 3, 3, 3,\n",
       "       3, 3, 3, 3, 3, 3, 3, 3, 3, 3, 3, 3, 3, 3, 3, 3, 3, 3, 3, 3, 3, 4,\n",
       "       4, 4, 4, 4, 4, 4, 4, 4, 4, 4, 4, 4, 4, 4, 4, 4, 4, 4, 4, 4, 4, 4,\n",
       "       4, 4, 4, 4, 4, 4, 4, 4, 4, 4, 4, 4, 4, 4, 4, 4, 4, 4, 4, 4, 4, 4,\n",
       "       4, 4, 4, 4, 4, 4, 4, 4, 4, 4, 4, 4, 4, 4, 4, 4, 4, 4, 4, 4, 4, 4,\n",
       "       4, 4, 4, 4, 4, 4, 4, 4, 4, 4, 4, 4, 4, 4, 4, 4, 4, 4, 4, 4, 4, 4,\n",
       "       4, 4, 4, 4, 4, 4, 4, 4, 4, 4, 4, 4, 4, 4, 4, 4, 4, 4, 4, 4, 4, 4,\n",
       "       4, 4, 4, 4, 4, 4, 4, 4, 4, 4, 4, 4, 4, 4, 4, 4, 4, 4, 4, 4, 4, 4,\n",
       "       4, 4, 4, 4, 4, 4, 4, 4, 4, 4, 4, 4, 4, 4, 4, 4, 4, 4, 4, 4, 4, 4,\n",
       "       4, 4, 4, 4, 4, 4, 4, 4, 4, 4, 4, 5, 5, 5, 5, 5, 5, 5, 5, 5, 5, 5,\n",
       "       5, 5, 5, 5, 5, 5, 5, 5, 5, 5, 5, 5, 5, 5, 5, 5, 5, 5, 5, 5, 5, 5,\n",
       "       5, 5, 5, 5, 5, 5, 5, 5, 5, 5, 5, 5, 5, 5, 5, 5, 5, 5, 5, 5, 5, 5,\n",
       "       5, 5, 5, 5, 5, 5, 5, 5, 5, 5, 5, 5, 5, 5, 5, 5, 5, 5, 5, 5, 5, 5,\n",
       "       5, 5, 5, 5, 5, 5, 5, 5, 5, 5, 5, 5, 5, 5, 5, 5, 5, 5, 5, 5, 5, 5,\n",
       "       5, 5, 5, 5, 5, 5, 5, 5, 5, 5, 5, 5, 5, 5, 5, 5, 5, 5, 5, 5, 5, 5,\n",
       "       5, 5, 5, 5, 5, 5, 5, 5, 5, 5, 5, 5, 5, 5, 5, 5, 5, 5, 5, 5, 5, 5,\n",
       "       5, 5, 5, 5, 5, 5, 5, 5, 5, 5, 5, 5, 5, 5, 5, 5, 5, 5, 5, 5, 5, 5,\n",
       "       5, 5, 5, 5, 5, 5, 5, 5, 5, 5, 5, 5, 5, 5, 5, 5, 5, 5, 5, 5, 5, 5,\n",
       "       5, 5, 5, 5, 5, 5, 5, 5, 5, 5, 5, 5, 6, 6, 6, 6, 6, 6, 6, 6, 6, 6,\n",
       "       6, 6, 6, 6, 6, 6, 6, 6, 6, 6, 6, 6, 6, 6, 6, 6, 6, 6, 6, 6, 6, 6,\n",
       "       6, 6, 6, 6, 6, 6, 6, 6, 6, 6, 6, 6, 6, 6, 6, 6, 6, 6, 6, 6, 6, 6,\n",
       "       6, 6, 6, 6, 6, 6, 6, 6, 6, 6, 6, 6, 6, 6, 6, 6, 6, 6, 6, 6, 6, 6,\n",
       "       6, 6, 6, 6, 6, 6, 6, 6, 6, 6, 6, 6, 6, 6, 6, 6, 6, 6])"
      ]
     },
     "execution_count": 16,
     "metadata": {},
     "output_type": "execute_result"
    }
   ],
   "source": [
    "y = (y.transpose())[0]\n",
    "y"
   ]
  },
  {
   "cell_type": "markdown",
   "metadata": {
    "id": "GzxVmUhf2c4J"
   },
   "source": [
    "### X"
   ]
  },
  {
   "cell_type": "code",
   "execution_count": 17,
   "metadata": {
    "colab": {
     "base_uri": "https://localhost:8080/"
    },
    "id": "EbpW8eLL2sXQ",
    "outputId": "ca947b50-814b-4eeb-d959-42df534f445f"
   },
   "outputs": [
    {
     "data": {
      "text/plain": [
       "(898, 34)"
      ]
     },
     "execution_count": 17,
     "metadata": {},
     "output_type": "execute_result"
    }
   ],
   "source": [
    "x = x_df\n",
    "x.shape"
   ]
  },
  {
   "cell_type": "markdown",
   "metadata": {
    "id": "gDpg1U7v2__O"
   },
   "source": [
    "## Criação do Dataset"
   ]
  },
  {
   "cell_type": "code",
   "execution_count": 18,
   "metadata": {
    "id": "qoZoFdkN3CuK"
   },
   "outputs": [],
   "source": [
    "class CustomDataset(Dataset):\n",
    "  def __init__(self, x, y):\n",
    "    super(CustomDataset, self).__init__()\n",
    "    self.x = torch.Tensor(x)\n",
    "    self.y = torch.LongTensor(y)\n",
    "\n",
    "  def __getitem__(self, index):\n",
    "    return self.x[index], self.y[index]\n",
    "\n",
    "  def __len__(self):\n",
    "    return len(self.x)"
   ]
  },
  {
   "cell_type": "markdown",
   "metadata": {
    "id": "iN7bqx7R3d-U"
   },
   "source": [
    "## Instanciação do Dataset"
   ]
  },
  {
   "cell_type": "code",
   "execution_count": 19,
   "metadata": {
    "id": "JrluOP9o3YVV"
   },
   "outputs": [],
   "source": [
    "dataset = CustomDataset(x.to_numpy(), y)"
   ]
  },
  {
   "cell_type": "markdown",
   "metadata": {
    "id": "kS4ePeye3hNQ"
   },
   "source": [
    "## Separação Treino / Teste"
   ]
  },
  {
   "cell_type": "code",
   "execution_count": 20,
   "metadata": {
    "id": "Ynl9vbru3bin"
   },
   "outputs": [],
   "source": [
    "dataset_train, dataset_test = random_split(dataset, [0.7, 0.3])"
   ]
  },
  {
   "cell_type": "markdown",
   "metadata": {
    "id": "I81jnFf23nFY"
   },
   "source": [
    "### Tamanho Dataset Treino"
   ]
  },
  {
   "cell_type": "code",
   "execution_count": 21,
   "metadata": {
    "colab": {
     "base_uri": "https://localhost:8080/"
    },
    "id": "50MH0w9y3mZl",
    "outputId": "89a0611c-5aad-4511-c05d-2979e08306f7"
   },
   "outputs": [
    {
     "name": "stdout",
     "output_type": "stream",
     "text": [
      "Tamanho Dataset Treino: 629\n"
     ]
    }
   ],
   "source": [
    "print(f'Tamanho Dataset Treino: {len(dataset_train)}')"
   ]
  },
  {
   "cell_type": "markdown",
   "metadata": {
    "id": "dxwFPGHZ3tGM"
   },
   "source": [
    "### Tamanho Dataset Test"
   ]
  },
  {
   "cell_type": "code",
   "execution_count": 22,
   "metadata": {
    "colab": {
     "base_uri": "https://localhost:8080/"
    },
    "id": "UhZQCV-R3vmb",
    "outputId": "f42a3d3e-927d-45ee-8212-cb8fd4817b91"
   },
   "outputs": [
    {
     "name": "stdout",
     "output_type": "stream",
     "text": [
      "Tamanho Dataset Teste: 269\n"
     ]
    }
   ],
   "source": [
    "print(f'Tamanho Dataset Teste: {len(dataset_test)}')"
   ]
  },
  {
   "cell_type": "markdown",
   "metadata": {
    "id": "1ssoyvNZ4sj_"
   },
   "source": [
    "## Dataloader"
   ]
  },
  {
   "cell_type": "code",
   "execution_count": 23,
   "metadata": {
    "colab": {
     "base_uri": "https://localhost:8080/"
    },
    "id": "B4mah1rr4uTS",
    "outputId": "c7a452e9-2e75-4700-fd0d-6335c6a4739a"
   },
   "outputs": [
    {
     "name": "stdout",
     "output_type": "stream",
     "text": [
      "device: cuda\n"
     ]
    }
   ],
   "source": [
    "use_cuda = torch.cuda.is_available()\n",
    "\n",
    "torch.manual_seed(111)\n",
    "\n",
    "device = torch.device(\"cuda\" if use_cuda else \"cpu\")\n",
    "print(f'device: {device}')\n",
    "\n",
    "train_kwargs = {'batch_size': 50}\n",
    "test_kwargs = {'batch_size': 50}\n",
    "if use_cuda:\n",
    "    cuda_kwargs = {'num_workers': 1,\n",
    "                    'pin_memory': True,\n",
    "                    'shuffle': True}\n",
    "    train_kwargs.update(cuda_kwargs)\n",
    "    test_kwargs.update(cuda_kwargs)\n",
    "\n",
    "train_loader = torch.utils.data.DataLoader(dataset_train,**train_kwargs)\n",
    "test_loader = torch.utils.data.DataLoader(dataset_test, **test_kwargs)"
   ]
  },
  {
   "cell_type": "markdown",
   "metadata": {
    "id": "xHCp3aaP4xly"
   },
   "source": [
    "## Criação da Rede"
   ]
  },
  {
   "cell_type": "code",
   "execution_count": 24,
   "metadata": {
    "id": "DKqeHawF4zfU"
   },
   "outputs": [],
   "source": [
    "input_size = 34 # TODO: validar o tamanho\n",
    "output_size = 7 # número de features da coluna Class\n",
    "\n",
    "class Net(nn.Module):\n",
    "    def __init__(self):\n",
    "        super(Net, self).__init__()\n",
    "        self.fc = nn.Sequential(\n",
    "            nn.Linear(input_size, 512),\n",
    "            nn.ReLU(),\n",
    "            nn.Linear(512, 1024),\n",
    "            nn.ReLU(),\n",
    "            nn.Linear(1024, 1024),\n",
    "            nn.ReLU(),\n",
    "            nn.Linear(1024, 3000),\n",
    "            nn.ReLU(),\n",
    "            nn.Linear(3000, 3000),\n",
    "            nn.ReLU(),\n",
    "            nn.Linear(3000, 1024),\n",
    "            nn.ReLU(),\n",
    "            nn.Linear(1024, 512),\n",
    "            nn.ReLU(),\n",
    "            nn.Linear(512, 128),\n",
    "            nn.ReLU(),\n",
    "            nn.Linear(128, output_size)\n",
    "        )\n",
    "\n",
    "    def forward(self, x):\n",
    "        x = self.fc(x)\n",
    "        output = F.log_softmax(x, dim=0)\n",
    "        return output\n",
    "\n",
    "\n",
    "model = Net()"
   ]
  },
  {
   "cell_type": "code",
   "execution_count": 25,
   "metadata": {
    "colab": {
     "base_uri": "https://localhost:8080/"
    },
    "id": "wGzH-RyV55j6",
    "outputId": "9b21fa16-7f1e-41f4-9e23-6d869cfb024a"
   },
   "outputs": [
    {
     "data": {
      "text/plain": [
       "Net(\n",
       "  (fc): Sequential(\n",
       "    (0): Linear(in_features=34, out_features=512, bias=True)\n",
       "    (1): ReLU()\n",
       "    (2): Linear(in_features=512, out_features=1024, bias=True)\n",
       "    (3): ReLU()\n",
       "    (4): Linear(in_features=1024, out_features=1024, bias=True)\n",
       "    (5): ReLU()\n",
       "    (6): Linear(in_features=1024, out_features=3000, bias=True)\n",
       "    (7): ReLU()\n",
       "    (8): Linear(in_features=3000, out_features=3000, bias=True)\n",
       "    (9): ReLU()\n",
       "    (10): Linear(in_features=3000, out_features=1024, bias=True)\n",
       "    (11): ReLU()\n",
       "    (12): Linear(in_features=1024, out_features=512, bias=True)\n",
       "    (13): ReLU()\n",
       "    (14): Linear(in_features=512, out_features=128, bias=True)\n",
       "    (15): ReLU()\n",
       "    (16): Linear(in_features=128, out_features=7, bias=True)\n",
       "  )\n",
       ")"
      ]
     },
     "execution_count": 25,
     "metadata": {},
     "output_type": "execute_result"
    }
   ],
   "source": [
    "model"
   ]
  },
  {
   "cell_type": "markdown",
   "metadata": {
    "id": "asodnNKh57sC"
   },
   "source": [
    "## Predict"
   ]
  },
  {
   "cell_type": "markdown",
   "metadata": {
    "id": "nlSK9R3459mV"
   },
   "source": [
    "### Treinamento"
   ]
  },
  {
   "cell_type": "code",
   "execution_count": 26,
   "metadata": {
    "colab": {
     "base_uri": "https://localhost:8080/"
    },
    "id": "nSIW8pi75_sc",
    "outputId": "406524cc-a7bd-4b0f-bc7a-3ad9fdeab661"
   },
   "outputs": [
    {
     "data": {
      "text/plain": [
       "tensor([ 3.5203e+01,  2.9602e+01,  3.1643e+01,  3.3843e+05,  1.8529e+00,\n",
       "         7.3090e-01,  3.4427e+05,  8.4190e-01,  6.5643e+02,  6.4480e-01,\n",
       "        -1.5907e+10, -1.1420e+10, -1.2753e+10,  3.9334e+00,  1.0550e+01,\n",
       "         4.0812e+00,  8.9815e+02,  4.8473e+02,  7.0402e+01,  5.9201e+01,\n",
       "         6.3281e+01,  2.2885e+03,  8.1200e-01,  2.7000e-03,  1.4000e-03,\n",
       "         5.3420e-01,  9.8980e-01,  9.8300e-01,  6.9380e-01,  2.1090e+00,\n",
       "         5.8870e-01,  2.0411e+01,  2.1124e+01,  1.9826e+01])"
      ]
     },
     "execution_count": 26,
     "metadata": {},
     "output_type": "execute_result"
    }
   ],
   "source": [
    "dataset_train[5][0]"
   ]
  },
  {
   "cell_type": "code",
   "execution_count": 27,
   "metadata": {
    "colab": {
     "base_uri": "https://localhost:8080/"
    },
    "id": "fjMA1ZPK-0Ca",
    "outputId": "12e9c06f-502b-4391-d5aa-ae8371164ae0"
   },
   "outputs": [
    {
     "data": {
      "text/plain": [
       "tensor([-2269493.5000,        0.0000, -1839865.0000,  -445935.0000,\n",
       "         -794069.6875, -1387894.1250, -4604186.5000],\n",
       "       grad_fn=<LogSoftmaxBackward0>)"
      ]
     },
     "execution_count": 27,
     "metadata": {},
     "output_type": "execute_result"
    }
   ],
   "source": [
    "model(dataset_train[5][0])"
   ]
  },
  {
   "cell_type": "markdown",
   "metadata": {
    "id": "K6WopeoZ6OFx"
   },
   "source": [
    "### Criando Objeto de Treinamento"
   ]
  },
  {
   "cell_type": "code",
   "execution_count": 28,
   "metadata": {
    "id": "LPEAv6MH6Su0"
   },
   "outputs": [],
   "source": [
    "def train(log_interval, dry_run, model, device, train_loader, optimizer, epoch, criterion):\n",
    "    model.train()\n",
    "    for batch_idx, (data, target) in enumerate(train_loader):\n",
    "        data, target = data.to(device), target.to(device)\n",
    "        optimizer.zero_grad()\n",
    "        output = model(data)\n",
    "        loss = criterion(output, target)\n",
    "        loss.backward()\n",
    "        optimizer.step()\n",
    "        if batch_idx % log_interval == 0:\n",
    "            print('Train Epoch: {} [{}/{} ({:.0f}%)]\\tLoss: {:.6f}'.format(\n",
    "                epoch, batch_idx * len(data),\n",
    "                len(train_loader.dataset),\n",
    "                100. * batch_idx / len(train_loader),\n",
    "                loss))\n",
    "            if dry_run:\n",
    "                break"
   ]
  },
  {
   "cell_type": "code",
   "execution_count": 29,
   "metadata": {
    "id": "8Q-nOgo46Td7"
   },
   "outputs": [],
   "source": [
    "def test(model, device, test_loader, criterion):\n",
    "    model.eval()\n",
    "    test_loss = 0\n",
    "    correct = 0\n",
    "    with torch.no_grad():\n",
    "        for data, target in test_loader:\n",
    "            data, target = data.to(device), target.to(device)\n",
    "            output = model(data)\n",
    "            test_loss += criterion(output, target).item()  # sum up batch loss\n",
    "            pred = output.argmax(dim=1, keepdim=True)  # get the index of the max log-probability\n",
    "            correct += pred.eq(target.view_as(pred)).sum().item()\n",
    "\n",
    "    test_loss /= len(test_loader.dataset)\n",
    "    acc = 100. * correct / len(test_loader.dataset)\n",
    "    print('\\nTest set: Average loss: {:.4f}, Accuracy: {}/{} ({:.0f}%)\\n'.format(\n",
    "        test_loss,\n",
    "        correct,\n",
    "        len(test_loader.dataset),\n",
    "        acc))\n",
    "    return acc, test_loss\n"
   ]
  },
  {
   "cell_type": "markdown",
   "metadata": {
    "id": "u-nSSNR06dj7"
   },
   "source": [
    "## Avaliação"
   ]
  },
  {
   "cell_type": "code",
   "execution_count": 30,
   "metadata": {
    "colab": {
     "base_uri": "https://localhost:8080/"
    },
    "id": "xNN_RV836h12",
    "outputId": "887062cb-f151-4df9-e389-b5bb1b81d3a7"
   },
   "outputs": [
    {
     "name": "stdout",
     "output_type": "stream",
     "text": [
      "\n",
      "Test set: Average loss: 77735.6859, Accuracy: 16/269 (6%)\n",
      "\n",
      "Train Epoch: 1 [0/629 (0%)]\tLoss: 2681104.750000\n",
      "Train Epoch: 1 [500/629 (77%)]\tLoss: 1311573.750000\n",
      "\n",
      "Test set: Average loss: 54458.7003, Accuracy: 53/269 (20%)\n",
      "\n",
      "saving...\n",
      "Train Epoch: 2 [0/629 (0%)]\tLoss: 1901025.750000\n",
      "Train Epoch: 2 [500/629 (77%)]\tLoss: 579332.312500\n",
      "\n",
      "Test set: Average loss: 11845.1559, Accuracy: 56/269 (21%)\n",
      "\n",
      "saving...\n",
      "Train Epoch: 3 [0/629 (0%)]\tLoss: 390026.562500\n",
      "Train Epoch: 3 [500/629 (77%)]\tLoss: 281061.031250\n",
      "\n",
      "Test set: Average loss: 1924.5120, Accuracy: 96/269 (36%)\n",
      "\n",
      "saving...\n",
      "Train Epoch: 4 [0/629 (0%)]\tLoss: 162451.968750\n",
      "Train Epoch: 4 [500/629 (77%)]\tLoss: 78270.132812\n",
      "\n",
      "Test set: Average loss: 1407.7637, Accuracy: 57/269 (21%)\n",
      "\n",
      "Train Epoch: 5 [0/629 (0%)]\tLoss: 101037.281250\n",
      "Train Epoch: 5 [500/629 (77%)]\tLoss: 11630.423828\n",
      "\n",
      "Test set: Average loss: 395.0125, Accuracy: 140/269 (52%)\n",
      "\n",
      "saving...\n",
      "Train Epoch: 6 [0/629 (0%)]\tLoss: 10410.107422\n",
      "Train Epoch: 6 [500/629 (77%)]\tLoss: 5748.419434\n",
      "\n",
      "Test set: Average loss: 117.5312, Accuracy: 109/269 (41%)\n",
      "\n",
      "Train Epoch: 7 [0/629 (0%)]\tLoss: 7326.592285\n",
      "Train Epoch: 7 [500/629 (77%)]\tLoss: 3597.292236\n",
      "\n",
      "Test set: Average loss: 33.2665, Accuracy: 136/269 (51%)\n",
      "\n",
      "Train Epoch: 8 [0/629 (0%)]\tLoss: 1384.764648\n",
      "Train Epoch: 8 [500/629 (77%)]\tLoss: 1484.090210\n",
      "\n",
      "Test set: Average loss: 66.2433, Accuracy: 106/269 (39%)\n",
      "\n",
      "Train Epoch: 9 [0/629 (0%)]\tLoss: 1850.085205\n",
      "Train Epoch: 9 [500/629 (77%)]\tLoss: 1047.027954\n",
      "\n",
      "Test set: Average loss: 22.7848, Accuracy: 127/269 (47%)\n",
      "\n",
      "Train Epoch: 10 [0/629 (0%)]\tLoss: 1624.740356\n",
      "Train Epoch: 10 [500/629 (77%)]\tLoss: 870.296509\n",
      "\n",
      "Test set: Average loss: 32.3916, Accuracy: 111/269 (41%)\n",
      "\n",
      "Train Epoch: 11 [0/629 (0%)]\tLoss: 1270.306763\n",
      "Train Epoch: 11 [500/629 (77%)]\tLoss: 2186.960693\n",
      "\n",
      "Test set: Average loss: 22.1422, Accuracy: 139/269 (52%)\n",
      "\n",
      "Train Epoch: 12 [0/629 (0%)]\tLoss: 948.023438\n",
      "Train Epoch: 12 [500/629 (77%)]\tLoss: 596.497681\n",
      "\n",
      "Test set: Average loss: 17.8429, Accuracy: 145/269 (54%)\n",
      "\n",
      "saving...\n",
      "Train Epoch: 13 [0/629 (0%)]\tLoss: 819.244141\n",
      "Train Epoch: 13 [500/629 (77%)]\tLoss: 414.610474\n",
      "\n",
      "Test set: Average loss: 10.5692, Accuracy: 166/269 (62%)\n",
      "\n",
      "saving...\n",
      "Train Epoch: 14 [0/629 (0%)]\tLoss: 685.327393\n",
      "Train Epoch: 14 [500/629 (77%)]\tLoss: 540.751648\n",
      "\n",
      "Test set: Average loss: 8.5855, Accuracy: 148/269 (55%)\n",
      "\n",
      "Train Epoch: 15 [0/629 (0%)]\tLoss: 458.176178\n",
      "Train Epoch: 15 [500/629 (77%)]\tLoss: 236.331802\n",
      "\n",
      "Test set: Average loss: 6.8714, Accuracy: 138/269 (51%)\n",
      "\n",
      "Train Epoch: 16 [0/629 (0%)]\tLoss: 462.773254\n",
      "Train Epoch: 16 [500/629 (77%)]\tLoss: 314.462006\n",
      "\n",
      "Test set: Average loss: 6.0463, Accuracy: 148/269 (55%)\n",
      "\n",
      "Train Epoch: 17 [0/629 (0%)]\tLoss: 215.910660\n",
      "Train Epoch: 17 [500/629 (77%)]\tLoss: 115.970589\n",
      "\n",
      "Test set: Average loss: 3.4852, Accuracy: 158/269 (59%)\n",
      "\n",
      "Train Epoch: 18 [0/629 (0%)]\tLoss: 99.191895\n",
      "Train Epoch: 18 [500/629 (77%)]\tLoss: 486.859467\n",
      "\n",
      "Test set: Average loss: 5.8750, Accuracy: 131/269 (49%)\n",
      "\n",
      "Train Epoch: 19 [0/629 (0%)]\tLoss: 226.466522\n",
      "Train Epoch: 19 [500/629 (77%)]\tLoss: 189.324280\n",
      "\n",
      "Test set: Average loss: 4.2452, Accuracy: 163/269 (61%)\n",
      "\n",
      "Train Epoch: 20 [0/629 (0%)]\tLoss: 170.402618\n",
      "Train Epoch: 20 [500/629 (77%)]\tLoss: 213.353928\n",
      "\n",
      "Test set: Average loss: 8.8678, Accuracy: 151/269 (56%)\n",
      "\n",
      "Train Epoch: 21 [0/629 (0%)]\tLoss: 264.749207\n",
      "Train Epoch: 21 [500/629 (77%)]\tLoss: 176.539413\n",
      "\n",
      "Test set: Average loss: 6.0844, Accuracy: 152/269 (57%)\n",
      "\n",
      "Train Epoch: 22 [0/629 (0%)]\tLoss: 134.013763\n",
      "Train Epoch: 22 [500/629 (77%)]\tLoss: 121.782372\n",
      "\n",
      "Test set: Average loss: 5.0149, Accuracy: 134/269 (50%)\n",
      "\n",
      "Train Epoch: 23 [0/629 (0%)]\tLoss: 101.588173\n",
      "Train Epoch: 23 [500/629 (77%)]\tLoss: 163.465759\n",
      "\n",
      "Test set: Average loss: 4.2682, Accuracy: 125/269 (46%)\n",
      "\n",
      "Train Epoch: 24 [0/629 (0%)]\tLoss: 209.310730\n",
      "Train Epoch: 24 [500/629 (77%)]\tLoss: 165.461365\n",
      "\n",
      "Test set: Average loss: 4.1436, Accuracy: 109/269 (41%)\n",
      "\n",
      "Train Epoch: 25 [0/629 (0%)]\tLoss: 192.791916\n",
      "Train Epoch: 25 [500/629 (77%)]\tLoss: 161.104935\n",
      "\n",
      "Test set: Average loss: 3.6008, Accuracy: 152/269 (57%)\n",
      "\n",
      "Train Epoch: 26 [0/629 (0%)]\tLoss: 176.505569\n",
      "Train Epoch: 26 [500/629 (77%)]\tLoss: 351.132263\n",
      "\n",
      "Test set: Average loss: 4.9547, Accuracy: 124/269 (46%)\n",
      "\n",
      "Train Epoch: 27 [0/629 (0%)]\tLoss: 172.833221\n",
      "Train Epoch: 27 [500/629 (77%)]\tLoss: 109.552040\n",
      "\n",
      "Test set: Average loss: 3.2619, Accuracy: 136/269 (51%)\n",
      "\n",
      "Train Epoch: 28 [0/629 (0%)]\tLoss: 59.563541\n",
      "Train Epoch: 28 [500/629 (77%)]\tLoss: 162.398254\n",
      "\n",
      "Test set: Average loss: 2.9752, Accuracy: 168/269 (62%)\n",
      "\n",
      "saving...\n",
      "Train Epoch: 29 [0/629 (0%)]\tLoss: 120.736290\n",
      "Train Epoch: 29 [500/629 (77%)]\tLoss: 128.682816\n",
      "\n",
      "Test set: Average loss: 3.3695, Accuracy: 130/269 (48%)\n",
      "\n",
      "Train Epoch: 30 [0/629 (0%)]\tLoss: 248.659103\n",
      "Train Epoch: 30 [500/629 (77%)]\tLoss: 96.434723\n",
      "\n",
      "Test set: Average loss: 1.8554, Accuracy: 158/269 (59%)\n",
      "\n",
      "Train Epoch: 31 [0/629 (0%)]\tLoss: 71.942314\n",
      "Train Epoch: 31 [500/629 (77%)]\tLoss: 39.200600\n",
      "\n",
      "Test set: Average loss: 4.2371, Accuracy: 127/269 (47%)\n",
      "\n",
      "Train Epoch: 32 [0/629 (0%)]\tLoss: 91.557663\n",
      "Train Epoch: 32 [500/629 (77%)]\tLoss: 354.813049\n",
      "\n",
      "Test set: Average loss: 5.1867, Accuracy: 123/269 (46%)\n",
      "\n",
      "Train Epoch: 33 [0/629 (0%)]\tLoss: 176.660873\n",
      "Train Epoch: 33 [500/629 (77%)]\tLoss: 97.564827\n",
      "\n",
      "Test set: Average loss: 2.5040, Accuracy: 152/269 (57%)\n",
      "\n",
      "Train Epoch: 34 [0/629 (0%)]\tLoss: 188.515076\n",
      "Train Epoch: 34 [500/629 (77%)]\tLoss: 96.598282\n",
      "\n",
      "Test set: Average loss: 2.2090, Accuracy: 165/269 (61%)\n",
      "\n",
      "Train Epoch: 35 [0/629 (0%)]\tLoss: 138.808716\n",
      "Train Epoch: 35 [500/629 (77%)]\tLoss: 77.703339\n",
      "\n",
      "Test set: Average loss: 1.8799, Accuracy: 142/269 (53%)\n",
      "\n",
      "Train Epoch: 36 [0/629 (0%)]\tLoss: 36.629356\n",
      "Train Epoch: 36 [500/629 (77%)]\tLoss: 71.068665\n",
      "\n",
      "Test set: Average loss: 1.7936, Accuracy: 141/269 (52%)\n",
      "\n",
      "Train Epoch: 37 [0/629 (0%)]\tLoss: 47.202221\n",
      "Train Epoch: 37 [500/629 (77%)]\tLoss: 29.238770\n",
      "\n",
      "Test set: Average loss: 1.5471, Accuracy: 140/269 (52%)\n",
      "\n",
      "Train Epoch: 38 [0/629 (0%)]\tLoss: 41.044403\n",
      "Train Epoch: 38 [500/629 (77%)]\tLoss: 85.480988\n",
      "\n",
      "Test set: Average loss: 1.3131, Accuracy: 158/269 (59%)\n",
      "\n",
      "Train Epoch: 39 [0/629 (0%)]\tLoss: 100.771797\n",
      "Train Epoch: 39 [500/629 (77%)]\tLoss: 114.459206\n",
      "\n",
      "Test set: Average loss: 2.8154, Accuracy: 117/269 (43%)\n",
      "\n",
      "Train Epoch: 40 [0/629 (0%)]\tLoss: 120.112923\n",
      "Train Epoch: 40 [500/629 (77%)]\tLoss: 61.381866\n",
      "\n",
      "Test set: Average loss: 1.6187, Accuracy: 153/269 (57%)\n",
      "\n",
      "Train Epoch: 41 [0/629 (0%)]\tLoss: 74.557823\n",
      "Train Epoch: 41 [500/629 (77%)]\tLoss: 53.852707\n",
      "\n",
      "Test set: Average loss: 1.7602, Accuracy: 148/269 (55%)\n",
      "\n",
      "Train Epoch: 42 [0/629 (0%)]\tLoss: 37.481441\n",
      "Train Epoch: 42 [500/629 (77%)]\tLoss: 72.428810\n",
      "\n",
      "Test set: Average loss: 1.7696, Accuracy: 129/269 (48%)\n",
      "\n",
      "Train Epoch: 43 [0/629 (0%)]\tLoss: 49.174706\n",
      "Train Epoch: 43 [500/629 (77%)]\tLoss: 63.058491\n",
      "\n",
      "Test set: Average loss: 2.6111, Accuracy: 118/269 (44%)\n",
      "\n",
      "Train Epoch: 44 [0/629 (0%)]\tLoss: 71.959061\n",
      "Train Epoch: 44 [500/629 (77%)]\tLoss: 62.313011\n",
      "\n",
      "Test set: Average loss: 1.7644, Accuracy: 103/269 (38%)\n",
      "\n",
      "Train Epoch: 45 [0/629 (0%)]\tLoss: 78.963066\n",
      "Train Epoch: 45 [500/629 (77%)]\tLoss: 98.913361\n",
      "\n",
      "Test set: Average loss: 2.7303, Accuracy: 110/269 (41%)\n",
      "\n",
      "Train Epoch: 46 [0/629 (0%)]\tLoss: 154.141388\n",
      "Train Epoch: 46 [500/629 (77%)]\tLoss: 62.136539\n",
      "\n",
      "Test set: Average loss: 2.5387, Accuracy: 112/269 (42%)\n",
      "\n",
      "Train Epoch: 47 [0/629 (0%)]\tLoss: 73.341698\n",
      "Train Epoch: 47 [500/629 (77%)]\tLoss: 102.727852\n",
      "\n",
      "Test set: Average loss: 2.0188, Accuracy: 124/269 (46%)\n",
      "\n",
      "Train Epoch: 48 [0/629 (0%)]\tLoss: 56.105438\n",
      "Train Epoch: 48 [500/629 (77%)]\tLoss: 87.571991\n",
      "\n",
      "Test set: Average loss: 2.6291, Accuracy: 117/269 (43%)\n",
      "\n",
      "Train Epoch: 49 [0/629 (0%)]\tLoss: 104.328865\n",
      "Train Epoch: 49 [500/629 (77%)]\tLoss: 29.787809\n",
      "\n",
      "Test set: Average loss: 1.4726, Accuracy: 106/269 (39%)\n",
      "\n",
      "Train Epoch: 50 [0/629 (0%)]\tLoss: 45.654186\n",
      "Train Epoch: 50 [500/629 (77%)]\tLoss: 45.395493\n",
      "\n",
      "Test set: Average loss: 1.3932, Accuracy: 119/269 (44%)\n",
      "\n"
     ]
    }
   ],
   "source": [
    "model = Net().to(device)\n",
    "optimizer = optim.Adam(model.parameters(), lr=0.001) ## Testar outros como Adam tbm\n",
    "criterion = torch.nn.CrossEntropyLoss()\n",
    "\n",
    "test_losses = []\n",
    "test_acc = []\n",
    "epochs = 50\n",
    "best_epoch = 0\n",
    "best_acc, best_loss = test(model, device, test_loader, criterion)\n",
    "for epoch in range(1, epochs + 1):\n",
    "    train(10, False, model, device, train_loader, optimizer, epoch, criterion)\n",
    "    acc, test_loss = test(model, device, test_loader, criterion)\n",
    "    test_losses.append(test_loss)\n",
    "    test_acc.append(acc)\n",
    "    if acc > best_acc:\n",
    "      best_acc = acc\n",
    "      best_epoch = epoch + 1\n",
    "      print('saving...')\n",
    "      torch.save(model.state_dict(), \"fruits_nn.pt\")"
   ]
  },
  {
   "cell_type": "code",
   "execution_count": 31,
   "metadata": {
    "colab": {
     "base_uri": "https://localhost:8080/"
    },
    "id": "sUOnYDIAJzhu",
    "outputId": "4072fd95-ad18-4de2-c230-14b7bd1101ce"
   },
   "outputs": [
    {
     "name": "stdout",
     "output_type": "stream",
     "text": [
      "Best Accuracy @ Epoch 29: 62.45%\n"
     ]
    }
   ],
   "source": [
    "print(f\"Best Accuracy @ Epoch {best_epoch}: {best_acc:.2f}%\")"
   ]
  },
  {
   "cell_type": "code",
   "execution_count": 32,
   "metadata": {
    "colab": {
     "base_uri": "https://localhost:8080/",
     "height": 507
    },
    "id": "mlD0vc5fHaXe",
    "outputId": "d6bbb1ff-f758-4e4a-baea-6b92ce37db18"
   },
   "outputs": [
    {
     "data": {
      "image/png": "[encoded data removed]",
      "text/plain": [
       "<Figure size 1200x500 with 2 Axes>"
      ]
     },
     "metadata": {},
     "output_type": "display_data"
    }
   ],
   "source": [
    "# prompt: plot a graph of epochs vs acc and epochs vc losses\n",
    "\n",
    "import matplotlib.pyplot as plt\n",
    "\n",
    "# Assuming test_acc and test_losses are defined from the previous code\n",
    "epochs = range(1, len(test_acc) + 1)\n",
    "\n",
    "plt.figure(figsize=(12, 5))\n",
    "\n",
    "plt.subplot(1, 2, 1)\n",
    "plt.plot(epochs, test_acc, marker='o', linestyle='-')\n",
    "plt.title('Epochs vs Accuracy')\n",
    "plt.xlabel('Epochs')\n",
    "plt.ylabel('Accuracy (%)')\n",
    "plt.grid(True)\n",
    "\n",
    "plt.subplot(1, 2, 2)\n",
    "plt.plot(epochs, test_losses, marker='o', linestyle='-')\n",
    "plt.title('Epochs vs Loss')\n",
    "plt.xlabel('Epochs')\n",
    "plt.ylabel('Loss')\n",
    "plt.grid(True)\n",
    "\n",
    "plt.tight_layout()\n",
    "plt.show()"
   ]
  },
  {
   "cell_type": "code",
   "execution_count": 33,
   "metadata": {
    "colab": {
     "base_uri": "https://localhost:8080/"
    },
    "id": "XrEGVXh565Za",
    "outputId": "9659df93-2d89-45a4-b7cb-9cf7931a5e03"
   },
   "outputs": [
    {
     "name": "stderr",
     "output_type": "stream",
     "text": [
      "/tmp/ipykernel_82721/3911061226.py:1: FutureWarning: You are using `torch.load` with `weights_only=False` (the current default value), which uses the default pickle module implicitly. It is possible to construct malicious pickle data which will execute arbitrary code during unpickling (See https://github.com/pytorch/pytorch/blob/main/SECURITY.md#untrusted-models for more details). In a future release, the default value for `weights_only` will be flipped to `True`. This limits the functions that could be executed during unpickling. Arbitrary objects will no longer be allowed to be loaded via this mode unless they are explicitly allowlisted by the user via `torch.serialization.add_safe_globals`. We recommend you start setting `weights_only=True` for any use case where you don't have full control of the loaded file. Please open an issue on GitHub for any issues related to this experimental feature.\n",
      "  aux = torch.load(\"fruits_nn.pt\")\n"
     ]
    },
    {
     "data": {
      "text/plain": [
       "OrderedDict([('fc.0.weight',\n",
       "              tensor([[ 0.1230, -0.0728,  0.0923,  ...,  0.0467,  0.0501, -0.0648],\n",
       "                      [ 0.1338, -0.1671,  0.0275,  ..., -0.0198,  0.0382, -0.0902],\n",
       "                      [-0.1055, -0.1390,  0.0873,  ..., -0.0520,  0.0314,  0.0364],\n",
       "                      ...,\n",
       "                      [ 0.1552,  0.1536, -0.0784,  ..., -0.0477,  0.0385,  0.1561],\n",
       "                      [-0.0140,  0.0887, -0.1695,  ...,  0.0113,  0.1595,  0.0574],\n",
       "                      [-0.0594,  0.1538, -0.1595,  ..., -0.0632, -0.1463, -0.0656]],\n",
       "                     device='cuda:0')),\n",
       "             ('fc.0.bias',\n",
       "              tensor([ 4.6936e-02, -5.5120e-02,  1.2131e-01, -2.7916e-03, -2.2051e-02,\n",
       "                       1.1021e-01,  7.8658e-02, -1.0304e-01,  1.2641e-01,  1.2937e-01,\n",
       "                       1.2250e-02, -1.6504e-01,  1.1824e-01,  9.1882e-02, -8.5242e-03,\n",
       "                      -6.6251e-02, -5.0632e-02,  6.6670e-02, -1.4657e-01, -1.1730e-01,\n",
       "                       1.5588e-01,  5.8464e-02, -1.4917e-01,  1.6029e-01, -3.9533e-02,\n",
       "                       3.3326e-02, -8.5586e-02,  7.8548e-02, -6.3896e-02, -1.3772e-02,\n",
       "                       9.6551e-02,  4.4556e-02,  1.6230e-01, -1.6361e-01, -1.6364e-01,\n",
       "                       7.6598e-02, -2.3597e-02,  8.5279e-02, -2.0831e-02, -5.6883e-02,\n",
       "                       1.2828e-01,  7.3504e-05,  1.1491e-02, -4.2311e-02,  4.6196e-02,\n",
       "                       5.2047e-02, -2.7833e-02,  2.0261e-02, -8.8834e-02, -4.6947e-02,\n",
       "                      -7.5405e-02, -5.9923e-03, -1.4657e-02, -6.7571e-02,  1.1130e-01,\n",
       "                      -1.4616e-01,  1.3028e-02,  1.6182e-01, -1.3350e-01,  1.2359e-01,\n",
       "                       5.3727e-02,  1.4079e-01, -1.4429e-01, -1.2045e-01,  1.4466e-01,\n",
       "                      -1.5373e-02,  1.3813e-02,  5.0215e-02, -1.5902e-01,  2.8216e-02,\n",
       "                      -1.9213e-02, -5.8161e-02, -1.3921e-01,  1.3511e-01, -1.7138e-01,\n",
       "                      -9.4513e-02,  1.3310e-01,  5.8854e-03, -1.3362e-01, -2.4215e-02,\n",
       "                       1.4764e-01, -1.4097e-01, -9.6931e-02, -3.6322e-02,  3.8903e-02,\n",
       "                      -9.3887e-02,  1.1876e-01, -2.8475e-02, -2.7881e-02, -1.4146e-01,\n",
       "                       1.4464e-01,  2.6234e-02,  1.4781e-01, -1.3700e-01,  1.5324e-01,\n",
       "                      -8.8265e-04,  7.9600e-02, -1.6025e-01,  1.1912e-01,  9.2317e-02,\n",
       "                       1.6191e-01,  9.2576e-02, -9.1566e-02, -1.3643e-01,  1.1257e-01,\n",
       "                       2.8135e-02,  1.3303e-01,  1.2513e-01,  2.5949e-02, -2.2822e-03,\n",
       "                      -1.1145e-01,  5.4230e-02, -3.3824e-02, -1.3857e-01,  8.4146e-02,\n",
       "                       1.1540e-01, -1.3229e-01,  6.3440e-03,  2.1232e-02, -8.6194e-02,\n",
       "                       1.9342e-02, -8.3970e-02, -8.5758e-02,  8.2628e-02,  1.4146e-01,\n",
       "                      -1.1545e-01,  1.1180e-01, -9.5379e-02,  1.0679e-01,  7.5608e-02,\n",
       "                       9.4012e-02, -4.5499e-02,  1.4051e-01,  2.2708e-02,  5.8561e-02,\n",
       "                      -3.0811e-02,  1.4354e-01,  1.3626e-01, -1.8558e-02, -1.3514e-01,\n",
       "                       1.6414e-01, -1.0795e-01,  1.4111e-02, -1.2575e-01,  1.5209e-02,\n",
       "                       1.1974e-02, -1.3080e-01,  1.3208e-01,  8.1760e-02, -3.6062e-02,\n",
       "                      -9.1566e-02, -6.8000e-02, -8.6634e-02, -1.4850e-01, -8.3499e-02,\n",
       "                      -4.7668e-02, -4.2233e-02,  6.5068e-02,  6.5532e-02,  8.4363e-02,\n",
       "                      -1.4260e-02,  8.9013e-03, -1.6419e-01,  5.0429e-02, -1.1233e-01,\n",
       "                      -3.0001e-02,  1.6292e-01, -8.2500e-02,  6.1352e-02,  4.6301e-03,\n",
       "                      -1.3410e-01,  5.7890e-02, -8.7626e-03, -1.2034e-01,  1.2559e-01,\n",
       "                       3.5170e-02, -8.1573e-02, -8.2855e-02, -5.7059e-02,  3.3563e-02,\n",
       "                       2.2035e-02,  1.2613e-01,  6.4018e-02, -8.7756e-02, -1.2369e-01,\n",
       "                      -1.4361e-01, -9.1605e-02,  1.4676e-01,  6.8192e-02,  9.9470e-02,\n",
       "                       1.2622e-01, -8.4129e-02, -7.2801e-02,  3.8176e-03,  9.7111e-02,\n",
       "                       1.2169e-01, -4.8618e-02,  1.2603e-02, -2.1417e-02, -1.3363e-01,\n",
       "                      -1.3935e-01,  1.5303e-02, -1.2689e-01, -8.8144e-02,  3.8506e-02,\n",
       "                      -7.2546e-02, -8.6431e-02,  2.6133e-02,  1.0196e-01, -4.6890e-02,\n",
       "                       9.3863e-03, -6.7289e-02,  1.7699e-01, -1.5784e-01, -7.8596e-03,\n",
       "                       8.9795e-02, -1.3721e-01, -2.5394e-02,  1.5732e-01, -4.2664e-02,\n",
       "                      -1.3030e-01,  1.0467e-01, -1.2047e-01,  1.1204e-01, -1.4760e-01,\n",
       "                      -1.3743e-01, -6.8149e-02,  1.6853e-01,  6.5118e-02, -1.6078e-03,\n",
       "                      -7.0610e-03,  8.4721e-02,  1.3474e-01,  6.6493e-02, -1.4232e-01,\n",
       "                      -7.3989e-02,  1.6116e-01, -1.1128e-01,  8.4558e-03,  9.1413e-02,\n",
       "                       2.5367e-02, -3.4684e-02,  7.0382e-02,  1.0823e-01,  1.1574e-01,\n",
       "                       6.1793e-02,  1.3629e-01,  1.5264e-01, -1.5906e-01, -8.2563e-02,\n",
       "                      -1.0194e-01, -1.5064e-01, -9.6181e-02, -4.9499e-02, -1.1070e-01,\n",
       "                      -4.3396e-02,  3.9126e-02,  1.0054e-01, -1.6645e-01, -9.8292e-02,\n",
       "                       4.2354e-02,  7.1021e-02, -9.0382e-02, -1.5780e-01,  2.2208e-02,\n",
       "                      -6.3574e-02, -7.5083e-02,  1.2232e-01,  1.1228e-01,  1.0112e-01,\n",
       "                       6.8576e-02,  5.8573e-02, -3.2802e-02,  2.0721e-02,  8.8008e-03,\n",
       "                       1.4184e-01, -1.2527e-01, -7.5956e-02, -1.4118e-01, -1.1228e-01,\n",
       "                      -1.0067e-01,  5.9728e-02, -1.6166e-01,  1.0239e-01, -5.9410e-03,\n",
       "                      -4.3892e-02, -2.8652e-02, -1.6473e-01, -7.1469e-02, -9.0611e-02,\n",
       "                      -2.9924e-03, -3.9066e-02, -1.5564e-01,  1.8679e-02, -4.7623e-02,\n",
       "                      -2.5259e-02, -6.2367e-02,  1.1577e-01,  3.0016e-02,  1.1167e-01,\n",
       "                      -9.6235e-02, -1.0185e-01, -1.2463e-01,  8.1311e-02, -1.2954e-02,\n",
       "                      -3.7578e-02,  3.0365e-02, -1.1262e-01,  1.3713e-02, -1.0210e-01,\n",
       "                      -8.7035e-02, -1.6665e-01, -1.1265e-01, -2.5997e-02,  9.1571e-02,\n",
       "                       2.3222e-02, -1.5318e-01,  7.4085e-02, -2.3863e-02,  1.7303e-01,\n",
       "                      -1.4367e-01,  1.7135e-01,  9.0988e-02, -4.4204e-02, -2.9633e-03,\n",
       "                      -1.1313e-01, -2.8117e-02,  1.9108e-02,  1.1628e-01,  1.1961e-01,\n",
       "                       5.7803e-02, -7.1422e-02,  9.4134e-02, -6.8756e-02,  8.9623e-02,\n",
       "                      -1.6701e-01, -9.4844e-02, -6.0192e-02, -5.7152e-03,  4.7152e-02,\n",
       "                       1.5863e-01, -9.1669e-02,  7.6202e-02,  1.4477e-01,  5.3270e-02,\n",
       "                      -1.3288e-01,  1.6069e-01, -7.3001e-02,  1.0712e-01, -3.4516e-02,\n",
       "                      -5.1058e-02,  3.0544e-02,  1.4817e-01, -1.0056e-01, -1.0715e-01,\n",
       "                       1.3344e-01,  1.4686e-01, -3.0431e-02, -4.6813e-02, -8.7686e-02,\n",
       "                      -1.5414e-01,  5.2599e-02, -1.0259e-01, -1.2945e-01, -1.4254e-01,\n",
       "                       1.1402e-01,  4.3613e-02,  7.4730e-02,  6.3848e-02,  7.1647e-03,\n",
       "                       3.7150e-02,  9.8045e-02, -1.8693e-02,  5.0271e-02, -1.1988e-02,\n",
       "                      -2.9653e-02,  1.6019e-01,  1.2551e-01, -7.8221e-02,  1.5297e-01,\n",
       "                      -1.2947e-01, -7.2178e-02,  1.5400e-01,  1.4353e-02,  1.4918e-02,\n",
       "                       3.1269e-02, -2.4666e-02, -6.6312e-03, -1.2007e-02, -8.5652e-02,\n",
       "                       3.2290e-02,  8.5222e-02,  3.0623e-03, -1.0920e-01, -9.3605e-02,\n",
       "                      -1.3195e-01, -7.8909e-02,  7.5457e-02, -1.8465e-03, -2.2325e-02,\n",
       "                       2.9108e-02, -1.2248e-01, -1.3928e-01,  3.0341e-02,  7.6390e-02,\n",
       "                       8.8613e-02,  4.9042e-02,  4.5319e-02, -1.8518e-02,  8.3786e-02,\n",
       "                      -7.0619e-02, -6.1873e-02,  1.1654e-01,  1.0640e-01,  4.5239e-02,\n",
       "                      -2.3906e-02,  1.8830e-02,  1.2991e-01, -1.8446e-02,  6.8485e-02,\n",
       "                      -1.7922e-01,  3.2900e-02,  2.4112e-02, -1.1743e-01,  7.5151e-02,\n",
       "                       7.8709e-02, -3.7658e-02, -1.4679e-01,  8.8386e-02,  1.5020e-02,\n",
       "                       7.9126e-03,  1.4632e-02,  5.1231e-02,  4.6830e-03,  5.3156e-02,\n",
       "                       7.9453e-02,  2.1199e-02,  1.6013e-01, -8.3402e-02,  1.3434e-01,\n",
       "                       1.2160e-01, -4.3738e-03, -3.1335e-02, -4.7532e-02, -5.4769e-02,\n",
       "                       1.3722e-01, -1.4573e-03, -1.2586e-01,  1.5876e-01,  5.4272e-02,\n",
       "                       4.8979e-03,  1.7090e-01,  2.2999e-02,  1.8083e-01,  8.4013e-02,\n",
       "                       2.2815e-03,  1.4683e-01,  1.5217e-01,  3.8485e-02,  1.6685e-01,\n",
       "                       1.6095e-02,  2.9848e-02, -3.3767e-02,  1.4507e-01, -1.0342e-01,\n",
       "                      -8.5843e-02, -1.1691e-01,  1.0065e-01,  6.6235e-02, -1.7743e-02,\n",
       "                       3.4220e-02, -1.2161e-01,  1.7490e-02,  6.4985e-02,  8.0103e-03,\n",
       "                       1.2200e-02, -9.3614e-02, -1.2984e-01, -1.7017e-01,  6.8666e-02,\n",
       "                       4.8568e-02,  1.0769e-02, -9.0296e-02,  1.4841e-01, -5.7383e-02,\n",
       "                      -1.4267e-01,  1.0076e-02,  4.9171e-03,  1.2697e-01, -1.3556e-01,\n",
       "                       1.0522e-02, -1.0813e-02,  4.3569e-02, -9.1628e-02,  1.0518e-01,\n",
       "                      -9.7001e-02,  7.2543e-02, -8.0163e-02,  1.0377e-01, -1.0544e-01,\n",
       "                      -1.3252e-01,  1.4325e-01, -1.0695e-01, -5.3280e-02,  1.0393e-01,\n",
       "                      -5.0268e-02, -4.9016e-02,  1.0019e-01, -1.1090e-01, -1.3955e-01,\n",
       "                       1.1060e-01, -1.9959e-03], device='cuda:0')),\n",
       "             ('fc.2.weight',\n",
       "              tensor([[-0.0334,  0.0108, -0.0018,  ..., -0.0176,  0.0163, -0.0432],\n",
       "                      [ 0.0207, -0.0101,  0.0348,  ..., -0.0338, -0.0338,  0.0246],\n",
       "                      [ 0.0224,  0.0022, -0.0440,  ..., -0.0389,  0.0060, -0.0209],\n",
       "                      ...,\n",
       "                      [ 0.0159,  0.0355,  0.0234,  ...,  0.0302,  0.0246,  0.0174],\n",
       "                      [-0.0249,  0.0416, -0.0234,  ...,  0.0119,  0.0101,  0.0131],\n",
       "                      [-0.0148, -0.0021, -0.0451,  ...,  0.0453,  0.0112,  0.0293]],\n",
       "                     device='cuda:0')),\n",
       "             ('fc.2.bias',\n",
       "              tensor([ 0.0200,  0.0149, -0.0396,  ..., -0.0411, -0.0339,  0.0016],\n",
       "                     device='cuda:0')),\n",
       "             ('fc.4.weight',\n",
       "              tensor([[ 0.0287,  0.0212,  0.0235,  ..., -0.0335,  0.0201,  0.0308],\n",
       "                      [-0.0083,  0.0092, -0.0156,  ..., -0.0322, -0.0187, -0.0096],\n",
       "                      [-0.0027,  0.0204, -0.0022,  ..., -0.0370,  0.0072, -0.0267],\n",
       "                      ...,\n",
       "                      [-0.0234,  0.0031, -0.0275,  ...,  0.0145, -0.0278,  0.0180],\n",
       "                      [ 0.0185, -0.0142, -0.0073,  ...,  0.0030,  0.0259,  0.0074],\n",
       "                      [ 0.0277, -0.0126,  0.0057,  ..., -0.0098,  0.0138, -0.0188]],\n",
       "                     device='cuda:0')),\n",
       "             ('fc.4.bias',\n",
       "              tensor([-0.0292,  0.0145, -0.0181,  ..., -0.0083,  0.0276,  0.0045],\n",
       "                     device='cuda:0')),\n",
       "             ('fc.6.weight',\n",
       "              tensor([[-1.4203e-02,  1.0907e-02,  2.8962e-02,  ..., -2.1351e-02,\n",
       "                       -1.0396e-02,  1.4010e-02],\n",
       "                      [-6.2939e-03,  3.0578e-02,  1.5479e-05,  ...,  1.4222e-02,\n",
       "                       -4.6008e-03,  8.0029e-03],\n",
       "                      [ 1.4660e-02,  2.3162e-03, -2.9598e-02,  ...,  2.4738e-02,\n",
       "                        1.4143e-02, -6.6660e-03],\n",
       "                      ...,\n",
       "                      [-3.1922e-03, -2.3469e-05, -1.1738e-02,  ..., -1.4890e-02,\n",
       "                        1.9212e-02, -1.3635e-02],\n",
       "                      [ 2.3214e-02, -9.4891e-03,  3.3118e-03,  ...,  1.0260e-02,\n",
       "                       -1.4369e-02, -4.7926e-03],\n",
       "                      [-2.0177e-02,  1.9394e-02, -2.0543e-02,  ..., -2.5470e-02,\n",
       "                       -8.3180e-03, -1.8299e-02]], device='cuda:0')),\n",
       "             ('fc.6.bias',\n",
       "              tensor([ 0.0045,  0.0056, -0.0141,  ..., -0.0085,  0.0137, -0.0099],\n",
       "                     device='cuda:0')),\n",
       "             ('fc.8.weight',\n",
       "              tensor([[-0.0051,  0.0052,  0.0209,  ..., -0.0021, -0.0160, -0.0050],\n",
       "                      [-0.0126, -0.0038,  0.0078,  ..., -0.0109, -0.0127,  0.0039],\n",
       "                      [-0.0146,  0.0182,  0.0060,  ..., -0.0190, -0.0048,  0.0022],\n",
       "                      ...,\n",
       "                      [-0.0059,  0.0170,  0.0184,  ...,  0.0080, -0.0186, -0.0014],\n",
       "                      [-0.0199,  0.0041,  0.0130,  ..., -0.0096, -0.0165,  0.0008],\n",
       "                      [ 0.0052, -0.0171, -0.0028,  ..., -0.0061,  0.0104,  0.0128]],\n",
       "                     device='cuda:0')),\n",
       "             ('fc.8.bias',\n",
       "              tensor([ 0.0351, -0.0008, -0.0115,  ...,  0.0080,  0.0009, -0.0010],\n",
       "                     device='cuda:0')),\n",
       "             ('fc.10.weight',\n",
       "              tensor([[ 0.0167, -0.0106,  0.0016,  ..., -0.0137, -0.0010,  0.0058],\n",
       "                      [-0.0163,  0.0028, -0.0230,  ...,  0.0131, -0.0054, -0.0089],\n",
       "                      [ 0.0029, -0.0068, -0.0137,  ...,  0.0002, -0.0047,  0.0036],\n",
       "                      ...,\n",
       "                      [-0.0288,  0.0148, -0.0211,  ..., -0.0041, -0.0064,  0.0171],\n",
       "                      [-0.0269, -0.0159,  0.0152,  ..., -0.0137, -0.0074,  0.0085],\n",
       "                      [-0.0199, -0.0160,  0.0098,  ...,  0.0114, -0.0062,  0.0211]],\n",
       "                     device='cuda:0')),\n",
       "             ('fc.10.bias',\n",
       "              tensor([-0.0170, -0.0034, -0.0137,  ...,  0.0026, -0.0091, -0.0121],\n",
       "                     device='cuda:0')),\n",
       "             ('fc.12.weight',\n",
       "              tensor([[-0.0040, -0.0126,  0.0180,  ...,  0.0079, -0.0088,  0.0012],\n",
       "                      [-0.0002, -0.0004,  0.0174,  ..., -0.0205,  0.0283,  0.0107],\n",
       "                      [ 0.0048,  0.0056,  0.0129,  ..., -0.0233, -0.0035, -0.0300],\n",
       "                      ...,\n",
       "                      [ 0.0312,  0.0138, -0.0036,  ...,  0.0153,  0.0004,  0.0334],\n",
       "                      [-0.0127, -0.0162, -0.0198,  ...,  0.0036, -0.0233,  0.0180],\n",
       "                      [ 0.0124, -0.0041,  0.0212,  ...,  0.0110,  0.0207,  0.0175]],\n",
       "                     device='cuda:0')),\n",
       "             ('fc.12.bias',\n",
       "              tensor([ 0.0076, -0.0067, -0.0181,  0.0175,  0.0117, -0.0158,  0.0220, -0.0063,\n",
       "                       0.0088, -0.0068,  0.0167, -0.0191, -0.0116,  0.0445, -0.0238, -0.0142,\n",
       "                      -0.0128, -0.0047, -0.0199, -0.0186, -0.0242,  0.0013,  0.0011,  0.0034,\n",
       "                       0.0058,  0.0235, -0.0090,  0.0228, -0.0092,  0.0205, -0.0129,  0.0552,\n",
       "                      -0.0237, -0.0056, -0.0171,  0.0247, -0.0049, -0.0220,  0.0041, -0.0133,\n",
       "                      -0.0078,  0.0243, -0.0016,  0.0128, -0.0230,  0.0075,  0.0160,  0.0154,\n",
       "                      -0.0256,  0.0307, -0.0258,  0.0178, -0.0234,  0.0343, -0.0186, -0.0325,\n",
       "                       0.0389,  0.0252, -0.0183, -0.0180,  0.0079, -0.0038, -0.0272, -0.0157,\n",
       "                       0.0111, -0.0116, -0.0297, -0.0261,  0.0069, -0.0072, -0.0371, -0.0108,\n",
       "                      -0.0016, -0.0056, -0.0223, -0.0115, -0.0004, -0.0308, -0.0005, -0.0353,\n",
       "                       0.0015,  0.0143,  0.0043, -0.0164,  0.0274, -0.0041,  0.0297,  0.0067,\n",
       "                      -0.0206,  0.0253,  0.0038,  0.0113,  0.0077, -0.0069,  0.0062,  0.0049,\n",
       "                       0.0107,  0.0164, -0.0139,  0.0048, -0.0179,  0.0351,  0.0020, -0.0170,\n",
       "                      -0.0005, -0.0035,  0.0119,  0.0206, -0.0349, -0.0129,  0.0216, -0.0085,\n",
       "                      -0.0056,  0.0121, -0.0165,  0.0004,  0.0240,  0.0144,  0.0031,  0.0197,\n",
       "                       0.0251,  0.0223,  0.0213, -0.0456,  0.0010, -0.0023,  0.0477,  0.0095,\n",
       "                       0.0065,  0.0208, -0.0178, -0.0059,  0.0178, -0.0364, -0.0086, -0.0302,\n",
       "                       0.0248,  0.0032, -0.0376,  0.0010,  0.0430,  0.0051,  0.0198,  0.0088,\n",
       "                      -0.0225, -0.0242,  0.0023, -0.0575,  0.0242,  0.0015,  0.0134,  0.0084,\n",
       "                       0.0111, -0.0357, -0.0283,  0.0177, -0.0025,  0.0115,  0.0214,  0.0015,\n",
       "                      -0.0067,  0.0010, -0.0151,  0.0164,  0.0223, -0.0130,  0.0065, -0.0152,\n",
       "                       0.0120, -0.0212,  0.0093, -0.0352, -0.0202, -0.0187, -0.0245, -0.0122,\n",
       "                       0.0142, -0.0237, -0.0054,  0.0107, -0.0157,  0.0057, -0.0448, -0.0006,\n",
       "                      -0.0019,  0.0126,  0.0324, -0.0081, -0.0052, -0.0365,  0.0279, -0.0163,\n",
       "                       0.0197, -0.0053, -0.0105, -0.0302, -0.0175, -0.0064, -0.0402, -0.0174,\n",
       "                       0.0181, -0.0230,  0.0205,  0.0141,  0.0026,  0.0111,  0.0405,  0.0086,\n",
       "                       0.0278,  0.0137, -0.0254, -0.0100,  0.0096,  0.0125,  0.0183, -0.0241,\n",
       "                       0.0344, -0.0379,  0.0024,  0.0242,  0.0074, -0.0267,  0.0260,  0.0025,\n",
       "                       0.0005,  0.0136,  0.0064, -0.0343,  0.0021, -0.0065,  0.0170,  0.0227,\n",
       "                      -0.0111, -0.0052, -0.0084, -0.0113, -0.0049,  0.0220,  0.0517, -0.0210,\n",
       "                      -0.0299, -0.0033, -0.0073,  0.0179, -0.0435, -0.0163,  0.0151, -0.0014,\n",
       "                      -0.0405, -0.0119,  0.0370, -0.0380,  0.0236,  0.0151,  0.0098, -0.0360,\n",
       "                       0.0073,  0.0240, -0.0255, -0.0105,  0.0025,  0.0114,  0.0176,  0.0063,\n",
       "                       0.0200, -0.0256,  0.0038, -0.0145,  0.0271, -0.0128,  0.0228,  0.0225,\n",
       "                      -0.0023, -0.0131,  0.0086, -0.0025,  0.0018,  0.0019,  0.0330, -0.0276,\n",
       "                      -0.0230, -0.0129, -0.0195, -0.0062,  0.0123, -0.0202,  0.0235, -0.0003,\n",
       "                      -0.0239,  0.0303, -0.0143,  0.0279, -0.0210, -0.0175, -0.0061, -0.0005,\n",
       "                       0.0097, -0.0220,  0.0314,  0.0505,  0.0041, -0.0102, -0.0006, -0.0119,\n",
       "                      -0.0081,  0.0109, -0.0053, -0.0139,  0.0174,  0.0235,  0.0107, -0.0160,\n",
       "                       0.0099,  0.0378, -0.0227,  0.0034, -0.0209,  0.0371, -0.0327, -0.0123,\n",
       "                       0.0240,  0.0340, -0.0204, -0.0027, -0.0579,  0.0274,  0.0182,  0.0216,\n",
       "                       0.0012, -0.0129, -0.0150,  0.0208,  0.0244, -0.0047,  0.0204, -0.0290,\n",
       "                       0.0053, -0.0258,  0.0286,  0.0162, -0.0465, -0.0362, -0.0138,  0.0067,\n",
       "                       0.0079, -0.0034,  0.0190, -0.0056,  0.0224, -0.0150,  0.0040, -0.0476,\n",
       "                       0.0250, -0.0315,  0.0214, -0.0245, -0.0232,  0.0068, -0.0250,  0.0066,\n",
       "                       0.0078,  0.0266, -0.0032,  0.0021,  0.0206, -0.0218, -0.0078,  0.0079,\n",
       "                      -0.0084,  0.0228,  0.0224, -0.0237, -0.0346,  0.0433,  0.0356,  0.0223,\n",
       "                       0.0250, -0.0056,  0.0011,  0.0174, -0.0020,  0.0093, -0.0040,  0.0222,\n",
       "                      -0.0196,  0.0326,  0.0227,  0.0169,  0.0226, -0.0232,  0.0115, -0.0253,\n",
       "                      -0.0178,  0.0092,  0.0019,  0.0133, -0.0202, -0.0091, -0.0321, -0.0056,\n",
       "                      -0.0205,  0.0125, -0.0012, -0.0083,  0.0332, -0.0187, -0.0073, -0.0112,\n",
       "                       0.0477, -0.0055,  0.0302, -0.0286,  0.0166, -0.0328, -0.0165,  0.0314,\n",
       "                       0.0226, -0.0167,  0.0206, -0.0144, -0.0082,  0.0087, -0.0115, -0.0055,\n",
       "                      -0.0014,  0.0086,  0.0246,  0.0102,  0.0188, -0.0241,  0.0156,  0.0270,\n",
       "                      -0.0389, -0.0203,  0.0111,  0.0181, -0.0066,  0.0299,  0.0206,  0.0044,\n",
       "                       0.0062, -0.0016, -0.0083, -0.0232, -0.0309,  0.0185,  0.0029, -0.0298,\n",
       "                      -0.0147, -0.0079,  0.0277, -0.0239, -0.0350,  0.0229,  0.0161,  0.0139,\n",
       "                      -0.0344, -0.0115, -0.0074, -0.0392,  0.0091, -0.0162,  0.0039, -0.0317,\n",
       "                      -0.0324, -0.0013, -0.0168, -0.0111, -0.0171, -0.0078, -0.0002,  0.0265,\n",
       "                       0.0019,  0.0227,  0.0162,  0.0226, -0.0232, -0.0170,  0.0111,  0.0232,\n",
       "                       0.0042,  0.0182,  0.0500,  0.0338,  0.0137,  0.0171,  0.0126, -0.0374,\n",
       "                       0.0113, -0.0129, -0.0251,  0.0149, -0.0090, -0.0174,  0.0274, -0.0355,\n",
       "                       0.0017,  0.0229, -0.0234, -0.0012,  0.0058, -0.0075,  0.0285,  0.0109,\n",
       "                      -0.0076, -0.0414, -0.0347, -0.0084, -0.0039, -0.0204, -0.0276, -0.0032],\n",
       "                     device='cuda:0')),\n",
       "             ('fc.14.weight',\n",
       "              tensor([[-0.0483, -0.0479, -0.0084,  ..., -0.0411,  0.0367,  0.0259],\n",
       "                      [ 0.0388, -0.0290, -0.0111,  ...,  0.0058,  0.0414,  0.0077],\n",
       "                      [ 0.0173,  0.0144, -0.0180,  ...,  0.0305, -0.0264,  0.0109],\n",
       "                      ...,\n",
       "                      [ 0.0118, -0.0267, -0.0061,  ...,  0.0363, -0.0348,  0.0181],\n",
       "                      [ 0.0255,  0.0449,  0.0171,  ..., -0.0211, -0.0289, -0.0118],\n",
       "                      [-0.0128,  0.0004, -0.0335,  ..., -0.0324,  0.0289, -0.0349]],\n",
       "                     device='cuda:0')),\n",
       "             ('fc.14.bias',\n",
       "              tensor([-0.0169, -0.0400,  0.0465, -0.0216, -0.0378, -0.0426,  0.0369,  0.0336,\n",
       "                      -0.0128, -0.0324,  0.0087, -0.0343, -0.0028, -0.0511, -0.0315, -0.0067,\n",
       "                      -0.0037,  0.0305,  0.0335, -0.0021,  0.0099, -0.0121,  0.0125,  0.0115,\n",
       "                       0.0384,  0.0331, -0.0295, -0.0087,  0.0331,  0.0129,  0.0081,  0.0109,\n",
       "                       0.0475,  0.0180,  0.0222,  0.0252, -0.0186, -0.0393, -0.0169,  0.0292,\n",
       "                       0.0408,  0.0046, -0.0109,  0.0351, -0.0309,  0.0175, -0.0031,  0.0422,\n",
       "                      -0.0359,  0.0312,  0.0235,  0.0487,  0.0251, -0.0177,  0.0031,  0.0336,\n",
       "                       0.0023,  0.0451, -0.0153,  0.0223, -0.0402,  0.0270, -0.0035, -0.0288,\n",
       "                       0.0227, -0.0425, -0.0014,  0.0503,  0.0149,  0.0103,  0.0206,  0.0010,\n",
       "                       0.0210,  0.0304, -0.0285, -0.0045,  0.0241,  0.0160, -0.0524, -0.0198,\n",
       "                       0.0392, -0.0179, -0.0224, -0.0256,  0.0258, -0.0385, -0.0011,  0.0143,\n",
       "                      -0.0371,  0.0184, -0.0042, -0.0086, -0.0025,  0.0099,  0.0228, -0.0465,\n",
       "                      -0.0316,  0.0088, -0.0078, -0.0094, -0.0219,  0.0035, -0.0203, -0.0099,\n",
       "                       0.0493,  0.0296,  0.0124,  0.0258,  0.0244,  0.0426,  0.0367,  0.0085,\n",
       "                      -0.0321,  0.0372, -0.0106,  0.0116,  0.0326,  0.0014, -0.0224,  0.0362,\n",
       "                       0.0381, -0.0222,  0.0111,  0.0048,  0.0174, -0.0281,  0.0269,  0.0410],\n",
       "                     device='cuda:0')),\n",
       "             ('fc.16.weight',\n",
       "              tensor([[-7.8298e-02, -8.4574e-02, -1.9679e-02, -8.2275e-02,  6.5401e-02,\n",
       "                       -4.1702e-02,  5.5940e-02,  1.3202e-02, -4.1797e-02,  6.5333e-02,\n",
       "                        2.6533e-02, -6.4628e-02,  7.7415e-02, -8.7981e-02,  6.4496e-02,\n",
       "                       -7.3238e-02,  6.3275e-02,  3.5240e-02, -4.8481e-02,  7.6900e-02,\n",
       "                        3.7913e-02, -2.2066e-02, -3.6245e-02,  5.4128e-02,  7.8211e-02,\n",
       "                       -3.9828e-02,  3.9379e-02,  8.5674e-02, -2.8668e-02,  4.1685e-02,\n",
       "                        7.3541e-02, -2.5722e-02, -4.3217e-02, -1.0877e-02, -4.0682e-02,\n",
       "                        6.4171e-02, -3.0769e-02, -2.7872e-02,  2.1776e-02,  3.3042e-02,\n",
       "                       -8.1730e-02,  2.0214e-02,  1.6444e-03, -3.5935e-02,  2.4854e-02,\n",
       "                       -6.5272e-02,  6.1814e-02, -7.6768e-03,  6.6323e-02, -1.1158e-02,\n",
       "                        3.0566e-02,  2.2015e-02, -5.5693e-02,  3.0236e-02, -6.7829e-02,\n",
       "                        8.1557e-02,  4.9580e-02, -4.0477e-02,  3.6747e-02, -2.5386e-02,\n",
       "                       -3.5189e-02, -6.2612e-02,  3.2247e-02, -2.5357e-02, -1.7718e-02,\n",
       "                       -5.2410e-03, -4.9813e-02, -7.4169e-02, -3.4727e-02,  6.3718e-02,\n",
       "                        6.0054e-02,  4.7676e-02,  1.0730e-02, -4.6179e-03, -8.2224e-02,\n",
       "                       -5.7083e-02, -2.1598e-02,  2.4895e-02,  3.0708e-02, -3.9569e-02,\n",
       "                        3.0141e-02,  7.1601e-02,  5.1233e-02, -7.2942e-02, -7.3923e-02,\n",
       "                        9.5234e-03,  3.1671e-02,  3.0300e-02, -8.0714e-02, -6.1548e-03,\n",
       "                       -6.1661e-02,  3.2896e-02,  8.2472e-02, -8.2263e-02,  4.8187e-02,\n",
       "                       -8.5769e-03,  2.4037e-02,  1.3855e-02, -8.1780e-03, -1.2014e-02,\n",
       "                       -6.1848e-02, -5.3375e-02,  1.7196e-02,  7.6937e-02, -7.5741e-02,\n",
       "                       -2.8250e-02, -2.2096e-02, -1.4400e-02,  2.5717e-02, -7.0542e-02,\n",
       "                       -8.0893e-02,  2.2073e-02,  2.8294e-03, -3.3027e-02,  8.7732e-02,\n",
       "                       -3.7528e-02,  7.3201e-02,  8.7637e-02, -7.3972e-03,  2.3938e-02,\n",
       "                       -3.4291e-02,  7.6753e-02, -3.0310e-02, -5.6454e-02,  2.3034e-02,\n",
       "                        7.3686e-02, -6.3928e-02, -4.9888e-02],\n",
       "                      [ 1.5514e-03,  5.9046e-02,  7.1681e-02,  3.2948e-02, -5.2034e-02,\n",
       "                        7.0599e-02,  4.0849e-02,  4.6574e-02, -2.1375e-02, -2.6442e-02,\n",
       "                       -9.8955e-03, -7.1655e-03, -1.7397e-02, -7.6761e-04,  8.7282e-03,\n",
       "                        1.0931e-02,  5.7083e-02, -4.8889e-02,  7.8870e-02, -5.4393e-02,\n",
       "                        9.5624e-03, -6.3758e-02, -8.3996e-02,  8.9175e-04,  8.7932e-02,\n",
       "                        8.8553e-03,  7.5034e-02,  5.0299e-02, -4.5787e-02, -8.0684e-03,\n",
       "                        7.3432e-02, -3.1976e-02,  4.1430e-02,  7.0667e-02, -8.2850e-03,\n",
       "                       -2.1710e-02, -4.0722e-02,  1.5340e-02,  3.9747e-02, -5.2185e-02,\n",
       "                        8.0598e-02, -7.9196e-02, -4.8995e-02,  6.3800e-02,  3.6863e-02,\n",
       "                        3.9661e-02, -2.9836e-02, -1.2786e-02,  2.6599e-02, -1.8568e-02,\n",
       "                        8.0848e-02,  5.3545e-03, -1.5304e-02,  2.5557e-02, -2.0900e-02,\n",
       "                        7.7923e-03,  1.1799e-02, -7.1632e-02, -2.8075e-03, -7.0220e-02,\n",
       "                        3.8995e-02,  7.4521e-02, -6.3043e-02, -1.3446e-02,  3.7885e-03,\n",
       "                       -4.6354e-02,  1.0621e-02, -3.0810e-02,  5.3177e-02,  7.6715e-03,\n",
       "                       -2.0685e-02, -5.2445e-02, -1.2816e-02, -6.8170e-02,  8.5429e-02,\n",
       "                        3.6897e-02,  5.8288e-03,  7.7106e-02, -8.4782e-02,  7.3490e-03,\n",
       "                       -1.5536e-02, -4.8602e-02, -4.7153e-02,  5.3370e-02, -9.3018e-02,\n",
       "                        6.1347e-02,  4.0956e-02,  3.5189e-02,  6.4283e-02,  3.8273e-02,\n",
       "                        3.9197e-02, -1.4604e-03, -2.2327e-02, -6.2196e-02, -3.1648e-02,\n",
       "                        8.0725e-04,  1.1978e-02,  3.0725e-02, -6.5444e-02,  4.7194e-02,\n",
       "                       -3.2577e-02, -7.7238e-02, -5.6047e-03,  3.3699e-03, -6.0727e-02,\n",
       "                       -1.7420e-04, -3.2671e-02, -2.5621e-02, -7.9538e-02,  8.4514e-02,\n",
       "                       -5.1579e-02, -2.3412e-02, -4.7015e-02,  1.2744e-02, -1.2548e-02,\n",
       "                       -5.0737e-02,  7.7079e-02, -7.4539e-02,  9.0811e-02, -3.6862e-02,\n",
       "                        1.1742e-02, -4.4398e-02, -3.4187e-02,  8.2225e-03, -6.7151e-02,\n",
       "                       -7.0232e-02,  1.5410e-02, -6.7078e-02],\n",
       "                      [ 1.5306e-02, -4.9527e-02,  3.0714e-02, -6.9615e-02, -2.7374e-02,\n",
       "                        6.7067e-02, -6.2585e-02, -1.0423e-02,  8.3816e-02, -7.0710e-02,\n",
       "                        4.4964e-02,  3.9521e-02, -7.3434e-02,  1.0358e-02, -2.8212e-02,\n",
       "                       -1.6129e-02,  2.7503e-02,  2.3427e-02,  4.7958e-02, -6.1605e-02,\n",
       "                       -2.8377e-02, -2.7399e-02, -6.6549e-02,  8.2274e-02, -8.7197e-03,\n",
       "                        1.0817e-02,  2.0905e-02, -6.1567e-02,  5.2800e-02, -8.0779e-02,\n",
       "                       -4.4315e-02, -7.8773e-02, -7.5843e-02,  6.3527e-02,  7.1289e-02,\n",
       "                       -8.2708e-02, -4.5962e-02, -8.9751e-03, -4.4111e-02, -1.8622e-02,\n",
       "                       -2.6411e-02, -7.1118e-02, -6.9383e-02, -6.6426e-02,  3.9214e-02,\n",
       "                        6.8523e-03, -5.6580e-02,  4.9032e-04, -2.0937e-02, -1.4517e-02,\n",
       "                        7.2006e-03, -1.6657e-03, -3.1050e-02,  3.4827e-02, -3.0279e-02,\n",
       "                        8.7466e-02,  6.4801e-02,  3.0757e-02,  2.8770e-02,  3.4093e-02,\n",
       "                       -7.8248e-02, -2.1697e-02, -9.9366e-03,  5.3736e-02,  7.7102e-02,\n",
       "                        5.2455e-02, -2.8245e-02,  4.4741e-02,  2.7416e-02, -5.3438e-02,\n",
       "                        1.7927e-02, -1.6165e-02, -1.3178e-02,  1.6189e-02, -7.9936e-02,\n",
       "                       -2.8620e-02,  1.5622e-02,  6.1586e-02, -4.5237e-02,  3.6282e-02,\n",
       "                       -6.4833e-02, -8.0606e-02,  5.7234e-02,  4.1663e-03, -3.8715e-02,\n",
       "                       -1.0778e-02, -5.9884e-02, -1.5935e-02, -5.6772e-02, -5.7981e-02,\n",
       "                       -3.2325e-02, -4.2491e-02, -7.9176e-02, -7.3227e-02,  9.1785e-03,\n",
       "                        6.4679e-02,  1.4226e-02,  8.7712e-02, -7.9400e-02,  4.4192e-02,\n",
       "                        2.9780e-02, -8.2460e-02, -1.3797e-02,  5.1494e-02,  8.9936e-02,\n",
       "                       -1.7473e-02,  4.7536e-02, -2.3780e-02, -4.4771e-02,  7.1457e-02,\n",
       "                        6.4725e-02,  7.2474e-02, -1.3625e-02,  6.9128e-03,  1.1997e-02,\n",
       "                        3.3236e-02, -2.3888e-02, -3.3395e-02, -6.4840e-02,  4.7836e-02,\n",
       "                        7.7590e-02, -7.5836e-02,  3.7674e-02,  8.0824e-02,  1.7484e-02,\n",
       "                       -6.1990e-02, -8.3647e-02,  4.3901e-02],\n",
       "                      [ 5.7063e-03,  1.8701e-02,  7.9181e-02,  3.8261e-02, -2.8921e-02,\n",
       "                       -3.2266e-02,  8.0136e-02, -1.2376e-02,  1.0718e-02,  3.5075e-02,\n",
       "                        5.7294e-02,  5.1478e-02,  4.7515e-02,  6.4649e-02,  3.5921e-02,\n",
       "                       -4.4416e-02,  1.1323e-02, -5.5522e-02,  2.5685e-02, -8.8812e-02,\n",
       "                        5.9509e-02, -3.4297e-02, -4.7414e-02, -3.6552e-02, -6.9396e-02,\n",
       "                       -3.1925e-02,  3.6776e-02, -4.6291e-02,  2.7124e-02,  6.3468e-02,\n",
       "                       -1.8685e-02,  7.8088e-02,  2.2964e-02, -1.8659e-02,  5.0003e-02,\n",
       "                       -7.3833e-02,  6.0036e-02, -4.7742e-02,  5.8540e-02, -2.1198e-02,\n",
       "                        1.1833e-02,  2.4607e-02, -5.3670e-02,  3.0708e-02,  1.7542e-02,\n",
       "                        2.7067e-02, -2.7450e-02,  4.9930e-03,  6.1957e-02, -2.4954e-02,\n",
       "                        7.9294e-02, -6.6186e-03,  7.0113e-02,  2.4345e-02,  3.8932e-02,\n",
       "                        6.5391e-02,  3.6697e-02,  7.1015e-03,  6.6274e-02,  5.0748e-03,\n",
       "                        3.4492e-02, -6.3412e-02, -4.7822e-02,  8.1095e-02, -6.9298e-02,\n",
       "                        1.8553e-02,  3.6434e-02,  6.2820e-02,  5.3513e-02, -6.6006e-02,\n",
       "                        5.5586e-02, -8.2113e-02, -2.8477e-02, -7.3444e-02,  8.2193e-02,\n",
       "                       -6.6705e-02, -6.7167e-02,  4.2227e-02,  5.8725e-02,  2.0047e-02,\n",
       "                        7.2504e-02, -1.3504e-02, -6.3930e-02, -3.6764e-02,  4.5341e-02,\n",
       "                       -3.8392e-02, -6.0994e-02,  6.5223e-02,  5.3404e-02, -6.5370e-02,\n",
       "                        5.4909e-02, -1.1173e-03, -5.0437e-02, -3.7081e-02, -4.8391e-02,\n",
       "                       -8.7374e-02,  4.4427e-02, -2.4713e-02,  3.1991e-02, -6.2815e-02,\n",
       "                       -7.4094e-02, -1.8597e-02, -8.1530e-02, -7.3329e-02,  2.8953e-02,\n",
       "                        3.5958e-02,  9.2239e-02,  8.9450e-03,  7.6936e-02,  7.9084e-02,\n",
       "                       -4.6736e-02,  1.1119e-02,  3.5094e-02, -4.1429e-02,  8.0769e-03,\n",
       "                        3.9667e-02, -5.4147e-02, -1.6386e-02,  2.9281e-02, -1.3957e-02,\n",
       "                       -5.8495e-02,  4.6583e-03,  2.3437e-03, -4.7822e-02, -7.0835e-02,\n",
       "                        3.4339e-02,  7.6011e-02, -1.2546e-02],\n",
       "                      [-2.7461e-02, -1.6678e-02, -4.0014e-02, -6.3901e-03, -3.2756e-02,\n",
       "                        8.0504e-02, -6.8114e-02, -7.6364e-02, -4.5084e-02,  5.4830e-02,\n",
       "                       -2.5553e-02, -4.6975e-03,  4.7703e-02,  3.9674e-02,  7.8332e-02,\n",
       "                       -1.1705e-03,  4.7399e-02, -1.9467e-02,  6.3832e-02,  7.1243e-03,\n",
       "                       -6.3841e-02,  1.8635e-02, -7.0361e-02,  8.6551e-02,  7.7401e-02,\n",
       "                        8.6693e-02, -4.7169e-02,  3.7904e-02, -1.2512e-02,  7.6829e-02,\n",
       "                       -7.3405e-02, -2.1728e-03,  1.1679e-02, -6.3960e-02,  5.8762e-02,\n",
       "                       -8.7210e-02,  6.1046e-02,  3.6865e-02,  1.4332e-02,  1.7559e-03,\n",
       "                       -6.9116e-03,  9.0981e-03,  5.0775e-02,  1.2508e-02, -2.0317e-02,\n",
       "                        8.0347e-02, -6.6617e-03,  3.5062e-02, -6.6225e-02, -2.9064e-02,\n",
       "                       -9.2256e-02,  2.2004e-02, -6.3929e-02, -9.6692e-03, -3.2463e-02,\n",
       "                        4.9015e-02,  7.2435e-02,  8.5460e-02, -7.3905e-02, -4.7690e-02,\n",
       "                       -6.3195e-02, -6.8628e-02,  7.2822e-02,  2.5126e-02, -6.8548e-02,\n",
       "                       -9.7556e-03,  1.6295e-02, -7.2144e-02,  6.4749e-02,  3.3441e-02,\n",
       "                        6.2836e-02, -6.4789e-04,  1.4821e-02,  8.7438e-02, -6.2334e-03,\n",
       "                        1.5669e-02, -4.3483e-02,  5.5923e-02,  7.7902e-02, -7.1682e-03,\n",
       "                        5.5205e-02,  5.8506e-02,  5.4236e-02, -5.7343e-02, -8.2214e-02,\n",
       "                        3.8618e-02, -2.2216e-02, -3.2556e-02, -8.1382e-02, -8.0645e-03,\n",
       "                       -2.1710e-02, -1.9380e-02,  2.1337e-02,  4.1955e-02, -7.0590e-02,\n",
       "                        6.1452e-02, -4.9302e-04,  7.5726e-02, -6.7858e-02, -1.8456e-02,\n",
       "                       -3.4779e-02,  7.5793e-02, -3.3433e-02,  5.7161e-02,  4.8561e-02,\n",
       "                       -3.8219e-02,  4.8385e-02, -6.0814e-02, -4.5096e-02, -1.3331e-02,\n",
       "                        4.1316e-02, -3.3306e-02, -7.1703e-02, -2.8073e-02, -2.1085e-02,\n",
       "                        1.3817e-02, -9.2773e-02, -5.4442e-02,  5.2570e-05, -6.8023e-02,\n",
       "                       -3.8035e-02,  7.2415e-02, -2.0179e-03,  7.2814e-02, -1.1487e-02,\n",
       "                       -5.1053e-02,  3.4011e-02,  1.9758e-02],\n",
       "                      [ 7.5326e-02,  3.3191e-02,  1.9614e-02,  6.3917e-03,  4.2743e-02,\n",
       "                        8.0372e-02, -6.8088e-02, -1.6502e-02,  3.0429e-02,  3.1693e-02,\n",
       "                       -5.8669e-02,  2.4925e-02, -8.8836e-03, -4.4774e-02,  5.9179e-02,\n",
       "                       -2.9054e-02, -8.2604e-02, -4.4215e-02,  3.5589e-03,  7.3547e-02,\n",
       "                       -4.5371e-02, -5.7980e-02, -8.3498e-02, -2.3623e-02, -5.0932e-02,\n",
       "                       -1.6033e-02, -9.5967e-03,  9.1642e-03, -2.2807e-02,  6.5119e-02,\n",
       "                        2.9571e-02, -4.3632e-02, -7.3087e-03,  2.4267e-02, -7.5980e-02,\n",
       "                       -8.0372e-02, -4.8224e-02, -5.0209e-02, -5.1771e-02,  8.3875e-02,\n",
       "                        1.0513e-02,  1.2607e-03,  9.2914e-02,  4.2717e-02,  5.5785e-03,\n",
       "                       -3.1118e-02, -7.6047e-02,  7.8482e-02,  5.7847e-03, -8.2157e-02,\n",
       "                        3.4033e-02, -2.6275e-02,  7.8412e-02,  8.6994e-02, -5.9352e-02,\n",
       "                        6.9975e-03,  6.2903e-02, -4.1818e-02,  1.9960e-02,  8.0731e-02,\n",
       "                        7.3084e-02, -5.5465e-02,  1.5269e-02, -1.6241e-02,  6.0121e-02,\n",
       "                       -2.3632e-02,  3.5530e-02,  5.5855e-03, -3.8554e-02, -4.3592e-02,\n",
       "                        1.2151e-02, -5.7207e-02, -2.8949e-02,  5.8025e-02,  3.7611e-02,\n",
       "                        7.8526e-03,  6.3530e-03,  7.2391e-02, -1.0124e-02,  1.9372e-02,\n",
       "                       -6.8855e-02,  1.9770e-03, -6.3487e-02, -1.7493e-02, -5.2479e-02,\n",
       "                        1.5154e-02,  1.8910e-02,  9.2618e-02,  2.2096e-02,  3.9562e-03,\n",
       "                        4.2024e-02,  2.4819e-02, -1.8339e-02,  2.4693e-02,  1.5847e-02,\n",
       "                        3.6328e-02, -7.9797e-02, -1.8774e-02,  5.4156e-02,  3.4853e-04,\n",
       "                        6.7367e-02, -4.8152e-02,  1.7669e-02,  2.1541e-02,  8.3392e-02,\n",
       "                        2.8825e-03, -4.2137e-02, -2.6782e-02, -3.3929e-03,  6.6122e-02,\n",
       "                        6.7578e-02,  6.0753e-02,  9.4543e-03, -6.1103e-02,  1.7629e-02,\n",
       "                       -5.6877e-02,  6.5061e-02, -1.8297e-02, -5.5579e-02, -1.1037e-02,\n",
       "                        8.6020e-02, -7.3064e-02, -1.5911e-02, -8.1126e-02,  1.7966e-02,\n",
       "                        8.1440e-02, -2.7681e-02, -6.7885e-02],\n",
       "                      [-7.4400e-02, -4.6590e-02,  1.7134e-02, -6.5738e-02, -4.5581e-02,\n",
       "                       -7.3599e-02,  6.5134e-02,  1.0387e-02, -5.0486e-02, -7.5932e-02,\n",
       "                       -2.0753e-02,  4.0949e-02,  7.3141e-02,  1.8023e-02, -3.3676e-02,\n",
       "                        1.8434e-02,  2.9204e-02,  6.9445e-02,  3.2561e-02,  6.7439e-02,\n",
       "                        3.9709e-02,  3.0010e-02,  3.5633e-02,  3.4052e-02,  5.4250e-02,\n",
       "                       -6.2892e-02,  2.7098e-02,  2.1658e-02,  6.5794e-02, -3.3409e-03,\n",
       "                        5.4961e-02, -7.9016e-02, -1.2515e-03,  1.6359e-02,  1.2903e-02,\n",
       "                       -8.0943e-03, -2.6013e-02,  5.8442e-02, -9.0830e-02, -2.9449e-02,\n",
       "                       -8.0657e-02,  4.0334e-02,  7.8071e-02,  2.8444e-03,  4.2940e-03,\n",
       "                        3.9090e-02, -1.4251e-02,  7.1182e-02,  4.6737e-02, -2.3102e-03,\n",
       "                       -3.3449e-02,  6.1867e-02,  5.9598e-02, -6.5830e-02,  4.5873e-02,\n",
       "                        4.4388e-02,  1.4821e-02, -9.3892e-03,  2.1019e-02, -7.7005e-02,\n",
       "                        6.5259e-02,  7.8728e-02,  6.3528e-02,  5.1043e-02,  4.8045e-02,\n",
       "                        6.8316e-02,  1.4924e-02,  2.2572e-02, -7.8272e-02, -1.8878e-02,\n",
       "                       -4.9295e-03,  4.4626e-02,  1.8860e-02,  4.7207e-03, -7.5404e-03,\n",
       "                       -2.8658e-03,  1.2199e-03, -6.7537e-02, -8.7192e-02,  4.4733e-02,\n",
       "                        2.5298e-02, -7.7755e-02,  6.8983e-02, -4.3834e-02, -4.7882e-02,\n",
       "                        3.3176e-02, -2.6250e-02,  7.5997e-02, -7.9606e-02,  7.9184e-02,\n",
       "                       -1.2327e-02,  1.3044e-02,  3.5635e-05, -8.6772e-02,  2.3212e-02,\n",
       "                       -6.6214e-02, -5.3552e-04,  2.7277e-02, -2.4826e-02,  5.8346e-02,\n",
       "                        4.6177e-02,  4.2401e-03,  4.9063e-02, -4.8626e-02,  2.4020e-02,\n",
       "                       -4.8458e-02, -1.6518e-02, -1.1019e-03,  1.7793e-02, -7.8777e-03,\n",
       "                       -8.3561e-02, -1.1573e-02,  1.1129e-02,  2.4115e-02,  1.9032e-02,\n",
       "                       -3.5896e-02,  8.5309e-03,  2.3562e-02,  1.1874e-02, -3.0842e-02,\n",
       "                        5.1381e-02, -2.6732e-02,  5.3160e-02, -2.7214e-02,  2.9113e-02,\n",
       "                       -3.3230e-02,  5.2029e-02, -6.5765e-02]], device='cuda:0')),\n",
       "             ('fc.16.bias',\n",
       "              tensor([ 0.0990,  0.0485,  0.1281,  0.0054,  0.0901, -0.0322,  0.0920],\n",
       "                     device='cuda:0'))])"
      ]
     },
     "execution_count": 33,
     "metadata": {},
     "output_type": "execute_result"
    }
   ],
   "source": [
    "aux = torch.load(\"fruits_nn.pt\")\n",
    "aux"
   ]
  },
  {
   "cell_type": "code",
   "execution_count": 34,
   "metadata": {
    "colab": {
     "base_uri": "https://localhost:8080/"
    },
    "id": "k7KZ2-j47Nw9",
    "outputId": "24cfa073-11c7-4da3-8d4c-8b409f47ae11"
   },
   "outputs": [
    {
     "data": {
      "text/plain": [
       "<All keys matched successfully>"
      ]
     },
     "execution_count": 34,
     "metadata": {},
     "output_type": "execute_result"
    }
   ],
   "source": [
    "model.load_state_dict(aux)"
   ]
  },
  {
   "cell_type": "markdown",
   "metadata": {
    "id": "CBVrxmkJNdYF"
   },
   "source": [
    "## Conclusão\n",
    "\n",
    "Foram realizados testes com diversos layouts de redes, e utilizando as seguintes épocas:\n",
    "\n",
    "- 8\n",
    "- 15\n",
    "- 20\n",
    "- 25\n",
    "- 30\n",
    "- 40\n",
    "- 100\n",
    "\n",
    "Percebemos que ao executar com até 40 épocas, conseguimos alcançar um bom valor de perda, porém apenas com 100 épocas, conseguimos atingir um valor ótimo do MSE, onde:\n",
    "\n",
    "\n",
    "**Melhor Época**: 91\n",
    "\n",
    "\n",
    "**Melhor Acurácia**: 18.95910780669145\n",
    "\n",
    "Além disso, foi observado que os erros a cada época tiveram um comportamento de cela descentente, variando a cada iteração."
   ]
  },
  {
   "cell_type": "code",
   "execution_count": null,
   "metadata": {
    "id": "jlKwHm1JNtpN"
   },
   "outputs": [],
   "source": []
  }
 ],
 "metadata": {
  "colab": {
   "provenance": [],
   "toc_visible": true
  },
  "kernelspec": {
   "display_name": ".venv",
   "language": "python",
   "name": "python3"
  },
  "language_info": {
   "codemirror_mode": {
    "name": "ipython",
    "version": 3
   },
   "file_extension": ".py",
   "mimetype": "text/x-python",
   "name": "python",
   "nbconvert_exporter": "python",
   "pygments_lexer": "ipython3",
   "version": "3.12.3"
  }
 },
 "nbformat": 4,
 "nbformat_minor": 0
}
