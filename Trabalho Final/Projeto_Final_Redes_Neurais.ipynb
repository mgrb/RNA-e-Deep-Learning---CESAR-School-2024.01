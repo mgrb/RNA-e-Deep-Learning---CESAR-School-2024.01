{
 "cells": [
  {
   "cell_type": "markdown",
   "metadata": {
    "id": "_5gLJqcPqFoT"
   },
   "source": [
    "# Projeto FInal\n",
    "\n",
    "## Alunos\n",
    "\n",
    "- Daniel Moraes (dmms@cesar.school)\n",
    "- Marlos Ribeiro (mgrb@cesar.school)\n",
    "- Adonis Dário Pires Gomes de Morais (adpgm@cesar.school)"
   ]
  },
  {
   "cell_type": "markdown",
   "metadata": {
    "id": "ZcxINGpHquKE"
   },
   "source": [
    "## Importação de Dependências"
   ]
  },
  {
   "cell_type": "code",
   "execution_count": 1,
   "metadata": {
    "id": "2HRaasM1qEm_"
   },
   "outputs": [],
   "source": [
    "import numpy as np\n",
    "import pandas as pd\n",
    "import matplotlib.pyplot as plt\n",
    "import seaborn as sns\n",
    "from sklearn import preprocessing\n",
    "\n",
    "import argparse\n",
    "import torch\n",
    "import torch.nn as nn\n",
    "import torch.nn.functional as F\n",
    "import torch.optim as optim\n",
    "from torch.utils.data import Dataset, random_split\n",
    "from os.path import exists\n",
    "\n",
    "import kagglehub\n",
    "import os"
   ]
  },
  {
   "cell_type": "markdown",
   "metadata": {
    "id": "U4enEAApqqsS"
   },
   "source": [
    "## Download de Dataset"
   ]
  },
  {
   "cell_type": "code",
   "execution_count": 2,
   "metadata": {
    "colab": {
     "base_uri": "https://localhost:8080/"
    },
    "id": "3owma42hq1vO",
    "outputId": "2f26d487-83f4-4c01-d81e-a0f6fab3d845"
   },
   "outputs": [
    {
     "name": "stdout",
     "output_type": "stream",
     "text": [
      "  % Total    % Received % Xferd  Average Speed   Time    Time     Time  Current\n",
      "                                 Dload  Upload   Total   Spent    Left  Speed\n",
      "  0     0    0     0    0     0      0      0 --:--:-- --:--:-- --:--:--     0\n",
      "100  408k  100  408k    0     0   310k      0  0:00:01  0:00:01 --:--:-- 1203k\n"
     ]
    }
   ],
   "source": [
    "# Obter o diretório atual\n",
    "current_directory = os.getcwd()\n",
    "\n",
    "# URL do arquivo a ser baixado\n",
    "url = \"https://www.kaggle.com/api/v1/datasets/download/muratkokludataset/date-fruit-datasets\"\n",
    "\n",
    "# Comando curl com destino dinâmico\n",
    "!curl -L --output \"{current_directory}\"/archive.zip \"{url}\""
   ]
  },
  {
   "cell_type": "code",
   "execution_count": 3,
   "metadata": {
    "id": "zK0rhwhkq8Q_"
   },
   "outputs": [],
   "source": [
    "!unzip -q -o \"{current_directory}\"/archive.zip -d \"{current_directory}\""
   ]
  },
  {
   "cell_type": "code",
   "execution_count": 4,
   "metadata": {
    "colab": {
     "base_uri": "https://localhost:8080/"
    },
    "id": "RAwMYlg8rEbT",
    "outputId": "7a2ee46b-0f3c-4bc8-c4dc-3f65499bb268"
   },
   "outputs": [
    {
     "name": "stdout",
     "output_type": "stream",
     "text": [
      "Date_Fruit_Datasets.arff\t\t  Date_Fruit_Datasets.xlsx\n",
      "Date_Fruit_Datasets_Citation_Request.txt\n"
     ]
    }
   ],
   "source": [
    "!ls \"{current_directory}\"/Date_Fruit_Datasets"
   ]
  },
  {
   "cell_type": "code",
   "execution_count": 5,
   "metadata": {
    "colab": {
     "base_uri": "https://localhost:8080/",
     "height": 412
    },
    "id": "MVNXMv8XsvCQ",
    "outputId": "5311c74f-60f3-4d37-c4f0-5048de71f7b6"
   },
   "outputs": [
    {
     "data": {
      "text/html": [
       "<div>\n",
       "<style scoped>\n",
       "    .dataframe tbody tr th:only-of-type {\n",
       "        vertical-align: middle;\n",
       "    }\n",
       "\n",
       "    .dataframe tbody tr th {\n",
       "        vertical-align: top;\n",
       "    }\n",
       "\n",
       "    .dataframe thead th {\n",
       "        text-align: right;\n",
       "    }\n",
       "</style>\n",
       "<table border=\"1\" class=\"dataframe\">\n",
       "  <thead>\n",
       "    <tr style=\"text-align: right;\">\n",
       "      <th></th>\n",
       "      <th>AREA</th>\n",
       "      <th>PERIMETER</th>\n",
       "      <th>MAJOR_AXIS</th>\n",
       "      <th>MINOR_AXIS</th>\n",
       "      <th>ECCENTRICITY</th>\n",
       "      <th>EQDIASQ</th>\n",
       "      <th>SOLIDITY</th>\n",
       "      <th>CONVEX_AREA</th>\n",
       "      <th>EXTENT</th>\n",
       "      <th>ASPECT_RATIO</th>\n",
       "      <th>...</th>\n",
       "      <th>KurtosisRR</th>\n",
       "      <th>KurtosisRG</th>\n",
       "      <th>KurtosisRB</th>\n",
       "      <th>EntropyRR</th>\n",
       "      <th>EntropyRG</th>\n",
       "      <th>EntropyRB</th>\n",
       "      <th>ALLdaub4RR</th>\n",
       "      <th>ALLdaub4RG</th>\n",
       "      <th>ALLdaub4RB</th>\n",
       "      <th>Class</th>\n",
       "    </tr>\n",
       "  </thead>\n",
       "  <tbody>\n",
       "    <tr>\n",
       "      <th>0</th>\n",
       "      <td>422163</td>\n",
       "      <td>2378.9080</td>\n",
       "      <td>837.8484</td>\n",
       "      <td>645.6693</td>\n",
       "      <td>0.6373</td>\n",
       "      <td>733.1539</td>\n",
       "      <td>0.9947</td>\n",
       "      <td>424428</td>\n",
       "      <td>0.7831</td>\n",
       "      <td>1.2976</td>\n",
       "      <td>...</td>\n",
       "      <td>3.2370</td>\n",
       "      <td>2.9574</td>\n",
       "      <td>4.2287</td>\n",
       "      <td>-59191263232</td>\n",
       "      <td>-50714214400</td>\n",
       "      <td>-39922372608</td>\n",
       "      <td>58.7255</td>\n",
       "      <td>54.9554</td>\n",
       "      <td>47.8400</td>\n",
       "      <td>BERHI</td>\n",
       "    </tr>\n",
       "    <tr>\n",
       "      <th>1</th>\n",
       "      <td>338136</td>\n",
       "      <td>2085.1440</td>\n",
       "      <td>723.8198</td>\n",
       "      <td>595.2073</td>\n",
       "      <td>0.5690</td>\n",
       "      <td>656.1464</td>\n",
       "      <td>0.9974</td>\n",
       "      <td>339014</td>\n",
       "      <td>0.7795</td>\n",
       "      <td>1.2161</td>\n",
       "      <td>...</td>\n",
       "      <td>2.6228</td>\n",
       "      <td>2.6350</td>\n",
       "      <td>3.1704</td>\n",
       "      <td>-34233065472</td>\n",
       "      <td>-37462601728</td>\n",
       "      <td>-31477794816</td>\n",
       "      <td>50.0259</td>\n",
       "      <td>52.8168</td>\n",
       "      <td>47.8315</td>\n",
       "      <td>BERHI</td>\n",
       "    </tr>\n",
       "    <tr>\n",
       "      <th>2</th>\n",
       "      <td>526843</td>\n",
       "      <td>2647.3940</td>\n",
       "      <td>940.7379</td>\n",
       "      <td>715.3638</td>\n",
       "      <td>0.6494</td>\n",
       "      <td>819.0222</td>\n",
       "      <td>0.9962</td>\n",
       "      <td>528876</td>\n",
       "      <td>0.7657</td>\n",
       "      <td>1.3150</td>\n",
       "      <td>...</td>\n",
       "      <td>3.7516</td>\n",
       "      <td>3.8611</td>\n",
       "      <td>4.7192</td>\n",
       "      <td>-93948354560</td>\n",
       "      <td>-74738221056</td>\n",
       "      <td>-60311207936</td>\n",
       "      <td>65.4772</td>\n",
       "      <td>59.2860</td>\n",
       "      <td>51.9378</td>\n",
       "      <td>BERHI</td>\n",
       "    </tr>\n",
       "    <tr>\n",
       "      <th>3</th>\n",
       "      <td>416063</td>\n",
       "      <td>2351.2100</td>\n",
       "      <td>827.9804</td>\n",
       "      <td>645.2988</td>\n",
       "      <td>0.6266</td>\n",
       "      <td>727.8378</td>\n",
       "      <td>0.9948</td>\n",
       "      <td>418255</td>\n",
       "      <td>0.7759</td>\n",
       "      <td>1.2831</td>\n",
       "      <td>...</td>\n",
       "      <td>5.0401</td>\n",
       "      <td>8.6136</td>\n",
       "      <td>8.2618</td>\n",
       "      <td>-32074307584</td>\n",
       "      <td>-32060925952</td>\n",
       "      <td>-29575010304</td>\n",
       "      <td>43.3900</td>\n",
       "      <td>44.1259</td>\n",
       "      <td>41.1882</td>\n",
       "      <td>BERHI</td>\n",
       "    </tr>\n",
       "    <tr>\n",
       "      <th>4</th>\n",
       "      <td>347562</td>\n",
       "      <td>2160.3540</td>\n",
       "      <td>763.9877</td>\n",
       "      <td>582.8359</td>\n",
       "      <td>0.6465</td>\n",
       "      <td>665.2291</td>\n",
       "      <td>0.9908</td>\n",
       "      <td>350797</td>\n",
       "      <td>0.7569</td>\n",
       "      <td>1.3108</td>\n",
       "      <td>...</td>\n",
       "      <td>2.7016</td>\n",
       "      <td>2.9761</td>\n",
       "      <td>4.4146</td>\n",
       "      <td>-39980974080</td>\n",
       "      <td>-35980042240</td>\n",
       "      <td>-25593278464</td>\n",
       "      <td>52.7743</td>\n",
       "      <td>50.9080</td>\n",
       "      <td>42.6666</td>\n",
       "      <td>BERHI</td>\n",
       "    </tr>\n",
       "    <tr>\n",
       "      <th>5</th>\n",
       "      <td>408953</td>\n",
       "      <td>2326.6931</td>\n",
       "      <td>840.1821</td>\n",
       "      <td>622.0076</td>\n",
       "      <td>0.6722</td>\n",
       "      <td>721.5921</td>\n",
       "      <td>0.9974</td>\n",
       "      <td>410036</td>\n",
       "      <td>0.7805</td>\n",
       "      <td>1.3508</td>\n",
       "      <td>...</td>\n",
       "      <td>3.6309</td>\n",
       "      <td>6.0285</td>\n",
       "      <td>6.2159</td>\n",
       "      <td>-41140371456</td>\n",
       "      <td>-33146710016</td>\n",
       "      <td>-27907301376</td>\n",
       "      <td>49.7001</td>\n",
       "      <td>45.3190</td>\n",
       "      <td>39.7371</td>\n",
       "      <td>BERHI</td>\n",
       "    </tr>\n",
       "    <tr>\n",
       "      <th>6</th>\n",
       "      <td>451414</td>\n",
       "      <td>2457.2080</td>\n",
       "      <td>889.3253</td>\n",
       "      <td>652.4316</td>\n",
       "      <td>0.6796</td>\n",
       "      <td>758.1281</td>\n",
       "      <td>0.9970</td>\n",
       "      <td>452755</td>\n",
       "      <td>0.7877</td>\n",
       "      <td>1.3631</td>\n",
       "      <td>...</td>\n",
       "      <td>3.0703</td>\n",
       "      <td>3.4163</td>\n",
       "      <td>4.9168</td>\n",
       "      <td>-63711666176</td>\n",
       "      <td>-64060743680</td>\n",
       "      <td>-52603465728</td>\n",
       "      <td>57.8060</td>\n",
       "      <td>58.5449</td>\n",
       "      <td>52.4199</td>\n",
       "      <td>BERHI</td>\n",
       "    </tr>\n",
       "    <tr>\n",
       "      <th>7</th>\n",
       "      <td>382636</td>\n",
       "      <td>2275.7791</td>\n",
       "      <td>808.0833</td>\n",
       "      <td>609.2819</td>\n",
       "      <td>0.6569</td>\n",
       "      <td>697.9880</td>\n",
       "      <td>0.9931</td>\n",
       "      <td>385277</td>\n",
       "      <td>0.7032</td>\n",
       "      <td>1.3263</td>\n",
       "      <td>...</td>\n",
       "      <td>3.6756</td>\n",
       "      <td>7.0258</td>\n",
       "      <td>5.3254</td>\n",
       "      <td>-29873577984</td>\n",
       "      <td>-33570080768</td>\n",
       "      <td>-33054025728</td>\n",
       "      <td>45.1768</td>\n",
       "      <td>48.2407</td>\n",
       "      <td>47.2167</td>\n",
       "      <td>BERHI</td>\n",
       "    </tr>\n",
       "    <tr>\n",
       "      <th>8</th>\n",
       "      <td>546063</td>\n",
       "      <td>2714.9480</td>\n",
       "      <td>916.3737</td>\n",
       "      <td>766.4536</td>\n",
       "      <td>0.5481</td>\n",
       "      <td>833.8279</td>\n",
       "      <td>0.9882</td>\n",
       "      <td>552598</td>\n",
       "      <td>0.7710</td>\n",
       "      <td>1.1956</td>\n",
       "      <td>...</td>\n",
       "      <td>3.4640</td>\n",
       "      <td>3.7416</td>\n",
       "      <td>4.8120</td>\n",
       "      <td>-95262416896</td>\n",
       "      <td>-79321833472</td>\n",
       "      <td>-69569445888</td>\n",
       "      <td>64.6188</td>\n",
       "      <td>59.9127</td>\n",
       "      <td>55.6509</td>\n",
       "      <td>BERHI</td>\n",
       "    </tr>\n",
       "    <tr>\n",
       "      <th>9</th>\n",
       "      <td>420044</td>\n",
       "      <td>2391.1230</td>\n",
       "      <td>836.9280</td>\n",
       "      <td>645.1822</td>\n",
       "      <td>0.6370</td>\n",
       "      <td>731.3116</td>\n",
       "      <td>0.9918</td>\n",
       "      <td>423531</td>\n",
       "      <td>0.7853</td>\n",
       "      <td>1.2972</td>\n",
       "      <td>...</td>\n",
       "      <td>3.3729</td>\n",
       "      <td>4.2898</td>\n",
       "      <td>5.4637</td>\n",
       "      <td>-74341122048</td>\n",
       "      <td>-58172182528</td>\n",
       "      <td>-42640556032</td>\n",
       "      <td>64.9094</td>\n",
       "      <td>58.2771</td>\n",
       "      <td>48.4820</td>\n",
       "      <td>BERHI</td>\n",
       "    </tr>\n",
       "  </tbody>\n",
       "</table>\n",
       "<p>10 rows × 35 columns</p>\n",
       "</div>"
      ],
      "text/plain": [
       "     AREA  PERIMETER  MAJOR_AXIS  MINOR_AXIS  ECCENTRICITY   EQDIASQ  \\\n",
       "0  422163  2378.9080    837.8484    645.6693        0.6373  733.1539   \n",
       "1  338136  2085.1440    723.8198    595.2073        0.5690  656.1464   \n",
       "2  526843  2647.3940    940.7379    715.3638        0.6494  819.0222   \n",
       "3  416063  2351.2100    827.9804    645.2988        0.6266  727.8378   \n",
       "4  347562  2160.3540    763.9877    582.8359        0.6465  665.2291   \n",
       "5  408953  2326.6931    840.1821    622.0076        0.6722  721.5921   \n",
       "6  451414  2457.2080    889.3253    652.4316        0.6796  758.1281   \n",
       "7  382636  2275.7791    808.0833    609.2819        0.6569  697.9880   \n",
       "8  546063  2714.9480    916.3737    766.4536        0.5481  833.8279   \n",
       "9  420044  2391.1230    836.9280    645.1822        0.6370  731.3116   \n",
       "\n",
       "   SOLIDITY  CONVEX_AREA  EXTENT  ASPECT_RATIO  ...  KurtosisRR  KurtosisRG  \\\n",
       "0    0.9947       424428  0.7831        1.2976  ...      3.2370      2.9574   \n",
       "1    0.9974       339014  0.7795        1.2161  ...      2.6228      2.6350   \n",
       "2    0.9962       528876  0.7657        1.3150  ...      3.7516      3.8611   \n",
       "3    0.9948       418255  0.7759        1.2831  ...      5.0401      8.6136   \n",
       "4    0.9908       350797  0.7569        1.3108  ...      2.7016      2.9761   \n",
       "5    0.9974       410036  0.7805        1.3508  ...      3.6309      6.0285   \n",
       "6    0.9970       452755  0.7877        1.3631  ...      3.0703      3.4163   \n",
       "7    0.9931       385277  0.7032        1.3263  ...      3.6756      7.0258   \n",
       "8    0.9882       552598  0.7710        1.1956  ...      3.4640      3.7416   \n",
       "9    0.9918       423531  0.7853        1.2972  ...      3.3729      4.2898   \n",
       "\n",
       "   KurtosisRB    EntropyRR    EntropyRG    EntropyRB  ALLdaub4RR  ALLdaub4RG  \\\n",
       "0      4.2287 -59191263232 -50714214400 -39922372608     58.7255     54.9554   \n",
       "1      3.1704 -34233065472 -37462601728 -31477794816     50.0259     52.8168   \n",
       "2      4.7192 -93948354560 -74738221056 -60311207936     65.4772     59.2860   \n",
       "3      8.2618 -32074307584 -32060925952 -29575010304     43.3900     44.1259   \n",
       "4      4.4146 -39980974080 -35980042240 -25593278464     52.7743     50.9080   \n",
       "5      6.2159 -41140371456 -33146710016 -27907301376     49.7001     45.3190   \n",
       "6      4.9168 -63711666176 -64060743680 -52603465728     57.8060     58.5449   \n",
       "7      5.3254 -29873577984 -33570080768 -33054025728     45.1768     48.2407   \n",
       "8      4.8120 -95262416896 -79321833472 -69569445888     64.6188     59.9127   \n",
       "9      5.4637 -74341122048 -58172182528 -42640556032     64.9094     58.2771   \n",
       "\n",
       "   ALLdaub4RB  Class  \n",
       "0     47.8400  BERHI  \n",
       "1     47.8315  BERHI  \n",
       "2     51.9378  BERHI  \n",
       "3     41.1882  BERHI  \n",
       "4     42.6666  BERHI  \n",
       "5     39.7371  BERHI  \n",
       "6     52.4199  BERHI  \n",
       "7     47.2167  BERHI  \n",
       "8     55.6509  BERHI  \n",
       "9     48.4820  BERHI  \n",
       "\n",
       "[10 rows x 35 columns]"
      ]
     },
     "execution_count": 5,
     "metadata": {},
     "output_type": "execute_result"
    }
   ],
   "source": [
    "df_fruits = pd.read_excel(f'{current_directory}/Date_Fruit_Datasets/Date_Fruit_Datasets.xlsx', sheet_name='Date_Fruit_Datasets')\n",
    "df_fruits.head(10)"
   ]
  },
  {
   "cell_type": "markdown",
   "metadata": {
    "id": "F04BLdPMt7bZ"
   },
   "source": [
    "## Exploração do Dataset"
   ]
  },
  {
   "cell_type": "markdown",
   "metadata": {
    "id": "bYApJgzhuKFg"
   },
   "source": [
    "### Shape"
   ]
  },
  {
   "cell_type": "code",
   "execution_count": 6,
   "metadata": {
    "colab": {
     "base_uri": "https://localhost:8080/"
    },
    "id": "g4_2ovgTt_Gy",
    "outputId": "31e4c9ca-8794-4c26-eda4-66c1ff9b823a"
   },
   "outputs": [
    {
     "name": "stdout",
     "output_type": "stream",
     "text": [
      "dataset shape: (898, 35)\n"
     ]
    }
   ],
   "source": [
    "print(f'dataset shape: {df_fruits.shape}')"
   ]
  },
  {
   "cell_type": "markdown",
   "metadata": {
    "id": "2lL3AKhvuMV_"
   },
   "source": [
    "### Info"
   ]
  },
  {
   "cell_type": "code",
   "execution_count": 7,
   "metadata": {
    "colab": {
     "base_uri": "https://localhost:8080/"
    },
    "id": "Fn4yxiRMuOP0",
    "outputId": "f10002c5-ea4d-49ed-dc40-81f15bca8534"
   },
   "outputs": [
    {
     "name": "stdout",
     "output_type": "stream",
     "text": [
      "<class 'pandas.core.frame.DataFrame'>\n",
      "RangeIndex: 898 entries, 0 to 897\n",
      "Data columns (total 35 columns):\n",
      " #   Column         Non-Null Count  Dtype  \n",
      "---  ------         --------------  -----  \n",
      " 0   AREA           898 non-null    int64  \n",
      " 1   PERIMETER      898 non-null    float64\n",
      " 2   MAJOR_AXIS     898 non-null    float64\n",
      " 3   MINOR_AXIS     898 non-null    float64\n",
      " 4   ECCENTRICITY   898 non-null    float64\n",
      " 5   EQDIASQ        898 non-null    float64\n",
      " 6   SOLIDITY       898 non-null    float64\n",
      " 7   CONVEX_AREA    898 non-null    int64  \n",
      " 8   EXTENT         898 non-null    float64\n",
      " 9   ASPECT_RATIO   898 non-null    float64\n",
      " 10  ROUNDNESS      898 non-null    float64\n",
      " 11  COMPACTNESS    898 non-null    float64\n",
      " 12  SHAPEFACTOR_1  898 non-null    float64\n",
      " 13  SHAPEFACTOR_2  898 non-null    float64\n",
      " 14  SHAPEFACTOR_3  898 non-null    float64\n",
      " 15  SHAPEFACTOR_4  898 non-null    float64\n",
      " 16  MeanRR         898 non-null    float64\n",
      " 17  MeanRG         898 non-null    float64\n",
      " 18  MeanRB         898 non-null    float64\n",
      " 19  StdDevRR       898 non-null    float64\n",
      " 20  StdDevRG       898 non-null    float64\n",
      " 21  StdDevRB       898 non-null    float64\n",
      " 22  SkewRR         898 non-null    float64\n",
      " 23  SkewRG         898 non-null    float64\n",
      " 24  SkewRB         898 non-null    float64\n",
      " 25  KurtosisRR     898 non-null    float64\n",
      " 26  KurtosisRG     898 non-null    float64\n",
      " 27  KurtosisRB     898 non-null    float64\n",
      " 28  EntropyRR      898 non-null    int64  \n",
      " 29  EntropyRG      898 non-null    int64  \n",
      " 30  EntropyRB      898 non-null    int64  \n",
      " 31  ALLdaub4RR     898 non-null    float64\n",
      " 32  ALLdaub4RG     898 non-null    float64\n",
      " 33  ALLdaub4RB     898 non-null    float64\n",
      " 34  Class          898 non-null    object \n",
      "dtypes: float64(29), int64(5), object(1)\n",
      "memory usage: 245.7+ KB\n",
      "dataset info: None\n"
     ]
    }
   ],
   "source": [
    "print(f'dataset info: {df_fruits.info()}')"
   ]
  },
  {
   "cell_type": "markdown",
   "metadata": {
    "id": "1rYaSR7zuZJ7"
   },
   "source": [
    "### Quantidade de Nulls"
   ]
  },
  {
   "cell_type": "code",
   "execution_count": 8,
   "metadata": {
    "colab": {
     "base_uri": "https://localhost:8080/"
    },
    "id": "c82bQojAubca",
    "outputId": "c358981d-41fb-41e5-e209-9bf3b6aabeff"
   },
   "outputs": [
    {
     "name": "stdout",
     "output_type": "stream",
     "text": [
      "Quantidade de Nulls: AREA             0\n",
      "PERIMETER        0\n",
      "MAJOR_AXIS       0\n",
      "MINOR_AXIS       0\n",
      "ECCENTRICITY     0\n",
      "EQDIASQ          0\n",
      "SOLIDITY         0\n",
      "CONVEX_AREA      0\n",
      "EXTENT           0\n",
      "ASPECT_RATIO     0\n",
      "ROUNDNESS        0\n",
      "COMPACTNESS      0\n",
      "SHAPEFACTOR_1    0\n",
      "SHAPEFACTOR_2    0\n",
      "SHAPEFACTOR_3    0\n",
      "SHAPEFACTOR_4    0\n",
      "MeanRR           0\n",
      "MeanRG           0\n",
      "MeanRB           0\n",
      "StdDevRR         0\n",
      "StdDevRG         0\n",
      "StdDevRB         0\n",
      "SkewRR           0\n",
      "SkewRG           0\n",
      "SkewRB           0\n",
      "KurtosisRR       0\n",
      "KurtosisRG       0\n",
      "KurtosisRB       0\n",
      "EntropyRR        0\n",
      "EntropyRG        0\n",
      "EntropyRB        0\n",
      "ALLdaub4RR       0\n",
      "ALLdaub4RG       0\n",
      "ALLdaub4RB       0\n",
      "Class            0\n",
      "dtype: int64\n"
     ]
    }
   ],
   "source": [
    "print(f'Quantidade de Nulls: {df_fruits.isnull().sum()}')"
   ]
  },
  {
   "cell_type": "markdown",
   "metadata": {
    "id": "KuluAdhJujEW"
   },
   "source": [
    "### Registros Duplicados"
   ]
  },
  {
   "cell_type": "code",
   "execution_count": 9,
   "metadata": {
    "colab": {
     "base_uri": "https://localhost:8080/"
    },
    "id": "DJ98-3sCulmd",
    "outputId": "0dde3070-e893-4b90-d8a7-55a8f5bf365b"
   },
   "outputs": [
    {
     "name": "stdout",
     "output_type": "stream",
     "text": [
      "Registros Duplicados: 0\n"
     ]
    }
   ],
   "source": [
    "print(f'Registros Duplicados: {df_fruits.duplicated().sum()}')"
   ]
  },
  {
   "cell_type": "markdown",
   "metadata": {
    "id": "4h3uakqhvNeN"
   },
   "source": [
    "### Label Encoder"
   ]
  },
  {
   "cell_type": "code",
   "execution_count": 10,
   "metadata": {
    "colab": {
     "base_uri": "https://localhost:8080/",
     "height": 412
    },
    "id": "4oFe0KRbvPKs",
    "outputId": "134b812a-8704-40b1-b3de-c4ec7d06d7c4"
   },
   "outputs": [
    {
     "data": {
      "text/html": [
       "<div>\n",
       "<style scoped>\n",
       "    .dataframe tbody tr th:only-of-type {\n",
       "        vertical-align: middle;\n",
       "    }\n",
       "\n",
       "    .dataframe tbody tr th {\n",
       "        vertical-align: top;\n",
       "    }\n",
       "\n",
       "    .dataframe thead th {\n",
       "        text-align: right;\n",
       "    }\n",
       "</style>\n",
       "<table border=\"1\" class=\"dataframe\">\n",
       "  <thead>\n",
       "    <tr style=\"text-align: right;\">\n",
       "      <th></th>\n",
       "      <th>AREA</th>\n",
       "      <th>PERIMETER</th>\n",
       "      <th>MAJOR_AXIS</th>\n",
       "      <th>MINOR_AXIS</th>\n",
       "      <th>ECCENTRICITY</th>\n",
       "      <th>EQDIASQ</th>\n",
       "      <th>SOLIDITY</th>\n",
       "      <th>CONVEX_AREA</th>\n",
       "      <th>EXTENT</th>\n",
       "      <th>ASPECT_RATIO</th>\n",
       "      <th>...</th>\n",
       "      <th>KurtosisRR</th>\n",
       "      <th>KurtosisRG</th>\n",
       "      <th>KurtosisRB</th>\n",
       "      <th>EntropyRR</th>\n",
       "      <th>EntropyRG</th>\n",
       "      <th>EntropyRB</th>\n",
       "      <th>ALLdaub4RR</th>\n",
       "      <th>ALLdaub4RG</th>\n",
       "      <th>ALLdaub4RB</th>\n",
       "      <th>Class</th>\n",
       "    </tr>\n",
       "  </thead>\n",
       "  <tbody>\n",
       "    <tr>\n",
       "      <th>0</th>\n",
       "      <td>422163</td>\n",
       "      <td>2378.9080</td>\n",
       "      <td>837.8484</td>\n",
       "      <td>645.6693</td>\n",
       "      <td>0.6373</td>\n",
       "      <td>733.1539</td>\n",
       "      <td>0.9947</td>\n",
       "      <td>424428</td>\n",
       "      <td>0.7831</td>\n",
       "      <td>1.2976</td>\n",
       "      <td>...</td>\n",
       "      <td>3.2370</td>\n",
       "      <td>2.9574</td>\n",
       "      <td>4.2287</td>\n",
       "      <td>-59191263232</td>\n",
       "      <td>-50714214400</td>\n",
       "      <td>-39922372608</td>\n",
       "      <td>58.7255</td>\n",
       "      <td>54.9554</td>\n",
       "      <td>47.8400</td>\n",
       "      <td>0</td>\n",
       "    </tr>\n",
       "    <tr>\n",
       "      <th>1</th>\n",
       "      <td>338136</td>\n",
       "      <td>2085.1440</td>\n",
       "      <td>723.8198</td>\n",
       "      <td>595.2073</td>\n",
       "      <td>0.5690</td>\n",
       "      <td>656.1464</td>\n",
       "      <td>0.9974</td>\n",
       "      <td>339014</td>\n",
       "      <td>0.7795</td>\n",
       "      <td>1.2161</td>\n",
       "      <td>...</td>\n",
       "      <td>2.6228</td>\n",
       "      <td>2.6350</td>\n",
       "      <td>3.1704</td>\n",
       "      <td>-34233065472</td>\n",
       "      <td>-37462601728</td>\n",
       "      <td>-31477794816</td>\n",
       "      <td>50.0259</td>\n",
       "      <td>52.8168</td>\n",
       "      <td>47.8315</td>\n",
       "      <td>0</td>\n",
       "    </tr>\n",
       "    <tr>\n",
       "      <th>2</th>\n",
       "      <td>526843</td>\n",
       "      <td>2647.3940</td>\n",
       "      <td>940.7379</td>\n",
       "      <td>715.3638</td>\n",
       "      <td>0.6494</td>\n",
       "      <td>819.0222</td>\n",
       "      <td>0.9962</td>\n",
       "      <td>528876</td>\n",
       "      <td>0.7657</td>\n",
       "      <td>1.3150</td>\n",
       "      <td>...</td>\n",
       "      <td>3.7516</td>\n",
       "      <td>3.8611</td>\n",
       "      <td>4.7192</td>\n",
       "      <td>-93948354560</td>\n",
       "      <td>-74738221056</td>\n",
       "      <td>-60311207936</td>\n",
       "      <td>65.4772</td>\n",
       "      <td>59.2860</td>\n",
       "      <td>51.9378</td>\n",
       "      <td>0</td>\n",
       "    </tr>\n",
       "    <tr>\n",
       "      <th>3</th>\n",
       "      <td>416063</td>\n",
       "      <td>2351.2100</td>\n",
       "      <td>827.9804</td>\n",
       "      <td>645.2988</td>\n",
       "      <td>0.6266</td>\n",
       "      <td>727.8378</td>\n",
       "      <td>0.9948</td>\n",
       "      <td>418255</td>\n",
       "      <td>0.7759</td>\n",
       "      <td>1.2831</td>\n",
       "      <td>...</td>\n",
       "      <td>5.0401</td>\n",
       "      <td>8.6136</td>\n",
       "      <td>8.2618</td>\n",
       "      <td>-32074307584</td>\n",
       "      <td>-32060925952</td>\n",
       "      <td>-29575010304</td>\n",
       "      <td>43.3900</td>\n",
       "      <td>44.1259</td>\n",
       "      <td>41.1882</td>\n",
       "      <td>0</td>\n",
       "    </tr>\n",
       "    <tr>\n",
       "      <th>4</th>\n",
       "      <td>347562</td>\n",
       "      <td>2160.3540</td>\n",
       "      <td>763.9877</td>\n",
       "      <td>582.8359</td>\n",
       "      <td>0.6465</td>\n",
       "      <td>665.2291</td>\n",
       "      <td>0.9908</td>\n",
       "      <td>350797</td>\n",
       "      <td>0.7569</td>\n",
       "      <td>1.3108</td>\n",
       "      <td>...</td>\n",
       "      <td>2.7016</td>\n",
       "      <td>2.9761</td>\n",
       "      <td>4.4146</td>\n",
       "      <td>-39980974080</td>\n",
       "      <td>-35980042240</td>\n",
       "      <td>-25593278464</td>\n",
       "      <td>52.7743</td>\n",
       "      <td>50.9080</td>\n",
       "      <td>42.6666</td>\n",
       "      <td>0</td>\n",
       "    </tr>\n",
       "    <tr>\n",
       "      <th>5</th>\n",
       "      <td>408953</td>\n",
       "      <td>2326.6931</td>\n",
       "      <td>840.1821</td>\n",
       "      <td>622.0076</td>\n",
       "      <td>0.6722</td>\n",
       "      <td>721.5921</td>\n",
       "      <td>0.9974</td>\n",
       "      <td>410036</td>\n",
       "      <td>0.7805</td>\n",
       "      <td>1.3508</td>\n",
       "      <td>...</td>\n",
       "      <td>3.6309</td>\n",
       "      <td>6.0285</td>\n",
       "      <td>6.2159</td>\n",
       "      <td>-41140371456</td>\n",
       "      <td>-33146710016</td>\n",
       "      <td>-27907301376</td>\n",
       "      <td>49.7001</td>\n",
       "      <td>45.3190</td>\n",
       "      <td>39.7371</td>\n",
       "      <td>0</td>\n",
       "    </tr>\n",
       "    <tr>\n",
       "      <th>6</th>\n",
       "      <td>451414</td>\n",
       "      <td>2457.2080</td>\n",
       "      <td>889.3253</td>\n",
       "      <td>652.4316</td>\n",
       "      <td>0.6796</td>\n",
       "      <td>758.1281</td>\n",
       "      <td>0.9970</td>\n",
       "      <td>452755</td>\n",
       "      <td>0.7877</td>\n",
       "      <td>1.3631</td>\n",
       "      <td>...</td>\n",
       "      <td>3.0703</td>\n",
       "      <td>3.4163</td>\n",
       "      <td>4.9168</td>\n",
       "      <td>-63711666176</td>\n",
       "      <td>-64060743680</td>\n",
       "      <td>-52603465728</td>\n",
       "      <td>57.8060</td>\n",
       "      <td>58.5449</td>\n",
       "      <td>52.4199</td>\n",
       "      <td>0</td>\n",
       "    </tr>\n",
       "    <tr>\n",
       "      <th>7</th>\n",
       "      <td>382636</td>\n",
       "      <td>2275.7791</td>\n",
       "      <td>808.0833</td>\n",
       "      <td>609.2819</td>\n",
       "      <td>0.6569</td>\n",
       "      <td>697.9880</td>\n",
       "      <td>0.9931</td>\n",
       "      <td>385277</td>\n",
       "      <td>0.7032</td>\n",
       "      <td>1.3263</td>\n",
       "      <td>...</td>\n",
       "      <td>3.6756</td>\n",
       "      <td>7.0258</td>\n",
       "      <td>5.3254</td>\n",
       "      <td>-29873577984</td>\n",
       "      <td>-33570080768</td>\n",
       "      <td>-33054025728</td>\n",
       "      <td>45.1768</td>\n",
       "      <td>48.2407</td>\n",
       "      <td>47.2167</td>\n",
       "      <td>0</td>\n",
       "    </tr>\n",
       "    <tr>\n",
       "      <th>8</th>\n",
       "      <td>546063</td>\n",
       "      <td>2714.9480</td>\n",
       "      <td>916.3737</td>\n",
       "      <td>766.4536</td>\n",
       "      <td>0.5481</td>\n",
       "      <td>833.8279</td>\n",
       "      <td>0.9882</td>\n",
       "      <td>552598</td>\n",
       "      <td>0.7710</td>\n",
       "      <td>1.1956</td>\n",
       "      <td>...</td>\n",
       "      <td>3.4640</td>\n",
       "      <td>3.7416</td>\n",
       "      <td>4.8120</td>\n",
       "      <td>-95262416896</td>\n",
       "      <td>-79321833472</td>\n",
       "      <td>-69569445888</td>\n",
       "      <td>64.6188</td>\n",
       "      <td>59.9127</td>\n",
       "      <td>55.6509</td>\n",
       "      <td>0</td>\n",
       "    </tr>\n",
       "    <tr>\n",
       "      <th>9</th>\n",
       "      <td>420044</td>\n",
       "      <td>2391.1230</td>\n",
       "      <td>836.9280</td>\n",
       "      <td>645.1822</td>\n",
       "      <td>0.6370</td>\n",
       "      <td>731.3116</td>\n",
       "      <td>0.9918</td>\n",
       "      <td>423531</td>\n",
       "      <td>0.7853</td>\n",
       "      <td>1.2972</td>\n",
       "      <td>...</td>\n",
       "      <td>3.3729</td>\n",
       "      <td>4.2898</td>\n",
       "      <td>5.4637</td>\n",
       "      <td>-74341122048</td>\n",
       "      <td>-58172182528</td>\n",
       "      <td>-42640556032</td>\n",
       "      <td>64.9094</td>\n",
       "      <td>58.2771</td>\n",
       "      <td>48.4820</td>\n",
       "      <td>0</td>\n",
       "    </tr>\n",
       "  </tbody>\n",
       "</table>\n",
       "<p>10 rows × 35 columns</p>\n",
       "</div>"
      ],
      "text/plain": [
       "     AREA  PERIMETER  MAJOR_AXIS  MINOR_AXIS  ECCENTRICITY   EQDIASQ  \\\n",
       "0  422163  2378.9080    837.8484    645.6693        0.6373  733.1539   \n",
       "1  338136  2085.1440    723.8198    595.2073        0.5690  656.1464   \n",
       "2  526843  2647.3940    940.7379    715.3638        0.6494  819.0222   \n",
       "3  416063  2351.2100    827.9804    645.2988        0.6266  727.8378   \n",
       "4  347562  2160.3540    763.9877    582.8359        0.6465  665.2291   \n",
       "5  408953  2326.6931    840.1821    622.0076        0.6722  721.5921   \n",
       "6  451414  2457.2080    889.3253    652.4316        0.6796  758.1281   \n",
       "7  382636  2275.7791    808.0833    609.2819        0.6569  697.9880   \n",
       "8  546063  2714.9480    916.3737    766.4536        0.5481  833.8279   \n",
       "9  420044  2391.1230    836.9280    645.1822        0.6370  731.3116   \n",
       "\n",
       "   SOLIDITY  CONVEX_AREA  EXTENT  ASPECT_RATIO  ...  KurtosisRR  KurtosisRG  \\\n",
       "0    0.9947       424428  0.7831        1.2976  ...      3.2370      2.9574   \n",
       "1    0.9974       339014  0.7795        1.2161  ...      2.6228      2.6350   \n",
       "2    0.9962       528876  0.7657        1.3150  ...      3.7516      3.8611   \n",
       "3    0.9948       418255  0.7759        1.2831  ...      5.0401      8.6136   \n",
       "4    0.9908       350797  0.7569        1.3108  ...      2.7016      2.9761   \n",
       "5    0.9974       410036  0.7805        1.3508  ...      3.6309      6.0285   \n",
       "6    0.9970       452755  0.7877        1.3631  ...      3.0703      3.4163   \n",
       "7    0.9931       385277  0.7032        1.3263  ...      3.6756      7.0258   \n",
       "8    0.9882       552598  0.7710        1.1956  ...      3.4640      3.7416   \n",
       "9    0.9918       423531  0.7853        1.2972  ...      3.3729      4.2898   \n",
       "\n",
       "   KurtosisRB    EntropyRR    EntropyRG    EntropyRB  ALLdaub4RR  ALLdaub4RG  \\\n",
       "0      4.2287 -59191263232 -50714214400 -39922372608     58.7255     54.9554   \n",
       "1      3.1704 -34233065472 -37462601728 -31477794816     50.0259     52.8168   \n",
       "2      4.7192 -93948354560 -74738221056 -60311207936     65.4772     59.2860   \n",
       "3      8.2618 -32074307584 -32060925952 -29575010304     43.3900     44.1259   \n",
       "4      4.4146 -39980974080 -35980042240 -25593278464     52.7743     50.9080   \n",
       "5      6.2159 -41140371456 -33146710016 -27907301376     49.7001     45.3190   \n",
       "6      4.9168 -63711666176 -64060743680 -52603465728     57.8060     58.5449   \n",
       "7      5.3254 -29873577984 -33570080768 -33054025728     45.1768     48.2407   \n",
       "8      4.8120 -95262416896 -79321833472 -69569445888     64.6188     59.9127   \n",
       "9      5.4637 -74341122048 -58172182528 -42640556032     64.9094     58.2771   \n",
       "\n",
       "   ALLdaub4RB  Class  \n",
       "0     47.8400      0  \n",
       "1     47.8315      0  \n",
       "2     51.9378      0  \n",
       "3     41.1882      0  \n",
       "4     42.6666      0  \n",
       "5     39.7371      0  \n",
       "6     52.4199      0  \n",
       "7     47.2167      0  \n",
       "8     55.6509      0  \n",
       "9     48.4820      0  \n",
       "\n",
       "[10 rows x 35 columns]"
      ]
     },
     "execution_count": 10,
     "metadata": {},
     "output_type": "execute_result"
    }
   ],
   "source": [
    "label_encoder_class = preprocessing.LabelEncoder()\n",
    "df_fruits['Class'] = label_encoder_class.fit_transform(df_fruits['Class'])\n",
    "df_fruits.head(10)"
   ]
  },
  {
   "cell_type": "code",
   "execution_count": 11,
   "metadata": {
    "colab": {
     "base_uri": "https://localhost:8080/"
    },
    "id": "iMM9oquj8l0P",
    "outputId": "1dc25e23-9c8c-43e1-acfe-5ff1251d2843"
   },
   "outputs": [
    {
     "name": "stdout",
     "output_type": "stream",
     "text": [
      "Category in Class is : [0 1 2 3 4 5 6]\n",
      "Number of categories in Y: 7\n"
     ]
    }
   ],
   "source": [
    "print(f\"Category in Class is : {df_fruits['Class'].unique()}\")\n",
    "print(f\"Number of categories in Y: {len(df_fruits['Class'].unique())}\")"
   ]
  },
  {
   "cell_type": "markdown",
   "metadata": {
    "id": "Texb2mQBuxSL"
   },
   "source": [
    "### Normalização dos Dados"
   ]
  },
  {
   "cell_type": "markdown",
   "metadata": {
    "id": "2K8eKbAH8sMi"
   },
   "source": [
    "#### Separação do X e Y"
   ]
  },
  {
   "cell_type": "code",
   "execution_count": 12,
   "metadata": {
    "colab": {
     "base_uri": "https://localhost:8080/"
    },
    "id": "7KoyVL-t8w-a",
    "outputId": "baf6735b-3d38-48cc-b02d-f0a21bc93441"
   },
   "outputs": [
    {
     "data": {
      "text/plain": [
       "(898, 34)"
      ]
     },
     "execution_count": 12,
     "metadata": {},
     "output_type": "execute_result"
    }
   ],
   "source": [
    "y_df = df_fruits['Class']\n",
    "x_df = df_fruits[df_fruits.columns.difference(['Class'])]\n",
    "x_df.shape"
   ]
  },
  {
   "cell_type": "code",
   "execution_count": 13,
   "metadata": {
    "colab": {
     "base_uri": "https://localhost:8080/",
     "height": 412
    },
    "id": "a_bOnvzcu0bg",
    "outputId": "eb7aa820-7a80-46d3-bf76-8e5b6060e764"
   },
   "outputs": [
    {
     "data": {
      "text/html": [
       "<div>\n",
       "<style scoped>\n",
       "    .dataframe tbody tr th:only-of-type {\n",
       "        vertical-align: middle;\n",
       "    }\n",
       "\n",
       "    .dataframe tbody tr th {\n",
       "        vertical-align: top;\n",
       "    }\n",
       "\n",
       "    .dataframe thead th {\n",
       "        text-align: right;\n",
       "    }\n",
       "</style>\n",
       "<table border=\"1\" class=\"dataframe\">\n",
       "  <thead>\n",
       "    <tr style=\"text-align: right;\">\n",
       "      <th></th>\n",
       "      <th>ALLdaub4RB</th>\n",
       "      <th>ALLdaub4RG</th>\n",
       "      <th>ALLdaub4RR</th>\n",
       "      <th>AREA</th>\n",
       "      <th>ASPECT_RATIO</th>\n",
       "      <th>COMPACTNESS</th>\n",
       "      <th>CONVEX_AREA</th>\n",
       "      <th>ECCENTRICITY</th>\n",
       "      <th>EQDIASQ</th>\n",
       "      <th>EXTENT</th>\n",
       "      <th>...</th>\n",
       "      <th>SHAPEFACTOR_2</th>\n",
       "      <th>SHAPEFACTOR_3</th>\n",
       "      <th>SHAPEFACTOR_4</th>\n",
       "      <th>SOLIDITY</th>\n",
       "      <th>SkewRB</th>\n",
       "      <th>SkewRG</th>\n",
       "      <th>SkewRR</th>\n",
       "      <th>StdDevRB</th>\n",
       "      <th>StdDevRG</th>\n",
       "      <th>StdDevRR</th>\n",
       "    </tr>\n",
       "  </thead>\n",
       "  <tbody>\n",
       "    <tr>\n",
       "      <th>0</th>\n",
       "      <td>-0.023908</td>\n",
       "      <td>0.435593</td>\n",
       "      <td>0.538340</td>\n",
       "      <td>1.155640</td>\n",
       "      <td>-0.046797</td>\n",
       "      <td>1.091228</td>\n",
       "      <td>1.108752</td>\n",
       "      <td>-1.129568</td>\n",
       "      <td>1.075704</td>\n",
       "      <td>0.871873</td>\n",
       "      <td>...</td>\n",
       "      <td>-0.688443</td>\n",
       "      <td>1.169934</td>\n",
       "      <td>0.240467</td>\n",
       "      <td>0.708628</td>\n",
       "      <td>0.555487</td>\n",
       "      <td>-0.553810</td>\n",
       "      <td>-0.695157</td>\n",
       "      <td>0.810769</td>\n",
       "      <td>-0.607179</td>\n",
       "      <td>-0.401724</td>\n",
       "    </tr>\n",
       "    <tr>\n",
       "      <th>1</th>\n",
       "      <td>-0.024694</td>\n",
       "      <td>0.284113</td>\n",
       "      <td>-0.003550</td>\n",
       "      <td>0.371700</td>\n",
       "      <td>-0.051373</td>\n",
       "      <td>1.598142</td>\n",
       "      <td>0.323373</td>\n",
       "      <td>-1.899771</td>\n",
       "      <td>0.431437</td>\n",
       "      <td>0.804852</td>\n",
       "      <td>...</td>\n",
       "      <td>0.013019</td>\n",
       "      <td>1.765084</td>\n",
       "      <td>0.519036</td>\n",
       "      <td>0.857410</td>\n",
       "      <td>0.257494</td>\n",
       "      <td>-0.413034</td>\n",
       "      <td>-0.341620</td>\n",
       "      <td>0.402781</td>\n",
       "      <td>-0.529053</td>\n",
       "      <td>-0.282678</td>\n",
       "    </tr>\n",
       "    <tr>\n",
       "      <th>2</th>\n",
       "      <td>0.355243</td>\n",
       "      <td>0.742335</td>\n",
       "      <td>0.958897</td>\n",
       "      <td>2.132265</td>\n",
       "      <td>-0.045820</td>\n",
       "      <td>1.020421</td>\n",
       "      <td>2.069149</td>\n",
       "      <td>-0.993119</td>\n",
       "      <td>1.794103</td>\n",
       "      <td>0.547942</td>\n",
       "      <td>...</td>\n",
       "      <td>-0.922263</td>\n",
       "      <td>1.088247</td>\n",
       "      <td>0.396857</td>\n",
       "      <td>0.791285</td>\n",
       "      <td>1.055673</td>\n",
       "      <td>-0.644743</td>\n",
       "      <td>-0.853310</td>\n",
       "      <td>1.582297</td>\n",
       "      <td>-0.322719</td>\n",
       "      <td>0.104097</td>\n",
       "    </tr>\n",
       "    <tr>\n",
       "      <th>3</th>\n",
       "      <td>-0.639369</td>\n",
       "      <td>-0.331475</td>\n",
       "      <td>-0.416894</td>\n",
       "      <td>1.098729</td>\n",
       "      <td>-0.047612</td>\n",
       "      <td>1.157207</td>\n",
       "      <td>1.051992</td>\n",
       "      <td>-1.250230</td>\n",
       "      <td>1.031228</td>\n",
       "      <td>0.737832</td>\n",
       "      <td>...</td>\n",
       "      <td>-0.454622</td>\n",
       "      <td>1.244196</td>\n",
       "      <td>0.137837</td>\n",
       "      <td>0.714138</td>\n",
       "      <td>2.453948</td>\n",
       "      <td>0.700094</td>\n",
       "      <td>0.391546</td>\n",
       "      <td>0.866354</td>\n",
       "      <td>-0.346734</td>\n",
       "      <td>-0.050550</td>\n",
       "    </tr>\n",
       "    <tr>\n",
       "      <th>4</th>\n",
       "      <td>-0.502579</td>\n",
       "      <td>0.148910</td>\n",
       "      <td>0.167646</td>\n",
       "      <td>0.459641</td>\n",
       "      <td>-0.046056</td>\n",
       "      <td>1.022030</td>\n",
       "      <td>0.431717</td>\n",
       "      <td>-1.025822</td>\n",
       "      <td>0.507425</td>\n",
       "      <td>0.384115</td>\n",
       "      <td>...</td>\n",
       "      <td>-0.220802</td>\n",
       "      <td>1.090369</td>\n",
       "      <td>0.250242</td>\n",
       "      <td>0.493720</td>\n",
       "      <td>1.005402</td>\n",
       "      <td>-0.340673</td>\n",
       "      <td>-0.471452</td>\n",
       "      <td>0.209241</td>\n",
       "      <td>-0.248073</td>\n",
       "      <td>0.201964</td>\n",
       "    </tr>\n",
       "    <tr>\n",
       "      <th>5</th>\n",
       "      <td>-0.773632</td>\n",
       "      <td>-0.246966</td>\n",
       "      <td>-0.023844</td>\n",
       "      <td>1.032395</td>\n",
       "      <td>-0.043810</td>\n",
       "      <td>0.832139</td>\n",
       "      <td>0.976418</td>\n",
       "      <td>-0.736009</td>\n",
       "      <td>0.978975</td>\n",
       "      <td>0.823469</td>\n",
       "      <td>...</td>\n",
       "      <td>-0.688443</td>\n",
       "      <td>0.871829</td>\n",
       "      <td>0.377308</td>\n",
       "      <td>0.857410</td>\n",
       "      <td>2.065529</td>\n",
       "      <td>0.361671</td>\n",
       "      <td>0.031433</td>\n",
       "      <td>1.356365</td>\n",
       "      <td>-0.428945</td>\n",
       "      <td>-0.125430</td>\n",
       "    </tr>\n",
       "    <tr>\n",
       "      <th>6</th>\n",
       "      <td>0.399849</td>\n",
       "      <td>0.689842</td>\n",
       "      <td>0.481066</td>\n",
       "      <td>1.428541</td>\n",
       "      <td>-0.043120</td>\n",
       "      <td>0.729147</td>\n",
       "      <td>1.369218</td>\n",
       "      <td>-0.652561</td>\n",
       "      <td>1.284645</td>\n",
       "      <td>0.957509</td>\n",
       "      <td>...</td>\n",
       "      <td>-0.922263</td>\n",
       "      <td>0.756194</td>\n",
       "      <td>0.093852</td>\n",
       "      <td>0.835369</td>\n",
       "      <td>1.094878</td>\n",
       "      <td>-0.106943</td>\n",
       "      <td>-0.030407</td>\n",
       "      <td>1.569916</td>\n",
       "      <td>0.661597</td>\n",
       "      <td>0.732422</td>\n",
       "    </tr>\n",
       "    <tr>\n",
       "      <th>7</th>\n",
       "      <td>-0.081579</td>\n",
       "      <td>-0.040018</td>\n",
       "      <td>-0.305596</td>\n",
       "      <td>0.786868</td>\n",
       "      <td>-0.045186</td>\n",
       "      <td>0.910992</td>\n",
       "      <td>0.748760</td>\n",
       "      <td>-0.908544</td>\n",
       "      <td>0.781496</td>\n",
       "      <td>-0.615601</td>\n",
       "      <td>...</td>\n",
       "      <td>-0.454622</td>\n",
       "      <td>0.962003</td>\n",
       "      <td>0.040093</td>\n",
       "      <td>0.620461</td>\n",
       "      <td>1.173606</td>\n",
       "      <td>0.366771</td>\n",
       "      <td>-0.448116</td>\n",
       "      <td>-1.096359</td>\n",
       "      <td>-2.131233</td>\n",
       "      <td>-1.514057</td>\n",
       "    </tr>\n",
       "    <tr>\n",
       "      <th>8</th>\n",
       "      <td>0.698799</td>\n",
       "      <td>0.786725</td>\n",
       "      <td>0.905429</td>\n",
       "      <td>2.311580</td>\n",
       "      <td>-0.052524</td>\n",
       "      <td>1.652856</td>\n",
       "      <td>2.287272</td>\n",
       "      <td>-2.135455</td>\n",
       "      <td>1.917972</td>\n",
       "      <td>0.646611</td>\n",
       "      <td>...</td>\n",
       "      <td>-0.922263</td>\n",
       "      <td>1.830859</td>\n",
       "      <td>0.059642</td>\n",
       "      <td>0.350448</td>\n",
       "      <td>0.102570</td>\n",
       "      <td>-0.773203</td>\n",
       "      <td>-0.894784</td>\n",
       "      <td>0.636750</td>\n",
       "      <td>-0.250455</td>\n",
       "      <td>0.301783</td>\n",
       "    </tr>\n",
       "    <tr>\n",
       "      <th>9</th>\n",
       "      <td>0.035493</td>\n",
       "      <td>0.670873</td>\n",
       "      <td>0.923530</td>\n",
       "      <td>1.135870</td>\n",
       "      <td>-0.046820</td>\n",
       "      <td>1.071917</td>\n",
       "      <td>1.100504</td>\n",
       "      <td>-1.132951</td>\n",
       "      <td>1.060291</td>\n",
       "      <td>0.912829</td>\n",
       "      <td>...</td>\n",
       "      <td>-0.688443</td>\n",
       "      <td>1.146595</td>\n",
       "      <td>0.088965</td>\n",
       "      <td>0.548825</td>\n",
       "      <td>1.487091</td>\n",
       "      <td>-0.206535</td>\n",
       "      <td>-0.441964</td>\n",
       "      <td>1.891700</td>\n",
       "      <td>0.134516</td>\n",
       "      <td>0.475546</td>\n",
       "    </tr>\n",
       "  </tbody>\n",
       "</table>\n",
       "<p>10 rows × 34 columns</p>\n",
       "</div>"
      ],
      "text/plain": [
       "   ALLdaub4RB  ALLdaub4RG  ALLdaub4RR      AREA  ASPECT_RATIO  COMPACTNESS  \\\n",
       "0   -0.023908    0.435593    0.538340  1.155640     -0.046797     1.091228   \n",
       "1   -0.024694    0.284113   -0.003550  0.371700     -0.051373     1.598142   \n",
       "2    0.355243    0.742335    0.958897  2.132265     -0.045820     1.020421   \n",
       "3   -0.639369   -0.331475   -0.416894  1.098729     -0.047612     1.157207   \n",
       "4   -0.502579    0.148910    0.167646  0.459641     -0.046056     1.022030   \n",
       "5   -0.773632   -0.246966   -0.023844  1.032395     -0.043810     0.832139   \n",
       "6    0.399849    0.689842    0.481066  1.428541     -0.043120     0.729147   \n",
       "7   -0.081579   -0.040018   -0.305596  0.786868     -0.045186     0.910992   \n",
       "8    0.698799    0.786725    0.905429  2.311580     -0.052524     1.652856   \n",
       "9    0.035493    0.670873    0.923530  1.135870     -0.046820     1.071917   \n",
       "\n",
       "   CONVEX_AREA  ECCENTRICITY   EQDIASQ    EXTENT  ...  SHAPEFACTOR_2  \\\n",
       "0     1.108752     -1.129568  1.075704  0.871873  ...      -0.688443   \n",
       "1     0.323373     -1.899771  0.431437  0.804852  ...       0.013019   \n",
       "2     2.069149     -0.993119  1.794103  0.547942  ...      -0.922263   \n",
       "3     1.051992     -1.250230  1.031228  0.737832  ...      -0.454622   \n",
       "4     0.431717     -1.025822  0.507425  0.384115  ...      -0.220802   \n",
       "5     0.976418     -0.736009  0.978975  0.823469  ...      -0.688443   \n",
       "6     1.369218     -0.652561  1.284645  0.957509  ...      -0.922263   \n",
       "7     0.748760     -0.908544  0.781496 -0.615601  ...      -0.454622   \n",
       "8     2.287272     -2.135455  1.917972  0.646611  ...      -0.922263   \n",
       "9     1.100504     -1.132951  1.060291  0.912829  ...      -0.688443   \n",
       "\n",
       "   SHAPEFACTOR_3  SHAPEFACTOR_4  SOLIDITY    SkewRB    SkewRG    SkewRR  \\\n",
       "0       1.169934       0.240467  0.708628  0.555487 -0.553810 -0.695157   \n",
       "1       1.765084       0.519036  0.857410  0.257494 -0.413034 -0.341620   \n",
       "2       1.088247       0.396857  0.791285  1.055673 -0.644743 -0.853310   \n",
       "3       1.244196       0.137837  0.714138  2.453948  0.700094  0.391546   \n",
       "4       1.090369       0.250242  0.493720  1.005402 -0.340673 -0.471452   \n",
       "5       0.871829       0.377308  0.857410  2.065529  0.361671  0.031433   \n",
       "6       0.756194       0.093852  0.835369  1.094878 -0.106943 -0.030407   \n",
       "7       0.962003       0.040093  0.620461  1.173606  0.366771 -0.448116   \n",
       "8       1.830859       0.059642  0.350448  0.102570 -0.773203 -0.894784   \n",
       "9       1.146595       0.088965  0.548825  1.487091 -0.206535 -0.441964   \n",
       "\n",
       "   StdDevRB  StdDevRG  StdDevRR  \n",
       "0  0.810769 -0.607179 -0.401724  \n",
       "1  0.402781 -0.529053 -0.282678  \n",
       "2  1.582297 -0.322719  0.104097  \n",
       "3  0.866354 -0.346734 -0.050550  \n",
       "4  0.209241 -0.248073  0.201964  \n",
       "5  1.356365 -0.428945 -0.125430  \n",
       "6  1.569916  0.661597  0.732422  \n",
       "7 -1.096359 -2.131233 -1.514057  \n",
       "8  0.636750 -0.250455  0.301783  \n",
       "9  1.891700  0.134516  0.475546  \n",
       "\n",
       "[10 rows x 34 columns]"
      ]
     },
     "execution_count": 13,
     "metadata": {},
     "output_type": "execute_result"
    }
   ],
   "source": [
    "scaler = preprocessing.StandardScaler()\n",
    "df = pd.DataFrame(scaler.fit_transform(x_df), columns=x_df.columns)\n",
    "df.head(10)"
   ]
  },
  {
   "cell_type": "markdown",
   "metadata": {
    "id": "qbj7xeUV13Vc"
   },
   "source": [
    "## Separação de X e Y"
   ]
  },
  {
   "cell_type": "markdown",
   "metadata": {
    "id": "bKxkepUi2J3G"
   },
   "source": [
    "### Y"
   ]
  },
  {
   "cell_type": "code",
   "execution_count": 14,
   "metadata": {
    "colab": {
     "base_uri": "https://localhost:8080/"
    },
    "id": "5vIAB50416GQ",
    "outputId": "092a58be-72e0-45d8-c19e-3ffb35746a6b"
   },
   "outputs": [
    {
     "data": {
      "text/plain": [
       "(898,)"
      ]
     },
     "execution_count": 14,
     "metadata": {},
     "output_type": "execute_result"
    }
   ],
   "source": [
    "y = y_df\n",
    "y.shape"
   ]
  },
  {
   "cell_type": "code",
   "execution_count": 15,
   "metadata": {
    "colab": {
     "base_uri": "https://localhost:8080/"
    },
    "id": "eFCSJ4AE2ZOk",
    "outputId": "861c8bdd-6c11-41cb-d5e4-186f3bdcfc57"
   },
   "outputs": [
    {
     "data": {
      "text/plain": [
       "(898, 1)"
      ]
     },
     "execution_count": 15,
     "metadata": {},
     "output_type": "execute_result"
    }
   ],
   "source": [
    "y = y.values.reshape(-1, 1)\n",
    "y.shape"
   ]
  },
  {
   "cell_type": "code",
   "execution_count": 16,
   "metadata": {
    "colab": {
     "base_uri": "https://localhost:8080/"
    },
    "id": "8rJd1BSG93Fm",
    "outputId": "0be71c85-21b5-4df5-d25b-a2ec31218424"
   },
   "outputs": [
    {
     "data": {
      "text/plain": [
       "array([0, 0, 0, 0, 0, 0, 0, 0, 0, 0, 0, 0, 0, 0, 0, 0, 0, 0, 0, 0, 0, 0,\n",
       "       0, 0, 0, 0, 0, 0, 0, 0, 0, 0, 0, 0, 0, 0, 0, 0, 0, 0, 0, 0, 0, 0,\n",
       "       0, 0, 0, 0, 0, 0, 0, 0, 0, 0, 0, 0, 0, 0, 0, 0, 0, 0, 0, 0, 0, 1,\n",
       "       1, 1, 1, 1, 1, 1, 1, 1, 1, 1, 1, 1, 1, 1, 1, 1, 1, 1, 1, 1, 1, 1,\n",
       "       1, 1, 1, 1, 1, 1, 1, 1, 1, 1, 1, 1, 1, 1, 1, 1, 1, 1, 1, 1, 1, 1,\n",
       "       1, 1, 1, 1, 1, 1, 1, 1, 1, 1, 1, 1, 1, 1, 1, 1, 1, 1, 1, 1, 1, 1,\n",
       "       1, 1, 1, 1, 1, 1, 1, 1, 1, 1, 1, 1, 1, 1, 1, 1, 1, 1, 1, 1, 1, 1,\n",
       "       1, 1, 1, 1, 1, 1, 1, 1, 1, 2, 2, 2, 2, 2, 2, 2, 2, 2, 2, 2, 2, 2,\n",
       "       2, 2, 2, 2, 2, 2, 2, 2, 2, 2, 2, 2, 2, 2, 2, 2, 2, 2, 2, 2, 2, 2,\n",
       "       2, 2, 2, 2, 2, 2, 2, 2, 2, 2, 2, 2, 2, 2, 2, 2, 2, 2, 2, 2, 2, 2,\n",
       "       2, 2, 2, 2, 2, 2, 2, 2, 2, 2, 2, 2, 2, 2, 2, 2, 2, 2, 2, 2, 2, 2,\n",
       "       2, 2, 2, 2, 2, 2, 2, 2, 2, 2, 2, 2, 2, 2, 2, 2, 2, 2, 2, 2, 2, 2,\n",
       "       2, 2, 2, 2, 2, 2, 2, 2, 2, 2, 2, 2, 2, 2, 2, 2, 2, 2, 2, 2, 2, 2,\n",
       "       2, 2, 2, 2, 2, 2, 2, 2, 2, 2, 2, 2, 2, 2, 2, 2, 2, 2, 2, 2, 2, 2,\n",
       "       2, 2, 2, 2, 2, 2, 2, 2, 2, 2, 2, 2, 2, 2, 2, 2, 2, 2, 2, 2, 2, 2,\n",
       "       2, 2, 2, 2, 2, 2, 2, 2, 2, 2, 2, 2, 2, 2, 2, 2, 2, 2, 2, 2, 2, 2,\n",
       "       2, 2, 2, 2, 2, 2, 2, 2, 2, 2, 2, 2, 2, 2, 2, 3, 3, 3, 3, 3, 3, 3,\n",
       "       3, 3, 3, 3, 3, 3, 3, 3, 3, 3, 3, 3, 3, 3, 3, 3, 3, 3, 3, 3, 3, 3,\n",
       "       3, 3, 3, 3, 3, 3, 3, 3, 3, 3, 3, 3, 3, 3, 3, 3, 3, 3, 3, 3, 3, 3,\n",
       "       3, 3, 3, 3, 3, 3, 3, 3, 3, 3, 3, 3, 3, 3, 3, 3, 3, 3, 3, 3, 3, 4,\n",
       "       4, 4, 4, 4, 4, 4, 4, 4, 4, 4, 4, 4, 4, 4, 4, 4, 4, 4, 4, 4, 4, 4,\n",
       "       4, 4, 4, 4, 4, 4, 4, 4, 4, 4, 4, 4, 4, 4, 4, 4, 4, 4, 4, 4, 4, 4,\n",
       "       4, 4, 4, 4, 4, 4, 4, 4, 4, 4, 4, 4, 4, 4, 4, 4, 4, 4, 4, 4, 4, 4,\n",
       "       4, 4, 4, 4, 4, 4, 4, 4, 4, 4, 4, 4, 4, 4, 4, 4, 4, 4, 4, 4, 4, 4,\n",
       "       4, 4, 4, 4, 4, 4, 4, 4, 4, 4, 4, 4, 4, 4, 4, 4, 4, 4, 4, 4, 4, 4,\n",
       "       4, 4, 4, 4, 4, 4, 4, 4, 4, 4, 4, 4, 4, 4, 4, 4, 4, 4, 4, 4, 4, 4,\n",
       "       4, 4, 4, 4, 4, 4, 4, 4, 4, 4, 4, 4, 4, 4, 4, 4, 4, 4, 4, 4, 4, 4,\n",
       "       4, 4, 4, 4, 4, 4, 4, 4, 4, 4, 4, 5, 5, 5, 5, 5, 5, 5, 5, 5, 5, 5,\n",
       "       5, 5, 5, 5, 5, 5, 5, 5, 5, 5, 5, 5, 5, 5, 5, 5, 5, 5, 5, 5, 5, 5,\n",
       "       5, 5, 5, 5, 5, 5, 5, 5, 5, 5, 5, 5, 5, 5, 5, 5, 5, 5, 5, 5, 5, 5,\n",
       "       5, 5, 5, 5, 5, 5, 5, 5, 5, 5, 5, 5, 5, 5, 5, 5, 5, 5, 5, 5, 5, 5,\n",
       "       5, 5, 5, 5, 5, 5, 5, 5, 5, 5, 5, 5, 5, 5, 5, 5, 5, 5, 5, 5, 5, 5,\n",
       "       5, 5, 5, 5, 5, 5, 5, 5, 5, 5, 5, 5, 5, 5, 5, 5, 5, 5, 5, 5, 5, 5,\n",
       "       5, 5, 5, 5, 5, 5, 5, 5, 5, 5, 5, 5, 5, 5, 5, 5, 5, 5, 5, 5, 5, 5,\n",
       "       5, 5, 5, 5, 5, 5, 5, 5, 5, 5, 5, 5, 5, 5, 5, 5, 5, 5, 5, 5, 5, 5,\n",
       "       5, 5, 5, 5, 5, 5, 5, 5, 5, 5, 5, 5, 5, 5, 5, 5, 5, 5, 5, 5, 5, 5,\n",
       "       5, 5, 5, 5, 5, 5, 5, 5, 5, 5, 5, 5, 6, 6, 6, 6, 6, 6, 6, 6, 6, 6,\n",
       "       6, 6, 6, 6, 6, 6, 6, 6, 6, 6, 6, 6, 6, 6, 6, 6, 6, 6, 6, 6, 6, 6,\n",
       "       6, 6, 6, 6, 6, 6, 6, 6, 6, 6, 6, 6, 6, 6, 6, 6, 6, 6, 6, 6, 6, 6,\n",
       "       6, 6, 6, 6, 6, 6, 6, 6, 6, 6, 6, 6, 6, 6, 6, 6, 6, 6, 6, 6, 6, 6,\n",
       "       6, 6, 6, 6, 6, 6, 6, 6, 6, 6, 6, 6, 6, 6, 6, 6, 6, 6])"
      ]
     },
     "execution_count": 16,
     "metadata": {},
     "output_type": "execute_result"
    }
   ],
   "source": [
    "y = (y.transpose())[0]\n",
    "y"
   ]
  },
  {
   "cell_type": "markdown",
   "metadata": {
    "id": "GzxVmUhf2c4J"
   },
   "source": [
    "### X"
   ]
  },
  {
   "cell_type": "code",
   "execution_count": 17,
   "metadata": {
    "colab": {
     "base_uri": "https://localhost:8080/"
    },
    "id": "EbpW8eLL2sXQ",
    "outputId": "ca947b50-814b-4eeb-d959-42df534f445f"
   },
   "outputs": [
    {
     "data": {
      "text/plain": [
       "(898, 34)"
      ]
     },
     "execution_count": 17,
     "metadata": {},
     "output_type": "execute_result"
    }
   ],
   "source": [
    "x = x_df\n",
    "x.shape"
   ]
  },
  {
   "cell_type": "markdown",
   "metadata": {
    "id": "gDpg1U7v2__O"
   },
   "source": [
    "## Criação do Dataset"
   ]
  },
  {
   "cell_type": "code",
   "execution_count": 18,
   "metadata": {
    "id": "qoZoFdkN3CuK"
   },
   "outputs": [],
   "source": [
    "class CustomDataset(Dataset):\n",
    "  def __init__(self, x, y):\n",
    "    super(CustomDataset, self).__init__()\n",
    "    self.x = torch.Tensor(x)\n",
    "    self.y = torch.LongTensor(y)\n",
    "\n",
    "  def __getitem__(self, index):\n",
    "    return self.x[index], self.y[index]\n",
    "\n",
    "  def __len__(self):\n",
    "    return len(self.x)"
   ]
  },
  {
   "cell_type": "markdown",
   "metadata": {
    "id": "iN7bqx7R3d-U"
   },
   "source": [
    "## Instanciação do Dataset"
   ]
  },
  {
   "cell_type": "code",
   "execution_count": 19,
   "metadata": {
    "id": "JrluOP9o3YVV"
   },
   "outputs": [],
   "source": [
    "dataset = CustomDataset(x.to_numpy(), y)"
   ]
  },
  {
   "cell_type": "markdown",
   "metadata": {
    "id": "kS4ePeye3hNQ"
   },
   "source": [
    "## Separação Treino / Teste"
   ]
  },
  {
   "cell_type": "code",
   "execution_count": 20,
   "metadata": {
    "id": "Ynl9vbru3bin"
   },
   "outputs": [],
   "source": [
    "dataset_train, dataset_test = random_split(dataset, [0.8, 0.2])"
   ]
  },
  {
   "cell_type": "markdown",
   "metadata": {
    "id": "I81jnFf23nFY"
   },
   "source": [
    "### Tamanho Dataset Treino"
   ]
  },
  {
   "cell_type": "code",
   "execution_count": 21,
   "metadata": {
    "colab": {
     "base_uri": "https://localhost:8080/"
    },
    "id": "50MH0w9y3mZl",
    "outputId": "89a0611c-5aad-4511-c05d-2979e08306f7"
   },
   "outputs": [
    {
     "name": "stdout",
     "output_type": "stream",
     "text": [
      "Tamanho Dataset Treino: 719\n"
     ]
    }
   ],
   "source": [
    "print(f'Tamanho Dataset Treino: {len(dataset_train)}')"
   ]
  },
  {
   "cell_type": "markdown",
   "metadata": {
    "id": "dxwFPGHZ3tGM"
   },
   "source": [
    "### Tamanho Dataset Test"
   ]
  },
  {
   "cell_type": "code",
   "execution_count": 22,
   "metadata": {
    "colab": {
     "base_uri": "https://localhost:8080/"
    },
    "id": "UhZQCV-R3vmb",
    "outputId": "f42a3d3e-927d-45ee-8212-cb8fd4817b91"
   },
   "outputs": [
    {
     "name": "stdout",
     "output_type": "stream",
     "text": [
      "Tamanho Dataset Teste: 179\n"
     ]
    }
   ],
   "source": [
    "print(f'Tamanho Dataset Teste: {len(dataset_test)}')"
   ]
  },
  {
   "cell_type": "markdown",
   "metadata": {
    "id": "1ssoyvNZ4sj_"
   },
   "source": [
    "## Dataloader"
   ]
  },
  {
   "cell_type": "code",
   "execution_count": 23,
   "metadata": {
    "colab": {
     "base_uri": "https://localhost:8080/"
    },
    "id": "B4mah1rr4uTS",
    "outputId": "c7a452e9-2e75-4700-fd0d-6335c6a4739a"
   },
   "outputs": [
    {
     "name": "stdout",
     "output_type": "stream",
     "text": [
      "device: cuda\n"
     ]
    }
   ],
   "source": [
    "use_cuda = torch.cuda.is_available()\n",
    "\n",
    "torch.manual_seed(111)\n",
    "\n",
    "device = torch.device(\"cuda\" if use_cuda else \"cpu\")\n",
    "print(f'device: {device}')\n",
    "\n",
    "train_kwargs = {'batch_size': 50}\n",
    "test_kwargs = {'batch_size': 50}\n",
    "if use_cuda:\n",
    "    cuda_kwargs = {'num_workers': 1,\n",
    "                    'pin_memory': True,\n",
    "                    'shuffle': True}\n",
    "    train_kwargs.update(cuda_kwargs)\n",
    "    test_kwargs.update(cuda_kwargs)\n",
    "\n",
    "train_loader = torch.utils.data.DataLoader(dataset_train,**train_kwargs)\n",
    "test_loader = torch.utils.data.DataLoader(dataset_test, **test_kwargs)"
   ]
  },
  {
   "cell_type": "markdown",
   "metadata": {
    "id": "xHCp3aaP4xly"
   },
   "source": [
    "## Criação da Rede"
   ]
  },
  {
   "cell_type": "code",
   "execution_count": 24,
   "metadata": {
    "id": "DKqeHawF4zfU"
   },
   "outputs": [],
   "source": [
    "input_size = 34 # TODO: validar o tamanho\n",
    "output_size = 7 # número de features da coluna Class\n",
    "\n",
    "class Net(nn.Module):\n",
    "    def __init__(self):\n",
    "        super(Net, self).__init__()\n",
    "        self.fc = nn.Sequential(\n",
    "            nn.Linear(input_size, 512),\n",
    "            nn.ReLU(),\n",
    "            nn.Linear(512, 1024),\n",
    "            nn.ReLU(),\n",
    "            nn.Linear(1024, 1024),\n",
    "            nn.ReLU(),\n",
    "            nn.Linear(1024, 3000),\n",
    "            nn.ReLU(),\n",
    "            nn.Linear(3000, 3000),\n",
    "            nn.ReLU(),\n",
    "            nn.Linear(3000, 1024),\n",
    "            nn.ReLU(),\n",
    "            nn.Linear(1024, 512),\n",
    "            nn.ReLU(),\n",
    "            nn.Linear(512, 128),\n",
    "            nn.ReLU(),\n",
    "            nn.Linear(128, output_size)\n",
    "        )\n",
    "\n",
    "    def forward(self, x):\n",
    "        x = self.fc(x)\n",
    "        output = F.log_softmax(x, dim=0)\n",
    "        return output\n",
    "\n",
    "\n",
    "model = Net()"
   ]
  },
  {
   "cell_type": "code",
   "execution_count": 25,
   "metadata": {
    "colab": {
     "base_uri": "https://localhost:8080/"
    },
    "id": "wGzH-RyV55j6",
    "outputId": "9b21fa16-7f1e-41f4-9e23-6d869cfb024a"
   },
   "outputs": [
    {
     "data": {
      "text/plain": [
       "Net(\n",
       "  (fc): Sequential(\n",
       "    (0): Linear(in_features=34, out_features=512, bias=True)\n",
       "    (1): ReLU()\n",
       "    (2): Linear(in_features=512, out_features=1024, bias=True)\n",
       "    (3): ReLU()\n",
       "    (4): Linear(in_features=1024, out_features=1024, bias=True)\n",
       "    (5): ReLU()\n",
       "    (6): Linear(in_features=1024, out_features=3000, bias=True)\n",
       "    (7): ReLU()\n",
       "    (8): Linear(in_features=3000, out_features=3000, bias=True)\n",
       "    (9): ReLU()\n",
       "    (10): Linear(in_features=3000, out_features=1024, bias=True)\n",
       "    (11): ReLU()\n",
       "    (12): Linear(in_features=1024, out_features=512, bias=True)\n",
       "    (13): ReLU()\n",
       "    (14): Linear(in_features=512, out_features=128, bias=True)\n",
       "    (15): ReLU()\n",
       "    (16): Linear(in_features=128, out_features=7, bias=True)\n",
       "  )\n",
       ")"
      ]
     },
     "execution_count": 25,
     "metadata": {},
     "output_type": "execute_result"
    }
   ],
   "source": [
    "model"
   ]
  },
  {
   "cell_type": "markdown",
   "metadata": {
    "id": "asodnNKh57sC"
   },
   "source": [
    "## Predict"
   ]
  },
  {
   "cell_type": "markdown",
   "metadata": {
    "id": "nlSK9R3459mV"
   },
   "source": [
    "### Treinamento"
   ]
  },
  {
   "cell_type": "code",
   "execution_count": 26,
   "metadata": {
    "colab": {
     "base_uri": "https://localhost:8080/"
    },
    "id": "nSIW8pi75_sc",
    "outputId": "406524cc-a7bd-4b0f-bc7a-3ad9fdeab661"
   },
   "outputs": [
    {
     "data": {
      "text/plain": [
       "tensor([ 4.1263e+01,  5.0260e+01,  5.3697e+01,  3.4045e+05,  1.2067e+00,\n",
       "         9.0890e-01,  3.4144e+05,  5.5970e-01,  6.5839e+02,  7.8130e-01,\n",
       "        -2.4675e+10, -3.4644e+10, -4.0366e+10,  4.2934e+00,  2.7434e+00,\n",
       "         2.4762e+00,  7.2441e+02,  6.0033e+02,  8.2521e+01,  1.0052e+02,\n",
       "         1.0740e+02,  2.0982e+03,  9.7180e-01,  2.1000e-03,  1.8000e-03,\n",
       "         8.2600e-01,  9.9680e-01,  9.9710e-01,  1.1704e+00,  4.7350e-01,\n",
       "        -1.7210e-01,  3.2049e+01,  2.6465e+01,  2.9497e+01])"
      ]
     },
     "execution_count": 26,
     "metadata": {},
     "output_type": "execute_result"
    }
   ],
   "source": [
    "dataset_train[5][0]"
   ]
  },
  {
   "cell_type": "code",
   "execution_count": 27,
   "metadata": {
    "colab": {
     "base_uri": "https://localhost:8080/"
    },
    "id": "fjMA1ZPK-0Ca",
    "outputId": "12e9c06f-502b-4391-d5aa-ae8371164ae0"
   },
   "outputs": [
    {
     "data": {
      "text/plain": [
       "tensor([ -6760961.0000,         0.0000,  -5433531.0000,  -2898735.0000,\n",
       "         -2787672.5000,  -4310282.0000, -11666535.0000],\n",
       "       grad_fn=<LogSoftmaxBackward0>)"
      ]
     },
     "execution_count": 27,
     "metadata": {},
     "output_type": "execute_result"
    }
   ],
   "source": [
    "model(dataset_train[5][0])"
   ]
  },
  {
   "cell_type": "markdown",
   "metadata": {
    "id": "K6WopeoZ6OFx"
   },
   "source": [
    "### Criando Objeto de Treinamento"
   ]
  },
  {
   "cell_type": "code",
   "execution_count": 28,
   "metadata": {
    "id": "LPEAv6MH6Su0"
   },
   "outputs": [],
   "source": [
    "def train(log_interval, dry_run, model, device, train_loader, optimizer, epoch, criterion):\n",
    "    model.train()\n",
    "    for batch_idx, (data, target) in enumerate(train_loader):\n",
    "        data, target = data.to(device), target.to(device)\n",
    "        optimizer.zero_grad()\n",
    "        output = model(data)\n",
    "        loss = criterion(output, target)\n",
    "        loss.backward()\n",
    "        optimizer.step()\n",
    "        if batch_idx % log_interval == 0:\n",
    "            print('Train Epoch: {} [{}/{} ({:.0f}%)]\\tLoss: {:.6f}'.format(\n",
    "                epoch, batch_idx * len(data),\n",
    "                len(train_loader.dataset),\n",
    "                100. * batch_idx / len(train_loader),\n",
    "                loss))\n",
    "            if dry_run:\n",
    "                break"
   ]
  },
  {
   "cell_type": "code",
   "execution_count": 29,
   "metadata": {
    "id": "8Q-nOgo46Td7"
   },
   "outputs": [],
   "source": [
    "def test(model, device, test_loader, criterion):\n",
    "    model.eval()\n",
    "    test_loss = 0\n",
    "    correct = 0\n",
    "    with torch.no_grad():\n",
    "        for data, target in test_loader:\n",
    "            data, target = data.to(device), target.to(device)\n",
    "            output = model(data)\n",
    "            test_loss += criterion(output, target).item()  # sum up batch loss\n",
    "            pred = output.argmax(dim=1, keepdim=True)  # get the index of the max log-probability\n",
    "            correct += pred.eq(target.view_as(pred)).sum().item()\n",
    "\n",
    "    test_loss /= len(test_loader.dataset)\n",
    "    acc = 100. * correct / len(test_loader.dataset)\n",
    "    print('\\nTest set: Average loss: {:.4f}, Accuracy: {}/{} ({:.0f}%)\\n'.format(\n",
    "        test_loss,\n",
    "        correct,\n",
    "        len(test_loader.dataset),\n",
    "        acc))\n",
    "    return acc, test_loss\n"
   ]
  },
  {
   "cell_type": "markdown",
   "metadata": {
    "id": "u-nSSNR06dj7"
   },
   "source": [
    "## Avaliação"
   ]
  },
  {
   "cell_type": "code",
   "execution_count": 30,
   "metadata": {
    "colab": {
     "base_uri": "https://localhost:8080/"
    },
    "id": "xNN_RV836h12",
    "outputId": "887062cb-f151-4df9-e389-b5bb1b81d3a7"
   },
   "outputs": [
    {
     "name": "stdout",
     "output_type": "stream",
     "text": [
      "\n",
      "Test set: Average loss: 83616.5419, Accuracy: 11/179 (6%)\n",
      "\n",
      "Train Epoch: 1 [0/719 (0%)]\tLoss: 3497267.750000\n",
      "Train Epoch: 1 [500/719 (67%)]\tLoss: 1106434.500000\n",
      "\n",
      "Test set: Average loss: 17431.5597, Accuracy: 65/179 (36%)\n",
      "\n",
      "saving...\n",
      "Train Epoch: 2 [0/719 (0%)]\tLoss: 522778.437500\n",
      "Train Epoch: 2 [500/719 (67%)]\tLoss: 272965.281250\n",
      "\n",
      "Test set: Average loss: 1772.5362, Accuracy: 64/179 (36%)\n",
      "\n",
      "Train Epoch: 3 [0/719 (0%)]\tLoss: 115385.796875\n",
      "Train Epoch: 3 [500/719 (67%)]\tLoss: 66233.273438\n",
      "\n",
      "Test set: Average loss: 1719.5733, Accuracy: 33/179 (18%)\n",
      "\n",
      "Train Epoch: 4 [0/719 (0%)]\tLoss: 85583.343750\n",
      "Train Epoch: 4 [500/719 (67%)]\tLoss: 27362.289062\n",
      "\n",
      "Test set: Average loss: 808.5771, Accuracy: 63/179 (35%)\n",
      "\n",
      "Train Epoch: 5 [0/719 (0%)]\tLoss: 32352.679688\n",
      "Train Epoch: 5 [500/719 (67%)]\tLoss: 7798.569824\n",
      "\n",
      "Test set: Average loss: 501.5772, Accuracy: 19/179 (11%)\n",
      "\n",
      "Train Epoch: 6 [0/719 (0%)]\tLoss: 21601.636719\n",
      "Train Epoch: 6 [500/719 (67%)]\tLoss: 7495.298340\n",
      "\n",
      "Test set: Average loss: 197.1934, Accuracy: 40/179 (22%)\n",
      "\n",
      "Train Epoch: 7 [0/719 (0%)]\tLoss: 8630.539062\n",
      "Train Epoch: 7 [500/719 (67%)]\tLoss: 5494.092285\n",
      "\n",
      "Test set: Average loss: 98.5139, Accuracy: 81/179 (45%)\n",
      "\n",
      "saving...\n",
      "Train Epoch: 8 [0/719 (0%)]\tLoss: 5259.186035\n",
      "Train Epoch: 8 [500/719 (67%)]\tLoss: 2564.823242\n",
      "\n",
      "Test set: Average loss: 28.8135, Accuracy: 89/179 (50%)\n",
      "\n",
      "saving...\n",
      "Train Epoch: 9 [0/719 (0%)]\tLoss: 2335.369629\n",
      "Train Epoch: 9 [500/719 (67%)]\tLoss: 1748.523315\n",
      "\n",
      "Test set: Average loss: 9.8298, Accuracy: 105/179 (59%)\n",
      "\n",
      "saving...\n",
      "Train Epoch: 10 [0/719 (0%)]\tLoss: 864.489685\n",
      "Train Epoch: 10 [500/719 (67%)]\tLoss: 333.270691\n",
      "\n",
      "Test set: Average loss: 10.1382, Accuracy: 90/179 (50%)\n",
      "\n",
      "Train Epoch: 11 [0/719 (0%)]\tLoss: 279.538696\n",
      "Train Epoch: 11 [500/719 (67%)]\tLoss: 494.709381\n",
      "\n",
      "Test set: Average loss: 5.4663, Accuracy: 99/179 (55%)\n",
      "\n",
      "Train Epoch: 12 [0/719 (0%)]\tLoss: 250.790100\n",
      "Train Epoch: 12 [500/719 (67%)]\tLoss: 311.588104\n",
      "\n",
      "Test set: Average loss: 6.4143, Accuracy: 103/179 (58%)\n",
      "\n",
      "Train Epoch: 13 [0/719 (0%)]\tLoss: 322.067261\n",
      "Train Epoch: 13 [500/719 (67%)]\tLoss: 200.273804\n",
      "\n",
      "Test set: Average loss: 3.3911, Accuracy: 109/179 (61%)\n",
      "\n",
      "saving...\n",
      "Train Epoch: 14 [0/719 (0%)]\tLoss: 417.499969\n",
      "Train Epoch: 14 [500/719 (67%)]\tLoss: 219.762955\n",
      "\n",
      "Test set: Average loss: 3.4380, Accuracy: 109/179 (61%)\n",
      "\n",
      "Train Epoch: 15 [0/719 (0%)]\tLoss: 238.818832\n",
      "Train Epoch: 15 [500/719 (67%)]\tLoss: 154.481812\n",
      "\n",
      "Test set: Average loss: 2.7227, Accuracy: 114/179 (64%)\n",
      "\n",
      "saving...\n",
      "Train Epoch: 16 [0/719 (0%)]\tLoss: 336.020599\n",
      "Train Epoch: 16 [500/719 (67%)]\tLoss: 186.238052\n",
      "\n",
      "Test set: Average loss: 2.9727, Accuracy: 94/179 (53%)\n",
      "\n",
      "Train Epoch: 17 [0/719 (0%)]\tLoss: 157.309448\n",
      "Train Epoch: 17 [500/719 (67%)]\tLoss: 147.083923\n",
      "\n",
      "Test set: Average loss: 3.1567, Accuracy: 95/179 (53%)\n",
      "\n",
      "Train Epoch: 18 [0/719 (0%)]\tLoss: 152.156937\n",
      "Train Epoch: 18 [500/719 (67%)]\tLoss: 166.082108\n",
      "\n",
      "Test set: Average loss: 2.1378, Accuracy: 119/179 (66%)\n",
      "\n",
      "saving...\n",
      "Train Epoch: 19 [0/719 (0%)]\tLoss: 235.357819\n",
      "Train Epoch: 19 [500/719 (67%)]\tLoss: 128.347076\n",
      "\n",
      "Test set: Average loss: 3.2407, Accuracy: 74/179 (41%)\n",
      "\n",
      "Train Epoch: 20 [0/719 (0%)]\tLoss: 166.610840\n",
      "Train Epoch: 20 [500/719 (67%)]\tLoss: 114.642860\n",
      "\n",
      "Test set: Average loss: 2.3197, Accuracy: 90/179 (50%)\n",
      "\n",
      "Train Epoch: 21 [0/719 (0%)]\tLoss: 90.652969\n",
      "Train Epoch: 21 [500/719 (67%)]\tLoss: 92.734627\n",
      "\n",
      "Test set: Average loss: 2.2869, Accuracy: 92/179 (51%)\n",
      "\n",
      "Train Epoch: 22 [0/719 (0%)]\tLoss: 67.451355\n",
      "Train Epoch: 22 [500/719 (67%)]\tLoss: 308.064056\n",
      "\n",
      "Test set: Average loss: 6.8742, Accuracy: 88/179 (49%)\n",
      "\n",
      "Train Epoch: 23 [0/719 (0%)]\tLoss: 297.963623\n",
      "Train Epoch: 23 [500/719 (67%)]\tLoss: 273.419617\n",
      "\n",
      "Test set: Average loss: 2.7368, Accuracy: 110/179 (61%)\n",
      "\n",
      "Train Epoch: 24 [0/719 (0%)]\tLoss: 184.317108\n",
      "Train Epoch: 24 [500/719 (67%)]\tLoss: 271.808350\n",
      "\n",
      "Test set: Average loss: 2.7096, Accuracy: 110/179 (61%)\n",
      "\n",
      "Train Epoch: 25 [0/719 (0%)]\tLoss: 141.798508\n",
      "Train Epoch: 25 [500/719 (67%)]\tLoss: 305.751984\n",
      "\n",
      "Test set: Average loss: 4.7438, Accuracy: 87/179 (49%)\n",
      "\n",
      "Train Epoch: 26 [0/719 (0%)]\tLoss: 188.823227\n",
      "Train Epoch: 26 [500/719 (67%)]\tLoss: 226.856918\n",
      "\n",
      "Test set: Average loss: 1.2136, Accuracy: 122/179 (68%)\n",
      "\n",
      "saving...\n",
      "Train Epoch: 27 [0/719 (0%)]\tLoss: 186.545105\n",
      "Train Epoch: 27 [500/719 (67%)]\tLoss: 142.552551\n",
      "\n",
      "Test set: Average loss: 1.4113, Accuracy: 107/179 (60%)\n",
      "\n",
      "Train Epoch: 28 [0/719 (0%)]\tLoss: 120.882233\n",
      "Train Epoch: 28 [500/719 (67%)]\tLoss: 124.240440\n",
      "\n",
      "Test set: Average loss: 3.4449, Accuracy: 106/179 (59%)\n",
      "\n",
      "Train Epoch: 29 [0/719 (0%)]\tLoss: 108.941116\n",
      "Train Epoch: 29 [500/719 (67%)]\tLoss: 151.155609\n",
      "\n",
      "Test set: Average loss: 5.7740, Accuracy: 82/179 (46%)\n",
      "\n",
      "Train Epoch: 30 [0/719 (0%)]\tLoss: 327.412903\n",
      "Train Epoch: 30 [500/719 (67%)]\tLoss: 287.477081\n",
      "\n",
      "Test set: Average loss: 5.2539, Accuracy: 83/179 (46%)\n",
      "\n",
      "Train Epoch: 31 [0/719 (0%)]\tLoss: 277.250427\n",
      "Train Epoch: 31 [500/719 (67%)]\tLoss: 809.731506\n",
      "\n",
      "Test set: Average loss: 5.3993, Accuracy: 66/179 (37%)\n",
      "\n",
      "Train Epoch: 32 [0/719 (0%)]\tLoss: 236.315292\n",
      "Train Epoch: 32 [500/719 (67%)]\tLoss: 164.339569\n",
      "\n",
      "Test set: Average loss: 3.3816, Accuracy: 82/179 (46%)\n",
      "\n",
      "Train Epoch: 33 [0/719 (0%)]\tLoss: 160.499908\n",
      "Train Epoch: 33 [500/719 (67%)]\tLoss: 226.972794\n",
      "\n",
      "Test set: Average loss: 2.8158, Accuracy: 105/179 (59%)\n",
      "\n",
      "Train Epoch: 34 [0/719 (0%)]\tLoss: 127.413147\n",
      "Train Epoch: 34 [500/719 (67%)]\tLoss: 490.666199\n",
      "\n",
      "Test set: Average loss: 5.4426, Accuracy: 90/179 (50%)\n",
      "\n",
      "Train Epoch: 35 [0/719 (0%)]\tLoss: 313.428680\n",
      "Train Epoch: 35 [500/719 (67%)]\tLoss: 134.462097\n",
      "\n",
      "Test set: Average loss: 3.6975, Accuracy: 78/179 (44%)\n",
      "\n",
      "Train Epoch: 36 [0/719 (0%)]\tLoss: 240.811646\n",
      "Train Epoch: 36 [500/719 (67%)]\tLoss: 258.628937\n",
      "\n",
      "Test set: Average loss: 7.0457, Accuracy: 69/179 (39%)\n",
      "\n",
      "Train Epoch: 37 [0/719 (0%)]\tLoss: 196.880295\n",
      "Train Epoch: 37 [500/719 (67%)]\tLoss: 407.711639\n",
      "\n",
      "Test set: Average loss: 4.1059, Accuracy: 98/179 (55%)\n",
      "\n",
      "Train Epoch: 38 [0/719 (0%)]\tLoss: 327.584686\n",
      "Train Epoch: 38 [500/719 (67%)]\tLoss: 127.382248\n",
      "\n",
      "Test set: Average loss: 5.8701, Accuracy: 103/179 (58%)\n",
      "\n",
      "Train Epoch: 39 [0/719 (0%)]\tLoss: 246.214767\n",
      "Train Epoch: 39 [500/719 (67%)]\tLoss: 333.362915\n",
      "\n",
      "Test set: Average loss: 1.4156, Accuracy: 104/179 (58%)\n",
      "\n",
      "Train Epoch: 40 [0/719 (0%)]\tLoss: 81.008606\n",
      "Train Epoch: 40 [500/719 (67%)]\tLoss: 62.337067\n",
      "\n",
      "Test set: Average loss: 2.3167, Accuracy: 82/179 (46%)\n",
      "\n",
      "Train Epoch: 41 [0/719 (0%)]\tLoss: 120.039734\n",
      "Train Epoch: 41 [500/719 (67%)]\tLoss: 109.510231\n",
      "\n",
      "Test set: Average loss: 2.1873, Accuracy: 85/179 (47%)\n",
      "\n",
      "Train Epoch: 42 [0/719 (0%)]\tLoss: 38.246845\n",
      "Train Epoch: 42 [500/719 (67%)]\tLoss: 107.163719\n",
      "\n",
      "Test set: Average loss: 0.8274, Accuracy: 94/179 (53%)\n",
      "\n",
      "Train Epoch: 43 [0/719 (0%)]\tLoss: 62.978916\n",
      "Train Epoch: 43 [500/719 (67%)]\tLoss: 88.297791\n",
      "\n",
      "Test set: Average loss: 1.7584, Accuracy: 79/179 (44%)\n",
      "\n",
      "Train Epoch: 44 [0/719 (0%)]\tLoss: 59.538960\n",
      "Train Epoch: 44 [500/719 (67%)]\tLoss: 148.403503\n",
      "\n",
      "Test set: Average loss: 1.7158, Accuracy: 75/179 (42%)\n",
      "\n",
      "Train Epoch: 45 [0/719 (0%)]\tLoss: 83.099388\n",
      "Train Epoch: 45 [500/719 (67%)]\tLoss: 88.612434\n",
      "\n",
      "Test set: Average loss: 1.5358, Accuracy: 110/179 (61%)\n",
      "\n",
      "Train Epoch: 46 [0/719 (0%)]\tLoss: 112.540604\n",
      "Train Epoch: 46 [500/719 (67%)]\tLoss: 83.021698\n",
      "\n",
      "Test set: Average loss: 1.0258, Accuracy: 61/179 (34%)\n",
      "\n",
      "Train Epoch: 47 [0/719 (0%)]\tLoss: 44.869064\n",
      "Train Epoch: 47 [500/719 (67%)]\tLoss: 69.824142\n",
      "\n",
      "Test set: Average loss: 1.7054, Accuracy: 73/179 (41%)\n",
      "\n",
      "Train Epoch: 48 [0/719 (0%)]\tLoss: 105.735931\n",
      "Train Epoch: 48 [500/719 (67%)]\tLoss: 37.834957\n",
      "\n",
      "Test set: Average loss: 0.4895, Accuracy: 102/179 (57%)\n",
      "\n",
      "Train Epoch: 49 [0/719 (0%)]\tLoss: 29.798750\n",
      "Train Epoch: 49 [500/719 (67%)]\tLoss: 50.720749\n",
      "\n",
      "Test set: Average loss: 0.8289, Accuracy: 81/179 (45%)\n",
      "\n",
      "Train Epoch: 50 [0/719 (0%)]\tLoss: 66.199280\n",
      "Train Epoch: 50 [500/719 (67%)]\tLoss: 39.790958\n",
      "\n",
      "Test set: Average loss: 0.6590, Accuracy: 89/179 (50%)\n",
      "\n"
     ]
    }
   ],
   "source": [
    "model = Net().to(device)\n",
    "optimizer = optim.Adam(model.parameters(), lr=0.001) ## Testar outros como Adam tbm\n",
    "criterion = torch.nn.CrossEntropyLoss()\n",
    "\n",
    "test_losses = []\n",
    "test_acc = []\n",
    "epochs = 50\n",
    "best_epoch = 0\n",
    "best_acc, best_loss = test(model, device, test_loader, criterion)\n",
    "for epoch in range(1, epochs + 1):\n",
    "    train(10, False, model, device, train_loader, optimizer, epoch, criterion)\n",
    "    acc, test_loss = test(model, device, test_loader, criterion)\n",
    "    test_losses.append(test_loss)\n",
    "    test_acc.append(acc)\n",
    "    if acc > best_acc:\n",
    "      best_acc = acc\n",
    "      best_epoch = epoch + 1\n",
    "      print('saving...')\n",
    "      torch.save(model.state_dict(), \"fruits_nn.pt\")"
   ]
  },
  {
   "cell_type": "code",
   "execution_count": 31,
   "metadata": {
    "colab": {
     "base_uri": "https://localhost:8080/"
    },
    "id": "sUOnYDIAJzhu",
    "outputId": "4072fd95-ad18-4de2-c230-14b7bd1101ce"
   },
   "outputs": [
    {
     "name": "stdout",
     "output_type": "stream",
     "text": [
      "Best Accuracy @ Epoch 27: 68.16%\n"
     ]
    }
   ],
   "source": [
    "print(f\"Best Accuracy @ Epoch {best_epoch}: {best_acc:.2f}%\")"
   ]
  },
  {
   "cell_type": "code",
   "execution_count": 32,
   "metadata": {
    "colab": {
     "base_uri": "https://localhost:8080/",
     "height": 507
    },
    "id": "mlD0vc5fHaXe",
    "outputId": "d6bbb1ff-f758-4e4a-baea-6b92ce37db18"
   },
   "outputs": [
    {
     "data": {
      "image/png": "[encoded data removed]",
      "text/plain": [
       "<Figure size 1200x500 with 2 Axes>"
      ]
     },
     "metadata": {},
     "output_type": "display_data"
    }
   ],
   "source": [
    "# prompt: plot a graph of epochs vs acc and epochs vc losses\n",
    "\n",
    "import matplotlib.pyplot as plt\n",
    "\n",
    "# Assuming test_acc and test_losses are defined from the previous code\n",
    "epochs = range(1, len(test_acc) + 1)\n",
    "\n",
    "plt.figure(figsize=(12, 5))\n",
    "\n",
    "plt.subplot(1, 2, 1)\n",
    "plt.plot(epochs, test_acc, marker='o', linestyle='-')\n",
    "plt.title('Epochs vs Accuracy')\n",
    "plt.xlabel('Epochs')\n",
    "plt.ylabel('Accuracy (%)')\n",
    "plt.grid(True)\n",
    "\n",
    "plt.subplot(1, 2, 2)\n",
    "plt.plot(epochs, test_losses, marker='o', linestyle='-')\n",
    "plt.title('Epochs vs Loss')\n",
    "plt.xlabel('Epochs')\n",
    "plt.ylabel('Loss')\n",
    "plt.grid(True)\n",
    "\n",
    "plt.tight_layout()\n",
    "plt.show()"
   ]
  },
  {
   "cell_type": "code",
   "execution_count": 33,
   "metadata": {
    "colab": {
     "base_uri": "https://localhost:8080/"
    },
    "id": "XrEGVXh565Za",
    "outputId": "9659df93-2d89-45a4-b7cb-9cf7931a5e03"
   },
   "outputs": [
    {
     "name": "stderr",
     "output_type": "stream",
     "text": [
      "/tmp/ipykernel_84779/3911061226.py:1: FutureWarning: You are using `torch.load` with `weights_only=False` (the current default value), which uses the default pickle module implicitly. It is possible to construct malicious pickle data which will execute arbitrary code during unpickling (See https://github.com/pytorch/pytorch/blob/main/SECURITY.md#untrusted-models for more details). In a future release, the default value for `weights_only` will be flipped to `True`. This limits the functions that could be executed during unpickling. Arbitrary objects will no longer be allowed to be loaded via this mode unless they are explicitly allowlisted by the user via `torch.serialization.add_safe_globals`. We recommend you start setting `weights_only=True` for any use case where you don't have full control of the loaded file. Please open an issue on GitHub for any issues related to this experimental feature.\n",
      "  aux = torch.load(\"fruits_nn.pt\")\n"
     ]
    },
    {
     "data": {
      "text/plain": [
       "OrderedDict([('fc.0.weight',\n",
       "              tensor([[ 0.1230, -0.0728,  0.0923,  ...,  0.0467,  0.0501, -0.0648],\n",
       "                      [ 0.1338, -0.1671,  0.0275,  ..., -0.0198,  0.0382, -0.0902],\n",
       "                      [-0.1028, -0.1346,  0.0891,  ..., -0.0488,  0.0291,  0.0381],\n",
       "                      ...,\n",
       "                      [ 0.1506,  0.1489, -0.0832,  ..., -0.0525,  0.0336,  0.1513],\n",
       "                      [-0.0140,  0.0887, -0.1695,  ...,  0.0113,  0.1595,  0.0574],\n",
       "                      [-0.0570,  0.1570, -0.1568,  ..., -0.0569, -0.1439, -0.0586]],\n",
       "                     device='cuda:0')),\n",
       "             ('fc.0.bias',\n",
       "              tensor([ 0.0469, -0.0551,  0.1276, -0.0028, -0.0161,  0.1102,  0.0842, -0.1020,\n",
       "                       0.1239,  0.1382,  0.0123, -0.1531,  0.1228,  0.0949,  0.0095, -0.0663,\n",
       "                      -0.0383,  0.0848, -0.1466, -0.1250,  0.1613,  0.0585, -0.1512,  0.1619,\n",
       "                      -0.0341,  0.0365, -0.0866,  0.0800, -0.0611, -0.0138,  0.1118,  0.0432,\n",
       "                       0.1660, -0.1622, -0.1636,  0.0667, -0.0236,  0.0895, -0.0191, -0.0649,\n",
       "                       0.1283,  0.0020,  0.0162, -0.0450,  0.0374,  0.0576, -0.0273,  0.0109,\n",
       "                      -0.0865, -0.0460, -0.0842,  0.0038, -0.0147, -0.0710,  0.1156, -0.1435,\n",
       "                       0.0130,  0.1422, -0.1335,  0.1242,  0.0537,  0.1377, -0.1443, -0.1142,\n",
       "                       0.1447, -0.0049,  0.0141,  0.0485, -0.1590,  0.0293, -0.0184, -0.0685,\n",
       "                      -0.1392,  0.1394, -0.1600, -0.0974,  0.1331,  0.0026, -0.1269, -0.0214,\n",
       "                       0.1476, -0.1410, -0.0969, -0.0374,  0.0322, -0.0969,  0.1188, -0.0287,\n",
       "                      -0.0116, -0.1502,  0.1446,  0.0262,  0.1478, -0.1370,  0.1477,  0.0014,\n",
       "                       0.0721, -0.1588,  0.1124,  0.1106,  0.1544,  0.0926, -0.0916, -0.1416,\n",
       "                       0.1096,  0.0281,  0.1337,  0.1233,  0.0268, -0.0063, -0.1121,  0.0552,\n",
       "                      -0.0599, -0.1386,  0.0917,  0.1154, -0.1268,  0.0118,  0.0214, -0.0862,\n",
       "                       0.0282, -0.0840, -0.0858,  0.0845,  0.1412, -0.1102,  0.1145, -0.0966,\n",
       "                       0.1068,  0.0665,  0.0940, -0.0491,  0.1405,  0.0227,  0.0586, -0.0447,\n",
       "                       0.1435,  0.1434, -0.0186, -0.1417,  0.1641, -0.1080, -0.0003, -0.1300,\n",
       "                       0.0013,  0.0095, -0.1308,  0.1321,  0.0799, -0.0361, -0.0916, -0.0692,\n",
       "                      -0.0876, -0.1485, -0.0858, -0.0477, -0.0422,  0.0641,  0.0584,  0.0844,\n",
       "                      -0.0143,  0.0132, -0.1642,  0.0376, -0.1123, -0.0224,  0.1594, -0.0785,\n",
       "                       0.0588,  0.0046, -0.1455,  0.0638, -0.0045, -0.1111,  0.1287,  0.0352,\n",
       "                      -0.0816, -0.0798, -0.0571,  0.0281,  0.0220,  0.1137,  0.0640, -0.0878,\n",
       "                      -0.1193, -0.1376, -0.0916,  0.1507,  0.0628,  0.0894,  0.1262, -0.0841,\n",
       "                      -0.0659,  0.0038,  0.1011,  0.1096, -0.0436,  0.0051, -0.0214, -0.1265,\n",
       "                      -0.1393,  0.0412, -0.1173, -0.0844,  0.0379, -0.0725, -0.0812,  0.0238,\n",
       "                       0.0933, -0.0568,  0.0027, -0.0679,  0.1730, -0.1611, -0.0079,  0.0962,\n",
       "                      -0.1378, -0.0362,  0.1573, -0.0427, -0.1309,  0.1047, -0.1259,  0.1120,\n",
       "                      -0.1450, -0.1468, -0.0681,  0.1685,  0.0651, -0.0016, -0.0140,  0.0847,\n",
       "                       0.1236,  0.0701, -0.1560, -0.0745,  0.1612, -0.1113,  0.0011,  0.0914,\n",
       "                       0.0334, -0.0379,  0.0704,  0.1081,  0.1157,  0.0541,  0.1291,  0.1526,\n",
       "                      -0.1591, -0.0789, -0.1019, -0.1506, -0.0795, -0.0435, -0.1107, -0.0434,\n",
       "                       0.0391,  0.1007, -0.1664, -0.0983,  0.0424,  0.0746, -0.0904, -0.1578,\n",
       "                       0.0226, -0.0763, -0.0751,  0.1163,  0.1041,  0.1011,  0.0712,  0.0488,\n",
       "                      -0.0307,  0.0207,  0.0022,  0.1419, -0.1253, -0.0760, -0.1407, -0.1117,\n",
       "                      -0.1007,  0.0597, -0.1618,  0.1024, -0.0059, -0.0439, -0.0215, -0.1647,\n",
       "                      -0.0715, -0.0906, -0.0030, -0.0327, -0.1556,  0.0346, -0.0392, -0.0172,\n",
       "                      -0.0624,  0.1153,  0.0300,  0.1064, -0.0940, -0.1128, -0.1246,  0.0888,\n",
       "                      -0.0075, -0.0376,  0.0136, -0.1126,  0.0128, -0.1015, -0.0868, -0.1675,\n",
       "                      -0.1127, -0.0260,  0.0975,  0.0151, -0.1487,  0.0796, -0.0239,  0.1702,\n",
       "                      -0.1373,  0.1714,  0.1073, -0.0493, -0.0062, -0.1119, -0.0396,  0.0241,\n",
       "                       0.1163,  0.1196,  0.0578, -0.0714,  0.0870, -0.0688,  0.0834, -0.1670,\n",
       "                      -0.0948, -0.0575, -0.0101,  0.0472,  0.1586, -0.0945,  0.0851,  0.1497,\n",
       "                       0.0467, -0.1247,  0.1527, -0.0669,  0.1071, -0.0199, -0.0519,  0.0305,\n",
       "                       0.1484, -0.1006, -0.0962,  0.1334,  0.1469, -0.0246, -0.0468, -0.0877,\n",
       "                      -0.1574,  0.0526, -0.1128, -0.1299, -0.1522,  0.1140,  0.0484,  0.0620,\n",
       "                       0.0760,  0.0072,  0.0372,  0.1114, -0.0214,  0.0477, -0.0229, -0.0205,\n",
       "                       0.1671,  0.1357, -0.0800,  0.1594, -0.1271, -0.0722,  0.1540,  0.0177,\n",
       "                       0.0144,  0.0313, -0.0312, -0.0066, -0.0344, -0.0834,  0.0303,  0.0832,\n",
       "                       0.0031, -0.1151, -0.0933, -0.1354, -0.0794,  0.0637, -0.0162, -0.0223,\n",
       "                       0.0188, -0.1244, -0.1362,  0.0314,  0.0764,  0.0886,  0.0418,  0.0574,\n",
       "                      -0.0228,  0.0838, -0.0610, -0.0632,  0.1212,  0.1064,  0.0452, -0.0239,\n",
       "                       0.0153,  0.1280, -0.0101,  0.0671, -0.1622,  0.0329,  0.0088, -0.1174,\n",
       "                       0.0709,  0.0841, -0.0277, -0.1468,  0.0889,  0.0150,  0.0108,  0.0133,\n",
       "                       0.0512,  0.0047,  0.0555,  0.0738,  0.0294,  0.1583, -0.0828,  0.1354,\n",
       "                       0.1351,  0.0003, -0.0262, -0.0475, -0.0461,  0.1305,  0.0003, -0.1354,\n",
       "                       0.1630,  0.0543,  0.0049,  0.1657,  0.0230,  0.1839,  0.0750,  0.0023,\n",
       "                       0.1623,  0.1522,  0.0555,  0.1793,  0.0161,  0.0342, -0.0300,  0.1451,\n",
       "                      -0.1039, -0.0875, -0.1170,  0.1032,  0.0692, -0.0294,  0.0286, -0.1216,\n",
       "                       0.0169,  0.0650,  0.0080,  0.0160, -0.1013, -0.1209, -0.1634,  0.0681,\n",
       "                       0.0503,  0.0125, -0.0807,  0.1693, -0.0630, -0.1451,  0.0082,  0.0016,\n",
       "                       0.1348, -0.1357,  0.0105, -0.0137,  0.0366, -0.0837,  0.1029, -0.0940,\n",
       "                       0.0865, -0.0802,  0.1038, -0.1073, -0.1310,  0.1301, -0.1164, -0.0638,\n",
       "                       0.1032, -0.0503, -0.0496,  0.0926, -0.1109, -0.1447,  0.1106, -0.0028],\n",
       "                     device='cuda:0')),\n",
       "             ('fc.2.weight',\n",
       "              tensor([[-0.0334,  0.0108, -0.0018,  ..., -0.0176,  0.0163, -0.0432],\n",
       "                      [ 0.0207, -0.0101,  0.0348,  ..., -0.0338, -0.0338,  0.0246],\n",
       "                      [ 0.0224,  0.0022, -0.0448,  ..., -0.0485,  0.0060, -0.0215],\n",
       "                      ...,\n",
       "                      [ 0.0159,  0.0355,  0.0231,  ...,  0.0359,  0.0246,  0.0169],\n",
       "                      [-0.0249,  0.0416, -0.0203,  ...,  0.0140,  0.0101,  0.0159],\n",
       "                      [-0.0148, -0.0021, -0.0455,  ...,  0.0341,  0.0112,  0.0293]],\n",
       "                     device='cuda:0')),\n",
       "             ('fc.2.bias',\n",
       "              tensor([ 0.0200,  0.0149, -0.0450,  ..., -0.0442, -0.0481, -0.0012],\n",
       "                     device='cuda:0')),\n",
       "             ('fc.4.weight',\n",
       "              tensor([[ 0.0287,  0.0212,  0.0246,  ..., -0.0307,  0.0206,  0.0256],\n",
       "                      [-0.0083,  0.0092, -0.0140,  ..., -0.0157, -0.0123, -0.0074],\n",
       "                      [-0.0027,  0.0204,  0.0030,  ..., -0.0250,  0.0182, -0.0176],\n",
       "                      ...,\n",
       "                      [-0.0234,  0.0031, -0.0243,  ...,  0.0138, -0.0262,  0.0214],\n",
       "                      [ 0.0185, -0.0142, -0.0013,  ...,  0.0104,  0.0282,  0.0070],\n",
       "                      [ 0.0277, -0.0126,  0.0050,  ..., -0.0088,  0.0139, -0.0191]],\n",
       "                     device='cuda:0')),\n",
       "             ('fc.4.bias',\n",
       "              tensor([-0.0346,  0.0137, -0.0184,  ..., -0.0067,  0.0212, -0.0132],\n",
       "                     device='cuda:0')),\n",
       "             ('fc.6.weight',\n",
       "              tensor([[-4.5568e-03,  2.4077e-02,  3.5099e-02,  ..., -2.3718e-02,\n",
       "                       -4.8368e-03,  1.7001e-02],\n",
       "                      [-6.2939e-03,  3.0578e-02,  1.5479e-05,  ...,  1.6851e-02,\n",
       "                       -4.6008e-03,  8.0029e-03],\n",
       "                      [ 1.9816e-02,  1.7769e-03, -2.9651e-02,  ...,  2.4301e-02,\n",
       "                        1.4143e-02, -6.6790e-03],\n",
       "                      ...,\n",
       "                      [-9.1796e-03,  2.1095e-04, -1.1738e-02,  ..., -1.3809e-02,\n",
       "                        1.9212e-02, -7.3575e-03],\n",
       "                      [ 2.3214e-02, -2.4796e-03,  8.0003e-03,  ...,  2.4354e-02,\n",
       "                       -2.0934e-02,  9.3478e-03],\n",
       "                      [-2.7965e-02,  1.9394e-02, -2.0543e-02,  ..., -2.5470e-02,\n",
       "                       -8.3180e-03, -1.2006e-02]], device='cuda:0')),\n",
       "             ('fc.6.bias',\n",
       "              tensor([ 0.0191,  0.0083, -0.0099,  ..., -0.0191,  0.0161,  0.0033],\n",
       "                     device='cuda:0')),\n",
       "             ('fc.8.weight',\n",
       "              tensor([[-0.0181, -0.0009,  0.0073,  ..., -0.0087, -0.0088, -0.0108],\n",
       "                      [-0.0178, -0.0038,  0.0079,  ..., -0.0057, -0.0007,  0.0039],\n",
       "                      [-0.0175,  0.0182, -0.0010,  ..., -0.0139,  0.0031,  0.0022],\n",
       "                      ...,\n",
       "                      [-0.0043,  0.0170,  0.0165,  ...,  0.0185, -0.0198, -0.0014],\n",
       "                      [-0.0158,  0.0041,  0.0241,  ..., -0.0090, -0.0165,  0.0065],\n",
       "                      [ 0.0011, -0.0171, -0.0020,  ...,  0.0041,  0.0104,  0.0128]],\n",
       "                     device='cuda:0')),\n",
       "             ('fc.8.bias',\n",
       "              tensor([-0.0066,  0.0168, -0.0151,  ...,  0.0029, -0.0002, -0.0025],\n",
       "                     device='cuda:0')),\n",
       "             ('fc.10.weight',\n",
       "              tensor([[ 0.0106,  0.0014, -0.0047,  ..., -0.0111, -0.0010,  0.0178],\n",
       "                      [-0.0096, -0.0094, -0.0174,  ...,  0.0116, -0.0007, -0.0210],\n",
       "                      [ 0.0015, -0.0068, -0.0086,  ...,  0.0002, -0.0047,  0.0036],\n",
       "                      ...,\n",
       "                      [-0.0061,  0.0148, -0.0155,  ...,  0.0014, -0.0064,  0.0171],\n",
       "                      [-0.0180, -0.0159,  0.0152,  ..., -0.0137, -0.0074,  0.0085],\n",
       "                      [-0.0143, -0.0043,  0.0207,  ...,  0.0158, -0.0059,  0.0199]],\n",
       "                     device='cuda:0')),\n",
       "             ('fc.10.bias',\n",
       "              tensor([-0.0196, -0.0088, -0.0093,  ...,  0.0151,  0.0011,  0.0114],\n",
       "                     device='cuda:0')),\n",
       "             ('fc.12.weight',\n",
       "              tensor([[ 0.0103, -0.0126,  0.0180,  ...,  0.0158, -0.0040,  0.0011],\n",
       "                      [-0.0070,  0.0099,  0.0166,  ..., -0.0279,  0.0268,  0.0018],\n",
       "                      [ 0.0101,  0.0060, -0.0009,  ..., -0.0436,  0.0017, -0.0223],\n",
       "                      ...,\n",
       "                      [ 0.0341,  0.0142, -0.0035,  ..., -0.0165, -0.0025,  0.0284],\n",
       "                      [-0.0056, -0.0224, -0.0204,  ...,  0.0113, -0.0187,  0.0263],\n",
       "                      [ 0.0112, -0.0059,  0.0200,  ...,  0.0108,  0.0208,  0.0179]],\n",
       "                     device='cuda:0')),\n",
       "             ('fc.12.bias',\n",
       "              tensor([-1.4619e-02, -5.4167e-03, -3.2053e-02,  2.1947e-02,  1.5204e-02,\n",
       "                      -1.9892e-02, -4.2765e-02,  1.1494e-02,  3.0140e-02,  3.5699e-03,\n",
       "                       8.2885e-03, -1.0991e-02, -2.9930e-02,  2.4519e-02, -4.8610e-02,\n",
       "                      -6.6043e-03, -1.2416e-02, -1.8912e-02, -1.7963e-02, -1.4756e-02,\n",
       "                      -3.0063e-02,  2.2355e-02,  2.2861e-03, -1.0581e-02,  1.2655e-02,\n",
       "                       3.3761e-02, -6.7841e-03,  2.9162e-03, -1.3555e-02, -7.6904e-03,\n",
       "                      -1.4054e-02,  4.4711e-02, -2.1992e-02,  3.8875e-02, -2.1122e-02,\n",
       "                       4.4357e-02,  1.0441e-02, -1.7372e-02,  4.0824e-03, -1.2865e-02,\n",
       "                       1.4122e-02,  2.2033e-02, -6.7096e-04,  2.2738e-02, -2.0002e-02,\n",
       "                       1.4701e-03,  1.9761e-02,  1.5401e-02, -9.5870e-03, -6.6331e-03,\n",
       "                      -4.8020e-02,  1.3467e-02, -1.9244e-02,  3.0293e-02, -1.3311e-02,\n",
       "                      -8.3671e-03,  2.7074e-02,  3.2466e-03, -2.6744e-02, -1.8990e-02,\n",
       "                      -1.2135e-02, -1.8659e-02, -2.7287e-02, -1.2415e-03,  2.2229e-02,\n",
       "                       1.5340e-03, -2.6467e-02, -3.6229e-02,  5.8767e-03, -1.7220e-02,\n",
       "                      -9.1356e-03,  6.9478e-03,  1.2966e-02,  2.5408e-03, -1.7984e-02,\n",
       "                      -3.2645e-02, -8.0079e-03, -5.1555e-03,  3.4853e-02, -3.1297e-02,\n",
       "                      -1.0209e-02,  1.5372e-02,  2.1990e-03,  1.3436e-03,  2.8942e-02,\n",
       "                       3.9633e-03,  3.3291e-02, -1.0213e-02, -1.1618e-02,  2.8532e-02,\n",
       "                       1.1628e-02,  2.6509e-02,  1.9266e-02, -8.1641e-03,  1.4019e-02,\n",
       "                      -1.6695e-02,  1.9592e-02,  4.0476e-02, -1.8816e-02,  2.3947e-02,\n",
       "                      -1.1359e-02,  2.7852e-02,  1.7158e-02, -1.6960e-02,  1.5974e-02,\n",
       "                      -2.7268e-02,  1.5238e-03,  2.3829e-02,  2.2876e-03, -2.7285e-03,\n",
       "                       1.5702e-02, -1.3359e-02,  3.0766e-04,  1.8559e-04, -1.9422e-03,\n",
       "                       1.1809e-02,  2.1923e-02,  9.3121e-03, -3.6609e-03,  2.3076e-02,\n",
       "                       3.0419e-02,  1.7206e-02,  6.6119e-03, -1.5585e-02,  4.0359e-03,\n",
       "                       4.4468e-03,  2.1510e-02, -7.7215e-03, -3.1420e-04,  4.9957e-03,\n",
       "                      -1.4802e-02, -4.1579e-03,  7.3996e-03, -3.5385e-02,  1.2146e-02,\n",
       "                      -2.8563e-02,  1.1315e-02,  2.0693e-03, -3.3894e-02,  1.6079e-02,\n",
       "                       4.4843e-02,  5.8837e-03,  2.1024e-02,  2.4082e-02, -3.4523e-02,\n",
       "                      -5.1547e-03,  2.7630e-03, -2.9522e-02,  1.7098e-02,  1.5456e-03,\n",
       "                      -4.4677e-03,  6.1860e-03,  1.2343e-02, -3.7101e-02, -1.0360e-02,\n",
       "                       1.2550e-02, -2.4014e-02, -2.8360e-03, -1.0484e-02, -6.6878e-03,\n",
       "                      -2.2912e-04, -3.1352e-02, -1.8897e-02,  1.3438e-02,  1.7946e-02,\n",
       "                      -1.5600e-02, -7.1391e-03, -7.1169e-03, -5.8858e-03, -4.2596e-02,\n",
       "                      -1.0494e-02, -3.0359e-02, -2.0395e-02, -1.6403e-02, -3.7989e-02,\n",
       "                       2.1561e-02,  1.1175e-02, -1.8493e-02,  4.9660e-03,  3.2478e-02,\n",
       "                      -8.7001e-03,  1.0825e-02, -3.5582e-02, -2.7345e-03,  1.9597e-02,\n",
       "                       3.5387e-03,  2.2094e-02, -2.9600e-02, -1.2700e-02, -3.4343e-02,\n",
       "                       2.9421e-02, -3.0407e-02,  1.4669e-02,  2.4710e-02, -4.3130e-03,\n",
       "                      -2.1543e-02, -1.6219e-02, -4.7045e-02, -2.1270e-02, -1.7287e-02,\n",
       "                       1.5198e-02, -1.6475e-02,  4.2677e-03,  9.9018e-03,  4.8717e-03,\n",
       "                      -1.0729e-02,  1.5294e-02,  1.1954e-02,  8.3269e-03,  7.4350e-03,\n",
       "                      -1.9074e-02,  1.1259e-02,  6.9971e-05,  1.4877e-02,  1.8282e-02,\n",
       "                      -3.9520e-02,  2.2718e-02, -2.2475e-02,  2.4350e-03,  2.2477e-02,\n",
       "                      -1.9910e-02, -2.5117e-02,  1.3955e-02, -1.1304e-02,  2.5348e-04,\n",
       "                       1.0062e-02,  1.3478e-02, -9.7089e-03,  1.5835e-03, -5.9925e-03,\n",
       "                      -1.8959e-03,  1.7421e-02, -8.0438e-03, -1.0435e-02, -1.4189e-02,\n",
       "                       1.2674e-02, -1.5180e-03,  2.2127e-02,  3.3032e-02, -6.9412e-03,\n",
       "                      -2.4321e-02, -1.2716e-02, -7.5079e-03,  1.1927e-02, -4.6784e-02,\n",
       "                      -2.4427e-02,  1.6363e-02,  1.6483e-02, -3.6819e-02,  6.4374e-03,\n",
       "                       2.0573e-02, -1.6598e-02,  2.3153e-02,  2.8921e-02, -1.6018e-02,\n",
       "                      -6.6270e-02,  2.2531e-03,  3.7241e-02, -2.2713e-02, -1.0508e-02,\n",
       "                       1.0415e-02,  9.7281e-03,  1.3257e-02,  3.2320e-02,  1.3158e-02,\n",
       "                      -3.8855e-03, -3.7082e-03, -2.0686e-02,  1.2908e-02, -3.8781e-02,\n",
       "                       1.5354e-02, -9.0511e-03, -4.0040e-03,  7.3445e-03,  1.4026e-02,\n",
       "                      -1.1149e-02,  4.2110e-03, -1.4642e-02,  5.5072e-03, -1.4800e-02,\n",
       "                      -1.5348e-02, -7.9589e-03, -1.2817e-02, -2.4212e-02, -1.6437e-03,\n",
       "                      -2.4004e-02,  1.3881e-02,  1.1266e-02, -4.3826e-02,  4.5877e-02,\n",
       "                      -1.1141e-02,  5.1730e-02, -1.0629e-02, -2.6968e-02, -6.4259e-03,\n",
       "                       1.1312e-02, -3.8866e-03, -3.5503e-02,  2.1597e-02,  1.6508e-02,\n",
       "                       6.7925e-03, -1.8745e-02,  3.5168e-03, -4.7492e-02,  7.0758e-03,\n",
       "                       1.3970e-02, -5.0404e-03, -6.6175e-02,  8.4913e-03,  1.8814e-02,\n",
       "                      -1.4395e-05, -5.6291e-04,  1.5557e-02,  3.6777e-02, -3.3992e-02,\n",
       "                      -8.5026e-03, -2.4184e-03,  1.3200e-02, -2.6355e-02,  7.5065e-04,\n",
       "                       2.3628e-02,  3.1025e-02, -2.6281e-02,  6.3462e-03, -2.3436e-02,\n",
       "                       3.2545e-02,  2.9130e-02,  2.4434e-02,  4.4905e-03, -7.9487e-03,\n",
       "                      -1.4791e-02,  2.6163e-02,  2.5522e-02, -3.2221e-02,  6.0359e-03,\n",
       "                      -2.9243e-02,  6.4347e-03, -2.5487e-02,  3.1152e-02,  1.9214e-02,\n",
       "                      -2.7761e-02, -3.0720e-02,  3.2362e-03,  2.0855e-02,  2.7935e-02,\n",
       "                      -1.5922e-02,  2.4748e-02,  2.6436e-03,  1.2150e-02,  1.5869e-02,\n",
       "                       3.4438e-03, -3.4798e-02,  2.2478e-02, -1.1304e-02, -1.0627e-03,\n",
       "                      -3.1108e-03,  7.1132e-03, -3.1910e-02, -1.5903e-02,  1.3217e-02,\n",
       "                       1.1517e-02,  1.7161e-02, -2.1429e-02, -2.1007e-03,  2.1469e-02,\n",
       "                      -1.0485e-02,  1.4657e-02,  1.6165e-02,  2.2173e-02,  2.4641e-02,\n",
       "                       1.6304e-02, -2.0612e-02, -4.3875e-02,  2.2490e-02,  3.4640e-02,\n",
       "                       1.5461e-02,  2.6769e-02,  1.1575e-02, -1.9441e-02,  1.1764e-02,\n",
       "                       2.6044e-03,  2.1640e-02, -7.5861e-03,  1.2490e-02, -2.8641e-02,\n",
       "                       3.2124e-02, -6.4450e-04,  2.6949e-02,  2.9045e-02, -2.2671e-02,\n",
       "                       1.9980e-02, -4.0641e-02, -4.9277e-03, -8.7313e-03,  1.7877e-02,\n",
       "                       7.0303e-03, -2.7164e-02, -1.9329e-02,  3.1864e-02,  5.5756e-03,\n",
       "                      -7.3263e-03,  4.3430e-03,  9.8801e-04,  3.7165e-03,  4.7917e-02,\n",
       "                      -3.6234e-02, -2.2635e-03, -1.4726e-02,  2.2571e-02, -5.3479e-03,\n",
       "                       2.3117e-02, -3.0098e-03, -7.2743e-03, -3.2259e-02,  3.5648e-03,\n",
       "                       4.7106e-02,  2.0371e-02, -2.2183e-02,  2.7062e-02, -1.4365e-02,\n",
       "                      -4.6501e-03,  6.0555e-03, -9.3585e-03,  6.9264e-03, -8.5782e-03,\n",
       "                       6.7036e-03,  3.6603e-02,  1.0697e-02,  1.2824e-02, -2.1966e-02,\n",
       "                       2.1114e-02,  2.0364e-02, -2.0351e-02, -6.0767e-03,  1.7399e-02,\n",
       "                       1.8076e-02,  1.9036e-03,  4.8777e-03,  1.1300e-02, -2.8604e-03,\n",
       "                       6.5240e-03, -1.8612e-02, -1.9841e-02, -3.1282e-02, -2.3102e-02,\n",
       "                       1.9642e-02,  2.8561e-03, -2.6953e-02, -1.4682e-02, -8.6555e-03,\n",
       "                       2.3118e-02, -1.5537e-02, -1.2316e-02,  1.7646e-02,  6.4875e-04,\n",
       "                       5.8395e-02, -3.2640e-02, -1.5327e-02, -2.5892e-02, -2.8336e-02,\n",
       "                       1.7012e-02, -2.6531e-02,  1.9154e-02, -1.7738e-02,  2.5302e-02,\n",
       "                       1.7731e-02, -1.8526e-03, -2.0918e-02, -1.7665e-02, -9.5646e-03,\n",
       "                      -5.7443e-03,  2.9559e-02, -2.1637e-04,  1.7826e-02,  3.6633e-02,\n",
       "                       4.4747e-02, -1.3805e-02, -8.0177e-03,  1.6563e-02,  1.9350e-02,\n",
       "                       2.4115e-03,  3.9742e-02,  3.1014e-02,  4.3861e-02,  1.4128e-02,\n",
       "                       1.4623e-02,  1.1917e-02, -2.5843e-02,  1.1023e-02,  3.2993e-03,\n",
       "                      -3.2973e-02,  6.2811e-03, -1.3318e-02, -1.2343e-02,  2.8530e-02,\n",
       "                      -2.4801e-02,  1.0348e-02,  2.5783e-02, -2.4325e-03,  2.8510e-03,\n",
       "                       7.0655e-03, -3.1646e-03,  2.7035e-02, -6.4673e-03, -1.2687e-02,\n",
       "                      -5.4476e-02, -2.8871e-02, -1.2584e-02, -2.0083e-02, -2.3492e-02,\n",
       "                      -3.9821e-03,  7.0035e-04], device='cuda:0')),\n",
       "             ('fc.14.weight',\n",
       "              tensor([[-0.0483, -0.0470, -0.0137,  ..., -0.0383,  0.0340,  0.0175],\n",
       "                      [ 0.0268, -0.0224, -0.0077,  ...,  0.0039,  0.0414,  0.0159],\n",
       "                      [ 0.0053, -0.0001, -0.0306,  ...,  0.0362, -0.0332, -0.0030],\n",
       "                      ...,\n",
       "                      [ 0.0118, -0.0267, -0.0061,  ...,  0.0363, -0.0348,  0.0181],\n",
       "                      [ 0.0135,  0.0333,  0.0075,  ..., -0.0171, -0.0321, -0.0268],\n",
       "                      [-0.0128,  0.0045, -0.0291,  ..., -0.0364,  0.0275, -0.0312]],\n",
       "                     device='cuda:0')),\n",
       "             ('fc.14.bias',\n",
       "              tensor([-0.0041, -0.0402,  0.0421, -0.0279, -0.0528, -0.0187,  0.0421,  0.0154,\n",
       "                       0.0126, -0.0324,  0.0253, -0.0220, -0.0056, -0.0464, -0.0392, -0.0022,\n",
       "                      -0.0033,  0.0329,  0.0324, -0.0147,  0.0065, -0.0040,  0.0209,  0.0002,\n",
       "                       0.0414,  0.0331, -0.0365, -0.0018,  0.0389,  0.0054,  0.0166,  0.0184,\n",
       "                       0.0462, -0.0098,  0.0223,  0.0197, -0.0226, -0.0204, -0.0172,  0.0319,\n",
       "                       0.0348,  0.0048,  0.0075,  0.0351, -0.0538,  0.0200, -0.0035,  0.0427,\n",
       "                      -0.0359,  0.0412,  0.0272,  0.0569,  0.0258, -0.0082,  0.0304,  0.0352,\n",
       "                       0.0049,  0.0361, -0.0155,  0.0155, -0.0479,  0.0190, -0.0037, -0.0343,\n",
       "                       0.0189, -0.0329,  0.0157,  0.0446,  0.0101,  0.0257,  0.0240,  0.0023,\n",
       "                       0.0339,  0.0254, -0.0291, -0.0107,  0.0245,  0.0152, -0.0244, -0.0307,\n",
       "                       0.0345, -0.0180, -0.0136, -0.0213,  0.0138, -0.0402, -0.0083,  0.0201,\n",
       "                      -0.0275,  0.0222,  0.0064, -0.0029, -0.0049,  0.0097,  0.0229,  0.0066,\n",
       "                      -0.0228,  0.0288, -0.0057, -0.0032, -0.0146,  0.0306, -0.0152, -0.0077,\n",
       "                       0.0340,  0.0245,  0.0215,  0.0269,  0.0350,  0.0366,  0.0359,  0.0151,\n",
       "                      -0.0318,  0.0307, -0.0087,  0.0172,  0.0312,  0.0086, -0.0154,  0.0289,\n",
       "                       0.0304, -0.0307,  0.0114,  0.0048,  0.0190, -0.0281,  0.0348,  0.0488],\n",
       "                     device='cuda:0')),\n",
       "             ('fc.16.weight',\n",
       "              tensor([[-7.2484e-02, -8.1514e-02, -9.3817e-03, -7.9920e-02,  6.7319e-02,\n",
       "                       -5.2406e-02,  5.8546e-02,  1.3503e-02, -3.1706e-02,  5.9572e-02,\n",
       "                        3.1365e-02, -6.9246e-02,  8.2146e-02, -8.5924e-02,  6.3858e-02,\n",
       "                       -7.6027e-02,  6.3156e-02,  4.2852e-02, -5.6293e-02,  8.2227e-02,\n",
       "                        3.0457e-02, -1.1347e-02, -3.8017e-02,  4.2313e-02,  7.8894e-02,\n",
       "                       -3.3488e-02,  3.9679e-02,  8.0473e-02, -3.4579e-02,  4.2076e-02,\n",
       "                        7.9675e-02, -2.5626e-02, -4.9164e-02, -1.6600e-02, -5.4503e-02,\n",
       "                        6.1475e-02, -1.9060e-02, -2.8108e-02,  2.4369e-02,  2.4968e-02,\n",
       "                       -8.7372e-02,  3.2225e-02, -4.8161e-03, -2.7769e-02,  1.7020e-02,\n",
       "                       -6.9863e-02,  5.2670e-02,  2.6174e-03,  6.9219e-02, -1.7178e-02,\n",
       "                        1.6946e-02,  1.0259e-02, -4.3683e-02,  2.8187e-02, -6.2821e-02,\n",
       "                        8.1646e-02,  5.4728e-02, -5.0033e-02,  2.9506e-02, -2.1832e-02,\n",
       "                       -4.6538e-02, -6.6041e-02,  4.0143e-02, -1.4392e-02, -1.8634e-02,\n",
       "                       -1.4647e-02, -4.9663e-02, -7.5656e-02, -4.1823e-02,  5.3170e-02,\n",
       "                        6.0574e-02,  3.3944e-02,  1.1958e-02, -1.7931e-02, -7.0213e-02,\n",
       "                       -5.7647e-02, -2.3890e-02,  3.6906e-02,  3.8199e-02, -4.7512e-02,\n",
       "                        3.0942e-02,  7.4461e-02,  4.2041e-02, -7.4746e-02, -8.0347e-02,\n",
       "                        8.5986e-03,  1.9471e-02,  2.8439e-02, -8.1742e-02, -7.6770e-03,\n",
       "                       -6.3257e-02,  3.5560e-02,  7.5977e-02, -7.7102e-02,  4.0455e-02,\n",
       "                       -1.9561e-02,  1.9444e-02,  2.1629e-02, -6.3075e-03, -5.5501e-03,\n",
       "                       -6.2716e-02, -5.1667e-02,  2.0780e-02,  7.9413e-02, -7.1857e-02,\n",
       "                       -2.8328e-02, -2.3796e-02, -2.1220e-02,  3.7728e-02, -5.8801e-02,\n",
       "                       -7.9343e-02,  7.0506e-03,  7.6195e-03, -3.3655e-02,  7.6528e-02,\n",
       "                       -4.6941e-02,  8.0780e-02,  7.7042e-02, -1.1244e-02,  1.1353e-02,\n",
       "                       -3.8906e-02,  7.2899e-02, -1.8238e-02, -6.6368e-02,  3.0717e-02,\n",
       "                        7.3686e-02, -5.9168e-02, -5.4090e-02],\n",
       "                      [ 3.0220e-03,  6.1614e-02,  7.5284e-02,  4.2506e-02, -6.0742e-02,\n",
       "                        7.6701e-02,  3.3125e-02,  4.1078e-02, -2.6870e-02, -2.6830e-02,\n",
       "                       -1.6329e-02,  4.1722e-03, -2.7445e-02, -5.6348e-03,  1.4219e-02,\n",
       "                        1.7754e-02,  5.6965e-02, -4.8883e-02,  7.2059e-02, -5.6568e-02,\n",
       "                        3.1637e-03, -7.4478e-02, -7.3312e-02, -8.2485e-03,  8.1305e-02,\n",
       "                        3.4703e-03,  6.5168e-02,  4.8956e-02, -4.3895e-02,  2.1454e-03,\n",
       "                        7.2361e-02, -4.5502e-02,  4.0633e-02,  6.7745e-02, -1.8704e-02,\n",
       "                       -2.0397e-02, -3.9868e-02,  7.8471e-03,  3.9246e-02, -5.1309e-02,\n",
       "                        7.9904e-02, -7.9196e-02, -5.7052e-02,  5.6896e-02,  2.8083e-02,\n",
       "                        3.4529e-02, -3.5986e-02, -1.7455e-02,  3.1290e-02, -1.7686e-02,\n",
       "                        8.1211e-02, -1.5997e-03, -1.5304e-02,  2.6339e-02, -2.1898e-02,\n",
       "                       -3.8339e-03,  1.3838e-03, -6.9916e-02,  4.4870e-03, -6.9116e-02,\n",
       "                        2.6305e-02,  7.7322e-02, -6.8084e-02, -2.4437e-02, -2.7522e-03,\n",
       "                       -5.5042e-02,  3.3817e-03, -3.0302e-02,  5.2557e-02,  1.9087e-02,\n",
       "                       -1.9275e-02, -5.3223e-02, -2.0209e-02, -7.8225e-02,  8.5429e-02,\n",
       "                        3.4963e-02, -2.1211e-03,  7.7106e-02, -7.8732e-02, -3.0781e-03,\n",
       "                       -5.7182e-03, -5.8146e-02, -5.4666e-02,  4.5583e-02, -9.1602e-02,\n",
       "                        5.3983e-02,  4.1279e-02,  2.7812e-02,  7.3660e-02,  3.0583e-02,\n",
       "                        3.8745e-02, -8.3476e-03, -3.3366e-02, -6.7357e-02, -3.9313e-02,\n",
       "                        9.7464e-04,  3.4694e-03,  3.6955e-02, -6.8050e-02,  5.1278e-02,\n",
       "                       -2.9776e-02, -7.5532e-02,  9.0696e-03, -6.5673e-03, -5.3153e-02,\n",
       "                       -2.5243e-04, -3.4360e-02, -2.7421e-02, -7.9538e-02,  8.5610e-02,\n",
       "                       -4.1179e-02, -3.3832e-02, -4.2870e-02,  6.8205e-03, -2.0775e-02,\n",
       "                       -6.0542e-02,  7.6098e-02, -7.1121e-02,  7.6641e-02, -4.6294e-02,\n",
       "                       -5.2995e-03, -4.5839e-02, -2.3689e-02, -1.3426e-03, -7.4691e-02,\n",
       "                       -7.0232e-02,  1.7483e-02, -6.8402e-02],\n",
       "                      [ 1.4758e-02, -5.7972e-02,  4.0356e-02, -7.0100e-02, -2.5493e-02,\n",
       "                        6.4564e-02, -6.2413e-02,  2.1631e-06,  9.6123e-02, -7.9337e-02,\n",
       "                        4.4750e-02,  3.0217e-02, -8.2858e-02,  2.2488e-02, -2.0386e-02,\n",
       "                       -2.0675e-02,  1.6927e-02,  1.8750e-02,  4.3700e-02, -5.6858e-02,\n",
       "                       -2.8934e-02, -3.8118e-02, -6.6952e-02,  9.0605e-02, -7.9006e-04,\n",
       "                        1.0912e-02,  1.1930e-02, -6.3142e-02,  6.1476e-02, -8.2784e-02,\n",
       "                       -4.5083e-02, -8.0076e-02, -6.9660e-02,  6.4204e-02,  7.0345e-02,\n",
       "                       -9.3366e-02, -4.6970e-02, -4.2140e-04, -5.2274e-02, -1.6416e-02,\n",
       "                       -3.5305e-02, -7.1118e-02, -6.0873e-02, -6.2518e-02,  3.7982e-02,\n",
       "                        2.4517e-03, -5.9152e-02, -2.3612e-03, -2.8111e-02, -1.1973e-02,\n",
       "                       -2.3382e-03,  7.0617e-03, -3.1050e-02,  2.2742e-02, -1.9926e-02,\n",
       "                        7.8313e-02,  5.4837e-02,  3.7116e-02,  2.1599e-02,  4.1651e-02,\n",
       "                       -8.8538e-02, -2.9962e-02, -1.6471e-02,  4.3758e-02,  8.4034e-02,\n",
       "                        5.2563e-02, -2.8374e-02,  5.4223e-02,  1.7734e-02, -6.4752e-02,\n",
       "                        2.7545e-02, -1.8010e-02, -3.9806e-03,  2.6215e-02, -7.9936e-02,\n",
       "                       -1.9050e-02,  2.4796e-02,  6.1586e-02, -5.0260e-02,  3.7879e-02,\n",
       "                       -7.0300e-02, -7.9103e-02,  6.7049e-02,  3.1157e-03, -4.7185e-02,\n",
       "                       -2.3896e-03, -6.1218e-02, -1.6850e-02, -6.0789e-02, -4.9336e-02,\n",
       "                       -3.2938e-02, -3.4972e-02, -6.8755e-02, -6.8065e-02,  6.6037e-03,\n",
       "                        6.6696e-02,  1.3443e-02,  9.6463e-02, -7.0078e-02,  3.7929e-02,\n",
       "                        3.1356e-02, -7.6261e-02, -1.6517e-02,  5.2380e-02,  9.2284e-02,\n",
       "                       -1.7395e-02,  6.0153e-02, -2.0230e-02, -4.4771e-02,  7.5925e-02,\n",
       "                        6.4093e-02,  7.3225e-02, -2.4835e-02,  4.4501e-03,  1.2637e-02,\n",
       "                        3.1990e-02, -2.7228e-02, -3.3278e-02, -6.8687e-02,  4.7365e-02,\n",
       "                        8.0569e-02, -8.4496e-02,  3.6812e-02,  7.8267e-02,  1.8874e-02,\n",
       "                       -6.1990e-02, -7.5750e-02,  3.3892e-02],\n",
       "                      [ 7.5655e-03,  1.8513e-02,  6.6680e-02,  3.9382e-02, -4.4687e-02,\n",
       "                       -2.1725e-02,  7.4842e-02, -1.7981e-02,  2.9786e-04,  4.0051e-02,\n",
       "                        5.1757e-02,  5.1214e-02,  5.1702e-02,  6.9157e-02,  3.6256e-02,\n",
       "                       -4.3482e-02,  7.4760e-04, -4.4986e-02,  2.4515e-02, -8.9941e-02,\n",
       "                        5.4740e-02, -2.4857e-02, -4.4506e-02, -3.1076e-02, -6.8761e-02,\n",
       "                       -2.6014e-02,  3.7939e-02, -4.7195e-02,  2.2384e-02,  5.2850e-02,\n",
       "                       -1.8892e-02,  8.5894e-02,  3.6545e-02, -8.1800e-03,  4.5658e-02,\n",
       "                       -7.5878e-02,  6.2135e-02, -4.6883e-02,  5.6631e-02, -2.2564e-02,\n",
       "                        1.4557e-02,  2.4607e-02, -5.0538e-02,  2.7811e-02,  1.3206e-02,\n",
       "                        1.8849e-02, -3.0736e-02,  3.8917e-03,  5.2892e-02, -1.2690e-02,\n",
       "                        8.1181e-02, -5.3018e-03,  7.0113e-02,  2.9859e-02,  2.9946e-02,\n",
       "                        6.9566e-02,  3.3952e-02,  4.5995e-03,  7.3712e-02, -3.2372e-03,\n",
       "                        4.2471e-02, -6.4118e-02, -4.9190e-02,  7.1118e-02, -6.8529e-02,\n",
       "                        1.0460e-02,  2.7910e-02,  5.3290e-02,  5.6058e-02, -6.3061e-02,\n",
       "                        4.6687e-02, -8.4447e-02, -2.7016e-02, -7.2065e-02,  8.2193e-02,\n",
       "                       -6.2777e-02, -6.4623e-02,  4.2227e-02,  6.3923e-02,  2.1069e-02,\n",
       "                        8.2936e-02, -3.0486e-03, -6.2445e-02, -3.5333e-02,  4.9831e-02,\n",
       "                       -3.6920e-02, -5.2251e-02,  5.8029e-02,  4.8859e-02, -6.3930e-02,\n",
       "                        5.7063e-02,  1.2458e-04, -4.9463e-02, -4.2242e-02, -4.0692e-02,\n",
       "                       -7.9342e-02,  4.2159e-02, -2.3186e-02,  1.6819e-02, -7.3886e-02,\n",
       "                       -7.4264e-02, -1.9269e-02, -4.6779e-02, -6.2833e-02,  3.0200e-02,\n",
       "                        3.5879e-02,  8.5896e-02,  1.6502e-02,  7.6936e-02,  7.9286e-02,\n",
       "                       -4.5939e-02,  8.3827e-03,  3.3763e-02, -4.3503e-02,  3.7818e-03,\n",
       "                        3.8870e-02, -4.8994e-02, -2.4909e-02,  3.5651e-02, -1.6051e-02,\n",
       "                       -5.3538e-02,  1.1177e-02,  5.4506e-03, -4.4237e-02, -6.0591e-02,\n",
       "                        3.4339e-02,  6.9949e-02, -1.0527e-02],\n",
       "                      [-2.5218e-02, -9.2717e-03, -3.7167e-02, -4.8648e-03, -3.2229e-02,\n",
       "                        6.9358e-02, -6.9409e-02, -7.6037e-02, -5.1236e-02,  5.7896e-02,\n",
       "                       -2.4423e-02, -1.3412e-02,  5.0902e-02,  4.0490e-02,  7.5932e-02,\n",
       "                        7.8130e-03,  4.7281e-02, -2.4152e-02,  5.7431e-02,  4.4864e-03,\n",
       "                       -6.5763e-02,  7.9155e-03, -6.9206e-02,  7.8428e-02,  7.2063e-02,\n",
       "                        8.0782e-02, -4.5215e-02,  4.7477e-02, -1.6448e-02,  7.5421e-02,\n",
       "                       -7.3826e-02, -5.5829e-03,  1.1728e-02, -7.0122e-02,  4.9266e-02,\n",
       "                       -7.4426e-02,  5.8308e-02,  3.0648e-02,  1.4185e-02,  2.7137e-03,\n",
       "                       -1.3805e-02,  9.0981e-03,  4.4736e-02,  3.5130e-03, -2.6006e-02,\n",
       "                        7.7503e-02, -7.1913e-03,  3.8185e-02, -6.5941e-02, -3.6245e-02,\n",
       "                       -8.9015e-02,  2.1292e-02, -6.3929e-02, -1.3802e-02, -3.6534e-02,\n",
       "                        4.7236e-02,  7.3639e-02,  7.9203e-02, -7.6803e-02, -4.4519e-02,\n",
       "                       -7.1409e-02, -7.1954e-02,  7.8474e-02,  1.5148e-02, -6.9098e-02,\n",
       "                       -1.8629e-02,  1.4124e-02, -8.3479e-02,  6.5729e-02,  3.7989e-02,\n",
       "                        6.4795e-02,  1.3408e-03,  6.1008e-03,  7.7424e-02, -6.2334e-03,\n",
       "                        8.8142e-03, -5.3001e-02,  5.5923e-02,  7.8847e-02, -1.5375e-02,\n",
       "                        4.8446e-02,  5.5014e-02,  4.5745e-02, -5.9814e-02, -7.6629e-02,\n",
       "                        3.2022e-02, -2.1549e-02, -3.4469e-02, -7.6396e-02, -1.5211e-02,\n",
       "                       -2.6702e-02, -2.5317e-02,  1.1101e-02,  3.6793e-02, -6.2916e-02,\n",
       "                        6.2600e-02, -3.9408e-03,  6.9424e-02, -6.9164e-02, -1.0536e-02,\n",
       "                       -3.8045e-02,  7.0190e-02, -1.8586e-02,  5.5255e-02,  3.9108e-02,\n",
       "                       -3.8297e-02,  3.9075e-02, -5.3473e-02, -4.5096e-02, -1.2779e-02,\n",
       "                        4.2256e-02, -4.1020e-02, -7.4575e-02, -2.5285e-02, -2.3804e-02,\n",
       "                        6.0764e-03, -9.3756e-02, -5.0384e-02,  4.8406e-03, -7.2965e-02,\n",
       "                       -3.2685e-02,  7.5809e-02,  8.3797e-04,  6.7417e-02, -1.3816e-02,\n",
       "                       -5.1053e-02,  2.8581e-02,  2.0317e-02],\n",
       "                      [ 7.6780e-02,  3.9895e-02,  1.2369e-02,  2.0810e-03,  4.6059e-02,\n",
       "                        8.6411e-02, -6.9726e-02, -2.4006e-02,  2.8914e-02,  3.1952e-02,\n",
       "                       -6.0715e-02,  3.4202e-02,  1.0763e-04, -4.9415e-02,  5.4710e-02,\n",
       "                       -2.9520e-02, -8.2485e-02, -3.3362e-02,  1.1146e-02,  7.0966e-02,\n",
       "                       -4.4853e-02, -7.0557e-02, -7.3694e-02, -2.6127e-02, -5.4324e-02,\n",
       "                       -1.7368e-02,  2.4698e-03,  1.9447e-02, -3.4701e-02,  5.6830e-02,\n",
       "                        3.3508e-02, -4.8594e-02, -6.4726e-04,  2.2083e-02, -7.7027e-02,\n",
       "                       -7.6707e-02, -5.1383e-02, -5.3877e-02, -4.6798e-02,  8.8943e-02,\n",
       "                        1.2776e-02,  1.2607e-03,  9.1167e-02,  4.9024e-02,  5.8152e-03,\n",
       "                       -3.4661e-02, -7.9150e-02,  8.0943e-02,  2.0167e-02, -7.0984e-02,\n",
       "                        3.6812e-02, -3.1054e-02,  7.8412e-02,  8.5675e-02, -7.2069e-02,\n",
       "                        1.6939e-02,  6.7126e-02, -5.0988e-02,  2.3912e-02,  8.0048e-02,\n",
       "                        7.5340e-02, -4.5946e-02,  2.0998e-02, -1.6241e-02,  5.8827e-02,\n",
       "                       -2.6279e-02,  3.3558e-02, -3.2491e-03, -3.7080e-02, -4.1194e-02,\n",
       "                        1.0585e-02, -5.9545e-02, -3.6934e-02,  5.7193e-02,  3.7611e-02,\n",
       "                       -1.7020e-03,  2.4437e-03,  7.2391e-02, -9.7662e-03,  1.8248e-02,\n",
       "                       -7.4162e-02,  4.9549e-03, -6.6028e-02, -1.8447e-02, -4.9576e-02,\n",
       "                        1.0684e-02,  2.3536e-02,  9.4552e-02,  1.9520e-02, -1.3146e-03,\n",
       "                        4.8269e-02,  2.6190e-02, -1.8328e-02,  2.9854e-02,  1.1926e-02,\n",
       "                        4.0005e-02, -8.2065e-02, -2.0884e-02,  5.3014e-02, -2.4909e-03,\n",
       "                        6.4287e-02, -5.7087e-02,  1.7856e-03,  2.8525e-02,  8.0172e-02,\n",
       "                        2.8043e-03, -5.0998e-02, -2.6905e-02, -3.3892e-03,  6.5946e-02,\n",
       "                        5.9611e-02,  6.8015e-02,  1.9844e-02, -6.0872e-02,  1.9538e-02,\n",
       "                       -5.8907e-02,  7.0221e-02, -1.1047e-02, -6.3428e-02, -9.1742e-03,\n",
       "                        7.5294e-02, -6.8449e-02, -1.8569e-02, -7.9018e-02,  2.0249e-02,\n",
       "                        8.1440e-02, -3.9256e-02, -6.4589e-02],\n",
       "                      [-7.7313e-02, -5.5772e-02,  1.0285e-02, -7.5934e-02, -5.9726e-02,\n",
       "                       -6.2558e-02,  6.2902e-02,  2.1604e-02, -3.8449e-02, -8.4661e-02,\n",
       "                       -2.9201e-02,  6.1773e-02,  7.5113e-02,  1.3298e-02, -3.0512e-02,\n",
       "                        9.8939e-03,  3.9779e-02,  6.9110e-02,  3.3016e-02,  7.5534e-02,\n",
       "                        3.7529e-02,  3.7821e-02,  3.6564e-02,  2.3488e-02,  5.1147e-02,\n",
       "                       -6.8803e-02,  3.0342e-02,  2.2352e-02,  6.4325e-02,  8.8296e-03,\n",
       "                        5.6795e-02, -8.0798e-02, -3.9135e-03,  2.2327e-02,  1.0754e-02,\n",
       "                       -7.8602e-03, -2.4378e-02,  5.4407e-02, -8.4702e-02, -2.3922e-02,\n",
       "                       -7.8579e-02,  4.0334e-02,  7.1011e-02, -5.6508e-03, -6.3691e-04,\n",
       "                        4.2919e-02, -2.0274e-02,  7.2914e-02,  5.4841e-02, -1.7028e-03,\n",
       "                       -4.0961e-02,  5.4452e-02,  5.9598e-02, -7.3252e-02,  4.0098e-02,\n",
       "                        4.9103e-02,  2.1275e-02, -1.9577e-02,  2.7902e-02, -8.1074e-02,\n",
       "                        6.7320e-02,  8.1788e-02,  6.6373e-02,  4.2153e-02,  4.1101e-02,\n",
       "                        6.5849e-02,  1.1047e-02,  1.5541e-02, -8.4071e-02, -3.0264e-02,\n",
       "                       -6.2378e-03,  5.8733e-02,  1.1372e-02, -1.1658e-03, -7.5404e-03,\n",
       "                       -1.2780e-02, -6.4446e-03, -6.7537e-02, -8.3815e-02,  3.8085e-02,\n",
       "                        3.3860e-02, -7.8504e-02,  6.1406e-02, -5.1757e-02, -5.7480e-02,\n",
       "                        2.6578e-02, -3.7357e-02,  7.4363e-02, -8.9062e-02,  7.2467e-02,\n",
       "                       -1.9352e-02,  1.5238e-02,  1.1939e-03, -8.1610e-02,  1.5454e-02,\n",
       "                       -7.7476e-02, -6.9771e-03,  4.3348e-02, -2.1464e-02,  6.2456e-02,\n",
       "                        4.2156e-02, -6.0240e-03,  4.5375e-02, -4.9335e-02,  4.2742e-02,\n",
       "                       -3.7842e-02, -1.5264e-02, -1.4361e-02,  1.7793e-02, -7.8834e-03,\n",
       "                       -9.4098e-02, -1.7721e-02,  1.5968e-02,  3.8269e-02,  1.2633e-02,\n",
       "                       -4.2245e-02,  9.9689e-03,  1.9661e-02,  8.0266e-03, -3.7742e-02,\n",
       "                        3.6406e-02, -3.4876e-02,  5.8627e-02, -3.6172e-02,  2.7705e-02,\n",
       "                       -3.3230e-02,  4.3780e-02, -6.8987e-02]], device='cuda:0')),\n",
       "             ('fc.16.bias',\n",
       "              tensor([ 0.0866,  0.0416,  0.1426,  0.0042,  0.0739, -0.0401,  0.1056],\n",
       "                     device='cuda:0'))])"
      ]
     },
     "execution_count": 33,
     "metadata": {},
     "output_type": "execute_result"
    }
   ],
   "source": [
    "aux = torch.load(\"fruits_nn.pt\")\n",
    "aux"
   ]
  },
  {
   "cell_type": "code",
   "execution_count": 34,
   "metadata": {
    "colab": {
     "base_uri": "https://localhost:8080/"
    },
    "id": "k7KZ2-j47Nw9",
    "outputId": "24cfa073-11c7-4da3-8d4c-8b409f47ae11"
   },
   "outputs": [
    {
     "data": {
      "text/plain": [
       "<All keys matched successfully>"
      ]
     },
     "execution_count": 34,
     "metadata": {},
     "output_type": "execute_result"
    }
   ],
   "source": [
    "model.load_state_dict(aux)"
   ]
  },
  {
   "cell_type": "markdown",
   "metadata": {
    "id": "CBVrxmkJNdYF"
   },
   "source": [
    "## Conclusão\n",
    "\n",
    "Foram realizados testes com diversos layouts de redes, e utilizando as seguintes épocas:\n",
    "\n",
    "- 8\n",
    "- 15\n",
    "- 20\n",
    "- 25\n",
    "- 30\n",
    "- 40\n",
    "- 100\n",
    "\n",
    "Percebemos que ao executar com até 40 épocas, conseguimos alcançar um bom valor de perda, porém apenas com 100 épocas, conseguimos atingir um valor ótimo do MSE, onde:\n",
    "\n",
    "\n",
    "**Melhor Época**: 91\n",
    "\n",
    "\n",
    "**Melhor Acurácia**: 18.95910780669145\n",
    "\n",
    "Além disso, foi observado que os erros a cada época tiveram um comportamento de cela descentente, variando a cada iteração."
   ]
  },
  {
   "cell_type": "code",
   "execution_count": null,
   "metadata": {
    "id": "jlKwHm1JNtpN"
   },
   "outputs": [],
   "source": []
  }
 ],
 "metadata": {
  "colab": {
   "provenance": [],
   "toc_visible": true
  },
  "kernelspec": {
   "display_name": ".venv",
   "language": "python",
   "name": "python3"
  },
  "language_info": {
   "codemirror_mode": {
    "name": "ipython",
    "version": 3
   },
   "file_extension": ".py",
   "mimetype": "text/x-python",
   "name": "python",
   "nbconvert_exporter": "python",
   "pygments_lexer": "ipython3",
   "version": "3.12.3"
  }
 },
 "nbformat": 4,
 "nbformat_minor": 0
}
