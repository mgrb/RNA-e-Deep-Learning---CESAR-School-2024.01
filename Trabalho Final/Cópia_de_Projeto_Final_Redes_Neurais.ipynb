{
 "cells": [
  {
   "cell_type": "markdown",
   "metadata": {
    "id": "_5gLJqcPqFoT"
   },
   "source": [
    "# Projeto FInal\n",
    "\n",
    "## Alunos\n",
    "\n",
    "- Daniel Moraes (dmms@cesar.school)\n",
    "- Marlos Ribeiro (mgrb@cesar.school)\n",
    "- Adonis Dário Pires Gomes de Morais (adpgm@cesar.school)"
   ]
  },
  {
   "cell_type": "markdown",
   "metadata": {
    "id": "ZcxINGpHquKE"
   },
   "source": [
    "## Importação de Dependências"
   ]
  },
  {
   "cell_type": "code",
   "execution_count": 1,
   "metadata": {
    "id": "2HRaasM1qEm_"
   },
   "outputs": [],
   "source": [
    "import numpy as np\n",
    "import pandas as pd\n",
    "import matplotlib.pyplot as plt\n",
    "import seaborn as sns\n",
    "from sklearn import preprocessing\n",
    "\n",
    "import argparse\n",
    "import torch\n",
    "import torch.nn as nn\n",
    "import torch.nn.functional as F\n",
    "import torch.optim as optim\n",
    "from torch.utils.data import Dataset, random_split\n",
    "from os.path import exists\n",
    "\n",
    "import kagglehub"
   ]
  },
  {
   "cell_type": "markdown",
   "metadata": {
    "id": "U4enEAApqqsS"
   },
   "source": [
    "## Download de Dataset"
   ]
  },
  {
   "cell_type": "code",
   "execution_count": 2,
   "metadata": {
    "id": "ptpQoB2osfVR"
   },
   "outputs": [
    {
     "name": "stdout",
     "output_type": "stream",
     "text": [
      "mkdir: cannot create directory ‘/home/fruits’: Permission denied\n"
     ]
    }
   ],
   "source": [
    "!mkdir /home/fruits"
   ]
  },
  {
   "cell_type": "code",
   "execution_count": 3,
   "metadata": {
    "colab": {
     "base_uri": "https://localhost:8080/"
    },
    "id": "3owma42hq1vO",
    "outputId": "3e600cef-86a6-443a-ed30-5b24695eac15"
   },
   "outputs": [
    {
     "name": "stdout",
     "output_type": "stream",
     "text": [
      "  % Total    % Received % Xferd  Average Speed   Time    Time     Time  Current\n",
      "                                 Dload  Upload   Total   Spent    Left  Speed\n",
      "  0     0    0     0    0     0      0      0 --:--:-- --:--:-- --:--:--     0\n",
      "Warning: Failed to open the file /home/fruits/archive.zip: No such file or \n",
      "Warning: directory\n",
      "  0  408k    0     0    0     0      0      0 --:--:-- --:--:-- --:--:--     0\n",
      "curl: (23) Failure writing output to destination\n"
     ]
    }
   ],
   "source": [
    "#!/bin/bash\n",
    "!curl -L -o /home/fruits/archive.zip https://www.kaggle.com/api/v1/datasets/download/muratkokludataset/date-fruit-datasets"
   ]
  },
  {
   "cell_type": "code",
   "execution_count": 4,
   "metadata": {
    "id": "zK0rhwhkq8Q_"
   },
   "outputs": [
    {
     "name": "stdout",
     "output_type": "stream",
     "text": [
      "unzip:  cannot find or open /home/fruits/archive.zip, /home/fruits/archive.zip.zip or /home/fruits/archive.zip.ZIP.\n"
     ]
    }
   ],
   "source": [
    "!unzip -q -o /home/fruits/archive.zip -d /home/fruits"
   ]
  },
  {
   "cell_type": "code",
   "execution_count": 5,
   "metadata": {
    "colab": {
     "base_uri": "https://localhost:8080/"
    },
    "id": "RAwMYlg8rEbT",
    "outputId": "c754d301-725a-4282-e05b-569dc3ec9fd6"
   },
   "outputs": [
    {
     "name": "stdout",
     "output_type": "stream",
     "text": [
      "ls: cannot access '/home/fruits/Date_Fruit_Datasets': No such file or directory\n"
     ]
    }
   ],
   "source": [
    "!ls /home/fruits/Date_Fruit_Datasets"
   ]
  },
  {
   "cell_type": "code",
   "execution_count": 6,
   "metadata": {
    "colab": {
     "base_uri": "https://localhost:8080/",
     "height": 412
    },
    "id": "MVNXMv8XsvCQ",
    "outputId": "3f81a7b7-14e4-4a21-987d-50448e12ddec"
   },
   "outputs": [
    {
     "ename": "FileNotFoundError",
     "evalue": "[Errno 2] No such file or directory: '/home/fruits/Date_Fruit_Datasets/Date_Fruit_Datasets.xlsx'",
     "output_type": "error",
     "traceback": [
      "\u001b[0;31m---------------------------------------------------------------------------\u001b[0m",
      "\u001b[0;31mFileNotFoundError\u001b[0m                         Traceback (most recent call last)",
      "Cell \u001b[0;32mIn[6], line 1\u001b[0m\n\u001b[0;32m----> 1\u001b[0m df_fruits \u001b[38;5;241m=\u001b[39m \u001b[43mpd\u001b[49m\u001b[38;5;241;43m.\u001b[39;49m\u001b[43mread_excel\u001b[49m\u001b[43m(\u001b[49m\u001b[38;5;124;43m'\u001b[39;49m\u001b[38;5;124;43m/home/fruits/Date_Fruit_Datasets/Date_Fruit_Datasets.xlsx\u001b[39;49m\u001b[38;5;124;43m'\u001b[39;49m\u001b[43m,\u001b[49m\u001b[43m \u001b[49m\u001b[43msheet_name\u001b[49m\u001b[38;5;241;43m=\u001b[39;49m\u001b[38;5;124;43m'\u001b[39;49m\u001b[38;5;124;43mDate_Fruit_Datasets\u001b[39;49m\u001b[38;5;124;43m'\u001b[39;49m\u001b[43m)\u001b[49m\n\u001b[1;32m      2\u001b[0m df_fruits\u001b[38;5;241m.\u001b[39mhead(\u001b[38;5;241m10\u001b[39m)\n",
      "File \u001b[0;32m~/Workspaces/CESAR/RNA_DeepLearning/.venv/lib/python3.12/site-packages/pandas/io/excel/_base.py:495\u001b[0m, in \u001b[0;36mread_excel\u001b[0;34m(io, sheet_name, header, names, index_col, usecols, dtype, engine, converters, true_values, false_values, skiprows, nrows, na_values, keep_default_na, na_filter, verbose, parse_dates, date_parser, date_format, thousands, decimal, comment, skipfooter, storage_options, dtype_backend, engine_kwargs)\u001b[0m\n\u001b[1;32m    493\u001b[0m \u001b[38;5;28;01mif\u001b[39;00m \u001b[38;5;129;01mnot\u001b[39;00m \u001b[38;5;28misinstance\u001b[39m(io, ExcelFile):\n\u001b[1;32m    494\u001b[0m     should_close \u001b[38;5;241m=\u001b[39m \u001b[38;5;28;01mTrue\u001b[39;00m\n\u001b[0;32m--> 495\u001b[0m     io \u001b[38;5;241m=\u001b[39m \u001b[43mExcelFile\u001b[49m\u001b[43m(\u001b[49m\n\u001b[1;32m    496\u001b[0m \u001b[43m        \u001b[49m\u001b[43mio\u001b[49m\u001b[43m,\u001b[49m\n\u001b[1;32m    497\u001b[0m \u001b[43m        \u001b[49m\u001b[43mstorage_options\u001b[49m\u001b[38;5;241;43m=\u001b[39;49m\u001b[43mstorage_options\u001b[49m\u001b[43m,\u001b[49m\n\u001b[1;32m    498\u001b[0m \u001b[43m        \u001b[49m\u001b[43mengine\u001b[49m\u001b[38;5;241;43m=\u001b[39;49m\u001b[43mengine\u001b[49m\u001b[43m,\u001b[49m\n\u001b[1;32m    499\u001b[0m \u001b[43m        \u001b[49m\u001b[43mengine_kwargs\u001b[49m\u001b[38;5;241;43m=\u001b[39;49m\u001b[43mengine_kwargs\u001b[49m\u001b[43m,\u001b[49m\n\u001b[1;32m    500\u001b[0m \u001b[43m    \u001b[49m\u001b[43m)\u001b[49m\n\u001b[1;32m    501\u001b[0m \u001b[38;5;28;01melif\u001b[39;00m engine \u001b[38;5;129;01mand\u001b[39;00m engine \u001b[38;5;241m!=\u001b[39m io\u001b[38;5;241m.\u001b[39mengine:\n\u001b[1;32m    502\u001b[0m     \u001b[38;5;28;01mraise\u001b[39;00m \u001b[38;5;167;01mValueError\u001b[39;00m(\n\u001b[1;32m    503\u001b[0m         \u001b[38;5;124m\"\u001b[39m\u001b[38;5;124mEngine should not be specified when passing \u001b[39m\u001b[38;5;124m\"\u001b[39m\n\u001b[1;32m    504\u001b[0m         \u001b[38;5;124m\"\u001b[39m\u001b[38;5;124man ExcelFile - ExcelFile already has the engine set\u001b[39m\u001b[38;5;124m\"\u001b[39m\n\u001b[1;32m    505\u001b[0m     )\n",
      "File \u001b[0;32m~/Workspaces/CESAR/RNA_DeepLearning/.venv/lib/python3.12/site-packages/pandas/io/excel/_base.py:1550\u001b[0m, in \u001b[0;36mExcelFile.__init__\u001b[0;34m(self, path_or_buffer, engine, storage_options, engine_kwargs)\u001b[0m\n\u001b[1;32m   1548\u001b[0m     ext \u001b[38;5;241m=\u001b[39m \u001b[38;5;124m\"\u001b[39m\u001b[38;5;124mxls\u001b[39m\u001b[38;5;124m\"\u001b[39m\n\u001b[1;32m   1549\u001b[0m \u001b[38;5;28;01melse\u001b[39;00m:\n\u001b[0;32m-> 1550\u001b[0m     ext \u001b[38;5;241m=\u001b[39m \u001b[43minspect_excel_format\u001b[49m\u001b[43m(\u001b[49m\n\u001b[1;32m   1551\u001b[0m \u001b[43m        \u001b[49m\u001b[43mcontent_or_path\u001b[49m\u001b[38;5;241;43m=\u001b[39;49m\u001b[43mpath_or_buffer\u001b[49m\u001b[43m,\u001b[49m\u001b[43m \u001b[49m\u001b[43mstorage_options\u001b[49m\u001b[38;5;241;43m=\u001b[39;49m\u001b[43mstorage_options\u001b[49m\n\u001b[1;32m   1552\u001b[0m \u001b[43m    \u001b[49m\u001b[43m)\u001b[49m\n\u001b[1;32m   1553\u001b[0m     \u001b[38;5;28;01mif\u001b[39;00m ext \u001b[38;5;129;01mis\u001b[39;00m \u001b[38;5;28;01mNone\u001b[39;00m:\n\u001b[1;32m   1554\u001b[0m         \u001b[38;5;28;01mraise\u001b[39;00m \u001b[38;5;167;01mValueError\u001b[39;00m(\n\u001b[1;32m   1555\u001b[0m             \u001b[38;5;124m\"\u001b[39m\u001b[38;5;124mExcel file format cannot be determined, you must specify \u001b[39m\u001b[38;5;124m\"\u001b[39m\n\u001b[1;32m   1556\u001b[0m             \u001b[38;5;124m\"\u001b[39m\u001b[38;5;124man engine manually.\u001b[39m\u001b[38;5;124m\"\u001b[39m\n\u001b[1;32m   1557\u001b[0m         )\n",
      "File \u001b[0;32m~/Workspaces/CESAR/RNA_DeepLearning/.venv/lib/python3.12/site-packages/pandas/io/excel/_base.py:1402\u001b[0m, in \u001b[0;36minspect_excel_format\u001b[0;34m(content_or_path, storage_options)\u001b[0m\n\u001b[1;32m   1399\u001b[0m \u001b[38;5;28;01mif\u001b[39;00m \u001b[38;5;28misinstance\u001b[39m(content_or_path, \u001b[38;5;28mbytes\u001b[39m):\n\u001b[1;32m   1400\u001b[0m     content_or_path \u001b[38;5;241m=\u001b[39m BytesIO(content_or_path)\n\u001b[0;32m-> 1402\u001b[0m \u001b[38;5;28;01mwith\u001b[39;00m \u001b[43mget_handle\u001b[49m\u001b[43m(\u001b[49m\n\u001b[1;32m   1403\u001b[0m \u001b[43m    \u001b[49m\u001b[43mcontent_or_path\u001b[49m\u001b[43m,\u001b[49m\u001b[43m \u001b[49m\u001b[38;5;124;43m\"\u001b[39;49m\u001b[38;5;124;43mrb\u001b[39;49m\u001b[38;5;124;43m\"\u001b[39;49m\u001b[43m,\u001b[49m\u001b[43m \u001b[49m\u001b[43mstorage_options\u001b[49m\u001b[38;5;241;43m=\u001b[39;49m\u001b[43mstorage_options\u001b[49m\u001b[43m,\u001b[49m\u001b[43m \u001b[49m\u001b[43mis_text\u001b[49m\u001b[38;5;241;43m=\u001b[39;49m\u001b[38;5;28;43;01mFalse\u001b[39;49;00m\n\u001b[1;32m   1404\u001b[0m \u001b[43m\u001b[49m\u001b[43m)\u001b[49m \u001b[38;5;28;01mas\u001b[39;00m handle:\n\u001b[1;32m   1405\u001b[0m     stream \u001b[38;5;241m=\u001b[39m handle\u001b[38;5;241m.\u001b[39mhandle\n\u001b[1;32m   1406\u001b[0m     stream\u001b[38;5;241m.\u001b[39mseek(\u001b[38;5;241m0\u001b[39m)\n",
      "File \u001b[0;32m~/Workspaces/CESAR/RNA_DeepLearning/.venv/lib/python3.12/site-packages/pandas/io/common.py:882\u001b[0m, in \u001b[0;36mget_handle\u001b[0;34m(path_or_buf, mode, encoding, compression, memory_map, is_text, errors, storage_options)\u001b[0m\n\u001b[1;32m    873\u001b[0m         handle \u001b[38;5;241m=\u001b[39m \u001b[38;5;28mopen\u001b[39m(\n\u001b[1;32m    874\u001b[0m             handle,\n\u001b[1;32m    875\u001b[0m             ioargs\u001b[38;5;241m.\u001b[39mmode,\n\u001b[0;32m   (...)\u001b[0m\n\u001b[1;32m    878\u001b[0m             newline\u001b[38;5;241m=\u001b[39m\u001b[38;5;124m\"\u001b[39m\u001b[38;5;124m\"\u001b[39m,\n\u001b[1;32m    879\u001b[0m         )\n\u001b[1;32m    880\u001b[0m     \u001b[38;5;28;01melse\u001b[39;00m:\n\u001b[1;32m    881\u001b[0m         \u001b[38;5;66;03m# Binary mode\u001b[39;00m\n\u001b[0;32m--> 882\u001b[0m         handle \u001b[38;5;241m=\u001b[39m \u001b[38;5;28;43mopen\u001b[39;49m\u001b[43m(\u001b[49m\u001b[43mhandle\u001b[49m\u001b[43m,\u001b[49m\u001b[43m \u001b[49m\u001b[43mioargs\u001b[49m\u001b[38;5;241;43m.\u001b[39;49m\u001b[43mmode\u001b[49m\u001b[43m)\u001b[49m\n\u001b[1;32m    883\u001b[0m     handles\u001b[38;5;241m.\u001b[39mappend(handle)\n\u001b[1;32m    885\u001b[0m \u001b[38;5;66;03m# Convert BytesIO or file objects passed with an encoding\u001b[39;00m\n",
      "\u001b[0;31mFileNotFoundError\u001b[0m: [Errno 2] No such file or directory: '/home/fruits/Date_Fruit_Datasets/Date_Fruit_Datasets.xlsx'"
     ]
    }
   ],
   "source": [
    "df_fruits = pd.read_excel('/home/fruits/Date_Fruit_Datasets/Date_Fruit_Datasets.xlsx', sheet_name='Date_Fruit_Datasets')\n",
    "df_fruits.head(10)"
   ]
  },
  {
   "cell_type": "markdown",
   "metadata": {
    "id": "F04BLdPMt7bZ"
   },
   "source": [
    "## Exploração do Dataset"
   ]
  },
  {
   "cell_type": "markdown",
   "metadata": {
    "id": "bYApJgzhuKFg"
   },
   "source": [
    "### Shape"
   ]
  },
  {
   "cell_type": "code",
   "execution_count": null,
   "metadata": {
    "colab": {
     "base_uri": "https://localhost:8080/"
    },
    "id": "g4_2ovgTt_Gy",
    "outputId": "b9da54e7-06c4-481f-eb29-d0e7aef523aa"
   },
   "outputs": [
    {
     "name": "stdout",
     "output_type": "stream",
     "text": [
      "dataset shape: (898, 35)\n"
     ]
    }
   ],
   "source": [
    "print(f'dataset shape: {df_fruits.shape}')"
   ]
  },
  {
   "cell_type": "markdown",
   "metadata": {
    "id": "2lL3AKhvuMV_"
   },
   "source": [
    "### Info"
   ]
  },
  {
   "cell_type": "code",
   "execution_count": null,
   "metadata": {
    "colab": {
     "base_uri": "https://localhost:8080/"
    },
    "id": "Fn4yxiRMuOP0",
    "outputId": "9f8d2051-5488-47e9-b38f-e32295bcc9ce"
   },
   "outputs": [
    {
     "name": "stdout",
     "output_type": "stream",
     "text": [
      "<class 'pandas.core.frame.DataFrame'>\n",
      "RangeIndex: 898 entries, 0 to 897\n",
      "Data columns (total 35 columns):\n",
      " #   Column         Non-Null Count  Dtype  \n",
      "---  ------         --------------  -----  \n",
      " 0   AREA           898 non-null    int64  \n",
      " 1   PERIMETER      898 non-null    float64\n",
      " 2   MAJOR_AXIS     898 non-null    float64\n",
      " 3   MINOR_AXIS     898 non-null    float64\n",
      " 4   ECCENTRICITY   898 non-null    float64\n",
      " 5   EQDIASQ        898 non-null    float64\n",
      " 6   SOLIDITY       898 non-null    float64\n",
      " 7   CONVEX_AREA    898 non-null    int64  \n",
      " 8   EXTENT         898 non-null    float64\n",
      " 9   ASPECT_RATIO   898 non-null    float64\n",
      " 10  ROUNDNESS      898 non-null    float64\n",
      " 11  COMPACTNESS    898 non-null    float64\n",
      " 12  SHAPEFACTOR_1  898 non-null    float64\n",
      " 13  SHAPEFACTOR_2  898 non-null    float64\n",
      " 14  SHAPEFACTOR_3  898 non-null    float64\n",
      " 15  SHAPEFACTOR_4  898 non-null    float64\n",
      " 16  MeanRR         898 non-null    float64\n",
      " 17  MeanRG         898 non-null    float64\n",
      " 18  MeanRB         898 non-null    float64\n",
      " 19  StdDevRR       898 non-null    float64\n",
      " 20  StdDevRG       898 non-null    float64\n",
      " 21  StdDevRB       898 non-null    float64\n",
      " 22  SkewRR         898 non-null    float64\n",
      " 23  SkewRG         898 non-null    float64\n",
      " 24  SkewRB         898 non-null    float64\n",
      " 25  KurtosisRR     898 non-null    float64\n",
      " 26  KurtosisRG     898 non-null    float64\n",
      " 27  KurtosisRB     898 non-null    float64\n",
      " 28  EntropyRR      898 non-null    int64  \n",
      " 29  EntropyRG      898 non-null    int64  \n",
      " 30  EntropyRB      898 non-null    int64  \n",
      " 31  ALLdaub4RR     898 non-null    float64\n",
      " 32  ALLdaub4RG     898 non-null    float64\n",
      " 33  ALLdaub4RB     898 non-null    float64\n",
      " 34  Class          898 non-null    object \n",
      "dtypes: float64(29), int64(5), object(1)\n",
      "memory usage: 245.7+ KB\n",
      "dataset info: None\n"
     ]
    }
   ],
   "source": [
    "print(f'dataset info: {df_fruits.info()}')"
   ]
  },
  {
   "cell_type": "markdown",
   "metadata": {
    "id": "1rYaSR7zuZJ7"
   },
   "source": [
    "### Quantidade de Nulls"
   ]
  },
  {
   "cell_type": "code",
   "execution_count": null,
   "metadata": {
    "colab": {
     "base_uri": "https://localhost:8080/"
    },
    "id": "c82bQojAubca",
    "outputId": "32d9393c-11e4-4fd2-f380-846afc0543c8"
   },
   "outputs": [
    {
     "name": "stdout",
     "output_type": "stream",
     "text": [
      "Quantidade de Nulls: AREA             0\n",
      "PERIMETER        0\n",
      "MAJOR_AXIS       0\n",
      "MINOR_AXIS       0\n",
      "ECCENTRICITY     0\n",
      "EQDIASQ          0\n",
      "SOLIDITY         0\n",
      "CONVEX_AREA      0\n",
      "EXTENT           0\n",
      "ASPECT_RATIO     0\n",
      "ROUNDNESS        0\n",
      "COMPACTNESS      0\n",
      "SHAPEFACTOR_1    0\n",
      "SHAPEFACTOR_2    0\n",
      "SHAPEFACTOR_3    0\n",
      "SHAPEFACTOR_4    0\n",
      "MeanRR           0\n",
      "MeanRG           0\n",
      "MeanRB           0\n",
      "StdDevRR         0\n",
      "StdDevRG         0\n",
      "StdDevRB         0\n",
      "SkewRR           0\n",
      "SkewRG           0\n",
      "SkewRB           0\n",
      "KurtosisRR       0\n",
      "KurtosisRG       0\n",
      "KurtosisRB       0\n",
      "EntropyRR        0\n",
      "EntropyRG        0\n",
      "EntropyRB        0\n",
      "ALLdaub4RR       0\n",
      "ALLdaub4RG       0\n",
      "ALLdaub4RB       0\n",
      "Class            0\n",
      "dtype: int64\n"
     ]
    }
   ],
   "source": [
    "print(f'Quantidade de Nulls: {df_fruits.isnull().sum()}')"
   ]
  },
  {
   "cell_type": "markdown",
   "metadata": {
    "id": "KuluAdhJujEW"
   },
   "source": [
    "### Registros Duplicados"
   ]
  },
  {
   "cell_type": "code",
   "execution_count": null,
   "metadata": {
    "colab": {
     "base_uri": "https://localhost:8080/"
    },
    "id": "DJ98-3sCulmd",
    "outputId": "15861141-380b-468a-e223-efe3eff9f05b"
   },
   "outputs": [
    {
     "name": "stdout",
     "output_type": "stream",
     "text": [
      "Registros Duplicados: 0\n"
     ]
    }
   ],
   "source": [
    "print(f'Registros Duplicados: {df_fruits.duplicated().sum()}')"
   ]
  },
  {
   "cell_type": "markdown",
   "metadata": {
    "id": "4h3uakqhvNeN"
   },
   "source": [
    "### Label Encoder"
   ]
  },
  {
   "cell_type": "code",
   "execution_count": null,
   "metadata": {
    "colab": {
     "base_uri": "https://localhost:8080/",
     "height": 412
    },
    "id": "4oFe0KRbvPKs",
    "outputId": "94148cdf-f991-49fd-b64f-e72a679ece2b"
   },
   "outputs": [
    {
     "data": {
      "application/vnd.google.colaboratory.intrinsic+json": {
       "type": "dataframe",
       "variable_name": "df_fruits"
      },
      "text/html": [
       "\n",
       "  <div id=\"df-91d7b705-126a-446d-bef3-ad245455ae1a\" class=\"colab-df-container\">\n",
       "    <div>\n",
       "<style scoped>\n",
       "    .dataframe tbody tr th:only-of-type {\n",
       "        vertical-align: middle;\n",
       "    }\n",
       "\n",
       "    .dataframe tbody tr th {\n",
       "        vertical-align: top;\n",
       "    }\n",
       "\n",
       "    .dataframe thead th {\n",
       "        text-align: right;\n",
       "    }\n",
       "</style>\n",
       "<table border=\"1\" class=\"dataframe\">\n",
       "  <thead>\n",
       "    <tr style=\"text-align: right;\">\n",
       "      <th></th>\n",
       "      <th>AREA</th>\n",
       "      <th>PERIMETER</th>\n",
       "      <th>MAJOR_AXIS</th>\n",
       "      <th>MINOR_AXIS</th>\n",
       "      <th>ECCENTRICITY</th>\n",
       "      <th>EQDIASQ</th>\n",
       "      <th>SOLIDITY</th>\n",
       "      <th>CONVEX_AREA</th>\n",
       "      <th>EXTENT</th>\n",
       "      <th>ASPECT_RATIO</th>\n",
       "      <th>...</th>\n",
       "      <th>KurtosisRR</th>\n",
       "      <th>KurtosisRG</th>\n",
       "      <th>KurtosisRB</th>\n",
       "      <th>EntropyRR</th>\n",
       "      <th>EntropyRG</th>\n",
       "      <th>EntropyRB</th>\n",
       "      <th>ALLdaub4RR</th>\n",
       "      <th>ALLdaub4RG</th>\n",
       "      <th>ALLdaub4RB</th>\n",
       "      <th>Class</th>\n",
       "    </tr>\n",
       "  </thead>\n",
       "  <tbody>\n",
       "    <tr>\n",
       "      <th>0</th>\n",
       "      <td>422163</td>\n",
       "      <td>2378.9080</td>\n",
       "      <td>837.8484</td>\n",
       "      <td>645.6693</td>\n",
       "      <td>0.6373</td>\n",
       "      <td>733.1539</td>\n",
       "      <td>0.9947</td>\n",
       "      <td>424428</td>\n",
       "      <td>0.7831</td>\n",
       "      <td>1.2976</td>\n",
       "      <td>...</td>\n",
       "      <td>3.2370</td>\n",
       "      <td>2.9574</td>\n",
       "      <td>4.2287</td>\n",
       "      <td>-59191263232</td>\n",
       "      <td>-50714214400</td>\n",
       "      <td>-39922372608</td>\n",
       "      <td>58.7255</td>\n",
       "      <td>54.9554</td>\n",
       "      <td>47.8400</td>\n",
       "      <td>0</td>\n",
       "    </tr>\n",
       "    <tr>\n",
       "      <th>1</th>\n",
       "      <td>338136</td>\n",
       "      <td>2085.1440</td>\n",
       "      <td>723.8198</td>\n",
       "      <td>595.2073</td>\n",
       "      <td>0.5690</td>\n",
       "      <td>656.1464</td>\n",
       "      <td>0.9974</td>\n",
       "      <td>339014</td>\n",
       "      <td>0.7795</td>\n",
       "      <td>1.2161</td>\n",
       "      <td>...</td>\n",
       "      <td>2.6228</td>\n",
       "      <td>2.6350</td>\n",
       "      <td>3.1704</td>\n",
       "      <td>-34233065472</td>\n",
       "      <td>-37462601728</td>\n",
       "      <td>-31477794816</td>\n",
       "      <td>50.0259</td>\n",
       "      <td>52.8168</td>\n",
       "      <td>47.8315</td>\n",
       "      <td>0</td>\n",
       "    </tr>\n",
       "    <tr>\n",
       "      <th>2</th>\n",
       "      <td>526843</td>\n",
       "      <td>2647.3940</td>\n",
       "      <td>940.7379</td>\n",
       "      <td>715.3638</td>\n",
       "      <td>0.6494</td>\n",
       "      <td>819.0222</td>\n",
       "      <td>0.9962</td>\n",
       "      <td>528876</td>\n",
       "      <td>0.7657</td>\n",
       "      <td>1.3150</td>\n",
       "      <td>...</td>\n",
       "      <td>3.7516</td>\n",
       "      <td>3.8611</td>\n",
       "      <td>4.7192</td>\n",
       "      <td>-93948354560</td>\n",
       "      <td>-74738221056</td>\n",
       "      <td>-60311207936</td>\n",
       "      <td>65.4772</td>\n",
       "      <td>59.2860</td>\n",
       "      <td>51.9378</td>\n",
       "      <td>0</td>\n",
       "    </tr>\n",
       "    <tr>\n",
       "      <th>3</th>\n",
       "      <td>416063</td>\n",
       "      <td>2351.2100</td>\n",
       "      <td>827.9804</td>\n",
       "      <td>645.2988</td>\n",
       "      <td>0.6266</td>\n",
       "      <td>727.8378</td>\n",
       "      <td>0.9948</td>\n",
       "      <td>418255</td>\n",
       "      <td>0.7759</td>\n",
       "      <td>1.2831</td>\n",
       "      <td>...</td>\n",
       "      <td>5.0401</td>\n",
       "      <td>8.6136</td>\n",
       "      <td>8.2618</td>\n",
       "      <td>-32074307584</td>\n",
       "      <td>-32060925952</td>\n",
       "      <td>-29575010304</td>\n",
       "      <td>43.3900</td>\n",
       "      <td>44.1259</td>\n",
       "      <td>41.1882</td>\n",
       "      <td>0</td>\n",
       "    </tr>\n",
       "    <tr>\n",
       "      <th>4</th>\n",
       "      <td>347562</td>\n",
       "      <td>2160.3540</td>\n",
       "      <td>763.9877</td>\n",
       "      <td>582.8359</td>\n",
       "      <td>0.6465</td>\n",
       "      <td>665.2291</td>\n",
       "      <td>0.9908</td>\n",
       "      <td>350797</td>\n",
       "      <td>0.7569</td>\n",
       "      <td>1.3108</td>\n",
       "      <td>...</td>\n",
       "      <td>2.7016</td>\n",
       "      <td>2.9761</td>\n",
       "      <td>4.4146</td>\n",
       "      <td>-39980974080</td>\n",
       "      <td>-35980042240</td>\n",
       "      <td>-25593278464</td>\n",
       "      <td>52.7743</td>\n",
       "      <td>50.9080</td>\n",
       "      <td>42.6666</td>\n",
       "      <td>0</td>\n",
       "    </tr>\n",
       "    <tr>\n",
       "      <th>5</th>\n",
       "      <td>408953</td>\n",
       "      <td>2326.6931</td>\n",
       "      <td>840.1821</td>\n",
       "      <td>622.0076</td>\n",
       "      <td>0.6722</td>\n",
       "      <td>721.5921</td>\n",
       "      <td>0.9974</td>\n",
       "      <td>410036</td>\n",
       "      <td>0.7805</td>\n",
       "      <td>1.3508</td>\n",
       "      <td>...</td>\n",
       "      <td>3.6309</td>\n",
       "      <td>6.0285</td>\n",
       "      <td>6.2159</td>\n",
       "      <td>-41140371456</td>\n",
       "      <td>-33146710016</td>\n",
       "      <td>-27907301376</td>\n",
       "      <td>49.7001</td>\n",
       "      <td>45.3190</td>\n",
       "      <td>39.7371</td>\n",
       "      <td>0</td>\n",
       "    </tr>\n",
       "    <tr>\n",
       "      <th>6</th>\n",
       "      <td>451414</td>\n",
       "      <td>2457.2080</td>\n",
       "      <td>889.3253</td>\n",
       "      <td>652.4316</td>\n",
       "      <td>0.6796</td>\n",
       "      <td>758.1281</td>\n",
       "      <td>0.9970</td>\n",
       "      <td>452755</td>\n",
       "      <td>0.7877</td>\n",
       "      <td>1.3631</td>\n",
       "      <td>...</td>\n",
       "      <td>3.0703</td>\n",
       "      <td>3.4163</td>\n",
       "      <td>4.9168</td>\n",
       "      <td>-63711666176</td>\n",
       "      <td>-64060743680</td>\n",
       "      <td>-52603465728</td>\n",
       "      <td>57.8060</td>\n",
       "      <td>58.5449</td>\n",
       "      <td>52.4199</td>\n",
       "      <td>0</td>\n",
       "    </tr>\n",
       "    <tr>\n",
       "      <th>7</th>\n",
       "      <td>382636</td>\n",
       "      <td>2275.7791</td>\n",
       "      <td>808.0833</td>\n",
       "      <td>609.2819</td>\n",
       "      <td>0.6569</td>\n",
       "      <td>697.9880</td>\n",
       "      <td>0.9931</td>\n",
       "      <td>385277</td>\n",
       "      <td>0.7032</td>\n",
       "      <td>1.3263</td>\n",
       "      <td>...</td>\n",
       "      <td>3.6756</td>\n",
       "      <td>7.0258</td>\n",
       "      <td>5.3254</td>\n",
       "      <td>-29873577984</td>\n",
       "      <td>-33570080768</td>\n",
       "      <td>-33054025728</td>\n",
       "      <td>45.1768</td>\n",
       "      <td>48.2407</td>\n",
       "      <td>47.2167</td>\n",
       "      <td>0</td>\n",
       "    </tr>\n",
       "    <tr>\n",
       "      <th>8</th>\n",
       "      <td>546063</td>\n",
       "      <td>2714.9480</td>\n",
       "      <td>916.3737</td>\n",
       "      <td>766.4536</td>\n",
       "      <td>0.5481</td>\n",
       "      <td>833.8279</td>\n",
       "      <td>0.9882</td>\n",
       "      <td>552598</td>\n",
       "      <td>0.7710</td>\n",
       "      <td>1.1956</td>\n",
       "      <td>...</td>\n",
       "      <td>3.4640</td>\n",
       "      <td>3.7416</td>\n",
       "      <td>4.8120</td>\n",
       "      <td>-95262416896</td>\n",
       "      <td>-79321833472</td>\n",
       "      <td>-69569445888</td>\n",
       "      <td>64.6188</td>\n",
       "      <td>59.9127</td>\n",
       "      <td>55.6509</td>\n",
       "      <td>0</td>\n",
       "    </tr>\n",
       "    <tr>\n",
       "      <th>9</th>\n",
       "      <td>420044</td>\n",
       "      <td>2391.1230</td>\n",
       "      <td>836.9280</td>\n",
       "      <td>645.1822</td>\n",
       "      <td>0.6370</td>\n",
       "      <td>731.3116</td>\n",
       "      <td>0.9918</td>\n",
       "      <td>423531</td>\n",
       "      <td>0.7853</td>\n",
       "      <td>1.2972</td>\n",
       "      <td>...</td>\n",
       "      <td>3.3729</td>\n",
       "      <td>4.2898</td>\n",
       "      <td>5.4637</td>\n",
       "      <td>-74341122048</td>\n",
       "      <td>-58172182528</td>\n",
       "      <td>-42640556032</td>\n",
       "      <td>64.9094</td>\n",
       "      <td>58.2771</td>\n",
       "      <td>48.4820</td>\n",
       "      <td>0</td>\n",
       "    </tr>\n",
       "  </tbody>\n",
       "</table>\n",
       "<p>10 rows × 35 columns</p>\n",
       "</div>\n",
       "    <div class=\"colab-df-buttons\">\n",
       "\n",
       "  <div class=\"colab-df-container\">\n",
       "    <button class=\"colab-df-convert\" onclick=\"convertToInteractive('df-91d7b705-126a-446d-bef3-ad245455ae1a')\"\n",
       "            title=\"Convert this dataframe to an interactive table.\"\n",
       "            style=\"display:none;\">\n",
       "\n",
       "  <svg xmlns=\"http://www.w3.org/2000/svg\" height=\"24px\" viewBox=\"0 -960 960 960\">\n",
       "    <path d=\"M120-120v-720h720v720H120Zm60-500h600v-160H180v160Zm220 220h160v-160H400v160Zm0 220h160v-160H400v160ZM180-400h160v-160H180v160Zm440 0h160v-160H620v160ZM180-180h160v-160H180v160Zm440 0h160v-160H620v160Z\"/>\n",
       "  </svg>\n",
       "    </button>\n",
       "\n",
       "  <style>\n",
       "    .colab-df-container {\n",
       "      display:flex;\n",
       "      gap: 12px;\n",
       "    }\n",
       "\n",
       "    .colab-df-convert {\n",
       "      background-color: #E8F0FE;\n",
       "      border: none;\n",
       "      border-radius: 50%;\n",
       "      cursor: pointer;\n",
       "      display: none;\n",
       "      fill: #1967D2;\n",
       "      height: 32px;\n",
       "      padding: 0 0 0 0;\n",
       "      width: 32px;\n",
       "    }\n",
       "\n",
       "    .colab-df-convert:hover {\n",
       "      background-color: #E2EBFA;\n",
       "      box-shadow: 0px 1px 2px rgba(60, 64, 67, 0.3), 0px 1px 3px 1px rgba(60, 64, 67, 0.15);\n",
       "      fill: #174EA6;\n",
       "    }\n",
       "\n",
       "    .colab-df-buttons div {\n",
       "      margin-bottom: 4px;\n",
       "    }\n",
       "\n",
       "    [theme=dark] .colab-df-convert {\n",
       "      background-color: #3B4455;\n",
       "      fill: #D2E3FC;\n",
       "    }\n",
       "\n",
       "    [theme=dark] .colab-df-convert:hover {\n",
       "      background-color: #434B5C;\n",
       "      box-shadow: 0px 1px 3px 1px rgba(0, 0, 0, 0.15);\n",
       "      filter: drop-shadow(0px 1px 2px rgba(0, 0, 0, 0.3));\n",
       "      fill: #FFFFFF;\n",
       "    }\n",
       "  </style>\n",
       "\n",
       "    <script>\n",
       "      const buttonEl =\n",
       "        document.querySelector('#df-91d7b705-126a-446d-bef3-ad245455ae1a button.colab-df-convert');\n",
       "      buttonEl.style.display =\n",
       "        google.colab.kernel.accessAllowed ? 'block' : 'none';\n",
       "\n",
       "      async function convertToInteractive(key) {\n",
       "        const element = document.querySelector('#df-91d7b705-126a-446d-bef3-ad245455ae1a');\n",
       "        const dataTable =\n",
       "          await google.colab.kernel.invokeFunction('convertToInteractive',\n",
       "                                                    [key], {});\n",
       "        if (!dataTable) return;\n",
       "\n",
       "        const docLinkHtml = 'Like what you see? Visit the ' +\n",
       "          '<a target=\"_blank\" href=https://colab.research.google.com/notebooks/data_table.ipynb>data table notebook</a>'\n",
       "          + ' to learn more about interactive tables.';\n",
       "        element.innerHTML = '';\n",
       "        dataTable['output_type'] = 'display_data';\n",
       "        await google.colab.output.renderOutput(dataTable, element);\n",
       "        const docLink = document.createElement('div');\n",
       "        docLink.innerHTML = docLinkHtml;\n",
       "        element.appendChild(docLink);\n",
       "      }\n",
       "    </script>\n",
       "  </div>\n",
       "\n",
       "\n",
       "<div id=\"df-314d79f2-2eef-4d53-a1b1-e5aa5b5ec324\">\n",
       "  <button class=\"colab-df-quickchart\" onclick=\"quickchart('df-314d79f2-2eef-4d53-a1b1-e5aa5b5ec324')\"\n",
       "            title=\"Suggest charts\"\n",
       "            style=\"display:none;\">\n",
       "\n",
       "<svg xmlns=\"http://www.w3.org/2000/svg\" height=\"24px\"viewBox=\"0 0 24 24\"\n",
       "     width=\"24px\">\n",
       "    <g>\n",
       "        <path d=\"M19 3H5c-1.1 0-2 .9-2 2v14c0 1.1.9 2 2 2h14c1.1 0 2-.9 2-2V5c0-1.1-.9-2-2-2zM9 17H7v-7h2v7zm4 0h-2V7h2v10zm4 0h-2v-4h2v4z\"/>\n",
       "    </g>\n",
       "</svg>\n",
       "  </button>\n",
       "\n",
       "<style>\n",
       "  .colab-df-quickchart {\n",
       "      --bg-color: #E8F0FE;\n",
       "      --fill-color: #1967D2;\n",
       "      --hover-bg-color: #E2EBFA;\n",
       "      --hover-fill-color: #174EA6;\n",
       "      --disabled-fill-color: #AAA;\n",
       "      --disabled-bg-color: #DDD;\n",
       "  }\n",
       "\n",
       "  [theme=dark] .colab-df-quickchart {\n",
       "      --bg-color: #3B4455;\n",
       "      --fill-color: #D2E3FC;\n",
       "      --hover-bg-color: #434B5C;\n",
       "      --hover-fill-color: #FFFFFF;\n",
       "      --disabled-bg-color: #3B4455;\n",
       "      --disabled-fill-color: #666;\n",
       "  }\n",
       "\n",
       "  .colab-df-quickchart {\n",
       "    background-color: var(--bg-color);\n",
       "    border: none;\n",
       "    border-radius: 50%;\n",
       "    cursor: pointer;\n",
       "    display: none;\n",
       "    fill: var(--fill-color);\n",
       "    height: 32px;\n",
       "    padding: 0;\n",
       "    width: 32px;\n",
       "  }\n",
       "\n",
       "  .colab-df-quickchart:hover {\n",
       "    background-color: var(--hover-bg-color);\n",
       "    box-shadow: 0 1px 2px rgba(60, 64, 67, 0.3), 0 1px 3px 1px rgba(60, 64, 67, 0.15);\n",
       "    fill: var(--button-hover-fill-color);\n",
       "  }\n",
       "\n",
       "  .colab-df-quickchart-complete:disabled,\n",
       "  .colab-df-quickchart-complete:disabled:hover {\n",
       "    background-color: var(--disabled-bg-color);\n",
       "    fill: var(--disabled-fill-color);\n",
       "    box-shadow: none;\n",
       "  }\n",
       "\n",
       "  .colab-df-spinner {\n",
       "    border: 2px solid var(--fill-color);\n",
       "    border-color: transparent;\n",
       "    border-bottom-color: var(--fill-color);\n",
       "    animation:\n",
       "      spin 1s steps(1) infinite;\n",
       "  }\n",
       "\n",
       "  @keyframes spin {\n",
       "    0% {\n",
       "      border-color: transparent;\n",
       "      border-bottom-color: var(--fill-color);\n",
       "      border-left-color: var(--fill-color);\n",
       "    }\n",
       "    20% {\n",
       "      border-color: transparent;\n",
       "      border-left-color: var(--fill-color);\n",
       "      border-top-color: var(--fill-color);\n",
       "    }\n",
       "    30% {\n",
       "      border-color: transparent;\n",
       "      border-left-color: var(--fill-color);\n",
       "      border-top-color: var(--fill-color);\n",
       "      border-right-color: var(--fill-color);\n",
       "    }\n",
       "    40% {\n",
       "      border-color: transparent;\n",
       "      border-right-color: var(--fill-color);\n",
       "      border-top-color: var(--fill-color);\n",
       "    }\n",
       "    60% {\n",
       "      border-color: transparent;\n",
       "      border-right-color: var(--fill-color);\n",
       "    }\n",
       "    80% {\n",
       "      border-color: transparent;\n",
       "      border-right-color: var(--fill-color);\n",
       "      border-bottom-color: var(--fill-color);\n",
       "    }\n",
       "    90% {\n",
       "      border-color: transparent;\n",
       "      border-bottom-color: var(--fill-color);\n",
       "    }\n",
       "  }\n",
       "</style>\n",
       "\n",
       "  <script>\n",
       "    async function quickchart(key) {\n",
       "      const quickchartButtonEl =\n",
       "        document.querySelector('#' + key + ' button');\n",
       "      quickchartButtonEl.disabled = true;  // To prevent multiple clicks.\n",
       "      quickchartButtonEl.classList.add('colab-df-spinner');\n",
       "      try {\n",
       "        const charts = await google.colab.kernel.invokeFunction(\n",
       "            'suggestCharts', [key], {});\n",
       "      } catch (error) {\n",
       "        console.error('Error during call to suggestCharts:', error);\n",
       "      }\n",
       "      quickchartButtonEl.classList.remove('colab-df-spinner');\n",
       "      quickchartButtonEl.classList.add('colab-df-quickchart-complete');\n",
       "    }\n",
       "    (() => {\n",
       "      let quickchartButtonEl =\n",
       "        document.querySelector('#df-314d79f2-2eef-4d53-a1b1-e5aa5b5ec324 button');\n",
       "      quickchartButtonEl.style.display =\n",
       "        google.colab.kernel.accessAllowed ? 'block' : 'none';\n",
       "    })();\n",
       "  </script>\n",
       "</div>\n",
       "\n",
       "    </div>\n",
       "  </div>\n"
      ],
      "text/plain": [
       "     AREA  PERIMETER  MAJOR_AXIS  MINOR_AXIS  ECCENTRICITY   EQDIASQ  \\\n",
       "0  422163  2378.9080    837.8484    645.6693        0.6373  733.1539   \n",
       "1  338136  2085.1440    723.8198    595.2073        0.5690  656.1464   \n",
       "2  526843  2647.3940    940.7379    715.3638        0.6494  819.0222   \n",
       "3  416063  2351.2100    827.9804    645.2988        0.6266  727.8378   \n",
       "4  347562  2160.3540    763.9877    582.8359        0.6465  665.2291   \n",
       "5  408953  2326.6931    840.1821    622.0076        0.6722  721.5921   \n",
       "6  451414  2457.2080    889.3253    652.4316        0.6796  758.1281   \n",
       "7  382636  2275.7791    808.0833    609.2819        0.6569  697.9880   \n",
       "8  546063  2714.9480    916.3737    766.4536        0.5481  833.8279   \n",
       "9  420044  2391.1230    836.9280    645.1822        0.6370  731.3116   \n",
       "\n",
       "   SOLIDITY  CONVEX_AREA  EXTENT  ASPECT_RATIO  ...  KurtosisRR  KurtosisRG  \\\n",
       "0    0.9947       424428  0.7831        1.2976  ...      3.2370      2.9574   \n",
       "1    0.9974       339014  0.7795        1.2161  ...      2.6228      2.6350   \n",
       "2    0.9962       528876  0.7657        1.3150  ...      3.7516      3.8611   \n",
       "3    0.9948       418255  0.7759        1.2831  ...      5.0401      8.6136   \n",
       "4    0.9908       350797  0.7569        1.3108  ...      2.7016      2.9761   \n",
       "5    0.9974       410036  0.7805        1.3508  ...      3.6309      6.0285   \n",
       "6    0.9970       452755  0.7877        1.3631  ...      3.0703      3.4163   \n",
       "7    0.9931       385277  0.7032        1.3263  ...      3.6756      7.0258   \n",
       "8    0.9882       552598  0.7710        1.1956  ...      3.4640      3.7416   \n",
       "9    0.9918       423531  0.7853        1.2972  ...      3.3729      4.2898   \n",
       "\n",
       "   KurtosisRB    EntropyRR    EntropyRG    EntropyRB  ALLdaub4RR  ALLdaub4RG  \\\n",
       "0      4.2287 -59191263232 -50714214400 -39922372608     58.7255     54.9554   \n",
       "1      3.1704 -34233065472 -37462601728 -31477794816     50.0259     52.8168   \n",
       "2      4.7192 -93948354560 -74738221056 -60311207936     65.4772     59.2860   \n",
       "3      8.2618 -32074307584 -32060925952 -29575010304     43.3900     44.1259   \n",
       "4      4.4146 -39980974080 -35980042240 -25593278464     52.7743     50.9080   \n",
       "5      6.2159 -41140371456 -33146710016 -27907301376     49.7001     45.3190   \n",
       "6      4.9168 -63711666176 -64060743680 -52603465728     57.8060     58.5449   \n",
       "7      5.3254 -29873577984 -33570080768 -33054025728     45.1768     48.2407   \n",
       "8      4.8120 -95262416896 -79321833472 -69569445888     64.6188     59.9127   \n",
       "9      5.4637 -74341122048 -58172182528 -42640556032     64.9094     58.2771   \n",
       "\n",
       "   ALLdaub4RB  Class  \n",
       "0     47.8400      0  \n",
       "1     47.8315      0  \n",
       "2     51.9378      0  \n",
       "3     41.1882      0  \n",
       "4     42.6666      0  \n",
       "5     39.7371      0  \n",
       "6     52.4199      0  \n",
       "7     47.2167      0  \n",
       "8     55.6509      0  \n",
       "9     48.4820      0  \n",
       "\n",
       "[10 rows x 35 columns]"
      ]
     },
     "execution_count": 11,
     "metadata": {},
     "output_type": "execute_result"
    }
   ],
   "source": [
    "label_encoder_class = preprocessing.LabelEncoder()\n",
    "df_fruits['Class'] = label_encoder_class.fit_transform(df_fruits['Class'])\n",
    "df_fruits.head(10)"
   ]
  },
  {
   "cell_type": "code",
   "execution_count": null,
   "metadata": {
    "colab": {
     "base_uri": "https://localhost:8080/"
    },
    "id": "7HjNS3Ff7zHV",
    "outputId": "1373e463-c3cc-4fdc-968c-a68599ad9675"
   },
   "outputs": [
    {
     "name": "stdout",
     "output_type": "stream",
     "text": [
      "Category in Class is : [0 1 2 3 4 5 6]\n",
      "Number of categories in Y: 7\n"
     ]
    }
   ],
   "source": [
    "print(f\"Category in Class is : {df_fruits['Class'].unique()}\")\n",
    "print(f\"Number of categories in Y: {len(df_fruits['Class'].unique())}\")"
   ]
  },
  {
   "cell_type": "markdown",
   "metadata": {
    "id": "Texb2mQBuxSL"
   },
   "source": [
    "### Normalização dos Dados"
   ]
  },
  {
   "cell_type": "markdown",
   "metadata": {
    "id": "AEgNASw-8GKl"
   },
   "source": [
    "Normalização dos dados, mas sem o Y, então tem que dividir X e Y primeiro."
   ]
  },
  {
   "cell_type": "code",
   "execution_count": null,
   "metadata": {
    "colab": {
     "base_uri": "https://localhost:8080/"
    },
    "id": "iWUHkJ-G8MYu",
    "outputId": "13172b7e-c33d-4e37-99fd-d88fc86a0680"
   },
   "outputs": [
    {
     "data": {
      "text/plain": [
       "(898, 34)"
      ]
     },
     "execution_count": 72,
     "metadata": {},
     "output_type": "execute_result"
    }
   ],
   "source": [
    "y_df = df_fruits['Class']\n",
    "x_df = df_fruits[df_fruits.columns.difference(['Class'])]\n",
    "x_df.shape"
   ]
  },
  {
   "cell_type": "code",
   "execution_count": null,
   "metadata": {
    "colab": {
     "base_uri": "https://localhost:8080/",
     "height": 412
    },
    "id": "a_bOnvzcu0bg",
    "outputId": "11a44068-e2b1-4721-e890-164e48f47806"
   },
   "outputs": [
    {
     "data": {
      "application/vnd.google.colaboratory.intrinsic+json": {
       "type": "dataframe",
       "variable_name": "df"
      },
      "text/html": [
       "\n",
       "  <div id=\"df-2916db7f-57eb-456d-867e-d16cdce071fa\" class=\"colab-df-container\">\n",
       "    <div>\n",
       "<style scoped>\n",
       "    .dataframe tbody tr th:only-of-type {\n",
       "        vertical-align: middle;\n",
       "    }\n",
       "\n",
       "    .dataframe tbody tr th {\n",
       "        vertical-align: top;\n",
       "    }\n",
       "\n",
       "    .dataframe thead th {\n",
       "        text-align: right;\n",
       "    }\n",
       "</style>\n",
       "<table border=\"1\" class=\"dataframe\">\n",
       "  <thead>\n",
       "    <tr style=\"text-align: right;\">\n",
       "      <th></th>\n",
       "      <th>ALLdaub4RB</th>\n",
       "      <th>ALLdaub4RG</th>\n",
       "      <th>ALLdaub4RR</th>\n",
       "      <th>AREA</th>\n",
       "      <th>ASPECT_RATIO</th>\n",
       "      <th>COMPACTNESS</th>\n",
       "      <th>CONVEX_AREA</th>\n",
       "      <th>ECCENTRICITY</th>\n",
       "      <th>EQDIASQ</th>\n",
       "      <th>EXTENT</th>\n",
       "      <th>...</th>\n",
       "      <th>SHAPEFACTOR_2</th>\n",
       "      <th>SHAPEFACTOR_3</th>\n",
       "      <th>SHAPEFACTOR_4</th>\n",
       "      <th>SOLIDITY</th>\n",
       "      <th>SkewRB</th>\n",
       "      <th>SkewRG</th>\n",
       "      <th>SkewRR</th>\n",
       "      <th>StdDevRB</th>\n",
       "      <th>StdDevRG</th>\n",
       "      <th>StdDevRR</th>\n",
       "    </tr>\n",
       "  </thead>\n",
       "  <tbody>\n",
       "    <tr>\n",
       "      <th>0</th>\n",
       "      <td>-0.023908</td>\n",
       "      <td>0.435593</td>\n",
       "      <td>0.538340</td>\n",
       "      <td>1.155640</td>\n",
       "      <td>-0.046797</td>\n",
       "      <td>1.091228</td>\n",
       "      <td>1.108752</td>\n",
       "      <td>-1.129568</td>\n",
       "      <td>1.075704</td>\n",
       "      <td>0.871873</td>\n",
       "      <td>...</td>\n",
       "      <td>-0.688443</td>\n",
       "      <td>1.169934</td>\n",
       "      <td>0.240467</td>\n",
       "      <td>0.708628</td>\n",
       "      <td>0.555487</td>\n",
       "      <td>-0.553810</td>\n",
       "      <td>-0.695157</td>\n",
       "      <td>0.810769</td>\n",
       "      <td>-0.607179</td>\n",
       "      <td>-0.401724</td>\n",
       "    </tr>\n",
       "    <tr>\n",
       "      <th>1</th>\n",
       "      <td>-0.024694</td>\n",
       "      <td>0.284113</td>\n",
       "      <td>-0.003550</td>\n",
       "      <td>0.371700</td>\n",
       "      <td>-0.051373</td>\n",
       "      <td>1.598142</td>\n",
       "      <td>0.323373</td>\n",
       "      <td>-1.899771</td>\n",
       "      <td>0.431437</td>\n",
       "      <td>0.804852</td>\n",
       "      <td>...</td>\n",
       "      <td>0.013019</td>\n",
       "      <td>1.765084</td>\n",
       "      <td>0.519036</td>\n",
       "      <td>0.857410</td>\n",
       "      <td>0.257494</td>\n",
       "      <td>-0.413034</td>\n",
       "      <td>-0.341620</td>\n",
       "      <td>0.402781</td>\n",
       "      <td>-0.529053</td>\n",
       "      <td>-0.282678</td>\n",
       "    </tr>\n",
       "    <tr>\n",
       "      <th>2</th>\n",
       "      <td>0.355243</td>\n",
       "      <td>0.742335</td>\n",
       "      <td>0.958897</td>\n",
       "      <td>2.132265</td>\n",
       "      <td>-0.045820</td>\n",
       "      <td>1.020421</td>\n",
       "      <td>2.069149</td>\n",
       "      <td>-0.993119</td>\n",
       "      <td>1.794103</td>\n",
       "      <td>0.547942</td>\n",
       "      <td>...</td>\n",
       "      <td>-0.922263</td>\n",
       "      <td>1.088247</td>\n",
       "      <td>0.396857</td>\n",
       "      <td>0.791285</td>\n",
       "      <td>1.055673</td>\n",
       "      <td>-0.644743</td>\n",
       "      <td>-0.853310</td>\n",
       "      <td>1.582297</td>\n",
       "      <td>-0.322719</td>\n",
       "      <td>0.104097</td>\n",
       "    </tr>\n",
       "    <tr>\n",
       "      <th>3</th>\n",
       "      <td>-0.639369</td>\n",
       "      <td>-0.331475</td>\n",
       "      <td>-0.416894</td>\n",
       "      <td>1.098729</td>\n",
       "      <td>-0.047612</td>\n",
       "      <td>1.157207</td>\n",
       "      <td>1.051992</td>\n",
       "      <td>-1.250230</td>\n",
       "      <td>1.031228</td>\n",
       "      <td>0.737832</td>\n",
       "      <td>...</td>\n",
       "      <td>-0.454622</td>\n",
       "      <td>1.244196</td>\n",
       "      <td>0.137837</td>\n",
       "      <td>0.714138</td>\n",
       "      <td>2.453948</td>\n",
       "      <td>0.700094</td>\n",
       "      <td>0.391546</td>\n",
       "      <td>0.866354</td>\n",
       "      <td>-0.346734</td>\n",
       "      <td>-0.050550</td>\n",
       "    </tr>\n",
       "    <tr>\n",
       "      <th>4</th>\n",
       "      <td>-0.502579</td>\n",
       "      <td>0.148910</td>\n",
       "      <td>0.167646</td>\n",
       "      <td>0.459641</td>\n",
       "      <td>-0.046056</td>\n",
       "      <td>1.022030</td>\n",
       "      <td>0.431717</td>\n",
       "      <td>-1.025822</td>\n",
       "      <td>0.507425</td>\n",
       "      <td>0.384115</td>\n",
       "      <td>...</td>\n",
       "      <td>-0.220802</td>\n",
       "      <td>1.090369</td>\n",
       "      <td>0.250242</td>\n",
       "      <td>0.493720</td>\n",
       "      <td>1.005402</td>\n",
       "      <td>-0.340673</td>\n",
       "      <td>-0.471452</td>\n",
       "      <td>0.209241</td>\n",
       "      <td>-0.248073</td>\n",
       "      <td>0.201964</td>\n",
       "    </tr>\n",
       "    <tr>\n",
       "      <th>5</th>\n",
       "      <td>-0.773632</td>\n",
       "      <td>-0.246966</td>\n",
       "      <td>-0.023844</td>\n",
       "      <td>1.032395</td>\n",
       "      <td>-0.043810</td>\n",
       "      <td>0.832139</td>\n",
       "      <td>0.976418</td>\n",
       "      <td>-0.736009</td>\n",
       "      <td>0.978975</td>\n",
       "      <td>0.823469</td>\n",
       "      <td>...</td>\n",
       "      <td>-0.688443</td>\n",
       "      <td>0.871829</td>\n",
       "      <td>0.377308</td>\n",
       "      <td>0.857410</td>\n",
       "      <td>2.065529</td>\n",
       "      <td>0.361671</td>\n",
       "      <td>0.031433</td>\n",
       "      <td>1.356365</td>\n",
       "      <td>-0.428945</td>\n",
       "      <td>-0.125430</td>\n",
       "    </tr>\n",
       "    <tr>\n",
       "      <th>6</th>\n",
       "      <td>0.399849</td>\n",
       "      <td>0.689842</td>\n",
       "      <td>0.481066</td>\n",
       "      <td>1.428541</td>\n",
       "      <td>-0.043120</td>\n",
       "      <td>0.729147</td>\n",
       "      <td>1.369218</td>\n",
       "      <td>-0.652561</td>\n",
       "      <td>1.284645</td>\n",
       "      <td>0.957509</td>\n",
       "      <td>...</td>\n",
       "      <td>-0.922263</td>\n",
       "      <td>0.756194</td>\n",
       "      <td>0.093852</td>\n",
       "      <td>0.835369</td>\n",
       "      <td>1.094878</td>\n",
       "      <td>-0.106943</td>\n",
       "      <td>-0.030407</td>\n",
       "      <td>1.569916</td>\n",
       "      <td>0.661597</td>\n",
       "      <td>0.732422</td>\n",
       "    </tr>\n",
       "    <tr>\n",
       "      <th>7</th>\n",
       "      <td>-0.081579</td>\n",
       "      <td>-0.040018</td>\n",
       "      <td>-0.305596</td>\n",
       "      <td>0.786868</td>\n",
       "      <td>-0.045186</td>\n",
       "      <td>0.910992</td>\n",
       "      <td>0.748760</td>\n",
       "      <td>-0.908544</td>\n",
       "      <td>0.781496</td>\n",
       "      <td>-0.615601</td>\n",
       "      <td>...</td>\n",
       "      <td>-0.454622</td>\n",
       "      <td>0.962003</td>\n",
       "      <td>0.040093</td>\n",
       "      <td>0.620461</td>\n",
       "      <td>1.173606</td>\n",
       "      <td>0.366771</td>\n",
       "      <td>-0.448116</td>\n",
       "      <td>-1.096359</td>\n",
       "      <td>-2.131233</td>\n",
       "      <td>-1.514057</td>\n",
       "    </tr>\n",
       "    <tr>\n",
       "      <th>8</th>\n",
       "      <td>0.698799</td>\n",
       "      <td>0.786725</td>\n",
       "      <td>0.905429</td>\n",
       "      <td>2.311580</td>\n",
       "      <td>-0.052524</td>\n",
       "      <td>1.652856</td>\n",
       "      <td>2.287272</td>\n",
       "      <td>-2.135455</td>\n",
       "      <td>1.917972</td>\n",
       "      <td>0.646611</td>\n",
       "      <td>...</td>\n",
       "      <td>-0.922263</td>\n",
       "      <td>1.830859</td>\n",
       "      <td>0.059642</td>\n",
       "      <td>0.350448</td>\n",
       "      <td>0.102570</td>\n",
       "      <td>-0.773203</td>\n",
       "      <td>-0.894784</td>\n",
       "      <td>0.636750</td>\n",
       "      <td>-0.250455</td>\n",
       "      <td>0.301783</td>\n",
       "    </tr>\n",
       "    <tr>\n",
       "      <th>9</th>\n",
       "      <td>0.035493</td>\n",
       "      <td>0.670873</td>\n",
       "      <td>0.923530</td>\n",
       "      <td>1.135870</td>\n",
       "      <td>-0.046820</td>\n",
       "      <td>1.071917</td>\n",
       "      <td>1.100504</td>\n",
       "      <td>-1.132951</td>\n",
       "      <td>1.060291</td>\n",
       "      <td>0.912829</td>\n",
       "      <td>...</td>\n",
       "      <td>-0.688443</td>\n",
       "      <td>1.146595</td>\n",
       "      <td>0.088965</td>\n",
       "      <td>0.548825</td>\n",
       "      <td>1.487091</td>\n",
       "      <td>-0.206535</td>\n",
       "      <td>-0.441964</td>\n",
       "      <td>1.891700</td>\n",
       "      <td>0.134516</td>\n",
       "      <td>0.475546</td>\n",
       "    </tr>\n",
       "  </tbody>\n",
       "</table>\n",
       "<p>10 rows × 34 columns</p>\n",
       "</div>\n",
       "    <div class=\"colab-df-buttons\">\n",
       "\n",
       "  <div class=\"colab-df-container\">\n",
       "    <button class=\"colab-df-convert\" onclick=\"convertToInteractive('df-2916db7f-57eb-456d-867e-d16cdce071fa')\"\n",
       "            title=\"Convert this dataframe to an interactive table.\"\n",
       "            style=\"display:none;\">\n",
       "\n",
       "  <svg xmlns=\"http://www.w3.org/2000/svg\" height=\"24px\" viewBox=\"0 -960 960 960\">\n",
       "    <path d=\"M120-120v-720h720v720H120Zm60-500h600v-160H180v160Zm220 220h160v-160H400v160Zm0 220h160v-160H400v160ZM180-400h160v-160H180v160Zm440 0h160v-160H620v160ZM180-180h160v-160H180v160Zm440 0h160v-160H620v160Z\"/>\n",
       "  </svg>\n",
       "    </button>\n",
       "\n",
       "  <style>\n",
       "    .colab-df-container {\n",
       "      display:flex;\n",
       "      gap: 12px;\n",
       "    }\n",
       "\n",
       "    .colab-df-convert {\n",
       "      background-color: #E8F0FE;\n",
       "      border: none;\n",
       "      border-radius: 50%;\n",
       "      cursor: pointer;\n",
       "      display: none;\n",
       "      fill: #1967D2;\n",
       "      height: 32px;\n",
       "      padding: 0 0 0 0;\n",
       "      width: 32px;\n",
       "    }\n",
       "\n",
       "    .colab-df-convert:hover {\n",
       "      background-color: #E2EBFA;\n",
       "      box-shadow: 0px 1px 2px rgba(60, 64, 67, 0.3), 0px 1px 3px 1px rgba(60, 64, 67, 0.15);\n",
       "      fill: #174EA6;\n",
       "    }\n",
       "\n",
       "    .colab-df-buttons div {\n",
       "      margin-bottom: 4px;\n",
       "    }\n",
       "\n",
       "    [theme=dark] .colab-df-convert {\n",
       "      background-color: #3B4455;\n",
       "      fill: #D2E3FC;\n",
       "    }\n",
       "\n",
       "    [theme=dark] .colab-df-convert:hover {\n",
       "      background-color: #434B5C;\n",
       "      box-shadow: 0px 1px 3px 1px rgba(0, 0, 0, 0.15);\n",
       "      filter: drop-shadow(0px 1px 2px rgba(0, 0, 0, 0.3));\n",
       "      fill: #FFFFFF;\n",
       "    }\n",
       "  </style>\n",
       "\n",
       "    <script>\n",
       "      const buttonEl =\n",
       "        document.querySelector('#df-2916db7f-57eb-456d-867e-d16cdce071fa button.colab-df-convert');\n",
       "      buttonEl.style.display =\n",
       "        google.colab.kernel.accessAllowed ? 'block' : 'none';\n",
       "\n",
       "      async function convertToInteractive(key) {\n",
       "        const element = document.querySelector('#df-2916db7f-57eb-456d-867e-d16cdce071fa');\n",
       "        const dataTable =\n",
       "          await google.colab.kernel.invokeFunction('convertToInteractive',\n",
       "                                                    [key], {});\n",
       "        if (!dataTable) return;\n",
       "\n",
       "        const docLinkHtml = 'Like what you see? Visit the ' +\n",
       "          '<a target=\"_blank\" href=https://colab.research.google.com/notebooks/data_table.ipynb>data table notebook</a>'\n",
       "          + ' to learn more about interactive tables.';\n",
       "        element.innerHTML = '';\n",
       "        dataTable['output_type'] = 'display_data';\n",
       "        await google.colab.output.renderOutput(dataTable, element);\n",
       "        const docLink = document.createElement('div');\n",
       "        docLink.innerHTML = docLinkHtml;\n",
       "        element.appendChild(docLink);\n",
       "      }\n",
       "    </script>\n",
       "  </div>\n",
       "\n",
       "\n",
       "<div id=\"df-0ed1a42d-10fd-450a-bd9a-eed591d7e778\">\n",
       "  <button class=\"colab-df-quickchart\" onclick=\"quickchart('df-0ed1a42d-10fd-450a-bd9a-eed591d7e778')\"\n",
       "            title=\"Suggest charts\"\n",
       "            style=\"display:none;\">\n",
       "\n",
       "<svg xmlns=\"http://www.w3.org/2000/svg\" height=\"24px\"viewBox=\"0 0 24 24\"\n",
       "     width=\"24px\">\n",
       "    <g>\n",
       "        <path d=\"M19 3H5c-1.1 0-2 .9-2 2v14c0 1.1.9 2 2 2h14c1.1 0 2-.9 2-2V5c0-1.1-.9-2-2-2zM9 17H7v-7h2v7zm4 0h-2V7h2v10zm4 0h-2v-4h2v4z\"/>\n",
       "    </g>\n",
       "</svg>\n",
       "  </button>\n",
       "\n",
       "<style>\n",
       "  .colab-df-quickchart {\n",
       "      --bg-color: #E8F0FE;\n",
       "      --fill-color: #1967D2;\n",
       "      --hover-bg-color: #E2EBFA;\n",
       "      --hover-fill-color: #174EA6;\n",
       "      --disabled-fill-color: #AAA;\n",
       "      --disabled-bg-color: #DDD;\n",
       "  }\n",
       "\n",
       "  [theme=dark] .colab-df-quickchart {\n",
       "      --bg-color: #3B4455;\n",
       "      --fill-color: #D2E3FC;\n",
       "      --hover-bg-color: #434B5C;\n",
       "      --hover-fill-color: #FFFFFF;\n",
       "      --disabled-bg-color: #3B4455;\n",
       "      --disabled-fill-color: #666;\n",
       "  }\n",
       "\n",
       "  .colab-df-quickchart {\n",
       "    background-color: var(--bg-color);\n",
       "    border: none;\n",
       "    border-radius: 50%;\n",
       "    cursor: pointer;\n",
       "    display: none;\n",
       "    fill: var(--fill-color);\n",
       "    height: 32px;\n",
       "    padding: 0;\n",
       "    width: 32px;\n",
       "  }\n",
       "\n",
       "  .colab-df-quickchart:hover {\n",
       "    background-color: var(--hover-bg-color);\n",
       "    box-shadow: 0 1px 2px rgba(60, 64, 67, 0.3), 0 1px 3px 1px rgba(60, 64, 67, 0.15);\n",
       "    fill: var(--button-hover-fill-color);\n",
       "  }\n",
       "\n",
       "  .colab-df-quickchart-complete:disabled,\n",
       "  .colab-df-quickchart-complete:disabled:hover {\n",
       "    background-color: var(--disabled-bg-color);\n",
       "    fill: var(--disabled-fill-color);\n",
       "    box-shadow: none;\n",
       "  }\n",
       "\n",
       "  .colab-df-spinner {\n",
       "    border: 2px solid var(--fill-color);\n",
       "    border-color: transparent;\n",
       "    border-bottom-color: var(--fill-color);\n",
       "    animation:\n",
       "      spin 1s steps(1) infinite;\n",
       "  }\n",
       "\n",
       "  @keyframes spin {\n",
       "    0% {\n",
       "      border-color: transparent;\n",
       "      border-bottom-color: var(--fill-color);\n",
       "      border-left-color: var(--fill-color);\n",
       "    }\n",
       "    20% {\n",
       "      border-color: transparent;\n",
       "      border-left-color: var(--fill-color);\n",
       "      border-top-color: var(--fill-color);\n",
       "    }\n",
       "    30% {\n",
       "      border-color: transparent;\n",
       "      border-left-color: var(--fill-color);\n",
       "      border-top-color: var(--fill-color);\n",
       "      border-right-color: var(--fill-color);\n",
       "    }\n",
       "    40% {\n",
       "      border-color: transparent;\n",
       "      border-right-color: var(--fill-color);\n",
       "      border-top-color: var(--fill-color);\n",
       "    }\n",
       "    60% {\n",
       "      border-color: transparent;\n",
       "      border-right-color: var(--fill-color);\n",
       "    }\n",
       "    80% {\n",
       "      border-color: transparent;\n",
       "      border-right-color: var(--fill-color);\n",
       "      border-bottom-color: var(--fill-color);\n",
       "    }\n",
       "    90% {\n",
       "      border-color: transparent;\n",
       "      border-bottom-color: var(--fill-color);\n",
       "    }\n",
       "  }\n",
       "</style>\n",
       "\n",
       "  <script>\n",
       "    async function quickchart(key) {\n",
       "      const quickchartButtonEl =\n",
       "        document.querySelector('#' + key + ' button');\n",
       "      quickchartButtonEl.disabled = true;  // To prevent multiple clicks.\n",
       "      quickchartButtonEl.classList.add('colab-df-spinner');\n",
       "      try {\n",
       "        const charts = await google.colab.kernel.invokeFunction(\n",
       "            'suggestCharts', [key], {});\n",
       "      } catch (error) {\n",
       "        console.error('Error during call to suggestCharts:', error);\n",
       "      }\n",
       "      quickchartButtonEl.classList.remove('colab-df-spinner');\n",
       "      quickchartButtonEl.classList.add('colab-df-quickchart-complete');\n",
       "    }\n",
       "    (() => {\n",
       "      let quickchartButtonEl =\n",
       "        document.querySelector('#df-0ed1a42d-10fd-450a-bd9a-eed591d7e778 button');\n",
       "      quickchartButtonEl.style.display =\n",
       "        google.colab.kernel.accessAllowed ? 'block' : 'none';\n",
       "    })();\n",
       "  </script>\n",
       "</div>\n",
       "\n",
       "    </div>\n",
       "  </div>\n"
      ],
      "text/plain": [
       "   ALLdaub4RB  ALLdaub4RG  ALLdaub4RR      AREA  ASPECT_RATIO  COMPACTNESS  \\\n",
       "0   -0.023908    0.435593    0.538340  1.155640     -0.046797     1.091228   \n",
       "1   -0.024694    0.284113   -0.003550  0.371700     -0.051373     1.598142   \n",
       "2    0.355243    0.742335    0.958897  2.132265     -0.045820     1.020421   \n",
       "3   -0.639369   -0.331475   -0.416894  1.098729     -0.047612     1.157207   \n",
       "4   -0.502579    0.148910    0.167646  0.459641     -0.046056     1.022030   \n",
       "5   -0.773632   -0.246966   -0.023844  1.032395     -0.043810     0.832139   \n",
       "6    0.399849    0.689842    0.481066  1.428541     -0.043120     0.729147   \n",
       "7   -0.081579   -0.040018   -0.305596  0.786868     -0.045186     0.910992   \n",
       "8    0.698799    0.786725    0.905429  2.311580     -0.052524     1.652856   \n",
       "9    0.035493    0.670873    0.923530  1.135870     -0.046820     1.071917   \n",
       "\n",
       "   CONVEX_AREA  ECCENTRICITY   EQDIASQ    EXTENT  ...  SHAPEFACTOR_2  \\\n",
       "0     1.108752     -1.129568  1.075704  0.871873  ...      -0.688443   \n",
       "1     0.323373     -1.899771  0.431437  0.804852  ...       0.013019   \n",
       "2     2.069149     -0.993119  1.794103  0.547942  ...      -0.922263   \n",
       "3     1.051992     -1.250230  1.031228  0.737832  ...      -0.454622   \n",
       "4     0.431717     -1.025822  0.507425  0.384115  ...      -0.220802   \n",
       "5     0.976418     -0.736009  0.978975  0.823469  ...      -0.688443   \n",
       "6     1.369218     -0.652561  1.284645  0.957509  ...      -0.922263   \n",
       "7     0.748760     -0.908544  0.781496 -0.615601  ...      -0.454622   \n",
       "8     2.287272     -2.135455  1.917972  0.646611  ...      -0.922263   \n",
       "9     1.100504     -1.132951  1.060291  0.912829  ...      -0.688443   \n",
       "\n",
       "   SHAPEFACTOR_3  SHAPEFACTOR_4  SOLIDITY    SkewRB    SkewRG    SkewRR  \\\n",
       "0       1.169934       0.240467  0.708628  0.555487 -0.553810 -0.695157   \n",
       "1       1.765084       0.519036  0.857410  0.257494 -0.413034 -0.341620   \n",
       "2       1.088247       0.396857  0.791285  1.055673 -0.644743 -0.853310   \n",
       "3       1.244196       0.137837  0.714138  2.453948  0.700094  0.391546   \n",
       "4       1.090369       0.250242  0.493720  1.005402 -0.340673 -0.471452   \n",
       "5       0.871829       0.377308  0.857410  2.065529  0.361671  0.031433   \n",
       "6       0.756194       0.093852  0.835369  1.094878 -0.106943 -0.030407   \n",
       "7       0.962003       0.040093  0.620461  1.173606  0.366771 -0.448116   \n",
       "8       1.830859       0.059642  0.350448  0.102570 -0.773203 -0.894784   \n",
       "9       1.146595       0.088965  0.548825  1.487091 -0.206535 -0.441964   \n",
       "\n",
       "   StdDevRB  StdDevRG  StdDevRR  \n",
       "0  0.810769 -0.607179 -0.401724  \n",
       "1  0.402781 -0.529053 -0.282678  \n",
       "2  1.582297 -0.322719  0.104097  \n",
       "3  0.866354 -0.346734 -0.050550  \n",
       "4  0.209241 -0.248073  0.201964  \n",
       "5  1.356365 -0.428945 -0.125430  \n",
       "6  1.569916  0.661597  0.732422  \n",
       "7 -1.096359 -2.131233 -1.514057  \n",
       "8  0.636750 -0.250455  0.301783  \n",
       "9  1.891700  0.134516  0.475546  \n",
       "\n",
       "[10 rows x 34 columns]"
      ]
     },
     "execution_count": 73,
     "metadata": {},
     "output_type": "execute_result"
    }
   ],
   "source": [
    "scaler = preprocessing.StandardScaler()\n",
    "df = pd.DataFrame(scaler.fit_transform(x_df), columns=x_df.columns)\n",
    "df.head(10)"
   ]
  },
  {
   "cell_type": "markdown",
   "metadata": {
    "id": "qbj7xeUV13Vc"
   },
   "source": [
    "## Separação de X e Y"
   ]
  },
  {
   "cell_type": "markdown",
   "metadata": {
    "id": "bKxkepUi2J3G"
   },
   "source": [
    "### Y"
   ]
  },
  {
   "cell_type": "code",
   "execution_count": null,
   "metadata": {
    "colab": {
     "base_uri": "https://localhost:8080/"
    },
    "id": "5vIAB50416GQ",
    "outputId": "3e47d787-5364-4027-f68b-4e753abd335e"
   },
   "outputs": [
    {
     "data": {
      "text/plain": [
       "(898,)"
      ]
     },
     "execution_count": 70,
     "metadata": {},
     "output_type": "execute_result"
    }
   ],
   "source": [
    "y = y_df\n",
    "y.shape"
   ]
  },
  {
   "cell_type": "code",
   "execution_count": null,
   "metadata": {
    "colab": {
     "base_uri": "https://localhost:8080/"
    },
    "id": "eFCSJ4AE2ZOk",
    "outputId": "5fff9a45-81be-43bf-ab8e-a4e5f1799018"
   },
   "outputs": [
    {
     "data": {
      "text/plain": [
       "(898, 1)"
      ]
     },
     "execution_count": 71,
     "metadata": {},
     "output_type": "execute_result"
    }
   ],
   "source": [
    "y = y.values.reshape(-1, 1)\n",
    "y.shape"
   ]
  },
  {
   "cell_type": "code",
   "execution_count": null,
   "metadata": {
    "colab": {
     "base_uri": "https://localhost:8080/"
    },
    "id": "OgH9ACMcGREd",
    "outputId": "ae05ced9-0367-4033-cc3e-43cb9f79bad4"
   },
   "outputs": [
    {
     "data": {
      "text/plain": [
       "array([0, 0, 0, 0, 0, 0, 0, 0, 0, 0, 0, 0, 0, 0, 0, 0, 0, 0, 0, 0, 0, 0,\n",
       "       0, 0, 0, 0, 0, 0, 0, 0, 0, 0, 0, 0, 0, 0, 0, 0, 0, 0, 0, 0, 0, 0,\n",
       "       0, 0, 0, 0, 0, 0, 0, 0, 0, 0, 0, 0, 0, 0, 0, 0, 0, 0, 0, 0, 0, 1,\n",
       "       1, 1, 1, 1, 1, 1, 1, 1, 1, 1, 1, 1, 1, 1, 1, 1, 1, 1, 1, 1, 1, 1,\n",
       "       1, 1, 1, 1, 1, 1, 1, 1, 1, 1, 1, 1, 1, 1, 1, 1, 1, 1, 1, 1, 1, 1,\n",
       "       1, 1, 1, 1, 1, 1, 1, 1, 1, 1, 1, 1, 1, 1, 1, 1, 1, 1, 1, 1, 1, 1,\n",
       "       1, 1, 1, 1, 1, 1, 1, 1, 1, 1, 1, 1, 1, 1, 1, 1, 1, 1, 1, 1, 1, 1,\n",
       "       1, 1, 1, 1, 1, 1, 1, 1, 1, 2, 2, 2, 2, 2, 2, 2, 2, 2, 2, 2, 2, 2,\n",
       "       2, 2, 2, 2, 2, 2, 2, 2, 2, 2, 2, 2, 2, 2, 2, 2, 2, 2, 2, 2, 2, 2,\n",
       "       2, 2, 2, 2, 2, 2, 2, 2, 2, 2, 2, 2, 2, 2, 2, 2, 2, 2, 2, 2, 2, 2,\n",
       "       2, 2, 2, 2, 2, 2, 2, 2, 2, 2, 2, 2, 2, 2, 2, 2, 2, 2, 2, 2, 2, 2,\n",
       "       2, 2, 2, 2, 2, 2, 2, 2, 2, 2, 2, 2, 2, 2, 2, 2, 2, 2, 2, 2, 2, 2,\n",
       "       2, 2, 2, 2, 2, 2, 2, 2, 2, 2, 2, 2, 2, 2, 2, 2, 2, 2, 2, 2, 2, 2,\n",
       "       2, 2, 2, 2, 2, 2, 2, 2, 2, 2, 2, 2, 2, 2, 2, 2, 2, 2, 2, 2, 2, 2,\n",
       "       2, 2, 2, 2, 2, 2, 2, 2, 2, 2, 2, 2, 2, 2, 2, 2, 2, 2, 2, 2, 2, 2,\n",
       "       2, 2, 2, 2, 2, 2, 2, 2, 2, 2, 2, 2, 2, 2, 2, 2, 2, 2, 2, 2, 2, 2,\n",
       "       2, 2, 2, 2, 2, 2, 2, 2, 2, 2, 2, 2, 2, 2, 2, 3, 3, 3, 3, 3, 3, 3,\n",
       "       3, 3, 3, 3, 3, 3, 3, 3, 3, 3, 3, 3, 3, 3, 3, 3, 3, 3, 3, 3, 3, 3,\n",
       "       3, 3, 3, 3, 3, 3, 3, 3, 3, 3, 3, 3, 3, 3, 3, 3, 3, 3, 3, 3, 3, 3,\n",
       "       3, 3, 3, 3, 3, 3, 3, 3, 3, 3, 3, 3, 3, 3, 3, 3, 3, 3, 3, 3, 3, 4,\n",
       "       4, 4, 4, 4, 4, 4, 4, 4, 4, 4, 4, 4, 4, 4, 4, 4, 4, 4, 4, 4, 4, 4,\n",
       "       4, 4, 4, 4, 4, 4, 4, 4, 4, 4, 4, 4, 4, 4, 4, 4, 4, 4, 4, 4, 4, 4,\n",
       "       4, 4, 4, 4, 4, 4, 4, 4, 4, 4, 4, 4, 4, 4, 4, 4, 4, 4, 4, 4, 4, 4,\n",
       "       4, 4, 4, 4, 4, 4, 4, 4, 4, 4, 4, 4, 4, 4, 4, 4, 4, 4, 4, 4, 4, 4,\n",
       "       4, 4, 4, 4, 4, 4, 4, 4, 4, 4, 4, 4, 4, 4, 4, 4, 4, 4, 4, 4, 4, 4,\n",
       "       4, 4, 4, 4, 4, 4, 4, 4, 4, 4, 4, 4, 4, 4, 4, 4, 4, 4, 4, 4, 4, 4,\n",
       "       4, 4, 4, 4, 4, 4, 4, 4, 4, 4, 4, 4, 4, 4, 4, 4, 4, 4, 4, 4, 4, 4,\n",
       "       4, 4, 4, 4, 4, 4, 4, 4, 4, 4, 4, 5, 5, 5, 5, 5, 5, 5, 5, 5, 5, 5,\n",
       "       5, 5, 5, 5, 5, 5, 5, 5, 5, 5, 5, 5, 5, 5, 5, 5, 5, 5, 5, 5, 5, 5,\n",
       "       5, 5, 5, 5, 5, 5, 5, 5, 5, 5, 5, 5, 5, 5, 5, 5, 5, 5, 5, 5, 5, 5,\n",
       "       5, 5, 5, 5, 5, 5, 5, 5, 5, 5, 5, 5, 5, 5, 5, 5, 5, 5, 5, 5, 5, 5,\n",
       "       5, 5, 5, 5, 5, 5, 5, 5, 5, 5, 5, 5, 5, 5, 5, 5, 5, 5, 5, 5, 5, 5,\n",
       "       5, 5, 5, 5, 5, 5, 5, 5, 5, 5, 5, 5, 5, 5, 5, 5, 5, 5, 5, 5, 5, 5,\n",
       "       5, 5, 5, 5, 5, 5, 5, 5, 5, 5, 5, 5, 5, 5, 5, 5, 5, 5, 5, 5, 5, 5,\n",
       "       5, 5, 5, 5, 5, 5, 5, 5, 5, 5, 5, 5, 5, 5, 5, 5, 5, 5, 5, 5, 5, 5,\n",
       "       5, 5, 5, 5, 5, 5, 5, 5, 5, 5, 5, 5, 5, 5, 5, 5, 5, 5, 5, 5, 5, 5,\n",
       "       5, 5, 5, 5, 5, 5, 5, 5, 5, 5, 5, 5, 6, 6, 6, 6, 6, 6, 6, 6, 6, 6,\n",
       "       6, 6, 6, 6, 6, 6, 6, 6, 6, 6, 6, 6, 6, 6, 6, 6, 6, 6, 6, 6, 6, 6,\n",
       "       6, 6, 6, 6, 6, 6, 6, 6, 6, 6, 6, 6, 6, 6, 6, 6, 6, 6, 6, 6, 6, 6,\n",
       "       6, 6, 6, 6, 6, 6, 6, 6, 6, 6, 6, 6, 6, 6, 6, 6, 6, 6, 6, 6, 6, 6,\n",
       "       6, 6, 6, 6, 6, 6, 6, 6, 6, 6, 6, 6, 6, 6, 6, 6, 6, 6])"
      ]
     },
     "execution_count": 137,
     "metadata": {},
     "output_type": "execute_result"
    }
   ],
   "source": [
    "y = (y.transpose())[0]\n",
    "y"
   ]
  },
  {
   "cell_type": "markdown",
   "metadata": {
    "id": "GzxVmUhf2c4J"
   },
   "source": [
    "### X"
   ]
  },
  {
   "cell_type": "code",
   "execution_count": null,
   "metadata": {
    "colab": {
     "base_uri": "https://localhost:8080/"
    },
    "id": "EbpW8eLL2sXQ",
    "outputId": "dca2b4a0-100e-46aa-ddf6-d9c12662322e"
   },
   "outputs": [
    {
     "data": {
      "text/plain": [
       "(898, 34)"
      ]
     },
     "execution_count": 138,
     "metadata": {},
     "output_type": "execute_result"
    }
   ],
   "source": [
    "x = x_df\n",
    "x.shape"
   ]
  },
  {
   "cell_type": "markdown",
   "metadata": {
    "id": "gDpg1U7v2__O"
   },
   "source": [
    "## Criação do Dataset"
   ]
  },
  {
   "cell_type": "code",
   "execution_count": null,
   "metadata": {
    "id": "qoZoFdkN3CuK"
   },
   "outputs": [],
   "source": [
    "class CustomDataset(Dataset):\n",
    "  def __init__(self, x, y):\n",
    "    super(CustomDataset, self).__init__()\n",
    "    self.x = torch.Tensor(x)\n",
    "    self.y = torch.LongTensor(y)\n",
    "\n",
    "  def __getitem__(self, index):\n",
    "    return self.x[index], self.y[index]\n",
    "\n",
    "  def __len__(self):\n",
    "    return len(self.x)"
   ]
  },
  {
   "cell_type": "markdown",
   "metadata": {
    "id": "iN7bqx7R3d-U"
   },
   "source": [
    "## Instanciação do Dataset"
   ]
  },
  {
   "cell_type": "code",
   "execution_count": null,
   "metadata": {
    "id": "JrluOP9o3YVV"
   },
   "outputs": [],
   "source": [
    "dataset = CustomDataset(x.to_numpy(), y)"
   ]
  },
  {
   "cell_type": "markdown",
   "metadata": {
    "id": "kS4ePeye3hNQ"
   },
   "source": [
    "## Separação Treino / Teste"
   ]
  },
  {
   "cell_type": "code",
   "execution_count": null,
   "metadata": {
    "id": "Ynl9vbru3bin"
   },
   "outputs": [],
   "source": [
    "dataset_train, dataset_test = random_split(dataset, [0.7, 0.3])"
   ]
  },
  {
   "cell_type": "markdown",
   "metadata": {
    "id": "I81jnFf23nFY"
   },
   "source": [
    "### Tamanho Dataset Treino"
   ]
  },
  {
   "cell_type": "code",
   "execution_count": null,
   "metadata": {
    "colab": {
     "base_uri": "https://localhost:8080/"
    },
    "id": "50MH0w9y3mZl",
    "outputId": "9336217b-9dcb-43b4-ce19-44c651bf8601"
   },
   "outputs": [
    {
     "name": "stdout",
     "output_type": "stream",
     "text": [
      "Tamanho Dataset Treino: 629\n"
     ]
    }
   ],
   "source": [
    "print(f'Tamanho Dataset Treino: {len(dataset_train)}')"
   ]
  },
  {
   "cell_type": "markdown",
   "metadata": {
    "id": "dxwFPGHZ3tGM"
   },
   "source": [
    "### Tamanho Dataset Test"
   ]
  },
  {
   "cell_type": "code",
   "execution_count": null,
   "metadata": {
    "colab": {
     "base_uri": "https://localhost:8080/"
    },
    "id": "UhZQCV-R3vmb",
    "outputId": "595c835a-b85c-4b7d-c64e-bb6906439477"
   },
   "outputs": [
    {
     "name": "stdout",
     "output_type": "stream",
     "text": [
      "Tamanho Dataset Treino: 269\n"
     ]
    }
   ],
   "source": [
    "print(f'Tamanho Dataset Treino: {len(dataset_test)}')"
   ]
  },
  {
   "cell_type": "markdown",
   "metadata": {
    "id": "1ssoyvNZ4sj_"
   },
   "source": [
    "## Dataloader"
   ]
  },
  {
   "cell_type": "code",
   "execution_count": null,
   "metadata": {
    "id": "B4mah1rr4uTS"
   },
   "outputs": [],
   "source": [
    "use_cuda = torch.cuda.is_available()\n",
    "\n",
    "torch.manual_seed(1111)\n",
    "\n",
    "device = torch.device(\"cuda\" if use_cuda else \"cpu\")\n",
    "\n",
    "train_kwargs = {'batch_size': 32}\n",
    "test_kwargs = {'batch_size': 32}\n",
    "if use_cuda:\n",
    "    cuda_kwargs = {'num_workers': 1,\n",
    "                    'pin_memory': True,\n",
    "                    'shuffle': True}\n",
    "    train_kwargs.update(cuda_kwargs)\n",
    "    test_kwargs.update(cuda_kwargs)\n",
    "\n",
    "train_loader = torch.utils.data.DataLoader(dataset_train,**train_kwargs)\n",
    "test_loader = torch.utils.data.DataLoader(dataset_test, **test_kwargs)"
   ]
  },
  {
   "cell_type": "markdown",
   "metadata": {
    "id": "xHCp3aaP4xly"
   },
   "source": [
    "## Criação da Rede"
   ]
  },
  {
   "cell_type": "code",
   "execution_count": null,
   "metadata": {
    "id": "DKqeHawF4zfU"
   },
   "outputs": [],
   "source": [
    "input_size = 34 # TODO: validar o tamanho\n",
    "output_size = 7\n",
    "\n",
    "# TODO: validar valores da rede\n",
    "class Net(nn.Module):\n",
    "    def __init__(self):\n",
    "        super(Net, self).__init__()\n",
    "        self.fc = nn.Sequential(\n",
    "            nn.Linear(input_size, 1568),\n",
    "            nn.ReLU(),\n",
    "            nn.Linear(1568, 3136),\n",
    "            nn.ReLU(),\n",
    "            nn.Linear(3136, 1568),\n",
    "            nn.ReLU(),\n",
    "            nn.Linear(1568, 128),\n",
    "            nn.ReLU(),\n",
    "            nn.Linear(128, output_size)\n",
    "        )\n",
    "\n",
    "    def forward(self, x):\n",
    "        x = self.fc(x)\n",
    "        output = F.log_softmax(x, dim=0)\n",
    "        return output\n",
    "\n",
    "model = Net()"
   ]
  },
  {
   "cell_type": "code",
   "execution_count": null,
   "metadata": {
    "colab": {
     "base_uri": "https://localhost:8080/"
    },
    "id": "wGzH-RyV55j6",
    "outputId": "49809c9d-3ee1-407d-d1b7-b9f478476906"
   },
   "outputs": [
    {
     "data": {
      "text/plain": [
       "Net(\n",
       "  (fc): Sequential(\n",
       "    (0): Linear(in_features=34, out_features=1568, bias=True)\n",
       "    (1): ReLU()\n",
       "    (2): Linear(in_features=1568, out_features=3136, bias=True)\n",
       "    (3): ReLU()\n",
       "    (4): Linear(in_features=3136, out_features=1568, bias=True)\n",
       "    (5): ReLU()\n",
       "    (6): Linear(in_features=1568, out_features=128, bias=True)\n",
       "    (7): ReLU()\n",
       "    (8): Linear(in_features=128, out_features=7, bias=True)\n",
       "  )\n",
       ")"
      ]
     },
     "execution_count": 185,
     "metadata": {},
     "output_type": "execute_result"
    }
   ],
   "source": [
    "model"
   ]
  },
  {
   "cell_type": "markdown",
   "metadata": {
    "id": "asodnNKh57sC"
   },
   "source": [
    "## Predict"
   ]
  },
  {
   "cell_type": "markdown",
   "metadata": {
    "id": "nlSK9R3459mV"
   },
   "source": [
    "### Treinamento"
   ]
  },
  {
   "cell_type": "code",
   "execution_count": null,
   "metadata": {
    "colab": {
     "base_uri": "https://localhost:8080/"
    },
    "id": "wEnoRVUI9ZT7",
    "outputId": "ef7e5ec0-9233-42f9-b85d-3a656d205a0c"
   },
   "outputs": [
    {
     "data": {
      "text/plain": [
       "tensor([ 5.5588e+01,  6.0160e+01,  6.0156e+01,  3.8895e+05,  1.2196e+00,\n",
       "         9.0100e-01,  3.9763e+05,  5.7250e-01,  7.0372e+02,  7.1870e-01,\n",
       "        -4.7817e+10, -5.6263e+10, -5.6896e+10,  3.6516e+00,  3.0089e+00,\n",
       "         3.2728e+00,  7.8102e+02,  6.4039e+02,  1.1118e+02,  1.2032e+02,\n",
       "         1.2032e+02,  2.4220e+03,  8.3320e-01,  2.0000e-03,  1.6000e-03,\n",
       "         8.1190e-01,  9.9010e-01,  9.7820e-01, -2.0050e-01, -2.8240e-01,\n",
       "        -7.2120e-01,  2.2877e+01,  2.1802e+01,  2.4694e+01])"
      ]
     },
     "execution_count": 175,
     "metadata": {},
     "output_type": "execute_result"
    }
   ],
   "source": [
    "dataset_train[5][0]"
   ]
  },
  {
   "cell_type": "code",
   "execution_count": null,
   "metadata": {
    "colab": {
     "base_uri": "https://localhost:8080/"
    },
    "id": "nSIW8pi75_sc",
    "outputId": "f5cfc587-9087-44e9-bc4d-72086040fc6c"
   },
   "outputs": [
    {
     "data": {
      "text/plain": [
       "tensor([ 0.0000e+00, -6.9853e+08, -2.0883e+08, -5.4619e+08, -2.3062e+08,\n",
       "        -5.2139e+08, -4.1043e+08], grad_fn=<LogSoftmaxBackward0>)"
      ]
     },
     "execution_count": 186,
     "metadata": {},
     "output_type": "execute_result"
    }
   ],
   "source": [
    "model(dataset_train[5][0])"
   ]
  },
  {
   "cell_type": "markdown",
   "metadata": {
    "id": "K6WopeoZ6OFx"
   },
   "source": [
    "### Criando Objeto de Treinamento"
   ]
  },
  {
   "cell_type": "code",
   "execution_count": null,
   "metadata": {
    "id": "LPEAv6MH6Su0"
   },
   "outputs": [],
   "source": [
    "def train(log_interval, dry_run, model, device, train_loader, optimizer, epoch, criterion):\n",
    "    model.train()\n",
    "    for batch_idx, (data, target) in enumerate(train_loader):\n",
    "        data, target = data.to(device), target.to(device)\n",
    "        optimizer.zero_grad()\n",
    "        output = model(data)\n",
    "        loss = criterion(output, target)\n",
    "        loss.backward()\n",
    "        optimizer.step()\n",
    "        if batch_idx % log_interval == 0:\n",
    "            print('Train Epoch: {} [{}/{} ({:.0f}%)]\\tLoss: {:.6f}'.format(\n",
    "                epoch, batch_idx * len(data), len(train_loader.dataset),\n",
    "                100. * batch_idx / len(train_loader), loss.item()))\n",
    "            if dry_run:\n",
    "                break"
   ]
  },
  {
   "cell_type": "code",
   "execution_count": null,
   "metadata": {
    "id": "8Q-nOgo46Td7"
   },
   "outputs": [],
   "source": [
    "def test(model, device, test_loader, criterion):\n",
    "    model.eval()\n",
    "    test_loss = 0\n",
    "    correct = 0\n",
    "    with torch.no_grad():\n",
    "        for data, target in test_loader:\n",
    "            data, target = data.to(device), target.to(device)\n",
    "            output = model(data)\n",
    "            test_loss += criterion(output, target).item()  # sum up batch loss\n",
    "            pred = output.argmax(dim=1, keepdim=True)  # get the index of the max log-probability\n",
    "            correct += pred.eq(target.view_as(pred)).sum().item()\n",
    "\n",
    "    test_loss /= len(test_loader.dataset)\n",
    "    acc = 100. * correct / len(test_loader.dataset)\n",
    "    print('\\nTest set: Average loss: {:.4f}, Accuracy: {}/{} ({:.0f}%)\\n'.format(\n",
    "        test_loss, correct, len(test_loader.dataset),\n",
    "        acc))\n",
    "    return acc"
   ]
  },
  {
   "cell_type": "markdown",
   "metadata": {
    "id": "u-nSSNR06dj7"
   },
   "source": [
    "## Avaliação"
   ]
  },
  {
   "cell_type": "code",
   "execution_count": null,
   "metadata": {
    "colab": {
     "base_uri": "https://localhost:8080/"
    },
    "id": "xNN_RV836h12",
    "outputId": "233259ae-67a8-4ab8-cf24-d6ebf9cc47d1"
   },
   "outputs": [
    {
     "name": "stdout",
     "output_type": "stream",
     "text": [
      "\n",
      "Test set: Average loss: 3754332.4907, Accuracy: 48/269 (18%)\n",
      "\n",
      "Train Epoch: 1 [0/629 (0%)]\tLoss: 179863136.000000\n",
      "Train Epoch: 1 [320/629 (50%)]\tLoss: nan\n",
      "\n",
      "Test set: Average loss: nan, Accuracy: 16/269 (6%)\n",
      "\n",
      "Train Epoch: 2 [0/629 (0%)]\tLoss: nan\n",
      "Train Epoch: 2 [320/629 (50%)]\tLoss: nan\n",
      "\n",
      "Test set: Average loss: nan, Accuracy: 16/269 (6%)\n",
      "\n",
      "Train Epoch: 3 [0/629 (0%)]\tLoss: nan\n",
      "Train Epoch: 3 [320/629 (50%)]\tLoss: nan\n",
      "\n",
      "Test set: Average loss: nan, Accuracy: 16/269 (6%)\n",
      "\n"
     ]
    }
   ],
   "source": [
    "model = Net().to(device)\n",
    "optimizer = optim.SGD(model.parameters(), lr=0.001) ## Testar outros como Adam tbm\n",
    "criterion = torch.nn.CrossEntropyLoss()\n",
    "\n",
    "epochs = 3\n",
    "best_acc = test(model, device, test_loader, criterion)\n",
    "for epoch in range(1, epochs + 1):\n",
    "    train(10, False, model, device, train_loader, optimizer, epoch, criterion)\n",
    "    acc = test(model, device, test_loader, criterion)\n",
    "    if acc > best_acc:\n",
    "      best_acc = acc\n",
    "      torch.save(model.state_dict(), \"fruits_nn.pt\")"
   ]
  },
  {
   "cell_type": "code",
   "execution_count": null,
   "metadata": {
    "id": "sUOnYDIAJzhu"
   },
   "outputs": [],
   "source": [
    "print(f'Melhor Epoch: {best_epoch} | Melhor Loss: {best_loss}')"
   ]
  },
  {
   "cell_type": "code",
   "execution_count": null,
   "metadata": {
    "id": "XrEGVXh565Za"
   },
   "outputs": [],
   "source": [
    "aux = torch.load(\"fruits_nn.pt\")\n",
    "aux"
   ]
  },
  {
   "cell_type": "code",
   "execution_count": null,
   "metadata": {
    "id": "k7KZ2-j47Nw9"
   },
   "outputs": [],
   "source": [
    "model.load_state_dict(aux)"
   ]
  },
  {
   "cell_type": "markdown",
   "metadata": {
    "id": "CBVrxmkJNdYF"
   },
   "source": [
    "## Conclusão\n",
    "\n",
    "Foram realizados testes com diversos layouts de redes, e utilizando as seguintes épocas:\n",
    "\n",
    "- 8\n",
    "- 15\n",
    "- 20\n",
    "- 25\n",
    "- 30\n",
    "- 40\n",
    "- 100\n",
    "\n",
    "Percebemos que ao executar com até 40 épocas, conseguimos alcançar um bom valor de perda, porém apenas com 100 épocas, conseguimos atingir um valor ótimo do MSE, onde:\n",
    "\n",
    "\n",
    "**Melhor Época**: 91\n",
    "\n",
    "\n",
    "**Melhor MSE**: 0.3201629324473413\n",
    "\n",
    "Além disso, foi observado que os erros a cada época tiveram um comportamento de cela descentente, variando a cada iteração."
   ]
  },
  {
   "cell_type": "code",
   "execution_count": null,
   "metadata": {
    "id": "jlKwHm1JNtpN"
   },
   "outputs": [],
   "source": []
  }
 ],
 "metadata": {
  "colab": {
   "provenance": []
  },
  "kernelspec": {
   "display_name": ".venv",
   "language": "python",
   "name": "python3"
  },
  "language_info": {
   "codemirror_mode": {
    "name": "ipython",
    "version": 3
   },
   "file_extension": ".py",
   "mimetype": "text/x-python",
   "name": "python",
   "nbconvert_exporter": "python",
   "pygments_lexer": "ipython3",
   "version": "3.12.3"
  }
 },
 "nbformat": 4,
 "nbformat_minor": 0
}
