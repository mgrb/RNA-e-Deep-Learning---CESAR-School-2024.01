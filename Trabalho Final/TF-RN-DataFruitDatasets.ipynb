{
 "cells": [
  {
   "cell_type": "markdown",
   "metadata": {},
   "source": [
    "# **Classificando Frutas** \n",
    "## *Trabalho Final (TF) da Disciplina*\n",
    "[Dataset: Date Fruit Datasets\n",
    "](https://www.kaggle.com/datasets/muratkokludataset/date-fruit-datasets)\n",
    "\n",
    "### Grupo:\n",
    "| **Nome**       | **Email**          |\n",
    "|----------------|--------------------|\n",
    "| Marlos Ribeiro | mgrb@cesar.school  |\n",
    "| Daniel Moraes  | dmms@cesar.school  |\n",
    "| Adonis Dario   | adpgm@cesar.school |"
   ]
  },
  {
   "cell_type": "markdown",
   "metadata": {},
   "source": [
    "## 1. Sobre o dataset"
   ]
  },
  {
   "cell_type": "markdown",
   "metadata": {},
   "source": [
    "Detalhar sobre o dataset"
   ]
  },
  {
   "cell_type": "code",
   "execution_count": null,
   "metadata": {},
   "outputs": [
    {
     "name": "stdout",
     "output_type": "stream",
     "text": [
      "Downloading from https://www.kaggle.com/api/v1/datasets/download/muratkokludataset/date-fruit-datasets?dataset_version_number=1...\n"
     ]
    },
    {
     "name": "stderr",
     "output_type": "stream",
     "text": [
      "100%|██████████| 408k/408k [00:00<00:00, 673kB/s]"
     ]
    },
    {
     "name": "stdout",
     "output_type": "stream",
     "text": [
      "Extracting files...\n",
      "Path to dataset files: /home/mgrb/.cache/kagglehub/datasets/muratkokludataset/date-fruit-datasets/versions/1\n"
     ]
    },
    {
     "name": "stderr",
     "output_type": "stream",
     "text": [
      "\n"
     ]
    }
   ],
   "source": [
    "import kagglehub\n",
    "# Download latest version\n",
    "path = kagglehub.dataset_download(\"muratkokludataset/date-fruit-datasets\")\n",
    "\n",
    "print(\"Path to dataset files:\", path)"
   ]
  },
  {
   "cell_type": "code",
   "execution_count": 13,
   "metadata": {},
   "outputs": [
    {
     "name": "stdout",
     "output_type": "stream",
     "text": [
      "Found directory: /home/mgrb/.cache/kagglehub/datasets/muratkokludataset/date-fruit-datasets/versions/1\n",
      "\n",
      "Found directory: /home/mgrb/.cache/kagglehub/datasets/muratkokludataset/date-fruit-datasets/versions/1/Date_Fruit_Datasets\n",
      "-  Date_Fruit_Datasets.arff\n",
      "-  Date_Fruit_Datasets.xlsx\n",
      "-  Date_Fruit_Datasets_Citation_Request.txt\n",
      "\n"
     ]
    }
   ],
   "source": [
    "import os\n",
    "for dirpath, dirnames, filenames in os.walk(path):\n",
    "    print(f\"Found directory: {dirpath}\")\n",
    "    for file_name in filenames:\n",
    "        print(\"- \", file_name)\n",
    "    print()"
   ]
  }
 ],
 "metadata": {
  "kernelspec": {
   "display_name": ".venv",
   "language": "python",
   "name": "python3"
  },
  "language_info": {
   "codemirror_mode": {
    "name": "ipython",
    "version": 3
   },
   "file_extension": ".py",
   "mimetype": "text/x-python",
   "name": "python",
   "nbconvert_exporter": "python",
   "pygments_lexer": "ipython3",
   "version": "3.12.3"
  }
 },
 "nbformat": 4,
 "nbformat_minor": 2
}
