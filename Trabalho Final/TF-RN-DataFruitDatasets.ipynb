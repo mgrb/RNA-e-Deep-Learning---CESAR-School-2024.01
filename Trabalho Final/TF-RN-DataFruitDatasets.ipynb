{
 "cells": [
  {
   "cell_type": "markdown",
   "metadata": {},
   "source": [
    "# **Classificando Frutas** \n",
    "## *Trabalho Final (TF) da Disciplina*\n",
    "[Dataset: Date Fruit Datasets\n",
    "](https://www.kaggle.com/datasets/muratkokludataset/date-fruit-datasets)\n",
    "\n",
    "### Grupo:\n",
    "| **Nome**       | **Email**          |\n",
    "|----------------|--------------------|\n",
    "| Marlos Ribeiro | mgrb@cesar.school  |\n",
    "| Daniel Moraes  | dmms@cesar.school  |\n",
    "| Adonis Dario   | adpgm@cesar.school |"
   ]
  },
  {
   "cell_type": "markdown",
   "metadata": {},
   "source": [
    "## 1. Sobre o dataset"
   ]
  },
  {
   "cell_type": "markdown",
   "metadata": {},
   "source": [
    "Detalhar sobre o dataset"
   ]
  },
  {
   "cell_type": "code",
   "execution_count": 10,
   "metadata": {},
   "outputs": [
    {
     "name": "stdout",
     "output_type": "stream",
     "text": [
      "/home/mgrb/Workspaces/CESAR/RNA_DeepLearning/Trabalho Final/data\n",
      "  % Total    % Received % Xferd  Average Speed   Time    Time     Time  Current\n",
      "                                 Dload  Upload   Total   Spent    Left  Speed\n",
      "  0     0    0     0    0     0      0      0 --:--:-- --:--:-- --:--:--     0\n",
      "100  408k  100  408k    0     0   270k      0  0:00:01  0:00:01 --:--:--  487k\n",
      "Archive:  /home/mgrb/Workspaces/CESAR/RNA_DeepLearning/Trabalho Final/data/archive.zip\n",
      "  inflating: /home/mgrb/Workspaces/CESAR/RNA_DeepLearning/Trabalho Final/data/Date_Fruit_Datasets/Date_Fruit_Datasets.arff  \n",
      "  inflating: /home/mgrb/Workspaces/CESAR/RNA_DeepLearning/Trabalho Final/data/Date_Fruit_Datasets/Date_Fruit_Datasets.xlsx  \n",
      "  inflating: /home/mgrb/Workspaces/CESAR/RNA_DeepLearning/Trabalho Final/data/Date_Fruit_Datasets/Date_Fruit_Datasets_Citation_Request.txt  \n"
     ]
    }
   ],
   "source": [
    "import os\n",
    "dest = f\"{os.getcwd()}/data\"\n",
    "os.makedirs(dest, exist_ok=True)\n",
    "print(dest)\n",
    "!curl -L -o \"{dest}\"/archive.zip\\\n",
    "https://www.kaggle.com/api/v1/datasets/download/muratkokludataset/date-fruit-datasets\n",
    "\n",
    "!unzip -o \"{dest}\"/archive.zip -d \"{dest}\""
   ]
  },
  {
   "cell_type": "code",
   "execution_count": 11,
   "metadata": {},
   "outputs": [
    {
     "name": "stdout",
     "output_type": "stream",
     "text": [
      "Found directory: /home/mgrb/Workspaces/CESAR/RNA_DeepLearning/Trabalho Final/data\n",
      "-  archive.zip\n",
      "\n",
      "Found directory: /home/mgrb/Workspaces/CESAR/RNA_DeepLearning/Trabalho Final/data/Date_Fruit_Datasets\n",
      "-  Date_Fruit_Datasets.arff\n",
      "-  Date_Fruit_Datasets.xlsx\n",
      "-  Date_Fruit_Datasets_Citation_Request.txt\n",
      "\n"
     ]
    }
   ],
   "source": [
    "import os\n",
    "for dirpath, dirnames, filenames in os.walk(dest):\n",
    "    print(f\"Found directory: {dirpath}\")\n",
    "    for file_name in filenames:\n",
    "        print(\"- \", file_name)\n",
    "    print()"
   ]
  }
 ],
 "metadata": {
  "kernelspec": {
   "display_name": ".venv",
   "language": "python",
   "name": "python3"
  },
  "language_info": {
   "codemirror_mode": {
    "name": "ipython",
    "version": 3
   },
   "file_extension": ".py",
   "mimetype": "text/x-python",
   "name": "python",
   "nbconvert_exporter": "python",
   "pygments_lexer": "ipython3",
   "version": "3.12.3"
  }
 },
 "nbformat": 4,
 "nbformat_minor": 2
}
